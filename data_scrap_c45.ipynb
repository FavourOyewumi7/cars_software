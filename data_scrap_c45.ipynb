{
 "cells": [
  {
   "cell_type": "code",
   "execution_count": 1,
   "metadata": {},
   "outputs": [],
   "source": [
    "import pandas as pd\n",
    "import numpy as np\n",
    "from bs4 import BeautifulSoup\n",
    "import requests\n",
    "from urllib.request import urlopen\n",
    "import re"
   ]
  },
  {
   "cell_type": "code",
   "execution_count": 2,
   "metadata": {},
   "outputs": [],
   "source": [
    "#initialize a dataframe\n",
    "cars = pd.DataFrame()"
   ]
  },
  {
   "cell_type": "code",
   "execution_count": 5,
   "metadata": {},
   "outputs": [],
   "source": [
    "details = []   #Prices for the 1st page\n",
    "page_link =  'https://buy.cars45.com/cars/toyota-sequoia-2003-automatic-ng-631041?filter=1872%2C1871'\n",
    "\n",
    "page_response = requests.get(page_link)\n",
    "page_content = BeautifulSoup(page_response.content, \"html.parser\")\n",
    "\n",
    "#for image scrape\n",
    "html = urlopen(page_link)\n",
    "bs = BeautifulSoup(html, 'html.parser')"
   ]
  },
  {
   "cell_type": "code",
   "execution_count": 6,
   "metadata": {},
   "outputs": [
    {
     "data": {
      "text/html": [
       "<div>\n",
       "<style scoped>\n",
       "    .dataframe tbody tr th:only-of-type {\n",
       "        vertical-align: middle;\n",
       "    }\n",
       "\n",
       "    .dataframe tbody tr th {\n",
       "        vertical-align: top;\n",
       "    }\n",
       "\n",
       "    .dataframe thead th {\n",
       "        text-align: right;\n",
       "    }\n",
       "</style>\n",
       "<table border=\"1\" class=\"dataframe\">\n",
       "  <thead>\n",
       "    <tr style=\"text-align: right;\">\n",
       "      <th></th>\n",
       "      <th>0</th>\n",
       "      <th>1</th>\n",
       "      <th>2</th>\n",
       "      <th>3</th>\n",
       "      <th>4</th>\n",
       "      <th>5</th>\n",
       "      <th>6</th>\n",
       "      <th>7</th>\n",
       "      <th>8</th>\n",
       "      <th>9</th>\n",
       "      <th>10</th>\n",
       "    </tr>\n",
       "  </thead>\n",
       "  <tbody>\n",
       "    <tr>\n",
       "      <th>0</th>\n",
       "      <td>₦ 8,635,000</td>\n",
       "      <td>Audi</td>\n",
       "      <td>A7</td>\n",
       "      <td>2013</td>\n",
       "      <td>30866</td>\n",
       "      <td>C45 , Abuja</td>\n",
       "      <td>Automatic</td>\n",
       "      <td>Registered</td>\n",
       "      <td>BLACK</td>\n",
       "      <td>4-stars</td>\n",
       "      <td>2013 Audi A7</td>\n",
       "    </tr>\n",
       "    <tr>\n",
       "      <th>1</th>\n",
       "      <td>₦ 2,270,000</td>\n",
       "      <td>Toyota</td>\n",
       "      <td>Sequoia</td>\n",
       "      <td>2003</td>\n",
       "      <td>119905</td>\n",
       "      <td>C45 , Lagos</td>\n",
       "      <td>Automatic</td>\n",
       "      <td>Registered</td>\n",
       "      <td>Silver</td>\n",
       "      <td>2-stars</td>\n",
       "      <td>2003 Toyota Sequoia</td>\n",
       "    </tr>\n",
       "  </tbody>\n",
       "</table>\n",
       "</div>"
      ],
      "text/plain": [
       "                                            0       1        2     3       4   \\\n",
       "0  ₦ 8,635,000                                    Audi       A7  2013   30866   \n",
       "1  ₦ 2,270,000                                  Toyota  Sequoia  2003  119905   \n",
       "\n",
       "            5          6           7       8        9                    10  \n",
       "0  C45 , Abuja  Automatic  Registered   BLACK  4-stars         2013 Audi A7  \n",
       "1  C45 , Lagos  Automatic  Registered  Silver  2-stars  2003 Toyota Sequoia  "
      ]
     },
     "execution_count": 6,
     "metadata": {},
     "output_type": "execute_result"
    }
   ],
   "source": [
    "for i in range(0,1):\n",
    "    price = page_content.find_all(\"h4\")[i].text   #scrap price here\n",
    "    price = price.split(\"\\n\")  #some clean-up\n",
    "    price = price[0]\n",
    "    details.append(price)\n",
    "    \n",
    "#car-price\n",
    "for k in range(7,15):\n",
    "    detail = page_content.find_all(\"span\")[k].text   #scrap other properties here\n",
    "    detail = detail.split(\"\\n\")  #some clean-up\n",
    "    detail = detail[0]\n",
    "    details.append(detail)\n",
    "    \n",
    "#for car-rating\n",
    "images = bs.find_all('img', {'src':re.compile('.png')})\n",
    "\n",
    "for image in images[14:15]: \n",
    "    rating = image['src']\n",
    "    rating = rating.split(\"/\")[2]\n",
    "    rating = rating.split(\".\")[0]\n",
    "    details.append(rating)\n",
    "\n",
    "#car name\n",
    "Name = page_content.h1.text\n",
    "Name = Name.split(\"\\n\")  #some clean-up\n",
    "Name = Name[0]\n",
    "details.append(Name)\n",
    "\n",
    "#for j in range(59,82):\n",
    "    #look = page_content.find_all(\"li\")[j].text\n",
    "    #details.append(look)\n",
    "\n",
    "#Append to the dataframe\n",
    "cars = cars.append(pd.Series(details), ignore_index=True)\n",
    "\n",
    "#save to disk\n",
    "cars.to_csv('./data/cars45_data.csv')\n",
    "\n",
    "cars.head()"
   ]
  },
  {
   "cell_type": "code",
   "execution_count": null,
   "metadata": {},
   "outputs": [],
   "source": []
  }
 ],
 "metadata": {
  "kernelspec": {
   "display_name": "Python 3",
   "language": "python",
   "name": "python3"
  },
  "language_info": {
   "codemirror_mode": {
    "name": "ipython",
    "version": 3
   },
   "file_extension": ".py",
   "mimetype": "text/x-python",
   "name": "python",
   "nbconvert_exporter": "python",
   "pygments_lexer": "ipython3",
   "version": "3.6.9"
  }
 },
 "nbformat": 4,
 "nbformat_minor": 4
}
