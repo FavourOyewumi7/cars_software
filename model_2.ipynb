{
 "cells": [
  {
   "cell_type": "code",
   "execution_count": 2,
   "metadata": {},
   "outputs": [],
   "source": [
    "#import libraries\n",
    "import numpy as np \n",
    "import pandas as pd\n",
    "import seaborn as sns\n",
    "import matplotlib.pyplot as plt\n",
    "import category_encoders as ce\n",
    "from sklearn.model_selection import cross_validate\n",
    "\n",
    "#ignore warnings\n",
    "import warnings\n",
    "warnings.filterwarnings('ignore')"
   ]
  },
  {
   "cell_type": "code",
   "execution_count": 3,
   "metadata": {},
   "outputs": [
    {
     "data": {
      "text/html": [
       "<div>\n",
       "<style scoped>\n",
       "    .dataframe tbody tr th:only-of-type {\n",
       "        vertical-align: middle;\n",
       "    }\n",
       "\n",
       "    .dataframe tbody tr th {\n",
       "        vertical-align: top;\n",
       "    }\n",
       "\n",
       "    .dataframe thead th {\n",
       "        text-align: right;\n",
       "    }\n",
       "</style>\n",
       "<table border=\"1\" class=\"dataframe\">\n",
       "  <thead>\n",
       "    <tr style=\"text-align: right;\">\n",
       "      <th></th>\n",
       "      <th>Price</th>\n",
       "      <th>city</th>\n",
       "      <th>History</th>\n",
       "      <th>Millage</th>\n",
       "      <th>Ratings</th>\n",
       "      <th>Year</th>\n",
       "      <th>Make</th>\n",
       "      <th>Model</th>\n",
       "      <th>Transmission</th>\n",
       "      <th>Age</th>\n",
       "    </tr>\n",
       "  </thead>\n",
       "  <tbody>\n",
       "    <tr>\n",
       "      <th>0</th>\n",
       "      <td>4965000.0</td>\n",
       "      <td>Abia</td>\n",
       "      <td>foreign</td>\n",
       "      <td>149232.0</td>\n",
       "      <td>4.7</td>\n",
       "      <td>2015.0</td>\n",
       "      <td>Honda</td>\n",
       "      <td>Accord</td>\n",
       "      <td>Automatic</td>\n",
       "      <td>5.0</td>\n",
       "    </tr>\n",
       "    <tr>\n",
       "      <th>1</th>\n",
       "      <td>1280000.0</td>\n",
       "      <td>Accra</td>\n",
       "      <td>local</td>\n",
       "      <td>145078.0</td>\n",
       "      <td>4.4</td>\n",
       "      <td>2005.0</td>\n",
       "      <td>Toyota</td>\n",
       "      <td>Corolla</td>\n",
       "      <td>Automatic</td>\n",
       "      <td>15.0</td>\n",
       "    </tr>\n",
       "    <tr>\n",
       "      <th>2</th>\n",
       "      <td>1280000.0</td>\n",
       "      <td>Accra</td>\n",
       "      <td>local</td>\n",
       "      <td>91691.0</td>\n",
       "      <td>4.6</td>\n",
       "      <td>2008.0</td>\n",
       "      <td>Toyota</td>\n",
       "      <td>Corolla</td>\n",
       "      <td>Automatic</td>\n",
       "      <td>12.0</td>\n",
       "    </tr>\n",
       "    <tr>\n",
       "      <th>3</th>\n",
       "      <td>1567500.0</td>\n",
       "      <td>Lagos</td>\n",
       "      <td>local</td>\n",
       "      <td>234797.0</td>\n",
       "      <td>4.5</td>\n",
       "      <td>2004.0</td>\n",
       "      <td>Toyota</td>\n",
       "      <td>Corolla</td>\n",
       "      <td>Automatic</td>\n",
       "      <td>16.0</td>\n",
       "    </tr>\n",
       "    <tr>\n",
       "      <th>4</th>\n",
       "      <td>6065000.0</td>\n",
       "      <td>Lagos</td>\n",
       "      <td>foreign</td>\n",
       "      <td>145678.0</td>\n",
       "      <td>4.8</td>\n",
       "      <td>2013.0</td>\n",
       "      <td>Hyundai</td>\n",
       "      <td>Azera</td>\n",
       "      <td>Automatic</td>\n",
       "      <td>7.0</td>\n",
       "    </tr>\n",
       "  </tbody>\n",
       "</table>\n",
       "</div>"
      ],
      "text/plain": [
       "       Price   city  History   Millage  Ratings    Year     Make    Model  \\\n",
       "0  4965000.0   Abia  foreign  149232.0      4.7  2015.0    Honda   Accord   \n",
       "1  1280000.0  Accra    local  145078.0      4.4  2005.0   Toyota  Corolla   \n",
       "2  1280000.0  Accra    local   91691.0      4.6  2008.0   Toyota  Corolla   \n",
       "3  1567500.0  Lagos    local  234797.0      4.5  2004.0   Toyota  Corolla   \n",
       "4  6065000.0  Lagos  foreign  145678.0      4.8  2013.0  Hyundai    Azera   \n",
       "\n",
       "  Transmission   Age  \n",
       "0    Automatic   5.0  \n",
       "1    Automatic  15.0  \n",
       "2    Automatic  12.0  \n",
       "3    Automatic  16.0  \n",
       "4    Automatic   7.0  "
      ]
     },
     "execution_count": 3,
     "metadata": {},
     "output_type": "execute_result"
    }
   ],
   "source": [
    "#import data\n",
    "df = pd.read_csv(\"./data/cleaned_data_with2.csv\",index_col=0)\n",
    "\n",
    "df.head()"
   ]
  },
  {
   "cell_type": "markdown",
   "metadata": {},
   "source": [
    "### Data Preparation"
   ]
  },
  {
   "cell_type": "code",
   "execution_count": 4,
   "metadata": {},
   "outputs": [],
   "source": [
    "df['Price'] = df['Price']/1000000 #reduce the Price values"
   ]
  },
  {
   "cell_type": "code",
   "execution_count": 5,
   "metadata": {},
   "outputs": [],
   "source": [
    "#drop the Year column\n",
    "df = df.drop(['Year'],axis=1)"
   ]
  },
  {
   "cell_type": "code",
   "execution_count": 6,
   "metadata": {},
   "outputs": [
    {
     "data": {
      "text/plain": [
       "(17227, 9)"
      ]
     },
     "execution_count": 6,
     "metadata": {},
     "output_type": "execute_result"
    }
   ],
   "source": [
    "df.shape"
   ]
  },
  {
   "cell_type": "code",
   "execution_count": 7,
   "metadata": {},
   "outputs": [
    {
     "data": {
      "text/html": [
       "<div>\n",
       "<style scoped>\n",
       "    .dataframe tbody tr th:only-of-type {\n",
       "        vertical-align: middle;\n",
       "    }\n",
       "\n",
       "    .dataframe tbody tr th {\n",
       "        vertical-align: top;\n",
       "    }\n",
       "\n",
       "    .dataframe thead th {\n",
       "        text-align: right;\n",
       "    }\n",
       "</style>\n",
       "<table border=\"1\" class=\"dataframe\">\n",
       "  <thead>\n",
       "    <tr style=\"text-align: right;\">\n",
       "      <th></th>\n",
       "      <th>Price</th>\n",
       "      <th>city</th>\n",
       "      <th>History</th>\n",
       "      <th>Millage</th>\n",
       "      <th>Ratings</th>\n",
       "      <th>Make</th>\n",
       "      <th>Model</th>\n",
       "      <th>Transmission</th>\n",
       "      <th>Age</th>\n",
       "    </tr>\n",
       "  </thead>\n",
       "  <tbody>\n",
       "    <tr>\n",
       "      <th>599</th>\n",
       "      <td>0.0</td>\n",
       "      <td>Lagos</td>\n",
       "      <td>foreign</td>\n",
       "      <td>10000.0</td>\n",
       "      <td>2.0</td>\n",
       "      <td>Toyota</td>\n",
       "      <td>RAV 4</td>\n",
       "      <td>Automatic</td>\n",
       "      <td>12.0</td>\n",
       "    </tr>\n",
       "    <tr>\n",
       "      <th>606</th>\n",
       "      <td>0.0</td>\n",
       "      <td>Lagos</td>\n",
       "      <td>foreign</td>\n",
       "      <td>9856.0</td>\n",
       "      <td>2.0</td>\n",
       "      <td>Honda</td>\n",
       "      <td>CR-V</td>\n",
       "      <td>Automatic</td>\n",
       "      <td>12.0</td>\n",
       "    </tr>\n",
       "    <tr>\n",
       "      <th>617</th>\n",
       "      <td>0.0</td>\n",
       "      <td>Lagos</td>\n",
       "      <td>foreign</td>\n",
       "      <td>0.0</td>\n",
       "      <td>2.0</td>\n",
       "      <td>Ford</td>\n",
       "      <td>Explorer</td>\n",
       "      <td>Automatic</td>\n",
       "      <td>4.0</td>\n",
       "    </tr>\n",
       "    <tr>\n",
       "      <th>618</th>\n",
       "      <td>0.0</td>\n",
       "      <td>Rivers</td>\n",
       "      <td>foreign</td>\n",
       "      <td>98000.0</td>\n",
       "      <td>2.0</td>\n",
       "      <td>Honda</td>\n",
       "      <td>CR-V</td>\n",
       "      <td>Automatic</td>\n",
       "      <td>12.0</td>\n",
       "    </tr>\n",
       "    <tr>\n",
       "      <th>621</th>\n",
       "      <td>0.0</td>\n",
       "      <td>Lagos</td>\n",
       "      <td>foreign</td>\n",
       "      <td>125425.0</td>\n",
       "      <td>2.0</td>\n",
       "      <td>Toyota</td>\n",
       "      <td>Camry</td>\n",
       "      <td>Automatic</td>\n",
       "      <td>12.0</td>\n",
       "    </tr>\n",
       "    <tr>\n",
       "      <th>...</th>\n",
       "      <td>...</td>\n",
       "      <td>...</td>\n",
       "      <td>...</td>\n",
       "      <td>...</td>\n",
       "      <td>...</td>\n",
       "      <td>...</td>\n",
       "      <td>...</td>\n",
       "      <td>...</td>\n",
       "      <td>...</td>\n",
       "    </tr>\n",
       "    <tr>\n",
       "      <th>14176</th>\n",
       "      <td>0.0</td>\n",
       "      <td>Lagos</td>\n",
       "      <td>foreign</td>\n",
       "      <td>92134.0</td>\n",
       "      <td>0.0</td>\n",
       "      <td>Mazda</td>\n",
       "      <td>Tribute</td>\n",
       "      <td>Manual</td>\n",
       "      <td>12.0</td>\n",
       "    </tr>\n",
       "    <tr>\n",
       "      <th>14177</th>\n",
       "      <td>0.0</td>\n",
       "      <td>Lagos</td>\n",
       "      <td>foreign</td>\n",
       "      <td>21344.0</td>\n",
       "      <td>0.0</td>\n",
       "      <td>Toyota</td>\n",
       "      <td>Corolla</td>\n",
       "      <td>Manual</td>\n",
       "      <td>14.0</td>\n",
       "    </tr>\n",
       "    <tr>\n",
       "      <th>14181</th>\n",
       "      <td>0.0</td>\n",
       "      <td>Lagos</td>\n",
       "      <td>foreign</td>\n",
       "      <td>153063.0</td>\n",
       "      <td>0.0</td>\n",
       "      <td>Toyota</td>\n",
       "      <td>Camry</td>\n",
       "      <td>Manual</td>\n",
       "      <td>23.0</td>\n",
       "    </tr>\n",
       "    <tr>\n",
       "      <th>14188</th>\n",
       "      <td>0.0</td>\n",
       "      <td>Lagos</td>\n",
       "      <td>foreign</td>\n",
       "      <td>0.0</td>\n",
       "      <td>0.0</td>\n",
       "      <td>Mercedes-Benz</td>\n",
       "      <td>E 350</td>\n",
       "      <td>Manual</td>\n",
       "      <td>7.0</td>\n",
       "    </tr>\n",
       "    <tr>\n",
       "      <th>14191</th>\n",
       "      <td>0.0</td>\n",
       "      <td>Lagos</td>\n",
       "      <td>foreign</td>\n",
       "      <td>123442.0</td>\n",
       "      <td>0.0</td>\n",
       "      <td>Lexus</td>\n",
       "      <td>RX 350</td>\n",
       "      <td>Manual</td>\n",
       "      <td>15.0</td>\n",
       "    </tr>\n",
       "  </tbody>\n",
       "</table>\n",
       "<p>2866 rows × 9 columns</p>\n",
       "</div>"
      ],
      "text/plain": [
       "       Price    city  History   Millage  Ratings           Make     Model  \\\n",
       "599      0.0   Lagos  foreign   10000.0      2.0         Toyota     RAV 4   \n",
       "606      0.0   Lagos  foreign    9856.0      2.0          Honda      CR-V   \n",
       "617      0.0   Lagos  foreign       0.0      2.0           Ford  Explorer   \n",
       "618      0.0  Rivers  foreign   98000.0      2.0          Honda      CR-V   \n",
       "621      0.0   Lagos  foreign  125425.0      2.0         Toyota     Camry   \n",
       "...      ...     ...      ...       ...      ...            ...       ...   \n",
       "14176    0.0   Lagos  foreign   92134.0      0.0          Mazda   Tribute   \n",
       "14177    0.0   Lagos  foreign   21344.0      0.0         Toyota   Corolla   \n",
       "14181    0.0   Lagos  foreign  153063.0      0.0         Toyota     Camry   \n",
       "14188    0.0   Lagos  foreign       0.0      0.0  Mercedes-Benz     E 350   \n",
       "14191    0.0   Lagos  foreign  123442.0      0.0          Lexus    RX 350   \n",
       "\n",
       "      Transmission   Age  \n",
       "599      Automatic  12.0  \n",
       "606      Automatic  12.0  \n",
       "617      Automatic   4.0  \n",
       "618      Automatic  12.0  \n",
       "621      Automatic  12.0  \n",
       "...            ...   ...  \n",
       "14176       Manual  12.0  \n",
       "14177       Manual  14.0  \n",
       "14181       Manual  23.0  \n",
       "14188       Manual   7.0  \n",
       "14191       Manual  15.0  \n",
       "\n",
       "[2866 rows x 9 columns]"
      ]
     },
     "execution_count": 7,
     "metadata": {},
     "output_type": "execute_result"
    }
   ],
   "source": [
    "df[df.Price <= 0]"
   ]
  },
  {
   "cell_type": "code",
   "execution_count": 8,
   "metadata": {},
   "outputs": [
    {
     "data": {
      "text/plain": [
       "<matplotlib.axes._subplots.AxesSubplot at 0x7f7f48038cc0>"
      ]
     },
     "execution_count": 8,
     "metadata": {},
     "output_type": "execute_result"
    },
    {
     "data": {
      "image/png": "[encoded data removed]",
      "text/plain": [
       "<Figure size 432x288 with 1 Axes>"
      ]
     },
     "metadata": {
      "needs_background": "light"
     },
     "output_type": "display_data"
    }
   ],
   "source": [
    "#find outliers!\n",
    "sns.boxplot(x=df['Price'])"
   ]
  },
  {
   "cell_type": "code",
   "execution_count": 9,
   "metadata": {},
   "outputs": [
    {
     "data": {
      "text/html": [
       "<div>\n",
       "<style scoped>\n",
       "    .dataframe tbody tr th:only-of-type {\n",
       "        vertical-align: middle;\n",
       "    }\n",
       "\n",
       "    .dataframe tbody tr th {\n",
       "        vertical-align: top;\n",
       "    }\n",
       "\n",
       "    .dataframe thead th {\n",
       "        text-align: right;\n",
       "    }\n",
       "</style>\n",
       "<table border=\"1\" class=\"dataframe\">\n",
       "  <thead>\n",
       "    <tr style=\"text-align: right;\">\n",
       "      <th></th>\n",
       "      <th>Price</th>\n",
       "      <th>city</th>\n",
       "      <th>History</th>\n",
       "      <th>Millage</th>\n",
       "      <th>Ratings</th>\n",
       "      <th>Make</th>\n",
       "      <th>Model</th>\n",
       "      <th>Transmission</th>\n",
       "      <th>Age</th>\n",
       "    </tr>\n",
       "  </thead>\n",
       "  <tbody>\n",
       "    <tr>\n",
       "      <th>32</th>\n",
       "      <td>30.265</td>\n",
       "      <td>Lagos</td>\n",
       "      <td>foreign</td>\n",
       "      <td>76794.0</td>\n",
       "      <td>4.9</td>\n",
       "      <td>Lexus</td>\n",
       "      <td>LX 570</td>\n",
       "      <td>Automatic</td>\n",
       "      <td>3.0</td>\n",
       "    </tr>\n",
       "    <tr>\n",
       "      <th>52</th>\n",
       "      <td>23.115</td>\n",
       "      <td>Lagos</td>\n",
       "      <td>foreign</td>\n",
       "      <td>14464.0</td>\n",
       "      <td>5.0</td>\n",
       "      <td>Lexus</td>\n",
       "      <td>RX 350</td>\n",
       "      <td>Automatic</td>\n",
       "      <td>1.0</td>\n",
       "    </tr>\n",
       "    <tr>\n",
       "      <th>53</th>\n",
       "      <td>49.515</td>\n",
       "      <td>Lagos</td>\n",
       "      <td>foreign</td>\n",
       "      <td>14855.0</td>\n",
       "      <td>5.0</td>\n",
       "      <td>Land</td>\n",
       "      <td>Rover Range Rover Velar</td>\n",
       "      <td>Automatic</td>\n",
       "      <td>2.0</td>\n",
       "    </tr>\n",
       "    <tr>\n",
       "      <th>61</th>\n",
       "      <td>19.265</td>\n",
       "      <td>Lagos</td>\n",
       "      <td>foreign</td>\n",
       "      <td>19444.0</td>\n",
       "      <td>5.0</td>\n",
       "      <td>Lexus</td>\n",
       "      <td>RX 350</td>\n",
       "      <td>Automatic</td>\n",
       "      <td>4.0</td>\n",
       "    </tr>\n",
       "    <tr>\n",
       "      <th>128</th>\n",
       "      <td>55.015</td>\n",
       "      <td>Lagos</td>\n",
       "      <td>foreign</td>\n",
       "      <td>18297.0</td>\n",
       "      <td>4.7</td>\n",
       "      <td>Mercedes-Benz</td>\n",
       "      <td>G 63 AMG</td>\n",
       "      <td>Automatic</td>\n",
       "      <td>4.0</td>\n",
       "    </tr>\n",
       "    <tr>\n",
       "      <th>...</th>\n",
       "      <td>...</td>\n",
       "      <td>...</td>\n",
       "      <td>...</td>\n",
       "      <td>...</td>\n",
       "      <td>...</td>\n",
       "      <td>...</td>\n",
       "      <td>...</td>\n",
       "      <td>...</td>\n",
       "      <td>...</td>\n",
       "    </tr>\n",
       "    <tr>\n",
       "      <th>17439</th>\n",
       "      <td>36.000</td>\n",
       "      <td>Lagos</td>\n",
       "      <td>foreign</td>\n",
       "      <td>49987.0</td>\n",
       "      <td>3.0</td>\n",
       "      <td>Rover</td>\n",
       "      <td>Range Rover Vogue</td>\n",
       "      <td>Automatic</td>\n",
       "      <td>12.0</td>\n",
       "    </tr>\n",
       "    <tr>\n",
       "      <th>17442</th>\n",
       "      <td>29.000</td>\n",
       "      <td>Lagos</td>\n",
       "      <td>foreign</td>\n",
       "      <td>23570.0</td>\n",
       "      <td>2.0</td>\n",
       "      <td>Land</td>\n",
       "      <td>Rover Range Rover Sport</td>\n",
       "      <td>Automatic</td>\n",
       "      <td>12.0</td>\n",
       "    </tr>\n",
       "    <tr>\n",
       "      <th>17443</th>\n",
       "      <td>16.000</td>\n",
       "      <td>Lagos</td>\n",
       "      <td>foreign</td>\n",
       "      <td>3931.0</td>\n",
       "      <td>1.0</td>\n",
       "      <td>Toyota</td>\n",
       "      <td>Camry</td>\n",
       "      <td>Automatic</td>\n",
       "      <td>12.0</td>\n",
       "    </tr>\n",
       "    <tr>\n",
       "      <th>17457</th>\n",
       "      <td>16.500</td>\n",
       "      <td>Lagos</td>\n",
       "      <td>foreign</td>\n",
       "      <td>89582.0</td>\n",
       "      <td>3.0</td>\n",
       "      <td>Lexus</td>\n",
       "      <td>Lx</td>\n",
       "      <td>Automatic</td>\n",
       "      <td>12.0</td>\n",
       "    </tr>\n",
       "    <tr>\n",
       "      <th>17460</th>\n",
       "      <td>22.000</td>\n",
       "      <td>Lagos</td>\n",
       "      <td>foreign</td>\n",
       "      <td>75259.0</td>\n",
       "      <td>3.0</td>\n",
       "      <td>Mercedes-Benz</td>\n",
       "      <td>Gl550</td>\n",
       "      <td>Automatic</td>\n",
       "      <td>12.0</td>\n",
       "    </tr>\n",
       "  </tbody>\n",
       "</table>\n",
       "<p>1072 rows × 9 columns</p>\n",
       "</div>"
      ],
      "text/plain": [
       "        Price   city  History  Millage  Ratings           Make  \\\n",
       "32     30.265  Lagos  foreign  76794.0      4.9          Lexus   \n",
       "52     23.115  Lagos  foreign  14464.0      5.0          Lexus   \n",
       "53     49.515  Lagos  foreign  14855.0      5.0           Land   \n",
       "61     19.265  Lagos  foreign  19444.0      5.0          Lexus   \n",
       "128    55.015  Lagos  foreign  18297.0      4.7  Mercedes-Benz   \n",
       "...       ...    ...      ...      ...      ...            ...   \n",
       "17439  36.000  Lagos  foreign  49987.0      3.0          Rover   \n",
       "17442  29.000  Lagos  foreign  23570.0      2.0           Land   \n",
       "17443  16.000  Lagos  foreign   3931.0      1.0         Toyota   \n",
       "17457  16.500  Lagos  foreign  89582.0      3.0          Lexus   \n",
       "17460  22.000  Lagos  foreign  75259.0      3.0  Mercedes-Benz   \n",
       "\n",
       "                         Model Transmission   Age  \n",
       "32                      LX 570    Automatic   3.0  \n",
       "52                      RX 350    Automatic   1.0  \n",
       "53     Rover Range Rover Velar    Automatic   2.0  \n",
       "61                      RX 350    Automatic   4.0  \n",
       "128                   G 63 AMG    Automatic   4.0  \n",
       "...                        ...          ...   ...  \n",
       "17439        Range Rover Vogue    Automatic  12.0  \n",
       "17442  Rover Range Rover Sport    Automatic  12.0  \n",
       "17443                    Camry    Automatic  12.0  \n",
       "17457                       Lx    Automatic  12.0  \n",
       "17460                    Gl550    Automatic  12.0  \n",
       "\n",
       "[1072 rows x 9 columns]"
      ]
     },
     "execution_count": 9,
     "metadata": {},
     "output_type": "execute_result"
    }
   ],
   "source": [
    "#check for outliers size\n",
    "\n",
    "df[df.Price > 15]"
   ]
  },
  {
   "cell_type": "code",
   "execution_count": 10,
   "metadata": {},
   "outputs": [],
   "source": [
    "#drop all columns where Price is zero and greater than 50(million)\n",
    "df = df.drop(df[df.Price > 15].index)\n",
    "\n",
    "df = df.drop(df[df.Price <= 0].index)"
   ]
  },
  {
   "cell_type": "code",
   "execution_count": 11,
   "metadata": {},
   "outputs": [
    {
     "data": {
      "text/plain": [
       "(13289, 9)"
      ]
     },
     "execution_count": 11,
     "metadata": {},
     "output_type": "execute_result"
    }
   ],
   "source": [
    "df.shape"
   ]
  },
  {
   "cell_type": "code",
   "execution_count": 12,
   "metadata": {},
   "outputs": [
    {
     "data": {
      "text/plain": [
       "<matplotlib.axes._subplots.AxesSubplot at 0x7f7f473a8b70>"
      ]
     },
     "execution_count": 12,
     "metadata": {},
     "output_type": "execute_result"
    },
    {
     "data": {
      "image/png": "[encoded data removed]",
      "text/plain": [
       "<Figure size 432x288 with 1 Axes>"
      ]
     },
     "metadata": {
      "needs_background": "light"
     },
     "output_type": "display_data"
    }
   ],
   "source": [
    "#find outliers!\n",
    "sns.boxplot(x=df['Price'])"
   ]
  },
  {
   "cell_type": "code",
   "execution_count": 13,
   "metadata": {},
   "outputs": [
    {
     "data": {
      "text/plain": [
       "<matplotlib.axes._subplots.AxesSubplot at 0x7f7f4746f3c8>"
      ]
     },
     "execution_count": 13,
     "metadata": {},
     "output_type": "execute_result"
    },
    {
     "data": {
      "image/png": "[encoded data removed]",
      "text/plain": [
       "<Figure size 432x288 with 1 Axes>"
      ]
     },
     "metadata": {
      "needs_background": "light"
     },
     "output_type": "display_data"
    }
   ],
   "source": [
    "#check out the Millage column\n",
    "sns.boxplot(x=df['Millage'])"
   ]
  },
  {
   "cell_type": "code",
   "execution_count": 14,
   "metadata": {},
   "outputs": [
    {
     "data": {
      "text/plain": [
       "(1044, 9)"
      ]
     },
     "execution_count": 14,
     "metadata": {},
     "output_type": "execute_result"
    }
   ],
   "source": [
    "#check for outliers size\n",
    "\n",
    "df[df.Millage > 200000].shape"
   ]
  },
  {
   "cell_type": "code",
   "execution_count": 15,
   "metadata": {},
   "outputs": [],
   "source": [
    "#drop all columns with Millage more than four hundred thousand km\n",
    "df = df.drop(df[df.Millage > 200000].index)"
   ]
  },
  {
   "cell_type": "code",
   "execution_count": 16,
   "metadata": {},
   "outputs": [
    {
     "data": {
      "text/plain": [
       "(12245, 9)"
      ]
     },
     "execution_count": 16,
     "metadata": {},
     "output_type": "execute_result"
    }
   ],
   "source": [
    "df.shape"
   ]
  },
  {
   "cell_type": "code",
   "execution_count": 17,
   "metadata": {},
   "outputs": [
    {
     "data": {
      "text/plain": [
       "<matplotlib.axes._subplots.AxesSubplot at 0x7f7f475fa9b0>"
      ]
     },
     "execution_count": 17,
     "metadata": {},
     "output_type": "execute_result"
    },
    {
     "data": {
      "image/png": "[encoded data removed]",
      "text/plain": [
       "<Figure size 432x288 with 1 Axes>"
      ]
     },
     "metadata": {
      "needs_background": "light"
     },
     "output_type": "display_data"
    }
   ],
   "source": [
    "#find outliers in Age!\n",
    "sns.boxplot(x=df['Age'])"
   ]
  },
  {
   "cell_type": "code",
   "execution_count": 18,
   "metadata": {},
   "outputs": [
    {
     "data": {
      "text/plain": [
       "(182, 9)"
      ]
     },
     "execution_count": 18,
     "metadata": {},
     "output_type": "execute_result"
    }
   ],
   "source": [
    "#drop all age greater than 20\n",
    "\n",
    "df[df.Age > 20].shape"
   ]
  },
  {
   "cell_type": "code",
   "execution_count": 19,
   "metadata": {},
   "outputs": [],
   "source": [
    "#drop Age greater than 20\n",
    "\n",
    "df = df.drop(df[df.Age > 20].index)"
   ]
  },
  {
   "cell_type": "code",
   "execution_count": 20,
   "metadata": {},
   "outputs": [
    {
     "data": {
      "text/plain": [
       "(12063, 9)"
      ]
     },
     "execution_count": 20,
     "metadata": {},
     "output_type": "execute_result"
    }
   ],
   "source": [
    "df.shape"
   ]
  },
  {
   "cell_type": "code",
   "execution_count": 21,
   "metadata": {},
   "outputs": [
    {
     "data": {
      "text/html": [
       "<div>\n",
       "<style scoped>\n",
       "    .dataframe tbody tr th:only-of-type {\n",
       "        vertical-align: middle;\n",
       "    }\n",
       "\n",
       "    .dataframe tbody tr th {\n",
       "        vertical-align: top;\n",
       "    }\n",
       "\n",
       "    .dataframe thead th {\n",
       "        text-align: right;\n",
       "    }\n",
       "</style>\n",
       "<table border=\"1\" class=\"dataframe\">\n",
       "  <thead>\n",
       "    <tr style=\"text-align: right;\">\n",
       "      <th></th>\n",
       "      <th>Millage</th>\n",
       "      <th>Ratings</th>\n",
       "      <th>Age</th>\n",
       "    </tr>\n",
       "  </thead>\n",
       "  <tbody>\n",
       "    <tr>\n",
       "      <th>count</th>\n",
       "      <td>10253.000000</td>\n",
       "      <td>10253.000000</td>\n",
       "      <td>10253.000000</td>\n",
       "    </tr>\n",
       "    <tr>\n",
       "      <th>mean</th>\n",
       "      <td>51392.566858</td>\n",
       "      <td>2.371989</td>\n",
       "      <td>11.257973</td>\n",
       "    </tr>\n",
       "    <tr>\n",
       "      <th>std</th>\n",
       "      <td>53736.626978</td>\n",
       "      <td>0.940773</td>\n",
       "      <td>3.321836</td>\n",
       "    </tr>\n",
       "    <tr>\n",
       "      <th>min</th>\n",
       "      <td>0.000000</td>\n",
       "      <td>0.000000</td>\n",
       "      <td>0.000000</td>\n",
       "    </tr>\n",
       "    <tr>\n",
       "      <th>25%</th>\n",
       "      <td>0.000000</td>\n",
       "      <td>2.000000</td>\n",
       "      <td>9.000000</td>\n",
       "    </tr>\n",
       "    <tr>\n",
       "      <th>50%</th>\n",
       "      <td>47799.000000</td>\n",
       "      <td>2.000000</td>\n",
       "      <td>12.000000</td>\n",
       "    </tr>\n",
       "    <tr>\n",
       "      <th>75%</th>\n",
       "      <td>87000.000000</td>\n",
       "      <td>2.000000</td>\n",
       "      <td>13.000000</td>\n",
       "    </tr>\n",
       "    <tr>\n",
       "      <th>max</th>\n",
       "      <td>200000.000000</td>\n",
       "      <td>5.000000</td>\n",
       "      <td>20.000000</td>\n",
       "    </tr>\n",
       "  </tbody>\n",
       "</table>\n",
       "</div>"
      ],
      "text/plain": [
       "             Millage       Ratings           Age\n",
       "count   10253.000000  10253.000000  10253.000000\n",
       "mean    51392.566858      2.371989     11.257973\n",
       "std     53736.626978      0.940773      3.321836\n",
       "min         0.000000      0.000000      0.000000\n",
       "25%         0.000000      2.000000      9.000000\n",
       "50%     47799.000000      2.000000     12.000000\n",
       "75%     87000.000000      2.000000     13.000000\n",
       "max    200000.000000      5.000000     20.000000"
      ]
     },
     "execution_count": 21,
     "metadata": {},
     "output_type": "execute_result"
    }
   ],
   "source": [
    "#split the data\n",
    "X = df.drop(['Price'], axis=1)\n",
    "y = df['Price']  #target variable\n",
    "\n",
    "from sklearn.model_selection import train_test_split\n",
    "\n",
    "X_train, X_test, y_train, y_test = train_test_split(X, y, test_size=0.15, random_state=42,shuffle=True)\n",
    "X_train.describe()"
   ]
  },
  {
   "cell_type": "code",
   "execution_count": 22,
   "metadata": {},
   "outputs": [],
   "source": [
    "#to display results\n",
    "results = X_test"
   ]
  },
  {
   "cell_type": "code",
   "execution_count": 23,
   "metadata": {},
   "outputs": [
    {
     "data": {
      "text/plain": [
       "<matplotlib.axes._subplots.AxesSubplot at 0x7f7f4765d710>"
      ]
     },
     "execution_count": 23,
     "metadata": {},
     "output_type": "execute_result"
    },
    {
     "data": {
      "image/png": "[encoded data removed]",
      "text/plain": [
       "<Figure size 432x288 with 2 Axes>"
      ]
     },
     "metadata": {
      "needs_background": "light"
     },
     "output_type": "display_data"
    }
   ],
   "source": [
    "sns.heatmap(df.corr(),annot=True)"
   ]
  },
  {
   "cell_type": "code",
   "execution_count": 24,
   "metadata": {},
   "outputs": [],
   "source": [
    "# data normalization with sklearn\n",
    "from sklearn.preprocessing import MinMaxScaler\n",
    "\n",
    "norm_cols = ['Millage','Ratings','Age']\n",
    "\n",
    "# fit scaler on training data\n",
    "norm = MinMaxScaler().fit(X_train[norm_cols])\n",
    "\n",
    "# transform training data\n",
    "X_train.loc[:,norm_cols] = norm.transform(X_train[norm_cols])\n",
    "\n",
    "# transform testing data\n",
    "X_test.loc[:,norm_cols] = norm.transform(X_test[norm_cols])"
   ]
  },
  {
   "cell_type": "code",
   "execution_count": 25,
   "metadata": {},
   "outputs": [
    {
     "data": {
      "text/html": [
       "<div>\n",
       "<style scoped>\n",
       "    .dataframe tbody tr th:only-of-type {\n",
       "        vertical-align: middle;\n",
       "    }\n",
       "\n",
       "    .dataframe tbody tr th {\n",
       "        vertical-align: top;\n",
       "    }\n",
       "\n",
       "    .dataframe thead th {\n",
       "        text-align: right;\n",
       "    }\n",
       "</style>\n",
       "<table border=\"1\" class=\"dataframe\">\n",
       "  <thead>\n",
       "    <tr style=\"text-align: right;\">\n",
       "      <th></th>\n",
       "      <th>Millage</th>\n",
       "      <th>Ratings</th>\n",
       "      <th>Age</th>\n",
       "    </tr>\n",
       "  </thead>\n",
       "  <tbody>\n",
       "    <tr>\n",
       "      <th>count</th>\n",
       "      <td>10253.000000</td>\n",
       "      <td>10253.000000</td>\n",
       "      <td>10253.000000</td>\n",
       "    </tr>\n",
       "    <tr>\n",
       "      <th>mean</th>\n",
       "      <td>0.256963</td>\n",
       "      <td>0.474398</td>\n",
       "      <td>0.562899</td>\n",
       "    </tr>\n",
       "    <tr>\n",
       "      <th>std</th>\n",
       "      <td>0.268683</td>\n",
       "      <td>0.188155</td>\n",
       "      <td>0.166092</td>\n",
       "    </tr>\n",
       "    <tr>\n",
       "      <th>min</th>\n",
       "      <td>0.000000</td>\n",
       "      <td>0.000000</td>\n",
       "      <td>0.000000</td>\n",
       "    </tr>\n",
       "    <tr>\n",
       "      <th>25%</th>\n",
       "      <td>0.000000</td>\n",
       "      <td>0.400000</td>\n",
       "      <td>0.450000</td>\n",
       "    </tr>\n",
       "    <tr>\n",
       "      <th>50%</th>\n",
       "      <td>0.238995</td>\n",
       "      <td>0.400000</td>\n",
       "      <td>0.600000</td>\n",
       "    </tr>\n",
       "    <tr>\n",
       "      <th>75%</th>\n",
       "      <td>0.435000</td>\n",
       "      <td>0.400000</td>\n",
       "      <td>0.650000</td>\n",
       "    </tr>\n",
       "    <tr>\n",
       "      <th>max</th>\n",
       "      <td>1.000000</td>\n",
       "      <td>1.000000</td>\n",
       "      <td>1.000000</td>\n",
       "    </tr>\n",
       "  </tbody>\n",
       "</table>\n",
       "</div>"
      ],
      "text/plain": [
       "            Millage       Ratings           Age\n",
       "count  10253.000000  10253.000000  10253.000000\n",
       "mean       0.256963      0.474398      0.562899\n",
       "std        0.268683      0.188155      0.166092\n",
       "min        0.000000      0.000000      0.000000\n",
       "25%        0.000000      0.400000      0.450000\n",
       "50%        0.238995      0.400000      0.600000\n",
       "75%        0.435000      0.400000      0.650000\n",
       "max        1.000000      1.000000      1.000000"
      ]
     },
     "execution_count": 25,
     "metadata": {},
     "output_type": "execute_result"
    }
   ],
   "source": [
    "X_train.describe()"
   ]
  },
  {
   "cell_type": "code",
   "execution_count": 26,
   "metadata": {},
   "outputs": [
    {
     "data": {
      "text/plain": [
       "(1810, 8)"
      ]
     },
     "execution_count": 26,
     "metadata": {},
     "output_type": "execute_result"
    }
   ],
   "source": [
    "X_test.shape"
   ]
  },
  {
   "cell_type": "code",
   "execution_count": 27,
   "metadata": {},
   "outputs": [],
   "source": [
    "#One Hot encoding for History and Transmission\n",
    "\n",
    "ohe = ce.OneHotEncoder(cols=['History','Transmission'])  #instantiate the one-hot encoder\n",
    "\n",
    "X_train = ohe.fit_transform(X_train)  #fit and transform ohe\n",
    "\n",
    "X_test = ohe.transform(X_test)"
   ]
  },
  {
   "cell_type": "code",
   "execution_count": 28,
   "metadata": {},
   "outputs": [],
   "source": [
    "# encodings for city, Make and Model\n",
    "\n",
    "base_encoder = ce.BaseNEncoder(cols=['city','Make','Model'],base=3)\n",
    "\n",
    "# fit and transform and you will get the encoded data\n",
    "X_train = base_encoder.fit_transform(X_train)\n",
    "\n",
    "X_test = base_encoder.transform(X_test)"
   ]
  },
  {
   "cell_type": "code",
   "execution_count": 30,
   "metadata": {},
   "outputs": [
    {
     "data": {
      "text/plain": [
       "(10253, 24)"
      ]
     },
     "execution_count": 30,
     "metadata": {},
     "output_type": "execute_result"
    }
   ],
   "source": [
    "X_train.shape"
   ]
  },
  {
   "cell_type": "markdown",
   "metadata": {},
   "source": [
    "### Model Development"
   ]
  },
  {
   "cell_type": "markdown",
   "metadata": {},
   "source": [
    "##### Linear Regression"
   ]
  },
  {
   "cell_type": "code",
   "execution_count": 31,
   "metadata": {},
   "outputs": [
    {
     "name": "stdout",
     "output_type": "stream",
     "text": [
      "[-1.56719789 -1.46044481 -1.49114646 -1.48575566 -1.55644098]\n"
     ]
    }
   ],
   "source": [
    "from sklearn.linear_model import LinearRegression\n",
    "from sklearn.metrics import mean_absolute_error,r2_score\n",
    "\n",
    "lr = LinearRegression() \n",
    "lr_scores = cross_validate(lr, X_train, y_train, cv=5,scoring=('r2', 'neg_mean_absolute_error'),return_train_score=True)\n",
    "\n",
    "print(lr_scores['test_neg_mean_absolute_error'])"
   ]
  },
  {
   "cell_type": "code",
   "execution_count": 32,
   "metadata": {},
   "outputs": [
    {
     "name": "stdout",
     "output_type": "stream",
     "text": [
      "[0.48955203 0.49635675 0.48674294 0.46977794 0.48667984]\n"
     ]
    }
   ],
   "source": [
    "print(lr_scores['test_r2'])"
   ]
  },
  {
   "cell_type": "code",
   "execution_count": 33,
   "metadata": {},
   "outputs": [
    {
     "name": "stdout",
     "output_type": "stream",
     "text": [
      "The mean_absolute error is 1.479930776174033\n",
      "The r2_error is 0.5366499440486596\n"
     ]
    }
   ],
   "source": [
    "lr.fit(X_train,y_train)\n",
    "y_test_lr = lr.predict(X_test)\n",
    "\n",
    "print('The mean_absolute error is {}'.format(mean_absolute_error(y_test,y_test_lr)))\n",
    "print('The r2_error is {}'.format(r2_score(y_test,y_test_lr)))"
   ]
  },
  {
   "cell_type": "markdown",
   "metadata": {},
   "source": [
    "##### K-Nearest Neigbours"
   ]
  },
  {
   "cell_type": "code",
   "execution_count": 34,
   "metadata": {},
   "outputs": [
    {
     "name": "stdout",
     "output_type": "stream",
     "text": [
      "[-1.02150878 -0.97209039 -0.98755959 -0.96762646 -1.04544359]\n"
     ]
    }
   ],
   "source": [
    "from sklearn.neighbors import KNeighborsRegressor\n",
    "\n",
    "knn = KNeighborsRegressor(n_neighbors=6) #n_neighbors = 6 is the optimal value according to grid search CV.\n",
    "\n",
    "knn_scores = cross_validate(knn, X_train, y_train, cv=5,scoring=('r2', 'neg_mean_absolute_error'),return_train_score=True)\n",
    "\n",
    "print(knn_scores['test_neg_mean_absolute_error'])"
   ]
  },
  {
   "cell_type": "code",
   "execution_count": 35,
   "metadata": {},
   "outputs": [
    {
     "name": "stdout",
     "output_type": "stream",
     "text": [
      "[0.68655829 0.68999547 0.67888794 0.65612004 0.6678087 ]\n"
     ]
    }
   ],
   "source": [
    "print(knn_scores['test_r2'])"
   ]
  },
  {
   "cell_type": "code",
   "execution_count": 36,
   "metadata": {},
   "outputs": [
    {
     "name": "stdout",
     "output_type": "stream",
     "text": [
      "The mean_absolute error is 0.9126440732044198\n",
      "The r2_error is 0.7650801326724268\n"
     ]
    }
   ],
   "source": [
    "knn.fit(X_train,y_train)\n",
    "\n",
    "y_test_knn = knn.predict(X_test)\n",
    "\n",
    "print('The mean_absolute error is {}'.format(mean_absolute_error(y_test,y_test_knn)))\n",
    "print('The r2_error is {}'.format(r2_score(y_test,y_test_knn)))"
   ]
  },
  {
   "cell_type": "markdown",
   "metadata": {},
   "source": [
    "##### Random Forest"
   ]
  },
  {
   "cell_type": "code",
   "execution_count": 37,
   "metadata": {},
   "outputs": [
    {
     "name": "stdout",
     "output_type": "stream",
     "text": [
      "[-1.33375424 -1.29758477 -1.28639699 -1.28263742 -1.330932  ]\n"
     ]
    }
   ],
   "source": [
    "from sklearn.ensemble import RandomForestRegressor,StackingRegressor\n",
    "\n",
    "rf = RandomForestRegressor(n_estimators= 1000, max_depth=5, random_state=42,n_jobs=-1,criterion='mse')\n",
    "\n",
    "rf_scores = cross_validate(rf, X_train, y_train, cv=5,scoring=('r2', 'neg_mean_absolute_error'),return_train_score=True)\n",
    "\n",
    "print(rf_scores['test_neg_mean_absolute_error'])"
   ]
  },
  {
   "cell_type": "code",
   "execution_count": 38,
   "metadata": {},
   "outputs": [
    {
     "name": "stdout",
     "output_type": "stream",
     "text": [
      "[0.59503151 0.57402378 0.59047708 0.56330723 0.58903908]\n"
     ]
    }
   ],
   "source": [
    "print(rf_scores['test_r2'])"
   ]
  },
  {
   "cell_type": "code",
   "execution_count": 39,
   "metadata": {},
   "outputs": [
    {
     "name": "stdout",
     "output_type": "stream",
     "text": [
      "The mean_absolute error is 1.2429125843318605\n",
      "The r2_error is 0.654809024684673\n"
     ]
    }
   ],
   "source": [
    "rf.fit(X_train,y_train)\n",
    "\n",
    "y_test_rf = rf.predict(X_test)\n",
    "\n",
    "print('The mean_absolute error is {}'.format(mean_absolute_error(y_test,y_test_rf)))\n",
    "print('The r2_error is {}'.format(r2_score(y_test,y_test_rf)))"
   ]
  },
  {
   "cell_type": "markdown",
   "metadata": {},
   "source": [
    "##### Gradient Boosted Trees"
   ]
  },
  {
   "cell_type": "code",
   "execution_count": 40,
   "metadata": {},
   "outputs": [
    {
     "name": "stdout",
     "output_type": "stream",
     "text": [
      "[-0.91166955 -0.89329796 -0.89852604 -0.88566282 -0.90239057]\n"
     ]
    }
   ],
   "source": [
    "import xgboost as xgb\n",
    "\n",
    "xgbr = xgb.XGBRegressor(max_depth=6,objective='reg:squarederror',learning_rate=0.08,\n",
    "                        n_estimators=800,n_jobs=1) #parameters concluded from gridsearch-cv\n",
    "\n",
    "xgb_scores = cross_validate(xgbr, X_train, y_train, cv=5,scoring=('r2', 'neg_mean_absolute_error'),return_train_score=True)\n",
    "\n",
    "print(xgb_scores['test_neg_mean_absolute_error'])"
   ]
  },
  {
   "cell_type": "code",
   "execution_count": 41,
   "metadata": {},
   "outputs": [
    {
     "name": "stdout",
     "output_type": "stream",
     "text": [
      "[0.76143297 0.75668183 0.74651378 0.73869455 0.76019013]\n"
     ]
    }
   ],
   "source": [
    "print(xgb_scores['test_r2'])"
   ]
  },
  {
   "cell_type": "code",
   "execution_count": 42,
   "metadata": {},
   "outputs": [
    {
     "name": "stdout",
     "output_type": "stream",
     "text": [
      "The mean_absolute error is 0.8255631099586191\n",
      "The r2_score is 0.8195434892768741\n"
     ]
    }
   ],
   "source": [
    "xgbr.fit(X_train,y_train)\n",
    "\n",
    "y_test_xgb = xgbr.predict(X_test)\n",
    "\n",
    "print('The mean_absolute error is {}'.format(mean_absolute_error(y_test,y_test_xgb)))\n",
    "print('The r2_score is {}'.format(r2_score(y_test,y_test_xgb)))"
   ]
  },
  {
   "cell_type": "markdown",
   "metadata": {},
   "source": [
    "#### Result Presentation"
   ]
  },
  {
   "cell_type": "code",
   "execution_count": 42,
   "metadata": {},
   "outputs": [
    {
     "data": {
      "text/html": [
       "<div>\n",
       "<style scoped>\n",
       "    .dataframe tbody tr th:only-of-type {\n",
       "        vertical-align: middle;\n",
       "    }\n",
       "\n",
       "    .dataframe tbody tr th {\n",
       "        vertical-align: top;\n",
       "    }\n",
       "\n",
       "    .dataframe thead th {\n",
       "        text-align: right;\n",
       "    }\n",
       "</style>\n",
       "<table border=\"1\" class=\"dataframe\">\n",
       "  <thead>\n",
       "    <tr style=\"text-align: right;\">\n",
       "      <th></th>\n",
       "      <th>city</th>\n",
       "      <th>History</th>\n",
       "      <th>Millage</th>\n",
       "      <th>Ratings</th>\n",
       "      <th>Make</th>\n",
       "      <th>Model</th>\n",
       "      <th>Transmission</th>\n",
       "      <th>Age</th>\n",
       "      <th>real_price</th>\n",
       "      <th>predicted_price</th>\n",
       "    </tr>\n",
       "  </thead>\n",
       "  <tbody>\n",
       "    <tr>\n",
       "      <th>11446</th>\n",
       "      <td>Lagos</td>\n",
       "      <td>foreign</td>\n",
       "      <td>58963.0</td>\n",
       "      <td>2.0</td>\n",
       "      <td>Toyota</td>\n",
       "      <td>RAV 4</td>\n",
       "      <td>Automatic</td>\n",
       "      <td>7.0</td>\n",
       "      <td>9365000.0</td>\n",
       "      <td>7.566113e+06</td>\n",
       "    </tr>\n",
       "    <tr>\n",
       "      <th>14939</th>\n",
       "      <td>Lagos</td>\n",
       "      <td>local</td>\n",
       "      <td>199588.0</td>\n",
       "      <td>4.0</td>\n",
       "      <td>Toyota</td>\n",
       "      <td>Camry</td>\n",
       "      <td>Automatic</td>\n",
       "      <td>12.0</td>\n",
       "      <td>1370000.0</td>\n",
       "      <td>1.635531e+06</td>\n",
       "    </tr>\n",
       "    <tr>\n",
       "      <th>9679</th>\n",
       "      <td>Lagos</td>\n",
       "      <td>foreign</td>\n",
       "      <td>83000.0</td>\n",
       "      <td>2.0</td>\n",
       "      <td>Acura</td>\n",
       "      <td>MDX</td>\n",
       "      <td>Automatic</td>\n",
       "      <td>12.0</td>\n",
       "      <td>3645000.0</td>\n",
       "      <td>3.667173e+06</td>\n",
       "    </tr>\n",
       "    <tr>\n",
       "      <th>11596</th>\n",
       "      <td>Lagos</td>\n",
       "      <td>foreign</td>\n",
       "      <td>0.0</td>\n",
       "      <td>2.0</td>\n",
       "      <td>Toyota</td>\n",
       "      <td>Camry</td>\n",
       "      <td>Automatic</td>\n",
       "      <td>9.0</td>\n",
       "      <td>4085000.0</td>\n",
       "      <td>3.875879e+06</td>\n",
       "    </tr>\n",
       "    <tr>\n",
       "      <th>12358</th>\n",
       "      <td>Lagos</td>\n",
       "      <td>foreign</td>\n",
       "      <td>0.0</td>\n",
       "      <td>2.0</td>\n",
       "      <td>Toyota</td>\n",
       "      <td>Camry</td>\n",
       "      <td>Automatic</td>\n",
       "      <td>20.0</td>\n",
       "      <td>1084500.0</td>\n",
       "      <td>1.159872e+06</td>\n",
       "    </tr>\n",
       "    <tr>\n",
       "      <th>16227</th>\n",
       "      <td>Lagos</td>\n",
       "      <td>foreign</td>\n",
       "      <td>97967.0</td>\n",
       "      <td>2.0</td>\n",
       "      <td>Honda</td>\n",
       "      <td>Civic</td>\n",
       "      <td>Automatic</td>\n",
       "      <td>12.0</td>\n",
       "      <td>1850000.0</td>\n",
       "      <td>2.320569e+06</td>\n",
       "    </tr>\n",
       "    <tr>\n",
       "      <th>8298</th>\n",
       "      <td>Lagos</td>\n",
       "      <td>foreign</td>\n",
       "      <td>0.0</td>\n",
       "      <td>2.0</td>\n",
       "      <td>Toyota</td>\n",
       "      <td>Camry</td>\n",
       "      <td>Automatic</td>\n",
       "      <td>12.0</td>\n",
       "      <td>2430000.0</td>\n",
       "      <td>3.189440e+06</td>\n",
       "    </tr>\n",
       "    <tr>\n",
       "      <th>5117</th>\n",
       "      <td>Lagos</td>\n",
       "      <td>foreign</td>\n",
       "      <td>0.0</td>\n",
       "      <td>2.0</td>\n",
       "      <td>Mercedes-Benz</td>\n",
       "      <td>ML 350</td>\n",
       "      <td>Automatic</td>\n",
       "      <td>10.0</td>\n",
       "      <td>5295000.0</td>\n",
       "      <td>6.099198e+06</td>\n",
       "    </tr>\n",
       "    <tr>\n",
       "      <th>15526</th>\n",
       "      <td>Abuja</td>\n",
       "      <td>local</td>\n",
       "      <td>188576.0</td>\n",
       "      <td>3.0</td>\n",
       "      <td>BMW</td>\n",
       "      <td>ALPINA</td>\n",
       "      <td>Automatic</td>\n",
       "      <td>12.0</td>\n",
       "      <td>6910000.0</td>\n",
       "      <td>3.011132e+06</td>\n",
       "    </tr>\n",
       "    <tr>\n",
       "      <th>11710</th>\n",
       "      <td>Lagos</td>\n",
       "      <td>foreign</td>\n",
       "      <td>0.0</td>\n",
       "      <td>2.0</td>\n",
       "      <td>Toyota</td>\n",
       "      <td>Camry</td>\n",
       "      <td>Automatic</td>\n",
       "      <td>10.0</td>\n",
       "      <td>4140000.0</td>\n",
       "      <td>3.602679e+06</td>\n",
       "    </tr>\n",
       "    <tr>\n",
       "      <th>2153</th>\n",
       "      <td>Lagos</td>\n",
       "      <td>foreign</td>\n",
       "      <td>0.0</td>\n",
       "      <td>2.0</td>\n",
       "      <td>Pontiac</td>\n",
       "      <td>Vibe</td>\n",
       "      <td>Automatic</td>\n",
       "      <td>15.0</td>\n",
       "      <td>2085000.0</td>\n",
       "      <td>1.925084e+06</td>\n",
       "    </tr>\n",
       "    <tr>\n",
       "      <th>16344</th>\n",
       "      <td>Lagos</td>\n",
       "      <td>local</td>\n",
       "      <td>172277.0</td>\n",
       "      <td>5.0</td>\n",
       "      <td>Kia</td>\n",
       "      <td>Sedona</td>\n",
       "      <td>Automatic</td>\n",
       "      <td>12.0</td>\n",
       "      <td>529000.0</td>\n",
       "      <td>6.104574e+05</td>\n",
       "    </tr>\n",
       "    <tr>\n",
       "      <th>11912</th>\n",
       "      <td>Lagos</td>\n",
       "      <td>foreign</td>\n",
       "      <td>49000.0</td>\n",
       "      <td>2.0</td>\n",
       "      <td>Mercedes-Benz</td>\n",
       "      <td>ML 350</td>\n",
       "      <td>Automatic</td>\n",
       "      <td>5.0</td>\n",
       "      <td>11675000.0</td>\n",
       "      <td>1.013223e+07</td>\n",
       "    </tr>\n",
       "    <tr>\n",
       "      <th>15908</th>\n",
       "      <td>Lagos</td>\n",
       "      <td>local</td>\n",
       "      <td>112723.0</td>\n",
       "      <td>5.0</td>\n",
       "      <td>Toyota</td>\n",
       "      <td>Sienna</td>\n",
       "      <td>Automatic</td>\n",
       "      <td>12.0</td>\n",
       "      <td>1620000.0</td>\n",
       "      <td>1.795261e+06</td>\n",
       "    </tr>\n",
       "    <tr>\n",
       "      <th>13700</th>\n",
       "      <td>Lagos</td>\n",
       "      <td>foreign</td>\n",
       "      <td>68000.0</td>\n",
       "      <td>2.0</td>\n",
       "      <td>Ford</td>\n",
       "      <td>Edge</td>\n",
       "      <td>Automatic</td>\n",
       "      <td>5.0</td>\n",
       "      <td>8595000.0</td>\n",
       "      <td>7.095673e+06</td>\n",
       "    </tr>\n",
       "    <tr>\n",
       "      <th>774</th>\n",
       "      <td>Lagos</td>\n",
       "      <td>foreign</td>\n",
       "      <td>1.0</td>\n",
       "      <td>2.0</td>\n",
       "      <td>Toyota</td>\n",
       "      <td>Camry</td>\n",
       "      <td>Automatic</td>\n",
       "      <td>10.0</td>\n",
       "      <td>3407500.0</td>\n",
       "      <td>3.871143e+06</td>\n",
       "    </tr>\n",
       "    <tr>\n",
       "      <th>10307</th>\n",
       "      <td>Osun</td>\n",
       "      <td>foreign</td>\n",
       "      <td>135000.0</td>\n",
       "      <td>2.0</td>\n",
       "      <td>Toyota</td>\n",
       "      <td>Avalon</td>\n",
       "      <td>Automatic</td>\n",
       "      <td>14.0</td>\n",
       "      <td>2545000.0</td>\n",
       "      <td>2.045235e+06</td>\n",
       "    </tr>\n",
       "    <tr>\n",
       "      <th>2101</th>\n",
       "      <td>Lagos</td>\n",
       "      <td>foreign</td>\n",
       "      <td>32000.0</td>\n",
       "      <td>2.0</td>\n",
       "      <td>Toyota</td>\n",
       "      <td>Camry</td>\n",
       "      <td>Automatic</td>\n",
       "      <td>5.0</td>\n",
       "      <td>6340000.0</td>\n",
       "      <td>7.497035e+06</td>\n",
       "    </tr>\n",
       "    <tr>\n",
       "      <th>11785</th>\n",
       "      <td>Lagos</td>\n",
       "      <td>foreign</td>\n",
       "      <td>0.0</td>\n",
       "      <td>2.0</td>\n",
       "      <td>Toyota</td>\n",
       "      <td>RAV 4</td>\n",
       "      <td>Automatic</td>\n",
       "      <td>10.0</td>\n",
       "      <td>4965000.0</td>\n",
       "      <td>4.600557e+06</td>\n",
       "    </tr>\n",
       "    <tr>\n",
       "      <th>5552</th>\n",
       "      <td>Lagos</td>\n",
       "      <td>foreign</td>\n",
       "      <td>102000.0</td>\n",
       "      <td>2.0</td>\n",
       "      <td>Honda</td>\n",
       "      <td>Pilot</td>\n",
       "      <td>Automatic</td>\n",
       "      <td>14.0</td>\n",
       "      <td>2487500.0</td>\n",
       "      <td>2.173631e+06</td>\n",
       "    </tr>\n",
       "  </tbody>\n",
       "</table>\n",
       "</div>"
      ],
      "text/plain": [
       "        city  History   Millage  Ratings           Make   Model Transmission  \\\n",
       "11446  Lagos  foreign   58963.0      2.0         Toyota   RAV 4    Automatic   \n",
       "14939  Lagos    local  199588.0      4.0         Toyota   Camry    Automatic   \n",
       "9679   Lagos  foreign   83000.0      2.0          Acura     MDX    Automatic   \n",
       "11596  Lagos  foreign       0.0      2.0         Toyota   Camry    Automatic   \n",
       "12358  Lagos  foreign       0.0      2.0         Toyota   Camry    Automatic   \n",
       "16227  Lagos  foreign   97967.0      2.0          Honda   Civic    Automatic   \n",
       "8298   Lagos  foreign       0.0      2.0         Toyota   Camry    Automatic   \n",
       "5117   Lagos  foreign       0.0      2.0  Mercedes-Benz  ML 350    Automatic   \n",
       "15526  Abuja    local  188576.0      3.0            BMW  ALPINA    Automatic   \n",
       "11710  Lagos  foreign       0.0      2.0         Toyota   Camry    Automatic   \n",
       "2153   Lagos  foreign       0.0      2.0        Pontiac    Vibe    Automatic   \n",
       "16344  Lagos    local  172277.0      5.0            Kia  Sedona    Automatic   \n",
       "11912  Lagos  foreign   49000.0      2.0  Mercedes-Benz  ML 350    Automatic   \n",
       "15908  Lagos    local  112723.0      5.0         Toyota  Sienna    Automatic   \n",
       "13700  Lagos  foreign   68000.0      2.0           Ford    Edge    Automatic   \n",
       "774    Lagos  foreign       1.0      2.0         Toyota   Camry    Automatic   \n",
       "10307   Osun  foreign  135000.0      2.0         Toyota  Avalon    Automatic   \n",
       "2101   Lagos  foreign   32000.0      2.0         Toyota   Camry    Automatic   \n",
       "11785  Lagos  foreign       0.0      2.0         Toyota   RAV 4    Automatic   \n",
       "5552   Lagos  foreign  102000.0      2.0          Honda   Pilot    Automatic   \n",
       "\n",
       "        Age  real_price  predicted_price  \n",
       "11446   7.0   9365000.0     7.566113e+06  \n",
       "14939  12.0   1370000.0     1.635531e+06  \n",
       "9679   12.0   3645000.0     3.667173e+06  \n",
       "11596   9.0   4085000.0     3.875879e+06  \n",
       "12358  20.0   1084500.0     1.159872e+06  \n",
       "16227  12.0   1850000.0     2.320569e+06  \n",
       "8298   12.0   2430000.0     3.189440e+06  \n",
       "5117   10.0   5295000.0     6.099198e+06  \n",
       "15526  12.0   6910000.0     3.011132e+06  \n",
       "11710  10.0   4140000.0     3.602679e+06  \n",
       "2153   15.0   2085000.0     1.925084e+06  \n",
       "16344  12.0    529000.0     6.104574e+05  \n",
       "11912   5.0  11675000.0     1.013223e+07  \n",
       "15908  12.0   1620000.0     1.795261e+06  \n",
       "13700   5.0   8595000.0     7.095673e+06  \n",
       "774    10.0   3407500.0     3.871143e+06  \n",
       "10307  14.0   2545000.0     2.045235e+06  \n",
       "2101    5.0   6340000.0     7.497035e+06  \n",
       "11785  10.0   4965000.0     4.600557e+06  \n",
       "5552   14.0   2487500.0     2.173631e+06  "
      ]
     },
     "execution_count": 42,
     "metadata": {},
     "output_type": "execute_result"
    }
   ],
   "source": [
    "results.loc[:,'real_price'] = y_test*1000000\n",
    "results.loc[:,'predicted_price'] = y_test_xgb*1000000\n",
    "#results[['upper','lower']] = predictions[['upper','lower']]*1000000\n",
    "\n",
    "# inverse_transform testing data\n",
    "results.loc[:,norm_cols] = norm.inverse_transform(results[norm_cols])\n",
    "\n",
    "results.head(20)"
   ]
  },
  {
   "cell_type": "code",
   "execution_count": 43,
   "metadata": {},
   "outputs": [],
   "source": [
    "#next \n",
    "#make range predictions"
   ]
  },
  {
   "cell_type": "code",
   "execution_count": 50,
   "metadata": {},
   "outputs": [],
   "source": [
    "#build a range predictor\n",
    "from sklearn.ensemble import GradientBoostingRegressor\n",
    "\n",
    "# Set lower and upper quantile\n",
    "LOWER_ALPHA = 0.95\n",
    "UPPER_ALPHA = 0.98\n",
    "\n",
    "\n",
    "# Each model has to be separate\n",
    "lower_model = GradientBoostingRegressor(loss=\"quantile\",alpha=LOWER_ALPHA,max_depth=6,\n",
    "                                        criterion='friedman_mse',learning_rate=0.08,n_estimators=800)\n",
    "\n",
    "# The mid model will use the default loss\n",
    "mid_model = GradientBoostingRegressor(loss=\"ls\",max_depth=6,\n",
    "                                        criterion='friedman_mse',learning_rate=0.08,n_estimators=800)\n",
    "\n",
    "upper_model = GradientBoostingRegressor(loss=\"quantile\", alpha=UPPER_ALPHA,max_depth=6,\n",
    "                                        criterion='friedman_mse',learning_rate=0.08,n_estimators=800)\n",
    "\n",
    "\n",
    "# Fit models\n",
    "lower_model.fit(X_train, y_train)\n",
    "mid_model.fit(X_train, y_train)\n",
    "upper_model.fit(X_train, y_train)\n",
    "\n",
    "# Record actual values on test set\n",
    "predictions = pd.DataFrame(y_test)\n",
    "\n",
    "# Predict\n",
    "predictions['lower'] = lower_model.predict(X_test)\n",
    "predictions['mid'] = mid_model.predict(X_test)\n",
    "predictions['upper'] = upper_model.predict(X_test)"
   ]
  },
  {
   "cell_type": "code",
   "execution_count": 52,
   "metadata": {},
   "outputs": [
    {
     "data": {
      "text/html": [
       "<div>\n",
       "<style scoped>\n",
       "    .dataframe tbody tr th:only-of-type {\n",
       "        vertical-align: middle;\n",
       "    }\n",
       "\n",
       "    .dataframe tbody tr th {\n",
       "        vertical-align: top;\n",
       "    }\n",
       "\n",
       "    .dataframe thead th {\n",
       "        text-align: right;\n",
       "    }\n",
       "</style>\n",
       "<table border=\"1\" class=\"dataframe\">\n",
       "  <thead>\n",
       "    <tr style=\"text-align: right;\">\n",
       "      <th></th>\n",
       "      <th>city</th>\n",
       "      <th>History</th>\n",
       "      <th>Millage</th>\n",
       "      <th>Ratings</th>\n",
       "      <th>Make</th>\n",
       "      <th>Model</th>\n",
       "      <th>Transmission</th>\n",
       "      <th>Age</th>\n",
       "      <th>real_price</th>\n",
       "      <th>predicted_price</th>\n",
       "      <th>upper</th>\n",
       "      <th>lower</th>\n",
       "      <th>mid</th>\n",
       "    </tr>\n",
       "  </thead>\n",
       "  <tbody>\n",
       "    <tr>\n",
       "      <th>115</th>\n",
       "      <td>Lagos</td>\n",
       "      <td>foreign</td>\n",
       "      <td>100943.0</td>\n",
       "      <td>4.8</td>\n",
       "      <td>Mercedes-Benz</td>\n",
       "      <td>ML 350</td>\n",
       "      <td>Automatic</td>\n",
       "      <td>7.0</td>\n",
       "      <td>12665000.0</td>\n",
       "      <td>1.227197e+07</td>\n",
       "      <td>1.207793e+07</td>\n",
       "      <td>1.206669e+07</td>\n",
       "      <td>1.241497e+07</td>\n",
       "    </tr>\n",
       "    <tr>\n",
       "      <th>12342</th>\n",
       "      <td>Lagos</td>\n",
       "      <td>foreign</td>\n",
       "      <td>0.0</td>\n",
       "      <td>2.0</td>\n",
       "      <td>Lexus</td>\n",
       "      <td>ES 300</td>\n",
       "      <td>Automatic</td>\n",
       "      <td>12.0</td>\n",
       "      <td>4305000.0</td>\n",
       "      <td>3.791044e+06</td>\n",
       "      <td>6.345964e+06</td>\n",
       "      <td>4.603749e+06</td>\n",
       "      <td>3.800472e+06</td>\n",
       "    </tr>\n",
       "    <tr>\n",
       "      <th>13035</th>\n",
       "      <td>Lagos</td>\n",
       "      <td>foreign</td>\n",
       "      <td>0.0</td>\n",
       "      <td>2.0</td>\n",
       "      <td>Toyota</td>\n",
       "      <td>Sienna</td>\n",
       "      <td>Automatic</td>\n",
       "      <td>17.0</td>\n",
       "      <td>2545000.0</td>\n",
       "      <td>2.356841e+06</td>\n",
       "      <td>3.016813e+06</td>\n",
       "      <td>2.697868e+06</td>\n",
       "      <td>2.338823e+06</td>\n",
       "    </tr>\n",
       "    <tr>\n",
       "      <th>4606</th>\n",
       "      <td>Lagos</td>\n",
       "      <td>foreign</td>\n",
       "      <td>0.0</td>\n",
       "      <td>2.0</td>\n",
       "      <td>Nissan</td>\n",
       "      <td>Pathfinder</td>\n",
       "      <td>Automatic</td>\n",
       "      <td>17.0</td>\n",
       "      <td>1912500.0</td>\n",
       "      <td>2.064430e+06</td>\n",
       "      <td>3.087083e+06</td>\n",
       "      <td>2.770339e+06</td>\n",
       "      <td>2.006494e+06</td>\n",
       "    </tr>\n",
       "    <tr>\n",
       "      <th>15408</th>\n",
       "      <td>Lagos</td>\n",
       "      <td>local</td>\n",
       "      <td>75012.0</td>\n",
       "      <td>4.0</td>\n",
       "      <td>Mitsubishi</td>\n",
       "      <td>Lancer</td>\n",
       "      <td>Automatic</td>\n",
       "      <td>12.0</td>\n",
       "      <td>1045000.0</td>\n",
       "      <td>2.531847e+06</td>\n",
       "      <td>8.632816e+06</td>\n",
       "      <td>6.287830e+06</td>\n",
       "      <td>2.563705e+06</td>\n",
       "    </tr>\n",
       "    <tr>\n",
       "      <th>8208</th>\n",
       "      <td>Lagos</td>\n",
       "      <td>foreign</td>\n",
       "      <td>96257.0</td>\n",
       "      <td>2.0</td>\n",
       "      <td>Toyota</td>\n",
       "      <td>Highlander</td>\n",
       "      <td>Automatic</td>\n",
       "      <td>12.0</td>\n",
       "      <td>4085000.0</td>\n",
       "      <td>4.325291e+06</td>\n",
       "      <td>6.972796e+06</td>\n",
       "      <td>6.371933e+06</td>\n",
       "      <td>4.341298e+06</td>\n",
       "    </tr>\n",
       "    <tr>\n",
       "      <th>2614</th>\n",
       "      <td>Lagos</td>\n",
       "      <td>foreign</td>\n",
       "      <td>23541.0</td>\n",
       "      <td>2.0</td>\n",
       "      <td>Lexus</td>\n",
       "      <td>RX 350</td>\n",
       "      <td>Automatic</td>\n",
       "      <td>7.0</td>\n",
       "      <td>9475000.0</td>\n",
       "      <td>9.635435e+06</td>\n",
       "      <td>1.141629e+07</td>\n",
       "      <td>1.134777e+07</td>\n",
       "      <td>9.689620e+06</td>\n",
       "    </tr>\n",
       "    <tr>\n",
       "      <th>5352</th>\n",
       "      <td>Ibadan</td>\n",
       "      <td>foreign</td>\n",
       "      <td>0.0</td>\n",
       "      <td>2.0</td>\n",
       "      <td>Toyota</td>\n",
       "      <td>Camry</td>\n",
       "      <td>Automatic</td>\n",
       "      <td>9.0</td>\n",
       "      <td>3535000.0</td>\n",
       "      <td>3.639091e+06</td>\n",
       "      <td>7.820957e+06</td>\n",
       "      <td>4.966660e+06</td>\n",
       "      <td>3.538161e+06</td>\n",
       "    </tr>\n",
       "    <tr>\n",
       "      <th>6004</th>\n",
       "      <td>Lagos</td>\n",
       "      <td>foreign</td>\n",
       "      <td>80000.0</td>\n",
       "      <td>2.0</td>\n",
       "      <td>Toyota</td>\n",
       "      <td>Camry</td>\n",
       "      <td>Automatic</td>\n",
       "      <td>13.0</td>\n",
       "      <td>3235000.0</td>\n",
       "      <td>2.846678e+06</td>\n",
       "      <td>5.263356e+06</td>\n",
       "      <td>4.184788e+06</td>\n",
       "      <td>2.955971e+06</td>\n",
       "    </tr>\n",
       "    <tr>\n",
       "      <th>15915</th>\n",
       "      <td>Lagos</td>\n",
       "      <td>local</td>\n",
       "      <td>84806.0</td>\n",
       "      <td>3.0</td>\n",
       "      <td>Nissan</td>\n",
       "      <td>Altima</td>\n",
       "      <td>Automatic</td>\n",
       "      <td>12.0</td>\n",
       "      <td>2655000.0</td>\n",
       "      <td>2.067881e+06</td>\n",
       "      <td>7.930363e+06</td>\n",
       "      <td>5.951758e+06</td>\n",
       "      <td>2.447738e+06</td>\n",
       "    </tr>\n",
       "    <tr>\n",
       "      <th>376</th>\n",
       "      <td>Lagos</td>\n",
       "      <td>foreign</td>\n",
       "      <td>188971.0</td>\n",
       "      <td>4.6</td>\n",
       "      <td>Mazda</td>\n",
       "      <td>Tribute</td>\n",
       "      <td>Automatic</td>\n",
       "      <td>15.0</td>\n",
       "      <td>2257500.0</td>\n",
       "      <td>2.543975e+06</td>\n",
       "      <td>3.100420e+06</td>\n",
       "      <td>3.288999e+06</td>\n",
       "      <td>2.639467e+06</td>\n",
       "    </tr>\n",
       "    <tr>\n",
       "      <th>1894</th>\n",
       "      <td>Lagos</td>\n",
       "      <td>foreign</td>\n",
       "      <td>0.0</td>\n",
       "      <td>2.0</td>\n",
       "      <td>Nissan</td>\n",
       "      <td>Quest</td>\n",
       "      <td>Automatic</td>\n",
       "      <td>7.0</td>\n",
       "      <td>3465000.0</td>\n",
       "      <td>3.442686e+06</td>\n",
       "      <td>1.287548e+07</td>\n",
       "      <td>9.392145e+06</td>\n",
       "      <td>3.989699e+06</td>\n",
       "    </tr>\n",
       "    <tr>\n",
       "      <th>16747</th>\n",
       "      <td>Lagos</td>\n",
       "      <td>local</td>\n",
       "      <td>152900.0</td>\n",
       "      <td>4.0</td>\n",
       "      <td>Toyota</td>\n",
       "      <td>Camry</td>\n",
       "      <td>Automatic</td>\n",
       "      <td>12.0</td>\n",
       "      <td>2101000.0</td>\n",
       "      <td>1.768906e+06</td>\n",
       "      <td>6.435048e+06</td>\n",
       "      <td>3.892070e+06</td>\n",
       "      <td>1.543710e+06</td>\n",
       "    </tr>\n",
       "    <tr>\n",
       "      <th>17345</th>\n",
       "      <td>Lagos</td>\n",
       "      <td>foreign</td>\n",
       "      <td>167437.0</td>\n",
       "      <td>2.0</td>\n",
       "      <td>Toyota</td>\n",
       "      <td>Highlander</td>\n",
       "      <td>Automatic</td>\n",
       "      <td>12.0</td>\n",
       "      <td>2700000.0</td>\n",
       "      <td>4.103022e+06</td>\n",
       "      <td>7.164349e+06</td>\n",
       "      <td>6.199829e+06</td>\n",
       "      <td>4.270581e+06</td>\n",
       "    </tr>\n",
       "    <tr>\n",
       "      <th>9458</th>\n",
       "      <td>Lagos</td>\n",
       "      <td>foreign</td>\n",
       "      <td>72000.0</td>\n",
       "      <td>2.0</td>\n",
       "      <td>Toyota</td>\n",
       "      <td>Corolla</td>\n",
       "      <td>Automatic</td>\n",
       "      <td>10.0</td>\n",
       "      <td>2545000.0</td>\n",
       "      <td>3.260800e+06</td>\n",
       "      <td>7.177832e+06</td>\n",
       "      <td>5.679802e+06</td>\n",
       "      <td>3.087257e+06</td>\n",
       "    </tr>\n",
       "    <tr>\n",
       "      <th>10102</th>\n",
       "      <td>Lagos</td>\n",
       "      <td>foreign</td>\n",
       "      <td>0.0</td>\n",
       "      <td>2.0</td>\n",
       "      <td>Toyota</td>\n",
       "      <td>Camry</td>\n",
       "      <td>Automatic</td>\n",
       "      <td>7.0</td>\n",
       "      <td>4965000.0</td>\n",
       "      <td>5.323313e+06</td>\n",
       "      <td>9.161861e+06</td>\n",
       "      <td>6.848009e+06</td>\n",
       "      <td>5.307388e+06</td>\n",
       "    </tr>\n",
       "    <tr>\n",
       "      <th>4328</th>\n",
       "      <td>Lagos</td>\n",
       "      <td>foreign</td>\n",
       "      <td>0.0</td>\n",
       "      <td>2.0</td>\n",
       "      <td>Toyota</td>\n",
       "      <td>Camry</td>\n",
       "      <td>Automatic</td>\n",
       "      <td>8.0</td>\n",
       "      <td>4965000.0</td>\n",
       "      <td>4.814415e+06</td>\n",
       "      <td>8.975545e+06</td>\n",
       "      <td>5.946541e+06</td>\n",
       "      <td>4.797954e+06</td>\n",
       "    </tr>\n",
       "    <tr>\n",
       "      <th>7309</th>\n",
       "      <td>Lagos</td>\n",
       "      <td>foreign</td>\n",
       "      <td>52.0</td>\n",
       "      <td>2.0</td>\n",
       "      <td>Lexus</td>\n",
       "      <td>ES 350</td>\n",
       "      <td>Automatic</td>\n",
       "      <td>10.0</td>\n",
       "      <td>5515000.0</td>\n",
       "      <td>4.620016e+06</td>\n",
       "      <td>7.623499e+06</td>\n",
       "      <td>5.678931e+06</td>\n",
       "      <td>4.706876e+06</td>\n",
       "    </tr>\n",
       "    <tr>\n",
       "      <th>3444</th>\n",
       "      <td>Lagos</td>\n",
       "      <td>foreign</td>\n",
       "      <td>81566.0</td>\n",
       "      <td>2.0</td>\n",
       "      <td>Acura</td>\n",
       "      <td>MDX</td>\n",
       "      <td>Automatic</td>\n",
       "      <td>12.0</td>\n",
       "      <td>3645000.0</td>\n",
       "      <td>5.375370e+06</td>\n",
       "      <td>6.693754e+06</td>\n",
       "      <td>5.329475e+06</td>\n",
       "      <td>5.570000e+06</td>\n",
       "    </tr>\n",
       "    <tr>\n",
       "      <th>3069</th>\n",
       "      <td>Lagos</td>\n",
       "      <td>foreign</td>\n",
       "      <td>20000.0</td>\n",
       "      <td>2.0</td>\n",
       "      <td>Lexus</td>\n",
       "      <td>ES 350</td>\n",
       "      <td>Automatic</td>\n",
       "      <td>3.0</td>\n",
       "      <td>12665000.0</td>\n",
       "      <td>1.176032e+07</td>\n",
       "      <td>1.361676e+07</td>\n",
       "      <td>1.390311e+07</td>\n",
       "      <td>1.141817e+07</td>\n",
       "    </tr>\n",
       "  </tbody>\n",
       "</table>\n",
       "</div>"
      ],
      "text/plain": [
       "         city  History   Millage  Ratings           Make       Model  \\\n",
       "115     Lagos  foreign  100943.0      4.8  Mercedes-Benz      ML 350   \n",
       "12342   Lagos  foreign       0.0      2.0          Lexus      ES 300   \n",
       "13035   Lagos  foreign       0.0      2.0         Toyota      Sienna   \n",
       "4606    Lagos  foreign       0.0      2.0         Nissan  Pathfinder   \n",
       "15408   Lagos    local   75012.0      4.0     Mitsubishi      Lancer   \n",
       "8208    Lagos  foreign   96257.0      2.0         Toyota  Highlander   \n",
       "2614    Lagos  foreign   23541.0      2.0          Lexus      RX 350   \n",
       "5352   Ibadan  foreign       0.0      2.0         Toyota       Camry   \n",
       "6004    Lagos  foreign   80000.0      2.0         Toyota       Camry   \n",
       "15915   Lagos    local   84806.0      3.0         Nissan      Altima   \n",
       "376     Lagos  foreign  188971.0      4.6          Mazda     Tribute   \n",
       "1894    Lagos  foreign       0.0      2.0         Nissan       Quest   \n",
       "16747   Lagos    local  152900.0      4.0         Toyota       Camry   \n",
       "17345   Lagos  foreign  167437.0      2.0         Toyota  Highlander   \n",
       "9458    Lagos  foreign   72000.0      2.0         Toyota     Corolla   \n",
       "10102   Lagos  foreign       0.0      2.0         Toyota       Camry   \n",
       "4328    Lagos  foreign       0.0      2.0         Toyota       Camry   \n",
       "7309    Lagos  foreign      52.0      2.0          Lexus      ES 350   \n",
       "3444    Lagos  foreign   81566.0      2.0          Acura         MDX   \n",
       "3069    Lagos  foreign   20000.0      2.0          Lexus      ES 350   \n",
       "\n",
       "      Transmission   Age  real_price  predicted_price         upper  \\\n",
       "115      Automatic   7.0  12665000.0     1.227197e+07  1.207793e+07   \n",
       "12342    Automatic  12.0   4305000.0     3.791044e+06  6.345964e+06   \n",
       "13035    Automatic  17.0   2545000.0     2.356841e+06  3.016813e+06   \n",
       "4606     Automatic  17.0   1912500.0     2.064430e+06  3.087083e+06   \n",
       "15408    Automatic  12.0   1045000.0     2.531847e+06  8.632816e+06   \n",
       "8208     Automatic  12.0   4085000.0     4.325291e+06  6.972796e+06   \n",
       "2614     Automatic   7.0   9475000.0     9.635435e+06  1.141629e+07   \n",
       "5352     Automatic   9.0   3535000.0     3.639091e+06  7.820957e+06   \n",
       "6004     Automatic  13.0   3235000.0     2.846678e+06  5.263356e+06   \n",
       "15915    Automatic  12.0   2655000.0     2.067881e+06  7.930363e+06   \n",
       "376      Automatic  15.0   2257500.0     2.543975e+06  3.100420e+06   \n",
       "1894     Automatic   7.0   3465000.0     3.442686e+06  1.287548e+07   \n",
       "16747    Automatic  12.0   2101000.0     1.768906e+06  6.435048e+06   \n",
       "17345    Automatic  12.0   2700000.0     4.103022e+06  7.164349e+06   \n",
       "9458     Automatic  10.0   2545000.0     3.260800e+06  7.177832e+06   \n",
       "10102    Automatic   7.0   4965000.0     5.323313e+06  9.161861e+06   \n",
       "4328     Automatic   8.0   4965000.0     4.814415e+06  8.975545e+06   \n",
       "7309     Automatic  10.0   5515000.0     4.620016e+06  7.623499e+06   \n",
       "3444     Automatic  12.0   3645000.0     5.375370e+06  6.693754e+06   \n",
       "3069     Automatic   3.0  12665000.0     1.176032e+07  1.361676e+07   \n",
       "\n",
       "              lower           mid  \n",
       "115    1.206669e+07  1.241497e+07  \n",
       "12342  4.603749e+06  3.800472e+06  \n",
       "13035  2.697868e+06  2.338823e+06  \n",
       "4606   2.770339e+06  2.006494e+06  \n",
       "15408  6.287830e+06  2.563705e+06  \n",
       "8208   6.371933e+06  4.341298e+06  \n",
       "2614   1.134777e+07  9.689620e+06  \n",
       "5352   4.966660e+06  3.538161e+06  \n",
       "6004   4.184788e+06  2.955971e+06  \n",
       "15915  5.951758e+06  2.447738e+06  \n",
       "376    3.288999e+06  2.639467e+06  \n",
       "1894   9.392145e+06  3.989699e+06  \n",
       "16747  3.892070e+06  1.543710e+06  \n",
       "17345  6.199829e+06  4.270581e+06  \n",
       "9458   5.679802e+06  3.087257e+06  \n",
       "10102  6.848009e+06  5.307388e+06  \n",
       "4328   5.946541e+06  4.797954e+06  \n",
       "7309   5.678931e+06  4.706876e+06  \n",
       "3444   5.329475e+06  5.570000e+06  \n",
       "3069   1.390311e+07  1.141817e+07  "
      ]
     },
     "execution_count": 52,
     "metadata": {},
     "output_type": "execute_result"
    }
   ],
   "source": [
    "results[['upper','lower','mid']] = predictions[['upper','lower','mid']]*1000000\n",
    "\n",
    "results.tail(20)"
   ]
  },
  {
   "cell_type": "code",
   "execution_count": 83,
   "metadata": {},
   "outputs": [
    {
     "data": {
      "image/png": "[encoded data removed]",
      "text/plain": [
       "<Figure size 720x360 with 1 Axes>"
      ]
     },
     "metadata": {
      "needs_background": "light"
     },
     "output_type": "display_data"
    }
   ],
   "source": [
    "make = 'Toyota'\n",
    "city = 'Ibadan'\n",
    "plt.figure(figsize=(10,5))\n",
    "df[(df.Make == make ) & (df.city == city )].Price.plot.hist(grid=False,bins=20)\n",
    "plt.title(\"{} cars in {} typically go for\".format(make,city))\n",
    "plt.show()"
   ]
  },
  {
   "cell_type": "code",
   "execution_count": 84,
   "metadata": {},
   "outputs": [
    {
     "data": {
      "image/png": "[encoded data removed]",
      "text/plain": [
       "<Figure size 720x360 with 1 Axes>"
      ]
     },
     "metadata": {
      "needs_background": "light"
     },
     "output_type": "display_data"
    }
   ],
   "source": [
    "plt.figure(figsize=(10,5))\n",
    "df[(df.Age >= 5) & (df.Age <= 9)].Price.plot.hist(bins=20)\n",
    "plt.title(\"cars within the age of 5 and 9 typically go for\")\n",
    "plt.show()"
   ]
  },
  {
   "cell_type": "code",
   "execution_count": 52,
   "metadata": {},
   "outputs": [
    {
     "data": {
      "text/plain": [
       "XGBRegressor(learning_rate=0.08, max_depth=6, n_estimators=800,\n",
       "             objective='reg:squarederror')"
      ]
     },
     "execution_count": 52,
     "metadata": {},
     "output_type": "execute_result"
    }
   ],
   "source": [
    "#fit model on complete dataset\n",
    "X = pd.concat([X_train,X_test])\n",
    "\n",
    "y = pd.concat([y_train,y_test])\n",
    "\n",
    "xgbr.fit(X,y)"
   ]
  },
  {
   "cell_type": "code",
   "execution_count": 53,
   "metadata": {},
   "outputs": [],
   "source": [
    "# save the model to disk\n",
    "import pickle\n",
    "\n",
    "filename = 'model.pkl'\n",
    "pickle.dump(xgbr, open(filename, 'wb'))"
   ]
  },
  {
   "cell_type": "code",
   "execution_count": null,
   "metadata": {},
   "outputs": [],
   "source": []
  }
 ],
 "metadata": {
  "kernelspec": {
   "display_name": "Python 3",
   "language": "python",
   "name": "python3"
  },
  "language_info": {
   "codemirror_mode": {
    "name": "ipython",
    "version": 3
   },
   "file_extension": ".py",
   "mimetype": "text/x-python",
   "name": "python",
   "nbconvert_exporter": "python",
   "pygments_lexer": "ipython3",
   "version": "3.6.9"
  }
 },
 "nbformat": 4,
 "nbformat_minor": 4
}
