{
 "cells": [
  {
   "cell_type": "code",
   "execution_count": 1,
   "metadata": {},
   "outputs": [],
   "source": [
    "#import libraries\n",
    "import numpy as np \n",
    "import pandas as pd\n",
    "import seaborn as sns\n",
    "import matplotlib.pyplot as plt\n",
    "import category_encoders as ce\n",
    "\n",
    "#ignore warnings\n",
    "import warnings\n",
    "warnings.filterwarnings('ignore')"
   ]
  },
  {
   "cell_type": "code",
   "execution_count": 2,
   "metadata": {},
   "outputs": [
    {
     "data": {
      "text/html": [
       "<div>\n",
       "<style scoped>\n",
       "    .dataframe tbody tr th:only-of-type {\n",
       "        vertical-align: middle;\n",
       "    }\n",
       "\n",
       "    .dataframe tbody tr th {\n",
       "        vertical-align: top;\n",
       "    }\n",
       "\n",
       "    .dataframe thead th {\n",
       "        text-align: right;\n",
       "    }\n",
       "</style>\n",
       "<table border=\"1\" class=\"dataframe\">\n",
       "  <thead>\n",
       "    <tr style=\"text-align: right;\">\n",
       "      <th></th>\n",
       "      <th>Price</th>\n",
       "      <th>city</th>\n",
       "      <th>History</th>\n",
       "      <th>Millage</th>\n",
       "      <th>Ratings</th>\n",
       "      <th>Year</th>\n",
       "      <th>Make</th>\n",
       "      <th>Model</th>\n",
       "      <th>Transmission</th>\n",
       "      <th>Age</th>\n",
       "    </tr>\n",
       "  </thead>\n",
       "  <tbody>\n",
       "    <tr>\n",
       "      <th>0</th>\n",
       "      <td>4965000.0</td>\n",
       "      <td>Abia</td>\n",
       "      <td>foreign</td>\n",
       "      <td>149232.0</td>\n",
       "      <td>4.7</td>\n",
       "      <td>2015.0</td>\n",
       "      <td>Honda</td>\n",
       "      <td>Accord</td>\n",
       "      <td>Automatic</td>\n",
       "      <td>5.0</td>\n",
       "    </tr>\n",
       "    <tr>\n",
       "      <th>1</th>\n",
       "      <td>1280000.0</td>\n",
       "      <td>Accra</td>\n",
       "      <td>local</td>\n",
       "      <td>145078.0</td>\n",
       "      <td>4.4</td>\n",
       "      <td>2005.0</td>\n",
       "      <td>Toyota</td>\n",
       "      <td>Corolla</td>\n",
       "      <td>Automatic</td>\n",
       "      <td>15.0</td>\n",
       "    </tr>\n",
       "    <tr>\n",
       "      <th>2</th>\n",
       "      <td>1280000.0</td>\n",
       "      <td>Accra</td>\n",
       "      <td>local</td>\n",
       "      <td>91691.0</td>\n",
       "      <td>4.6</td>\n",
       "      <td>2008.0</td>\n",
       "      <td>Toyota</td>\n",
       "      <td>Corolla</td>\n",
       "      <td>Automatic</td>\n",
       "      <td>12.0</td>\n",
       "    </tr>\n",
       "    <tr>\n",
       "      <th>3</th>\n",
       "      <td>1567500.0</td>\n",
       "      <td>Lagos</td>\n",
       "      <td>local</td>\n",
       "      <td>234797.0</td>\n",
       "      <td>4.5</td>\n",
       "      <td>2004.0</td>\n",
       "      <td>Toyota</td>\n",
       "      <td>Corolla</td>\n",
       "      <td>Automatic</td>\n",
       "      <td>16.0</td>\n",
       "    </tr>\n",
       "    <tr>\n",
       "      <th>4</th>\n",
       "      <td>6065000.0</td>\n",
       "      <td>Lagos</td>\n",
       "      <td>foreign</td>\n",
       "      <td>145678.0</td>\n",
       "      <td>4.8</td>\n",
       "      <td>2013.0</td>\n",
       "      <td>Hyundai</td>\n",
       "      <td>Azera</td>\n",
       "      <td>Automatic</td>\n",
       "      <td>7.0</td>\n",
       "    </tr>\n",
       "  </tbody>\n",
       "</table>\n",
       "</div>"
      ],
      "text/plain": [
       "       Price   city  History   Millage  Ratings    Year     Make    Model  \\\n",
       "0  4965000.0   Abia  foreign  149232.0      4.7  2015.0    Honda   Accord   \n",
       "1  1280000.0  Accra    local  145078.0      4.4  2005.0   Toyota  Corolla   \n",
       "2  1280000.0  Accra    local   91691.0      4.6  2008.0   Toyota  Corolla   \n",
       "3  1567500.0  Lagos    local  234797.0      4.5  2004.0   Toyota  Corolla   \n",
       "4  6065000.0  Lagos  foreign  145678.0      4.8  2013.0  Hyundai    Azera   \n",
       "\n",
       "  Transmission   Age  \n",
       "0    Automatic   5.0  \n",
       "1    Automatic  15.0  \n",
       "2    Automatic  12.0  \n",
       "3    Automatic  16.0  \n",
       "4    Automatic   7.0  "
      ]
     },
     "execution_count": 2,
     "metadata": {},
     "output_type": "execute_result"
    }
   ],
   "source": [
    "#import data\n",
    "df = pd.read_csv(\"./data/cleaned_data_with2.csv\",index_col=0)\n",
    "\n",
    "df.head()"
   ]
  },
  {
   "cell_type": "markdown",
   "metadata": {},
   "source": [
    "### Data Preparation"
   ]
  },
  {
   "cell_type": "code",
   "execution_count": 3,
   "metadata": {},
   "outputs": [],
   "source": [
    "df['Price'] = df['Price']/1000000 #reduce the Price values"
   ]
  },
  {
   "cell_type": "code",
   "execution_count": 4,
   "metadata": {},
   "outputs": [],
   "source": [
    "#drop the Year column\n",
    "df = df.drop(['Year'],axis=1)"
   ]
  },
  {
   "cell_type": "code",
   "execution_count": 5,
   "metadata": {},
   "outputs": [
    {
     "data": {
      "text/plain": [
       "(17227, 9)"
      ]
     },
     "execution_count": 5,
     "metadata": {},
     "output_type": "execute_result"
    }
   ],
   "source": [
    "df.shape"
   ]
  },
  {
   "cell_type": "code",
   "execution_count": 6,
   "metadata": {},
   "outputs": [
    {
     "data": {
      "text/html": [
       "<div>\n",
       "<style scoped>\n",
       "    .dataframe tbody tr th:only-of-type {\n",
       "        vertical-align: middle;\n",
       "    }\n",
       "\n",
       "    .dataframe tbody tr th {\n",
       "        vertical-align: top;\n",
       "    }\n",
       "\n",
       "    .dataframe thead th {\n",
       "        text-align: right;\n",
       "    }\n",
       "</style>\n",
       "<table border=\"1\" class=\"dataframe\">\n",
       "  <thead>\n",
       "    <tr style=\"text-align: right;\">\n",
       "      <th></th>\n",
       "      <th>Price</th>\n",
       "      <th>city</th>\n",
       "      <th>History</th>\n",
       "      <th>Millage</th>\n",
       "      <th>Ratings</th>\n",
       "      <th>Make</th>\n",
       "      <th>Model</th>\n",
       "      <th>Transmission</th>\n",
       "      <th>Age</th>\n",
       "    </tr>\n",
       "  </thead>\n",
       "  <tbody>\n",
       "    <tr>\n",
       "      <th>599</th>\n",
       "      <td>0.0</td>\n",
       "      <td>Lagos</td>\n",
       "      <td>foreign</td>\n",
       "      <td>10000.0</td>\n",
       "      <td>2.0</td>\n",
       "      <td>Toyota</td>\n",
       "      <td>RAV 4</td>\n",
       "      <td>Automatic</td>\n",
       "      <td>12.0</td>\n",
       "    </tr>\n",
       "    <tr>\n",
       "      <th>606</th>\n",
       "      <td>0.0</td>\n",
       "      <td>Lagos</td>\n",
       "      <td>foreign</td>\n",
       "      <td>9856.0</td>\n",
       "      <td>2.0</td>\n",
       "      <td>Honda</td>\n",
       "      <td>CR-V</td>\n",
       "      <td>Automatic</td>\n",
       "      <td>12.0</td>\n",
       "    </tr>\n",
       "    <tr>\n",
       "      <th>617</th>\n",
       "      <td>0.0</td>\n",
       "      <td>Lagos</td>\n",
       "      <td>foreign</td>\n",
       "      <td>0.0</td>\n",
       "      <td>2.0</td>\n",
       "      <td>Ford</td>\n",
       "      <td>Explorer</td>\n",
       "      <td>Automatic</td>\n",
       "      <td>4.0</td>\n",
       "    </tr>\n",
       "    <tr>\n",
       "      <th>618</th>\n",
       "      <td>0.0</td>\n",
       "      <td>Rivers</td>\n",
       "      <td>foreign</td>\n",
       "      <td>98000.0</td>\n",
       "      <td>2.0</td>\n",
       "      <td>Honda</td>\n",
       "      <td>CR-V</td>\n",
       "      <td>Automatic</td>\n",
       "      <td>12.0</td>\n",
       "    </tr>\n",
       "    <tr>\n",
       "      <th>621</th>\n",
       "      <td>0.0</td>\n",
       "      <td>Lagos</td>\n",
       "      <td>foreign</td>\n",
       "      <td>125425.0</td>\n",
       "      <td>2.0</td>\n",
       "      <td>Toyota</td>\n",
       "      <td>Camry</td>\n",
       "      <td>Automatic</td>\n",
       "      <td>12.0</td>\n",
       "    </tr>\n",
       "    <tr>\n",
       "      <th>...</th>\n",
       "      <td>...</td>\n",
       "      <td>...</td>\n",
       "      <td>...</td>\n",
       "      <td>...</td>\n",
       "      <td>...</td>\n",
       "      <td>...</td>\n",
       "      <td>...</td>\n",
       "      <td>...</td>\n",
       "      <td>...</td>\n",
       "    </tr>\n",
       "    <tr>\n",
       "      <th>14176</th>\n",
       "      <td>0.0</td>\n",
       "      <td>Lagos</td>\n",
       "      <td>foreign</td>\n",
       "      <td>92134.0</td>\n",
       "      <td>0.0</td>\n",
       "      <td>Mazda</td>\n",
       "      <td>Tribute</td>\n",
       "      <td>Manual</td>\n",
       "      <td>12.0</td>\n",
       "    </tr>\n",
       "    <tr>\n",
       "      <th>14177</th>\n",
       "      <td>0.0</td>\n",
       "      <td>Lagos</td>\n",
       "      <td>foreign</td>\n",
       "      <td>21344.0</td>\n",
       "      <td>0.0</td>\n",
       "      <td>Toyota</td>\n",
       "      <td>Corolla</td>\n",
       "      <td>Manual</td>\n",
       "      <td>14.0</td>\n",
       "    </tr>\n",
       "    <tr>\n",
       "      <th>14181</th>\n",
       "      <td>0.0</td>\n",
       "      <td>Lagos</td>\n",
       "      <td>foreign</td>\n",
       "      <td>153063.0</td>\n",
       "      <td>0.0</td>\n",
       "      <td>Toyota</td>\n",
       "      <td>Camry</td>\n",
       "      <td>Manual</td>\n",
       "      <td>23.0</td>\n",
       "    </tr>\n",
       "    <tr>\n",
       "      <th>14188</th>\n",
       "      <td>0.0</td>\n",
       "      <td>Lagos</td>\n",
       "      <td>foreign</td>\n",
       "      <td>0.0</td>\n",
       "      <td>0.0</td>\n",
       "      <td>Mercedes-Benz</td>\n",
       "      <td>E 350</td>\n",
       "      <td>Manual</td>\n",
       "      <td>7.0</td>\n",
       "    </tr>\n",
       "    <tr>\n",
       "      <th>14191</th>\n",
       "      <td>0.0</td>\n",
       "      <td>Lagos</td>\n",
       "      <td>foreign</td>\n",
       "      <td>123442.0</td>\n",
       "      <td>0.0</td>\n",
       "      <td>Lexus</td>\n",
       "      <td>RX 350</td>\n",
       "      <td>Manual</td>\n",
       "      <td>15.0</td>\n",
       "    </tr>\n",
       "  </tbody>\n",
       "</table>\n",
       "<p>2866 rows × 9 columns</p>\n",
       "</div>"
      ],
      "text/plain": [
       "       Price    city  History   Millage  Ratings           Make     Model  \\\n",
       "599      0.0   Lagos  foreign   10000.0      2.0         Toyota     RAV 4   \n",
       "606      0.0   Lagos  foreign    9856.0      2.0          Honda      CR-V   \n",
       "617      0.0   Lagos  foreign       0.0      2.0           Ford  Explorer   \n",
       "618      0.0  Rivers  foreign   98000.0      2.0          Honda      CR-V   \n",
       "621      0.0   Lagos  foreign  125425.0      2.0         Toyota     Camry   \n",
       "...      ...     ...      ...       ...      ...            ...       ...   \n",
       "14176    0.0   Lagos  foreign   92134.0      0.0          Mazda   Tribute   \n",
       "14177    0.0   Lagos  foreign   21344.0      0.0         Toyota   Corolla   \n",
       "14181    0.0   Lagos  foreign  153063.0      0.0         Toyota     Camry   \n",
       "14188    0.0   Lagos  foreign       0.0      0.0  Mercedes-Benz     E 350   \n",
       "14191    0.0   Lagos  foreign  123442.0      0.0          Lexus    RX 350   \n",
       "\n",
       "      Transmission   Age  \n",
       "599      Automatic  12.0  \n",
       "606      Automatic  12.0  \n",
       "617      Automatic   4.0  \n",
       "618      Automatic  12.0  \n",
       "621      Automatic  12.0  \n",
       "...            ...   ...  \n",
       "14176       Manual  12.0  \n",
       "14177       Manual  14.0  \n",
       "14181       Manual  23.0  \n",
       "14188       Manual   7.0  \n",
       "14191       Manual  15.0  \n",
       "\n",
       "[2866 rows x 9 columns]"
      ]
     },
     "execution_count": 6,
     "metadata": {},
     "output_type": "execute_result"
    }
   ],
   "source": [
    "df[df.Price <= 0]"
   ]
  },
  {
   "cell_type": "code",
   "execution_count": 7,
   "metadata": {},
   "outputs": [
    {
     "data": {
      "text/plain": [
       "<matplotlib.axes._subplots.AxesSubplot at 0x7fb67546b320>"
      ]
     },
     "execution_count": 7,
     "metadata": {},
     "output_type": "execute_result"
    },
    {
     "data": {
      "image/png": "[encoded data removed]",
      "text/plain": [
       "<Figure size 432x288 with 1 Axes>"
      ]
     },
     "metadata": {
      "needs_background": "light"
     },
     "output_type": "display_data"
    }
   ],
   "source": [
    "#find outliers!\n",
    "sns.boxplot(x=df['Price'])"
   ]
  },
  {
   "cell_type": "code",
   "execution_count": 8,
   "metadata": {},
   "outputs": [
    {
     "data": {
      "text/html": [
       "<div>\n",
       "<style scoped>\n",
       "    .dataframe tbody tr th:only-of-type {\n",
       "        vertical-align: middle;\n",
       "    }\n",
       "\n",
       "    .dataframe tbody tr th {\n",
       "        vertical-align: top;\n",
       "    }\n",
       "\n",
       "    .dataframe thead th {\n",
       "        text-align: right;\n",
       "    }\n",
       "</style>\n",
       "<table border=\"1\" class=\"dataframe\">\n",
       "  <thead>\n",
       "    <tr style=\"text-align: right;\">\n",
       "      <th></th>\n",
       "      <th>Price</th>\n",
       "      <th>city</th>\n",
       "      <th>History</th>\n",
       "      <th>Millage</th>\n",
       "      <th>Ratings</th>\n",
       "      <th>Make</th>\n",
       "      <th>Model</th>\n",
       "      <th>Transmission</th>\n",
       "      <th>Age</th>\n",
       "    </tr>\n",
       "  </thead>\n",
       "  <tbody>\n",
       "    <tr>\n",
       "      <th>32</th>\n",
       "      <td>30.265</td>\n",
       "      <td>Lagos</td>\n",
       "      <td>foreign</td>\n",
       "      <td>76794.0</td>\n",
       "      <td>4.9</td>\n",
       "      <td>Lexus</td>\n",
       "      <td>LX 570</td>\n",
       "      <td>Automatic</td>\n",
       "      <td>3.0</td>\n",
       "    </tr>\n",
       "    <tr>\n",
       "      <th>52</th>\n",
       "      <td>23.115</td>\n",
       "      <td>Lagos</td>\n",
       "      <td>foreign</td>\n",
       "      <td>14464.0</td>\n",
       "      <td>5.0</td>\n",
       "      <td>Lexus</td>\n",
       "      <td>RX 350</td>\n",
       "      <td>Automatic</td>\n",
       "      <td>1.0</td>\n",
       "    </tr>\n",
       "    <tr>\n",
       "      <th>53</th>\n",
       "      <td>49.515</td>\n",
       "      <td>Lagos</td>\n",
       "      <td>foreign</td>\n",
       "      <td>14855.0</td>\n",
       "      <td>5.0</td>\n",
       "      <td>Land</td>\n",
       "      <td>Rover Range Rover Velar</td>\n",
       "      <td>Automatic</td>\n",
       "      <td>2.0</td>\n",
       "    </tr>\n",
       "    <tr>\n",
       "      <th>61</th>\n",
       "      <td>19.265</td>\n",
       "      <td>Lagos</td>\n",
       "      <td>foreign</td>\n",
       "      <td>19444.0</td>\n",
       "      <td>5.0</td>\n",
       "      <td>Lexus</td>\n",
       "      <td>RX 350</td>\n",
       "      <td>Automatic</td>\n",
       "      <td>4.0</td>\n",
       "    </tr>\n",
       "    <tr>\n",
       "      <th>128</th>\n",
       "      <td>55.015</td>\n",
       "      <td>Lagos</td>\n",
       "      <td>foreign</td>\n",
       "      <td>18297.0</td>\n",
       "      <td>4.7</td>\n",
       "      <td>Mercedes-Benz</td>\n",
       "      <td>G 63 AMG</td>\n",
       "      <td>Automatic</td>\n",
       "      <td>4.0</td>\n",
       "    </tr>\n",
       "    <tr>\n",
       "      <th>...</th>\n",
       "      <td>...</td>\n",
       "      <td>...</td>\n",
       "      <td>...</td>\n",
       "      <td>...</td>\n",
       "      <td>...</td>\n",
       "      <td>...</td>\n",
       "      <td>...</td>\n",
       "      <td>...</td>\n",
       "      <td>...</td>\n",
       "    </tr>\n",
       "    <tr>\n",
       "      <th>17439</th>\n",
       "      <td>36.000</td>\n",
       "      <td>Lagos</td>\n",
       "      <td>foreign</td>\n",
       "      <td>49987.0</td>\n",
       "      <td>3.0</td>\n",
       "      <td>Rover</td>\n",
       "      <td>Range Rover Vogue</td>\n",
       "      <td>Automatic</td>\n",
       "      <td>12.0</td>\n",
       "    </tr>\n",
       "    <tr>\n",
       "      <th>17442</th>\n",
       "      <td>29.000</td>\n",
       "      <td>Lagos</td>\n",
       "      <td>foreign</td>\n",
       "      <td>23570.0</td>\n",
       "      <td>2.0</td>\n",
       "      <td>Land</td>\n",
       "      <td>Rover Range Rover Sport</td>\n",
       "      <td>Automatic</td>\n",
       "      <td>12.0</td>\n",
       "    </tr>\n",
       "    <tr>\n",
       "      <th>17443</th>\n",
       "      <td>16.000</td>\n",
       "      <td>Lagos</td>\n",
       "      <td>foreign</td>\n",
       "      <td>3931.0</td>\n",
       "      <td>1.0</td>\n",
       "      <td>Toyota</td>\n",
       "      <td>Camry</td>\n",
       "      <td>Automatic</td>\n",
       "      <td>12.0</td>\n",
       "    </tr>\n",
       "    <tr>\n",
       "      <th>17457</th>\n",
       "      <td>16.500</td>\n",
       "      <td>Lagos</td>\n",
       "      <td>foreign</td>\n",
       "      <td>89582.0</td>\n",
       "      <td>3.0</td>\n",
       "      <td>Lexus</td>\n",
       "      <td>Lx</td>\n",
       "      <td>Automatic</td>\n",
       "      <td>12.0</td>\n",
       "    </tr>\n",
       "    <tr>\n",
       "      <th>17460</th>\n",
       "      <td>22.000</td>\n",
       "      <td>Lagos</td>\n",
       "      <td>foreign</td>\n",
       "      <td>75259.0</td>\n",
       "      <td>3.0</td>\n",
       "      <td>Mercedes-Benz</td>\n",
       "      <td>Gl550</td>\n",
       "      <td>Automatic</td>\n",
       "      <td>12.0</td>\n",
       "    </tr>\n",
       "  </tbody>\n",
       "</table>\n",
       "<p>1072 rows × 9 columns</p>\n",
       "</div>"
      ],
      "text/plain": [
       "        Price   city  History  Millage  Ratings           Make  \\\n",
       "32     30.265  Lagos  foreign  76794.0      4.9          Lexus   \n",
       "52     23.115  Lagos  foreign  14464.0      5.0          Lexus   \n",
       "53     49.515  Lagos  foreign  14855.0      5.0           Land   \n",
       "61     19.265  Lagos  foreign  19444.0      5.0          Lexus   \n",
       "128    55.015  Lagos  foreign  18297.0      4.7  Mercedes-Benz   \n",
       "...       ...    ...      ...      ...      ...            ...   \n",
       "17439  36.000  Lagos  foreign  49987.0      3.0          Rover   \n",
       "17442  29.000  Lagos  foreign  23570.0      2.0           Land   \n",
       "17443  16.000  Lagos  foreign   3931.0      1.0         Toyota   \n",
       "17457  16.500  Lagos  foreign  89582.0      3.0          Lexus   \n",
       "17460  22.000  Lagos  foreign  75259.0      3.0  Mercedes-Benz   \n",
       "\n",
       "                         Model Transmission   Age  \n",
       "32                      LX 570    Automatic   3.0  \n",
       "52                      RX 350    Automatic   1.0  \n",
       "53     Rover Range Rover Velar    Automatic   2.0  \n",
       "61                      RX 350    Automatic   4.0  \n",
       "128                   G 63 AMG    Automatic   4.0  \n",
       "...                        ...          ...   ...  \n",
       "17439        Range Rover Vogue    Automatic  12.0  \n",
       "17442  Rover Range Rover Sport    Automatic  12.0  \n",
       "17443                    Camry    Automatic  12.0  \n",
       "17457                       Lx    Automatic  12.0  \n",
       "17460                    Gl550    Automatic  12.0  \n",
       "\n",
       "[1072 rows x 9 columns]"
      ]
     },
     "execution_count": 8,
     "metadata": {},
     "output_type": "execute_result"
    }
   ],
   "source": [
    "#check for outliers size\n",
    "\n",
    "df[df.Price > 15]"
   ]
  },
  {
   "cell_type": "code",
   "execution_count": 9,
   "metadata": {},
   "outputs": [],
   "source": [
    "#drop all columns where Price is zero and greater than 50(million)\n",
    "df = df.drop(df[df.Price > 15].index)\n",
    "\n",
    "df = df.drop(df[df.Price <= 0].index)"
   ]
  },
  {
   "cell_type": "code",
   "execution_count": 10,
   "metadata": {},
   "outputs": [
    {
     "data": {
      "text/plain": [
       "(13289, 9)"
      ]
     },
     "execution_count": 10,
     "metadata": {},
     "output_type": "execute_result"
    }
   ],
   "source": [
    "df.shape"
   ]
  },
  {
   "cell_type": "code",
   "execution_count": 11,
   "metadata": {},
   "outputs": [
    {
     "data": {
      "text/plain": [
       "<matplotlib.axes._subplots.AxesSubplot at 0x7fb6747b2780>"
      ]
     },
     "execution_count": 11,
     "metadata": {},
     "output_type": "execute_result"
    },
    {
     "data": {
      "image/png": "[encoded data removed]",
      "text/plain": [
       "<Figure size 432x288 with 1 Axes>"
      ]
     },
     "metadata": {
      "needs_background": "light"
     },
     "output_type": "display_data"
    }
   ],
   "source": [
    "#find outliers!\n",
    "sns.boxplot(x=df['Price'])"
   ]
  },
  {
   "cell_type": "code",
   "execution_count": 12,
   "metadata": {},
   "outputs": [
    {
     "data": {
      "text/plain": [
       "<matplotlib.axes._subplots.AxesSubplot at 0x7fb674a24160>"
      ]
     },
     "execution_count": 12,
     "metadata": {},
     "output_type": "execute_result"
    },
    {
     "data": {
      "image/png": "[encoded data removed]",
      "text/plain": [
       "<Figure size 432x288 with 1 Axes>"
      ]
     },
     "metadata": {
      "needs_background": "light"
     },
     "output_type": "display_data"
    }
   ],
   "source": [
    "#check out the Millage column\n",
    "sns.boxplot(x=df['Millage'])"
   ]
  },
  {
   "cell_type": "code",
   "execution_count": 13,
   "metadata": {},
   "outputs": [
    {
     "data": {
      "text/plain": [
       "(1044, 9)"
      ]
     },
     "execution_count": 13,
     "metadata": {},
     "output_type": "execute_result"
    }
   ],
   "source": [
    "#check for outliers size\n",
    "\n",
    "df[df.Millage > 200000].shape"
   ]
  },
  {
   "cell_type": "code",
   "execution_count": 14,
   "metadata": {},
   "outputs": [],
   "source": [
    "#drop all columns with Millage more than four hundred thousand km\n",
    "df = df.drop(df[df.Millage > 200000].index)"
   ]
  },
  {
   "cell_type": "code",
   "execution_count": 15,
   "metadata": {},
   "outputs": [
    {
     "data": {
      "text/plain": [
       "(12245, 9)"
      ]
     },
     "execution_count": 15,
     "metadata": {},
     "output_type": "execute_result"
    }
   ],
   "source": [
    "df.shape"
   ]
  },
  {
   "cell_type": "code",
   "execution_count": 16,
   "metadata": {},
   "outputs": [
    {
     "data": {
      "text/html": [
       "<div>\n",
       "<style scoped>\n",
       "    .dataframe tbody tr th:only-of-type {\n",
       "        vertical-align: middle;\n",
       "    }\n",
       "\n",
       "    .dataframe tbody tr th {\n",
       "        vertical-align: top;\n",
       "    }\n",
       "\n",
       "    .dataframe thead th {\n",
       "        text-align: right;\n",
       "    }\n",
       "</style>\n",
       "<table border=\"1\" class=\"dataframe\">\n",
       "  <thead>\n",
       "    <tr style=\"text-align: right;\">\n",
       "      <th></th>\n",
       "      <th>Millage</th>\n",
       "      <th>Ratings</th>\n",
       "      <th>Age</th>\n",
       "    </tr>\n",
       "  </thead>\n",
       "  <tbody>\n",
       "    <tr>\n",
       "      <th>count</th>\n",
       "      <td>9183.000000</td>\n",
       "      <td>9183.000000</td>\n",
       "      <td>9183.000000</td>\n",
       "    </tr>\n",
       "    <tr>\n",
       "      <th>mean</th>\n",
       "      <td>51832.499292</td>\n",
       "      <td>2.378722</td>\n",
       "      <td>11.386366</td>\n",
       "    </tr>\n",
       "    <tr>\n",
       "      <th>std</th>\n",
       "      <td>54417.252163</td>\n",
       "      <td>0.965044</td>\n",
       "      <td>3.606203</td>\n",
       "    </tr>\n",
       "    <tr>\n",
       "      <th>min</th>\n",
       "      <td>0.000000</td>\n",
       "      <td>0.000000</td>\n",
       "      <td>0.000000</td>\n",
       "    </tr>\n",
       "    <tr>\n",
       "      <th>25%</th>\n",
       "      <td>0.000000</td>\n",
       "      <td>2.000000</td>\n",
       "      <td>9.000000</td>\n",
       "    </tr>\n",
       "    <tr>\n",
       "      <th>50%</th>\n",
       "      <td>48000.000000</td>\n",
       "      <td>2.000000</td>\n",
       "      <td>12.000000</td>\n",
       "    </tr>\n",
       "    <tr>\n",
       "      <th>75%</th>\n",
       "      <td>87449.000000</td>\n",
       "      <td>2.000000</td>\n",
       "      <td>13.000000</td>\n",
       "    </tr>\n",
       "    <tr>\n",
       "      <th>max</th>\n",
       "      <td>200000.000000</td>\n",
       "      <td>5.000000</td>\n",
       "      <td>50.000000</td>\n",
       "    </tr>\n",
       "  </tbody>\n",
       "</table>\n",
       "</div>"
      ],
      "text/plain": [
       "             Millage      Ratings          Age\n",
       "count    9183.000000  9183.000000  9183.000000\n",
       "mean    51832.499292     2.378722    11.386366\n",
       "std     54417.252163     0.965044     3.606203\n",
       "min         0.000000     0.000000     0.000000\n",
       "25%         0.000000     2.000000     9.000000\n",
       "50%     48000.000000     2.000000    12.000000\n",
       "75%     87449.000000     2.000000    13.000000\n",
       "max    200000.000000     5.000000    50.000000"
      ]
     },
     "execution_count": 16,
     "metadata": {},
     "output_type": "execute_result"
    }
   ],
   "source": [
    "#split the data\n",
    "X = df.drop(['Price'], axis=1)\n",
    "y = df['Price']  #target variable\n",
    "\n",
    "from sklearn.model_selection import train_test_split\n",
    "\n",
    "X_train, X_test, y_train, y_test = train_test_split(X, y, test_size=0.25, random_state=42,shuffle=True)\n",
    "X_train.describe()"
   ]
  },
  {
   "cell_type": "code",
   "execution_count": 17,
   "metadata": {},
   "outputs": [],
   "source": [
    "#to display results\n",
    "results = X_test"
   ]
  },
  {
   "cell_type": "code",
   "execution_count": 18,
   "metadata": {},
   "outputs": [
    {
     "data": {
      "text/plain": [
       "<matplotlib.axes._subplots.AxesSubplot at 0x7fb674e035f8>"
      ]
     },
     "execution_count": 18,
     "metadata": {},
     "output_type": "execute_result"
    },
    {
     "data": {
      "image/png": "[encoded data removed]",
      "text/plain": [
       "<Figure size 432x288 with 2 Axes>"
      ]
     },
     "metadata": {
      "needs_background": "light"
     },
     "output_type": "display_data"
    }
   ],
   "source": [
    "sns.heatmap(df.corr(),annot=True)"
   ]
  },
  {
   "cell_type": "code",
   "execution_count": 19,
   "metadata": {},
   "outputs": [],
   "source": [
    "# data normalization with sklearn\n",
    "from sklearn.preprocessing import MinMaxScaler\n",
    "\n",
    "norm_cols = ['Millage','Ratings','Age']\n",
    "\n",
    "# fit scaler on training data\n",
    "norm = MinMaxScaler().fit(X_train[norm_cols])\n",
    "\n",
    "# transform training data\n",
    "X_train.loc[:,norm_cols] = norm.transform(X_train[norm_cols])\n",
    "\n",
    "# transform testing data\n",
    "X_test.loc[:,norm_cols] = norm.transform(X_test[norm_cols])"
   ]
  },
  {
   "cell_type": "code",
   "execution_count": 20,
   "metadata": {},
   "outputs": [],
   "source": [
    "#transform training data\n",
    "#y_train=(y_train-y_train.mean())/y_train.std()\n",
    "\n",
    "#y_test = norm_y.transform(y_test)\n",
    "#y_test=(y_test-y_test.mean())/y_test.std()"
   ]
  },
  {
   "cell_type": "code",
   "execution_count": 21,
   "metadata": {},
   "outputs": [
    {
     "data": {
      "text/html": [
       "<div>\n",
       "<style scoped>\n",
       "    .dataframe tbody tr th:only-of-type {\n",
       "        vertical-align: middle;\n",
       "    }\n",
       "\n",
       "    .dataframe tbody tr th {\n",
       "        vertical-align: top;\n",
       "    }\n",
       "\n",
       "    .dataframe thead th {\n",
       "        text-align: right;\n",
       "    }\n",
       "</style>\n",
       "<table border=\"1\" class=\"dataframe\">\n",
       "  <thead>\n",
       "    <tr style=\"text-align: right;\">\n",
       "      <th></th>\n",
       "      <th>Millage</th>\n",
       "      <th>Ratings</th>\n",
       "      <th>Age</th>\n",
       "    </tr>\n",
       "  </thead>\n",
       "  <tbody>\n",
       "    <tr>\n",
       "      <th>count</th>\n",
       "      <td>9183.000000</td>\n",
       "      <td>9183.000000</td>\n",
       "      <td>9183.000000</td>\n",
       "    </tr>\n",
       "    <tr>\n",
       "      <th>mean</th>\n",
       "      <td>0.259162</td>\n",
       "      <td>0.475744</td>\n",
       "      <td>0.227727</td>\n",
       "    </tr>\n",
       "    <tr>\n",
       "      <th>std</th>\n",
       "      <td>0.272086</td>\n",
       "      <td>0.193009</td>\n",
       "      <td>0.072124</td>\n",
       "    </tr>\n",
       "    <tr>\n",
       "      <th>min</th>\n",
       "      <td>0.000000</td>\n",
       "      <td>0.000000</td>\n",
       "      <td>0.000000</td>\n",
       "    </tr>\n",
       "    <tr>\n",
       "      <th>25%</th>\n",
       "      <td>0.000000</td>\n",
       "      <td>0.400000</td>\n",
       "      <td>0.180000</td>\n",
       "    </tr>\n",
       "    <tr>\n",
       "      <th>50%</th>\n",
       "      <td>0.240000</td>\n",
       "      <td>0.400000</td>\n",
       "      <td>0.240000</td>\n",
       "    </tr>\n",
       "    <tr>\n",
       "      <th>75%</th>\n",
       "      <td>0.437245</td>\n",
       "      <td>0.400000</td>\n",
       "      <td>0.260000</td>\n",
       "    </tr>\n",
       "    <tr>\n",
       "      <th>max</th>\n",
       "      <td>1.000000</td>\n",
       "      <td>1.000000</td>\n",
       "      <td>1.000000</td>\n",
       "    </tr>\n",
       "  </tbody>\n",
       "</table>\n",
       "</div>"
      ],
      "text/plain": [
       "           Millage      Ratings          Age\n",
       "count  9183.000000  9183.000000  9183.000000\n",
       "mean      0.259162     0.475744     0.227727\n",
       "std       0.272086     0.193009     0.072124\n",
       "min       0.000000     0.000000     0.000000\n",
       "25%       0.000000     0.400000     0.180000\n",
       "50%       0.240000     0.400000     0.240000\n",
       "75%       0.437245     0.400000     0.260000\n",
       "max       1.000000     1.000000     1.000000"
      ]
     },
     "execution_count": 21,
     "metadata": {},
     "output_type": "execute_result"
    }
   ],
   "source": [
    "X_train.describe()"
   ]
  },
  {
   "cell_type": "code",
   "execution_count": 22,
   "metadata": {},
   "outputs": [
    {
     "data": {
      "text/plain": [
       "(3062, 8)"
      ]
     },
     "execution_count": 22,
     "metadata": {},
     "output_type": "execute_result"
    }
   ],
   "source": [
    "X_test.shape"
   ]
  },
  {
   "cell_type": "code",
   "execution_count": 23,
   "metadata": {},
   "outputs": [],
   "source": [
    "#One Hot encoding for History and Transmission\n",
    "\n",
    "ohe = ce.OneHotEncoder(cols=['History','Transmission'])  #instantiate the one-hot encoder\n",
    "\n",
    "X_train = ohe.fit_transform(X_train)  #fit and transform ohe\n",
    "\n",
    "X_test = ohe.transform(X_test)"
   ]
  },
  {
   "cell_type": "code",
   "execution_count": 24,
   "metadata": {},
   "outputs": [],
   "source": [
    "# encodings for city, Make and Model\n",
    "\n",
    "base_encoder = ce.BaseNEncoder(cols=['city','Make','Model'],base=3)\n",
    "\n",
    "# fit and transform and you will get the encoded data\n",
    "X_train = base_encoder.fit_transform(X_train)\n",
    "\n",
    "X_test = base_encoder.transform(X_test)"
   ]
  },
  {
   "cell_type": "code",
   "execution_count": 25,
   "metadata": {},
   "outputs": [
    {
     "data": {
      "text/plain": [
       "(9183, 24)"
      ]
     },
     "execution_count": 25,
     "metadata": {},
     "output_type": "execute_result"
    }
   ],
   "source": [
    "X_train.shape"
   ]
  },
  {
   "cell_type": "markdown",
   "metadata": {},
   "source": [
    "### Model Development"
   ]
  },
  {
   "cell_type": "markdown",
   "metadata": {},
   "source": [
    "##### Linear Regression"
   ]
  },
  {
   "cell_type": "code",
   "execution_count": 26,
   "metadata": {},
   "outputs": [
    {
     "data": {
      "text/plain": [
       "LinearRegression()"
      ]
     },
     "execution_count": 26,
     "metadata": {},
     "output_type": "execute_result"
    }
   ],
   "source": [
    "from sklearn.linear_model import LinearRegression\n",
    "from sklearn.metrics import mean_absolute_error,r2_score\n",
    "\n",
    "lr = LinearRegression() \n",
    "lr.fit(X_train,y_train)"
   ]
  },
  {
   "cell_type": "code",
   "execution_count": 27,
   "metadata": {},
   "outputs": [
    {
     "name": "stdout",
     "output_type": "stream",
     "text": [
      "The mean_absolute error is 1.5026413038767288\n",
      "The r2_error is 0.5099961039939165\n"
     ]
    }
   ],
   "source": [
    "y_train_lr = lr.predict(X_train)\n",
    "\n",
    "print('The mean_absolute error is {}'.format(mean_absolute_error(y_train,y_train_lr)))\n",
    "print('The r2_error is {}'.format(r2_score(y_train,y_train_lr)))"
   ]
  },
  {
   "cell_type": "code",
   "execution_count": 28,
   "metadata": {},
   "outputs": [
    {
     "name": "stdout",
     "output_type": "stream",
     "text": [
      "The mean_absolute error is 1.4911825976894186\n",
      "The r2_error is 0.4723261530947981\n"
     ]
    }
   ],
   "source": [
    "y_test_lr = lr.predict(X_test)\n",
    "\n",
    "print('The mean_absolute error is {}'.format(mean_absolute_error(y_test,y_test_lr)))\n",
    "print('The r2_error is {}'.format(r2_score(y_test,y_test_lr)))"
   ]
  },
  {
   "cell_type": "markdown",
   "metadata": {},
   "source": [
    "##### K-Nearest Neigbours"
   ]
  },
  {
   "cell_type": "code",
   "execution_count": 29,
   "metadata": {},
   "outputs": [
    {
     "data": {
      "text/plain": [
       "KNeighborsRegressor(n_neighbors=3)"
      ]
     },
     "execution_count": 29,
     "metadata": {},
     "output_type": "execute_result"
    }
   ],
   "source": [
    "from sklearn.neighbors import KNeighborsRegressor\n",
    "\n",
    "knn = KNeighborsRegressor(n_neighbors=3)\n",
    "knn.fit(X_train,y_train)"
   ]
  },
  {
   "cell_type": "code",
   "execution_count": 30,
   "metadata": {},
   "outputs": [
    {
     "name": "stdout",
     "output_type": "stream",
     "text": [
      "The mean_absolute error for train is 0.713167946132346\n",
      "The r2_error for train is 0.8430341253679474\n"
     ]
    }
   ],
   "source": [
    "y_train_knn = knn.predict(X_train)\n",
    "\n",
    "print('The mean_absolute error for train is {}'.format(mean_absolute_error(y_train,y_train_knn)))\n",
    "print('The r2_error for train is {}'.format(r2_score(y_train,y_train_knn)))"
   ]
  },
  {
   "cell_type": "code",
   "execution_count": 31,
   "metadata": {},
   "outputs": [
    {
     "name": "stdout",
     "output_type": "stream",
     "text": [
      "The mean_absolute error is 1.0268764727846724\n",
      "The r2_error is 0.6468471432897968\n"
     ]
    }
   ],
   "source": [
    "y_test_knn = knn.predict(X_test)\n",
    "\n",
    "print('The mean_absolute error is {}'.format(mean_absolute_error(y_test,y_test_knn)))\n",
    "print('The r2_error is {}'.format(r2_score(y_test,y_test_knn)))"
   ]
  },
  {
   "cell_type": "markdown",
   "metadata": {},
   "source": [
    "##### Random Forest"
   ]
  },
  {
   "cell_type": "code",
   "execution_count": 32,
   "metadata": {},
   "outputs": [
    {
     "data": {
      "text/plain": [
       "RandomForestRegressor(max_depth=5, n_estimators=1000, n_jobs=-1,\n",
       "                      random_state=42)"
      ]
     },
     "execution_count": 32,
     "metadata": {},
     "output_type": "execute_result"
    }
   ],
   "source": [
    "from sklearn.ensemble import RandomForestRegressor,StackingRegressor\n",
    "\n",
    "rf = RandomForestRegressor(n_estimators= 1000, max_depth=5, random_state=42,n_jobs=-1,criterion='mse')\n",
    "rf.fit(X_train,y_train)"
   ]
  },
  {
   "cell_type": "code",
   "execution_count": 33,
   "metadata": {},
   "outputs": [
    {
     "name": "stdout",
     "output_type": "stream",
     "text": [
      "The mean_absolute error is 1.2208836656891897\n",
      "The r2_error is 0.6440413687317585\n"
     ]
    }
   ],
   "source": [
    "y_train_rf = rf.predict(X_train)\n",
    "\n",
    "print('The mean_absolute error is {}'.format(mean_absolute_error(y_train,y_train_rf)))\n",
    "print('The r2_error is {}'.format(r2_score(y_train,y_train_rf)))"
   ]
  },
  {
   "cell_type": "code",
   "execution_count": 34,
   "metadata": {},
   "outputs": [
    {
     "name": "stdout",
     "output_type": "stream",
     "text": [
      "The mean_absolute error is 1.2557086907626496\n",
      "The r2_error is 0.5873281892248117\n"
     ]
    }
   ],
   "source": [
    "y_test_rf = rf.predict(X_test)\n",
    "\n",
    "print('The mean_absolute error is {}'.format(mean_absolute_error(y_test,y_test_rf)))\n",
    "print('The r2_error is {}'.format(r2_score(y_test,y_test_rf)))"
   ]
  },
  {
   "cell_type": "markdown",
   "metadata": {},
   "source": [
    "##### Gradient Boosted Trees"
   ]
  },
  {
   "cell_type": "code",
   "execution_count": 35,
   "metadata": {},
   "outputs": [
    {
     "data": {
      "text/plain": [
       "XGBRegressor(max_depth=5, n_estimators=1000, objective='reg:squarederror')"
      ]
     },
     "execution_count": 35,
     "metadata": {},
     "output_type": "execute_result"
    }
   ],
   "source": [
    "import xgboost as xgb\n",
    "\n",
    "xgbr = xgb.XGBRegressor(max_depth=5,objective='reg:squarederror',learning_rate=0.1,\n",
    "                        n_estimators=1000,n_jobs=1) #xgboost\n",
    "xgbr.fit(X_train,y_train)"
   ]
  },
  {
   "cell_type": "code",
   "execution_count": 36,
   "metadata": {},
   "outputs": [
    {
     "name": "stdout",
     "output_type": "stream",
     "text": [
      "The mean_absolute error is 0.48452568411503605\n",
      "The r2_error is 0.9403551512926105\n"
     ]
    }
   ],
   "source": [
    "y_train_xgb = xgbr.predict(X_train)\n",
    "\n",
    "print('The mean_absolute error is {}'.format(mean_absolute_error(y_train,y_train_xgb)))\n",
    "print('The r2_error is {}'.format(r2_score(y_train,y_train_xgb)))"
   ]
  },
  {
   "cell_type": "code",
   "execution_count": 37,
   "metadata": {},
   "outputs": [
    {
     "name": "stdout",
     "output_type": "stream",
     "text": [
      "The mean_absolute error is 0.8777781120419599\n",
      "The r2_error is 0.7653638124901196\n"
     ]
    }
   ],
   "source": [
    "y_test_xgb = xgbr.predict(X_test)\n",
    "\n",
    "print('The mean_absolute error is {}'.format(mean_absolute_error(y_test,y_test_xgb)))\n",
    "print('The r2_error is {}'.format(r2_score(y_test,y_test_xgb)))"
   ]
  },
  {
   "cell_type": "code",
   "execution_count": 38,
   "metadata": {},
   "outputs": [],
   "source": [
    "# #build a range predictor\n",
    "# from sklearn.ensemble import GradientBoostingRegressor\n",
    "\n",
    "# # Set lower and upper quantile\n",
    "# LOWER_ALPHA = 0.1\n",
    "# UPPER_ALPHA = 0.9\n",
    "\n",
    "# # Each model has to be separate\n",
    "# lower_model = GradientBoostingRegressor(loss=\"quantile\",alpha=LOWER_ALPHA,max_depth=5,\n",
    "#                                         criterion='friedman_mse',learning_rate=0.1,n_estimators=1000)\n",
    "\n",
    "# # The mid model will use the default loss\n",
    "# mid_model = GradientBoostingRegressor(loss=\"ls\",max_depth=5,\n",
    "#                                         criterion='friedman_mse',learning_rate=0.1,n_estimators=1000)\n",
    "\n",
    "# upper_model = GradientBoostingRegressor(loss=\"quantile\", alpha=UPPER_ALPHA,max_depth=5,\n",
    "#                                         criterion='friedman_mse',learning_rate=0.1,n_estimators=1000)\n",
    "\n",
    "\n",
    "# # Fit models\n",
    "# lower_model.fit(X_train, y_train)\n",
    "# mid_model.fit(X_train, y_train)\n",
    "# upper_model.fit(X_train, y_train)\n",
    "\n",
    "# # Record actual values on test set\n",
    "# predictions = pd.DataFrame(y_test)\n",
    "\n",
    "# # Predict\n",
    "# predictions['lower'] = lower_model.predict(X_test)\n",
    "# predictions['mid'] = mid_model.predict(X_test)\n",
    "# predictions['upper'] = upper_model.predict(X_test)"
   ]
  },
  {
   "cell_type": "markdown",
   "metadata": {},
   "source": [
    "#### Result Presentation"
   ]
  },
  {
   "cell_type": "code",
   "execution_count": 39,
   "metadata": {},
   "outputs": [
    {
     "data": {
      "text/html": [
       "<div>\n",
       "<style scoped>\n",
       "    .dataframe tbody tr th:only-of-type {\n",
       "        vertical-align: middle;\n",
       "    }\n",
       "\n",
       "    .dataframe tbody tr th {\n",
       "        vertical-align: top;\n",
       "    }\n",
       "\n",
       "    .dataframe thead th {\n",
       "        text-align: right;\n",
       "    }\n",
       "</style>\n",
       "<table border=\"1\" class=\"dataframe\">\n",
       "  <thead>\n",
       "    <tr style=\"text-align: right;\">\n",
       "      <th></th>\n",
       "      <th>city</th>\n",
       "      <th>History</th>\n",
       "      <th>Millage</th>\n",
       "      <th>Ratings</th>\n",
       "      <th>Make</th>\n",
       "      <th>Model</th>\n",
       "      <th>Transmission</th>\n",
       "      <th>Age</th>\n",
       "      <th>real_price</th>\n",
       "      <th>predicted_price</th>\n",
       "    </tr>\n",
       "  </thead>\n",
       "  <tbody>\n",
       "    <tr>\n",
       "      <th>6317</th>\n",
       "      <td>Lagos</td>\n",
       "      <td>foreign</td>\n",
       "      <td>1.0</td>\n",
       "      <td>2.0</td>\n",
       "      <td>Lexus</td>\n",
       "      <td>RX 200</td>\n",
       "      <td>Automatic</td>\n",
       "      <td>11.0</td>\n",
       "      <td>4965000.0</td>\n",
       "      <td>4.941913e+06</td>\n",
       "    </tr>\n",
       "    <tr>\n",
       "      <th>13034</th>\n",
       "      <td>Lagos</td>\n",
       "      <td>foreign</td>\n",
       "      <td>12113.0</td>\n",
       "      <td>2.0</td>\n",
       "      <td>Toyota</td>\n",
       "      <td>Avalon</td>\n",
       "      <td>Automatic</td>\n",
       "      <td>10.0</td>\n",
       "      <td>4085000.0</td>\n",
       "      <td>4.229043e+06</td>\n",
       "    </tr>\n",
       "    <tr>\n",
       "      <th>6592</th>\n",
       "      <td>Lagos</td>\n",
       "      <td>foreign</td>\n",
       "      <td>81664.0</td>\n",
       "      <td>2.0</td>\n",
       "      <td>Toyota</td>\n",
       "      <td>Tacoma</td>\n",
       "      <td>Automatic</td>\n",
       "      <td>15.0</td>\n",
       "      <td>6395000.0</td>\n",
       "      <td>4.602063e+06</td>\n",
       "    </tr>\n",
       "    <tr>\n",
       "      <th>16229</th>\n",
       "      <td>Lagos</td>\n",
       "      <td>local</td>\n",
       "      <td>70308.0</td>\n",
       "      <td>3.0</td>\n",
       "      <td>BMW</td>\n",
       "      <td>3 Series</td>\n",
       "      <td>Automatic</td>\n",
       "      <td>12.0</td>\n",
       "      <td>2080000.0</td>\n",
       "      <td>4.196913e+06</td>\n",
       "    </tr>\n",
       "    <tr>\n",
       "      <th>9619</th>\n",
       "      <td>Lagos</td>\n",
       "      <td>foreign</td>\n",
       "      <td>0.0</td>\n",
       "      <td>2.0</td>\n",
       "      <td>Land</td>\n",
       "      <td>Rover Range Rover Sport</td>\n",
       "      <td>Automatic</td>\n",
       "      <td>8.0</td>\n",
       "      <td>13215000.0</td>\n",
       "      <td>9.893770e+06</td>\n",
       "    </tr>\n",
       "    <tr>\n",
       "      <th>14130</th>\n",
       "      <td>Lagos</td>\n",
       "      <td>foreign</td>\n",
       "      <td>100000.0</td>\n",
       "      <td>0.0</td>\n",
       "      <td>Mercedes-Benz</td>\n",
       "      <td>GL 450</td>\n",
       "      <td>Manual</td>\n",
       "      <td>23.0</td>\n",
       "      <td>3235000.0</td>\n",
       "      <td>2.438416e+06</td>\n",
       "    </tr>\n",
       "    <tr>\n",
       "      <th>10587</th>\n",
       "      <td>Lagos</td>\n",
       "      <td>foreign</td>\n",
       "      <td>0.0</td>\n",
       "      <td>2.0</td>\n",
       "      <td>Toyota</td>\n",
       "      <td>Avalon</td>\n",
       "      <td>Automatic</td>\n",
       "      <td>7.0</td>\n",
       "      <td>9365000.0</td>\n",
       "      <td>6.703789e+06</td>\n",
       "    </tr>\n",
       "    <tr>\n",
       "      <th>1874</th>\n",
       "      <td>Lagos</td>\n",
       "      <td>foreign</td>\n",
       "      <td>0.0</td>\n",
       "      <td>2.0</td>\n",
       "      <td>Toyota</td>\n",
       "      <td>Corolla</td>\n",
       "      <td>Automatic</td>\n",
       "      <td>10.0</td>\n",
       "      <td>3755000.0</td>\n",
       "      <td>3.326902e+06</td>\n",
       "    </tr>\n",
       "    <tr>\n",
       "      <th>2750</th>\n",
       "      <td>Lagos</td>\n",
       "      <td>foreign</td>\n",
       "      <td>0.0</td>\n",
       "      <td>2.0</td>\n",
       "      <td>Toyota</td>\n",
       "      <td>Corolla</td>\n",
       "      <td>Automatic</td>\n",
       "      <td>3.0</td>\n",
       "      <td>7550000.0</td>\n",
       "      <td>7.942236e+06</td>\n",
       "    </tr>\n",
       "    <tr>\n",
       "      <th>10523</th>\n",
       "      <td>Lagos</td>\n",
       "      <td>foreign</td>\n",
       "      <td>63214.0</td>\n",
       "      <td>2.0</td>\n",
       "      <td>Toyota</td>\n",
       "      <td>Corolla</td>\n",
       "      <td>Automatic</td>\n",
       "      <td>10.0</td>\n",
       "      <td>3425000.0</td>\n",
       "      <td>3.762142e+06</td>\n",
       "    </tr>\n",
       "    <tr>\n",
       "      <th>6274</th>\n",
       "      <td>Lagos</td>\n",
       "      <td>foreign</td>\n",
       "      <td>0.0</td>\n",
       "      <td>2.0</td>\n",
       "      <td>Toyota</td>\n",
       "      <td>RAV 4</td>\n",
       "      <td>Automatic</td>\n",
       "      <td>13.0</td>\n",
       "      <td>3235000.0</td>\n",
       "      <td>3.118943e+06</td>\n",
       "    </tr>\n",
       "    <tr>\n",
       "      <th>9433</th>\n",
       "      <td>Lagos</td>\n",
       "      <td>foreign</td>\n",
       "      <td>52485.0</td>\n",
       "      <td>2.0</td>\n",
       "      <td>Lexus</td>\n",
       "      <td>RX 330</td>\n",
       "      <td>Automatic</td>\n",
       "      <td>14.0</td>\n",
       "      <td>4195000.0</td>\n",
       "      <td>4.469071e+06</td>\n",
       "    </tr>\n",
       "    <tr>\n",
       "      <th>5670</th>\n",
       "      <td>Abuja</td>\n",
       "      <td>foreign</td>\n",
       "      <td>68000.0</td>\n",
       "      <td>2.0</td>\n",
       "      <td>Toyota</td>\n",
       "      <td>Corolla</td>\n",
       "      <td>Automatic</td>\n",
       "      <td>6.0</td>\n",
       "      <td>4965000.0</td>\n",
       "      <td>4.901381e+06</td>\n",
       "    </tr>\n",
       "    <tr>\n",
       "      <th>326</th>\n",
       "      <td>Lagos</td>\n",
       "      <td>foreign</td>\n",
       "      <td>75341.0</td>\n",
       "      <td>4.9</td>\n",
       "      <td>Toyota</td>\n",
       "      <td>4-Runner</td>\n",
       "      <td>Automatic</td>\n",
       "      <td>10.0</td>\n",
       "      <td>10795000.0</td>\n",
       "      <td>9.262020e+06</td>\n",
       "    </tr>\n",
       "    <tr>\n",
       "      <th>9784</th>\n",
       "      <td>Lagos</td>\n",
       "      <td>foreign</td>\n",
       "      <td>98466.0</td>\n",
       "      <td>2.0</td>\n",
       "      <td>Toyota</td>\n",
       "      <td>Camry</td>\n",
       "      <td>Automatic</td>\n",
       "      <td>9.0</td>\n",
       "      <td>4085000.0</td>\n",
       "      <td>3.589872e+06</td>\n",
       "    </tr>\n",
       "    <tr>\n",
       "      <th>10180</th>\n",
       "      <td>Lagos</td>\n",
       "      <td>foreign</td>\n",
       "      <td>0.0</td>\n",
       "      <td>2.0</td>\n",
       "      <td>Mercedes-Benz</td>\n",
       "      <td>E 350</td>\n",
       "      <td>Automatic</td>\n",
       "      <td>9.0</td>\n",
       "      <td>7385000.0</td>\n",
       "      <td>7.365838e+06</td>\n",
       "    </tr>\n",
       "    <tr>\n",
       "      <th>2715</th>\n",
       "      <td>Lagos</td>\n",
       "      <td>foreign</td>\n",
       "      <td>0.0</td>\n",
       "      <td>2.0</td>\n",
       "      <td>Kia</td>\n",
       "      <td>Sportage</td>\n",
       "      <td>Automatic</td>\n",
       "      <td>11.0</td>\n",
       "      <td>2372500.0</td>\n",
       "      <td>3.701615e+06</td>\n",
       "    </tr>\n",
       "    <tr>\n",
       "      <th>16684</th>\n",
       "      <td>Kano</td>\n",
       "      <td>foreign</td>\n",
       "      <td>182624.0</td>\n",
       "      <td>3.0</td>\n",
       "      <td>Pontiac</td>\n",
       "      <td>Vibe</td>\n",
       "      <td>Automatic</td>\n",
       "      <td>12.0</td>\n",
       "      <td>1661000.0</td>\n",
       "      <td>3.641983e+06</td>\n",
       "    </tr>\n",
       "    <tr>\n",
       "      <th>7056</th>\n",
       "      <td>Lagos</td>\n",
       "      <td>foreign</td>\n",
       "      <td>0.0</td>\n",
       "      <td>2.0</td>\n",
       "      <td>Toyota</td>\n",
       "      <td>Camry</td>\n",
       "      <td>Automatic</td>\n",
       "      <td>7.0</td>\n",
       "      <td>4965000.0</td>\n",
       "      <td>5.417524e+06</td>\n",
       "    </tr>\n",
       "    <tr>\n",
       "      <th>12341</th>\n",
       "      <td>Lagos</td>\n",
       "      <td>foreign</td>\n",
       "      <td>52177.0</td>\n",
       "      <td>2.0</td>\n",
       "      <td>Mercedes-Benz</td>\n",
       "      <td>ML 350</td>\n",
       "      <td>Automatic</td>\n",
       "      <td>11.0</td>\n",
       "      <td>6615000.0</td>\n",
       "      <td>5.906515e+06</td>\n",
       "    </tr>\n",
       "  </tbody>\n",
       "</table>\n",
       "</div>"
      ],
      "text/plain": [
       "        city  History   Millage  Ratings           Make  \\\n",
       "6317   Lagos  foreign       1.0      2.0          Lexus   \n",
       "13034  Lagos  foreign   12113.0      2.0         Toyota   \n",
       "6592   Lagos  foreign   81664.0      2.0         Toyota   \n",
       "16229  Lagos    local   70308.0      3.0            BMW   \n",
       "9619   Lagos  foreign       0.0      2.0           Land   \n",
       "14130  Lagos  foreign  100000.0      0.0  Mercedes-Benz   \n",
       "10587  Lagos  foreign       0.0      2.0         Toyota   \n",
       "1874   Lagos  foreign       0.0      2.0         Toyota   \n",
       "2750   Lagos  foreign       0.0      2.0         Toyota   \n",
       "10523  Lagos  foreign   63214.0      2.0         Toyota   \n",
       "6274   Lagos  foreign       0.0      2.0         Toyota   \n",
       "9433   Lagos  foreign   52485.0      2.0          Lexus   \n",
       "5670   Abuja  foreign   68000.0      2.0         Toyota   \n",
       "326    Lagos  foreign   75341.0      4.9         Toyota   \n",
       "9784   Lagos  foreign   98466.0      2.0         Toyota   \n",
       "10180  Lagos  foreign       0.0      2.0  Mercedes-Benz   \n",
       "2715   Lagos  foreign       0.0      2.0            Kia   \n",
       "16684   Kano  foreign  182624.0      3.0        Pontiac   \n",
       "7056   Lagos  foreign       0.0      2.0         Toyota   \n",
       "12341  Lagos  foreign   52177.0      2.0  Mercedes-Benz   \n",
       "\n",
       "                         Model Transmission   Age  real_price  predicted_price  \n",
       "6317                    RX 200    Automatic  11.0   4965000.0     4.941913e+06  \n",
       "13034                   Avalon    Automatic  10.0   4085000.0     4.229043e+06  \n",
       "6592                    Tacoma    Automatic  15.0   6395000.0     4.602063e+06  \n",
       "16229                 3 Series    Automatic  12.0   2080000.0     4.196913e+06  \n",
       "9619   Rover Range Rover Sport    Automatic   8.0  13215000.0     9.893770e+06  \n",
       "14130                   GL 450       Manual  23.0   3235000.0     2.438416e+06  \n",
       "10587                   Avalon    Automatic   7.0   9365000.0     6.703789e+06  \n",
       "1874                   Corolla    Automatic  10.0   3755000.0     3.326902e+06  \n",
       "2750                   Corolla    Automatic   3.0   7550000.0     7.942236e+06  \n",
       "10523                  Corolla    Automatic  10.0   3425000.0     3.762142e+06  \n",
       "6274                     RAV 4    Automatic  13.0   3235000.0     3.118943e+06  \n",
       "9433                    RX 330    Automatic  14.0   4195000.0     4.469071e+06  \n",
       "5670                   Corolla    Automatic   6.0   4965000.0     4.901381e+06  \n",
       "326                   4-Runner    Automatic  10.0  10795000.0     9.262020e+06  \n",
       "9784                     Camry    Automatic   9.0   4085000.0     3.589872e+06  \n",
       "10180                    E 350    Automatic   9.0   7385000.0     7.365838e+06  \n",
       "2715                  Sportage    Automatic  11.0   2372500.0     3.701615e+06  \n",
       "16684                     Vibe    Automatic  12.0   1661000.0     3.641983e+06  \n",
       "7056                     Camry    Automatic   7.0   4965000.0     5.417524e+06  \n",
       "12341                   ML 350    Automatic  11.0   6615000.0     5.906515e+06  "
      ]
     },
     "execution_count": 39,
     "metadata": {},
     "output_type": "execute_result"
    }
   ],
   "source": [
    "results.loc[:,'real_price'] = y_test*1000000\n",
    "results.loc[:,'predicted_price'] = y_test_xgb*1000000\n",
    "#results[['upper','lower']] = predictions[['upper','lower']]*1000000\n",
    "\n",
    "# inverse_transform testing data\n",
    "results.loc[:,norm_cols] = norm.inverse_transform(results[norm_cols])\n",
    "\n",
    "results.head(20)"
   ]
  },
  {
   "cell_type": "code",
   "execution_count": 40,
   "metadata": {},
   "outputs": [],
   "source": [
    "#next \n",
    "#make range predictions\n",
    "#cross validation === (to be precise about the error value)\n",
    "#drop millage outliers\n",
    "#drop the stacking regressor"
   ]
  }
 ],
 "metadata": {
  "kernelspec": {
   "display_name": "Python 3",
   "language": "python",
   "name": "python3"
  },
  "language_info": {
   "codemirror_mode": {
    "name": "ipython",
    "version": 3
   },
   "file_extension": ".py",
   "mimetype": "text/x-python",
   "name": "python",
   "nbconvert_exporter": "python",
   "pygments_lexer": "ipython3",
   "version": "3.6.9"
  }
 },
 "nbformat": 4,
 "nbformat_minor": 4
}
