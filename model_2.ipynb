{
 "cells": [
  {
   "cell_type": "code",
   "execution_count": 1,
   "metadata": {},
   "outputs": [],
   "source": [
    "#import libraries\n",
    "import numpy as np \n",
    "import pandas as pd\n",
    "import seaborn as sns\n",
    "import matplotlib.pyplot as plt\n",
    "import category_encoders as ce\n",
    "\n",
    "#ignore warnings\n",
    "import warnings\n",
    "warnings.filterwarnings('ignore')"
   ]
  },
  {
   "cell_type": "code",
   "execution_count": 2,
   "metadata": {},
   "outputs": [
    {
     "data": {
      "text/html": [
       "<div>\n",
       "<style scoped>\n",
       "    .dataframe tbody tr th:only-of-type {\n",
       "        vertical-align: middle;\n",
       "    }\n",
       "\n",
       "    .dataframe tbody tr th {\n",
       "        vertical-align: top;\n",
       "    }\n",
       "\n",
       "    .dataframe thead th {\n",
       "        text-align: right;\n",
       "    }\n",
       "</style>\n",
       "<table border=\"1\" class=\"dataframe\">\n",
       "  <thead>\n",
       "    <tr style=\"text-align: right;\">\n",
       "      <th></th>\n",
       "      <th>Price</th>\n",
       "      <th>city</th>\n",
       "      <th>History</th>\n",
       "      <th>Millage</th>\n",
       "      <th>Ratings</th>\n",
       "      <th>Year</th>\n",
       "      <th>Make</th>\n",
       "      <th>Model</th>\n",
       "      <th>Transmission</th>\n",
       "      <th>Age</th>\n",
       "    </tr>\n",
       "  </thead>\n",
       "  <tbody>\n",
       "    <tr>\n",
       "      <th>0</th>\n",
       "      <td>4965000.0</td>\n",
       "      <td>Abia</td>\n",
       "      <td>foreign</td>\n",
       "      <td>149232.0</td>\n",
       "      <td>4.7</td>\n",
       "      <td>2015.0</td>\n",
       "      <td>Honda</td>\n",
       "      <td>Accord</td>\n",
       "      <td>Automatic</td>\n",
       "      <td>5.0</td>\n",
       "    </tr>\n",
       "    <tr>\n",
       "      <th>1</th>\n",
       "      <td>1280000.0</td>\n",
       "      <td>Accra</td>\n",
       "      <td>local</td>\n",
       "      <td>145078.0</td>\n",
       "      <td>4.4</td>\n",
       "      <td>2005.0</td>\n",
       "      <td>Toyota</td>\n",
       "      <td>Corolla</td>\n",
       "      <td>Automatic</td>\n",
       "      <td>15.0</td>\n",
       "    </tr>\n",
       "    <tr>\n",
       "      <th>2</th>\n",
       "      <td>1280000.0</td>\n",
       "      <td>Accra</td>\n",
       "      <td>local</td>\n",
       "      <td>91691.0</td>\n",
       "      <td>4.6</td>\n",
       "      <td>2008.0</td>\n",
       "      <td>Toyota</td>\n",
       "      <td>Corolla</td>\n",
       "      <td>Automatic</td>\n",
       "      <td>12.0</td>\n",
       "    </tr>\n",
       "    <tr>\n",
       "      <th>3</th>\n",
       "      <td>1567500.0</td>\n",
       "      <td>Lagos</td>\n",
       "      <td>local</td>\n",
       "      <td>234797.0</td>\n",
       "      <td>4.5</td>\n",
       "      <td>2004.0</td>\n",
       "      <td>Toyota</td>\n",
       "      <td>Corolla</td>\n",
       "      <td>Automatic</td>\n",
       "      <td>16.0</td>\n",
       "    </tr>\n",
       "    <tr>\n",
       "      <th>4</th>\n",
       "      <td>6065000.0</td>\n",
       "      <td>Lagos</td>\n",
       "      <td>foreign</td>\n",
       "      <td>145678.0</td>\n",
       "      <td>4.8</td>\n",
       "      <td>2013.0</td>\n",
       "      <td>Hyundai</td>\n",
       "      <td>Azera</td>\n",
       "      <td>Automatic</td>\n",
       "      <td>7.0</td>\n",
       "    </tr>\n",
       "  </tbody>\n",
       "</table>\n",
       "</div>"
      ],
      "text/plain": [
       "       Price   city  History   Millage  Ratings    Year     Make    Model  \\\n",
       "0  4965000.0   Abia  foreign  149232.0      4.7  2015.0    Honda   Accord   \n",
       "1  1280000.0  Accra    local  145078.0      4.4  2005.0   Toyota  Corolla   \n",
       "2  1280000.0  Accra    local   91691.0      4.6  2008.0   Toyota  Corolla   \n",
       "3  1567500.0  Lagos    local  234797.0      4.5  2004.0   Toyota  Corolla   \n",
       "4  6065000.0  Lagos  foreign  145678.0      4.8  2013.0  Hyundai    Azera   \n",
       "\n",
       "  Transmission   Age  \n",
       "0    Automatic   5.0  \n",
       "1    Automatic  15.0  \n",
       "2    Automatic  12.0  \n",
       "3    Automatic  16.0  \n",
       "4    Automatic   7.0  "
      ]
     },
     "execution_count": 2,
     "metadata": {},
     "output_type": "execute_result"
    }
   ],
   "source": [
    "#import data\n",
    "df = pd.read_csv(\"./data/cleaned_data_with2.csv\",index_col=0)\n",
    "\n",
    "df.head()"
   ]
  },
  {
   "cell_type": "markdown",
   "metadata": {},
   "source": [
    "### Data Preparation"
   ]
  },
  {
   "cell_type": "code",
   "execution_count": 3,
   "metadata": {},
   "outputs": [],
   "source": [
    "df['Price'] = df['Price']/1000000 #reduce the Price values"
   ]
  },
  {
   "cell_type": "code",
   "execution_count": 4,
   "metadata": {},
   "outputs": [],
   "source": [
    "#drop the Year column\n",
    "df = df.drop(['Year'],axis=1)"
   ]
  },
  {
   "cell_type": "code",
   "execution_count": 5,
   "metadata": {},
   "outputs": [
    {
     "data": {
      "text/plain": [
       "(17227, 9)"
      ]
     },
     "execution_count": 5,
     "metadata": {},
     "output_type": "execute_result"
    }
   ],
   "source": [
    "df.shape"
   ]
  },
  {
   "cell_type": "code",
   "execution_count": 6,
   "metadata": {},
   "outputs": [
    {
     "data": {
      "text/html": [
       "<div>\n",
       "<style scoped>\n",
       "    .dataframe tbody tr th:only-of-type {\n",
       "        vertical-align: middle;\n",
       "    }\n",
       "\n",
       "    .dataframe tbody tr th {\n",
       "        vertical-align: top;\n",
       "    }\n",
       "\n",
       "    .dataframe thead th {\n",
       "        text-align: right;\n",
       "    }\n",
       "</style>\n",
       "<table border=\"1\" class=\"dataframe\">\n",
       "  <thead>\n",
       "    <tr style=\"text-align: right;\">\n",
       "      <th></th>\n",
       "      <th>Price</th>\n",
       "      <th>city</th>\n",
       "      <th>History</th>\n",
       "      <th>Millage</th>\n",
       "      <th>Ratings</th>\n",
       "      <th>Make</th>\n",
       "      <th>Model</th>\n",
       "      <th>Transmission</th>\n",
       "      <th>Age</th>\n",
       "    </tr>\n",
       "  </thead>\n",
       "  <tbody>\n",
       "    <tr>\n",
       "      <th>599</th>\n",
       "      <td>0.0</td>\n",
       "      <td>Lagos</td>\n",
       "      <td>foreign</td>\n",
       "      <td>10000.0</td>\n",
       "      <td>2.0</td>\n",
       "      <td>Toyota</td>\n",
       "      <td>RAV 4</td>\n",
       "      <td>Automatic</td>\n",
       "      <td>12.0</td>\n",
       "    </tr>\n",
       "    <tr>\n",
       "      <th>606</th>\n",
       "      <td>0.0</td>\n",
       "      <td>Lagos</td>\n",
       "      <td>foreign</td>\n",
       "      <td>9856.0</td>\n",
       "      <td>2.0</td>\n",
       "      <td>Honda</td>\n",
       "      <td>CR-V</td>\n",
       "      <td>Automatic</td>\n",
       "      <td>12.0</td>\n",
       "    </tr>\n",
       "    <tr>\n",
       "      <th>617</th>\n",
       "      <td>0.0</td>\n",
       "      <td>Lagos</td>\n",
       "      <td>foreign</td>\n",
       "      <td>0.0</td>\n",
       "      <td>2.0</td>\n",
       "      <td>Ford</td>\n",
       "      <td>Explorer</td>\n",
       "      <td>Automatic</td>\n",
       "      <td>4.0</td>\n",
       "    </tr>\n",
       "    <tr>\n",
       "      <th>618</th>\n",
       "      <td>0.0</td>\n",
       "      <td>Rivers</td>\n",
       "      <td>foreign</td>\n",
       "      <td>98000.0</td>\n",
       "      <td>2.0</td>\n",
       "      <td>Honda</td>\n",
       "      <td>CR-V</td>\n",
       "      <td>Automatic</td>\n",
       "      <td>12.0</td>\n",
       "    </tr>\n",
       "    <tr>\n",
       "      <th>621</th>\n",
       "      <td>0.0</td>\n",
       "      <td>Lagos</td>\n",
       "      <td>foreign</td>\n",
       "      <td>125425.0</td>\n",
       "      <td>2.0</td>\n",
       "      <td>Toyota</td>\n",
       "      <td>Camry</td>\n",
       "      <td>Automatic</td>\n",
       "      <td>12.0</td>\n",
       "    </tr>\n",
       "    <tr>\n",
       "      <th>...</th>\n",
       "      <td>...</td>\n",
       "      <td>...</td>\n",
       "      <td>...</td>\n",
       "      <td>...</td>\n",
       "      <td>...</td>\n",
       "      <td>...</td>\n",
       "      <td>...</td>\n",
       "      <td>...</td>\n",
       "      <td>...</td>\n",
       "    </tr>\n",
       "    <tr>\n",
       "      <th>14176</th>\n",
       "      <td>0.0</td>\n",
       "      <td>Lagos</td>\n",
       "      <td>foreign</td>\n",
       "      <td>92134.0</td>\n",
       "      <td>0.0</td>\n",
       "      <td>Mazda</td>\n",
       "      <td>Tribute</td>\n",
       "      <td>Manual</td>\n",
       "      <td>12.0</td>\n",
       "    </tr>\n",
       "    <tr>\n",
       "      <th>14177</th>\n",
       "      <td>0.0</td>\n",
       "      <td>Lagos</td>\n",
       "      <td>foreign</td>\n",
       "      <td>21344.0</td>\n",
       "      <td>0.0</td>\n",
       "      <td>Toyota</td>\n",
       "      <td>Corolla</td>\n",
       "      <td>Manual</td>\n",
       "      <td>14.0</td>\n",
       "    </tr>\n",
       "    <tr>\n",
       "      <th>14181</th>\n",
       "      <td>0.0</td>\n",
       "      <td>Lagos</td>\n",
       "      <td>foreign</td>\n",
       "      <td>153063.0</td>\n",
       "      <td>0.0</td>\n",
       "      <td>Toyota</td>\n",
       "      <td>Camry</td>\n",
       "      <td>Manual</td>\n",
       "      <td>23.0</td>\n",
       "    </tr>\n",
       "    <tr>\n",
       "      <th>14188</th>\n",
       "      <td>0.0</td>\n",
       "      <td>Lagos</td>\n",
       "      <td>foreign</td>\n",
       "      <td>0.0</td>\n",
       "      <td>0.0</td>\n",
       "      <td>Mercedes-Benz</td>\n",
       "      <td>E 350</td>\n",
       "      <td>Manual</td>\n",
       "      <td>7.0</td>\n",
       "    </tr>\n",
       "    <tr>\n",
       "      <th>14191</th>\n",
       "      <td>0.0</td>\n",
       "      <td>Lagos</td>\n",
       "      <td>foreign</td>\n",
       "      <td>123442.0</td>\n",
       "      <td>0.0</td>\n",
       "      <td>Lexus</td>\n",
       "      <td>RX 350</td>\n",
       "      <td>Manual</td>\n",
       "      <td>15.0</td>\n",
       "    </tr>\n",
       "  </tbody>\n",
       "</table>\n",
       "<p>2866 rows × 9 columns</p>\n",
       "</div>"
      ],
      "text/plain": [
       "       Price    city  History   Millage  Ratings           Make     Model  \\\n",
       "599      0.0   Lagos  foreign   10000.0      2.0         Toyota     RAV 4   \n",
       "606      0.0   Lagos  foreign    9856.0      2.0          Honda      CR-V   \n",
       "617      0.0   Lagos  foreign       0.0      2.0           Ford  Explorer   \n",
       "618      0.0  Rivers  foreign   98000.0      2.0          Honda      CR-V   \n",
       "621      0.0   Lagos  foreign  125425.0      2.0         Toyota     Camry   \n",
       "...      ...     ...      ...       ...      ...            ...       ...   \n",
       "14176    0.0   Lagos  foreign   92134.0      0.0          Mazda   Tribute   \n",
       "14177    0.0   Lagos  foreign   21344.0      0.0         Toyota   Corolla   \n",
       "14181    0.0   Lagos  foreign  153063.0      0.0         Toyota     Camry   \n",
       "14188    0.0   Lagos  foreign       0.0      0.0  Mercedes-Benz     E 350   \n",
       "14191    0.0   Lagos  foreign  123442.0      0.0          Lexus    RX 350   \n",
       "\n",
       "      Transmission   Age  \n",
       "599      Automatic  12.0  \n",
       "606      Automatic  12.0  \n",
       "617      Automatic   4.0  \n",
       "618      Automatic  12.0  \n",
       "621      Automatic  12.0  \n",
       "...            ...   ...  \n",
       "14176       Manual  12.0  \n",
       "14177       Manual  14.0  \n",
       "14181       Manual  23.0  \n",
       "14188       Manual   7.0  \n",
       "14191       Manual  15.0  \n",
       "\n",
       "[2866 rows x 9 columns]"
      ]
     },
     "execution_count": 6,
     "metadata": {},
     "output_type": "execute_result"
    }
   ],
   "source": [
    "df[df.Price <= 0]"
   ]
  },
  {
   "cell_type": "code",
   "execution_count": 7,
   "metadata": {},
   "outputs": [
    {
     "data": {
      "text/plain": [
       "<matplotlib.axes._subplots.AxesSubplot at 0x7ffb0c6cdf98>"
      ]
     },
     "execution_count": 7,
     "metadata": {},
     "output_type": "execute_result"
    },
    {
     "data": {
      "image/png": "[encoded data removed]",
      "text/plain": [
       "<Figure size 432x288 with 1 Axes>"
      ]
     },
     "metadata": {
      "needs_background": "light"
     },
     "output_type": "display_data"
    }
   ],
   "source": [
    "#find outliers!\n",
    "sns.boxplot(x=df['Price'])"
   ]
  },
  {
   "cell_type": "code",
   "execution_count": 9,
   "metadata": {},
   "outputs": [
    {
     "data": {
      "text/html": [
       "<div>\n",
       "<style scoped>\n",
       "    .dataframe tbody tr th:only-of-type {\n",
       "        vertical-align: middle;\n",
       "    }\n",
       "\n",
       "    .dataframe tbody tr th {\n",
       "        vertical-align: top;\n",
       "    }\n",
       "\n",
       "    .dataframe thead th {\n",
       "        text-align: right;\n",
       "    }\n",
       "</style>\n",
       "<table border=\"1\" class=\"dataframe\">\n",
       "  <thead>\n",
       "    <tr style=\"text-align: right;\">\n",
       "      <th></th>\n",
       "      <th>Price</th>\n",
       "      <th>city</th>\n",
       "      <th>History</th>\n",
       "      <th>Millage</th>\n",
       "      <th>Ratings</th>\n",
       "      <th>Make</th>\n",
       "      <th>Model</th>\n",
       "      <th>Transmission</th>\n",
       "      <th>Age</th>\n",
       "    </tr>\n",
       "  </thead>\n",
       "  <tbody>\n",
       "    <tr>\n",
       "      <th>32</th>\n",
       "      <td>30.265</td>\n",
       "      <td>Lagos</td>\n",
       "      <td>foreign</td>\n",
       "      <td>76794.0</td>\n",
       "      <td>4.9</td>\n",
       "      <td>Lexus</td>\n",
       "      <td>LX 570</td>\n",
       "      <td>Automatic</td>\n",
       "      <td>3.0</td>\n",
       "    </tr>\n",
       "    <tr>\n",
       "      <th>52</th>\n",
       "      <td>23.115</td>\n",
       "      <td>Lagos</td>\n",
       "      <td>foreign</td>\n",
       "      <td>14464.0</td>\n",
       "      <td>5.0</td>\n",
       "      <td>Lexus</td>\n",
       "      <td>RX 350</td>\n",
       "      <td>Automatic</td>\n",
       "      <td>1.0</td>\n",
       "    </tr>\n",
       "    <tr>\n",
       "      <th>53</th>\n",
       "      <td>49.515</td>\n",
       "      <td>Lagos</td>\n",
       "      <td>foreign</td>\n",
       "      <td>14855.0</td>\n",
       "      <td>5.0</td>\n",
       "      <td>Land</td>\n",
       "      <td>Rover Range Rover Velar</td>\n",
       "      <td>Automatic</td>\n",
       "      <td>2.0</td>\n",
       "    </tr>\n",
       "    <tr>\n",
       "      <th>61</th>\n",
       "      <td>19.265</td>\n",
       "      <td>Lagos</td>\n",
       "      <td>foreign</td>\n",
       "      <td>19444.0</td>\n",
       "      <td>5.0</td>\n",
       "      <td>Lexus</td>\n",
       "      <td>RX 350</td>\n",
       "      <td>Automatic</td>\n",
       "      <td>4.0</td>\n",
       "    </tr>\n",
       "    <tr>\n",
       "      <th>83</th>\n",
       "      <td>12.115</td>\n",
       "      <td>Lagos</td>\n",
       "      <td>foreign</td>\n",
       "      <td>117011.0</td>\n",
       "      <td>4.7</td>\n",
       "      <td>Mercedes-Benz</td>\n",
       "      <td>ML 350</td>\n",
       "      <td>Automatic</td>\n",
       "      <td>6.0</td>\n",
       "    </tr>\n",
       "    <tr>\n",
       "      <th>...</th>\n",
       "      <td>...</td>\n",
       "      <td>...</td>\n",
       "      <td>...</td>\n",
       "      <td>...</td>\n",
       "      <td>...</td>\n",
       "      <td>...</td>\n",
       "      <td>...</td>\n",
       "      <td>...</td>\n",
       "      <td>...</td>\n",
       "    </tr>\n",
       "    <tr>\n",
       "      <th>17439</th>\n",
       "      <td>36.000</td>\n",
       "      <td>Lagos</td>\n",
       "      <td>foreign</td>\n",
       "      <td>49987.0</td>\n",
       "      <td>3.0</td>\n",
       "      <td>Rover</td>\n",
       "      <td>Range Rover Vogue</td>\n",
       "      <td>Automatic</td>\n",
       "      <td>12.0</td>\n",
       "    </tr>\n",
       "    <tr>\n",
       "      <th>17442</th>\n",
       "      <td>29.000</td>\n",
       "      <td>Lagos</td>\n",
       "      <td>foreign</td>\n",
       "      <td>23570.0</td>\n",
       "      <td>2.0</td>\n",
       "      <td>Land</td>\n",
       "      <td>Rover Range Rover Sport</td>\n",
       "      <td>Automatic</td>\n",
       "      <td>12.0</td>\n",
       "    </tr>\n",
       "    <tr>\n",
       "      <th>17443</th>\n",
       "      <td>16.000</td>\n",
       "      <td>Lagos</td>\n",
       "      <td>foreign</td>\n",
       "      <td>3931.0</td>\n",
       "      <td>1.0</td>\n",
       "      <td>Toyota</td>\n",
       "      <td>Camry</td>\n",
       "      <td>Automatic</td>\n",
       "      <td>12.0</td>\n",
       "    </tr>\n",
       "    <tr>\n",
       "      <th>17457</th>\n",
       "      <td>16.500</td>\n",
       "      <td>Lagos</td>\n",
       "      <td>foreign</td>\n",
       "      <td>89582.0</td>\n",
       "      <td>3.0</td>\n",
       "      <td>Lexus</td>\n",
       "      <td>Lx</td>\n",
       "      <td>Automatic</td>\n",
       "      <td>12.0</td>\n",
       "    </tr>\n",
       "    <tr>\n",
       "      <th>17460</th>\n",
       "      <td>22.000</td>\n",
       "      <td>Lagos</td>\n",
       "      <td>foreign</td>\n",
       "      <td>75259.0</td>\n",
       "      <td>3.0</td>\n",
       "      <td>Mercedes-Benz</td>\n",
       "      <td>Gl550</td>\n",
       "      <td>Automatic</td>\n",
       "      <td>12.0</td>\n",
       "    </tr>\n",
       "  </tbody>\n",
       "</table>\n",
       "<p>1465 rows × 9 columns</p>\n",
       "</div>"
      ],
      "text/plain": [
       "        Price   city  History   Millage  Ratings           Make  \\\n",
       "32     30.265  Lagos  foreign   76794.0      4.9          Lexus   \n",
       "52     23.115  Lagos  foreign   14464.0      5.0          Lexus   \n",
       "53     49.515  Lagos  foreign   14855.0      5.0           Land   \n",
       "61     19.265  Lagos  foreign   19444.0      5.0          Lexus   \n",
       "83     12.115  Lagos  foreign  117011.0      4.7  Mercedes-Benz   \n",
       "...       ...    ...      ...       ...      ...            ...   \n",
       "17439  36.000  Lagos  foreign   49987.0      3.0          Rover   \n",
       "17442  29.000  Lagos  foreign   23570.0      2.0           Land   \n",
       "17443  16.000  Lagos  foreign    3931.0      1.0         Toyota   \n",
       "17457  16.500  Lagos  foreign   89582.0      3.0          Lexus   \n",
       "17460  22.000  Lagos  foreign   75259.0      3.0  Mercedes-Benz   \n",
       "\n",
       "                         Model Transmission   Age  \n",
       "32                      LX 570    Automatic   3.0  \n",
       "52                      RX 350    Automatic   1.0  \n",
       "53     Rover Range Rover Velar    Automatic   2.0  \n",
       "61                      RX 350    Automatic   4.0  \n",
       "83                      ML 350    Automatic   6.0  \n",
       "...                        ...          ...   ...  \n",
       "17439        Range Rover Vogue    Automatic  12.0  \n",
       "17442  Rover Range Rover Sport    Automatic  12.0  \n",
       "17443                    Camry    Automatic  12.0  \n",
       "17457                       Lx    Automatic  12.0  \n",
       "17460                    Gl550    Automatic  12.0  \n",
       "\n",
       "[1465 rows x 9 columns]"
      ]
     },
     "execution_count": 9,
     "metadata": {},
     "output_type": "execute_result"
    }
   ],
   "source": [
    "#check for outliers size\n",
    "\n",
    "df[df.Price > 12]"
   ]
  },
  {
   "cell_type": "code",
   "execution_count": 10,
   "metadata": {},
   "outputs": [],
   "source": [
    "#drop all columns where Price is zero and greater than 50(million)\n",
    "df = df.drop(df[df.Price > 12].index)\n",
    "\n",
    "df = df.drop(df[df.Price <= 0].index)"
   ]
  },
  {
   "cell_type": "code",
   "execution_count": 11,
   "metadata": {},
   "outputs": [
    {
     "data": {
      "text/plain": [
       "(12896, 9)"
      ]
     },
     "execution_count": 11,
     "metadata": {},
     "output_type": "execute_result"
    }
   ],
   "source": [
    "df.shape"
   ]
  },
  {
   "cell_type": "code",
   "execution_count": 15,
   "metadata": {},
   "outputs": [
    {
     "data": {
      "text/plain": [
       "<matplotlib.axes._subplots.AxesSubplot at 0x7ffb0be1af28>"
      ]
     },
     "execution_count": 15,
     "metadata": {},
     "output_type": "execute_result"
    },
    {
     "data": {
      "image/png": "[encoded data removed]",
      "text/plain": [
       "<Figure size 432x288 with 1 Axes>"
      ]
     },
     "metadata": {
      "needs_background": "light"
     },
     "output_type": "display_data"
    }
   ],
   "source": [
    "#find outliers!\n",
    "sns.boxplot(x=df['Price'])"
   ]
  },
  {
   "cell_type": "code",
   "execution_count": 13,
   "metadata": {},
   "outputs": [
    {
     "data": {
      "text/html": [
       "<div>\n",
       "<style scoped>\n",
       "    .dataframe tbody tr th:only-of-type {\n",
       "        vertical-align: middle;\n",
       "    }\n",
       "\n",
       "    .dataframe tbody tr th {\n",
       "        vertical-align: top;\n",
       "    }\n",
       "\n",
       "    .dataframe thead th {\n",
       "        text-align: right;\n",
       "    }\n",
       "</style>\n",
       "<table border=\"1\" class=\"dataframe\">\n",
       "  <thead>\n",
       "    <tr style=\"text-align: right;\">\n",
       "      <th></th>\n",
       "      <th>Millage</th>\n",
       "      <th>Ratings</th>\n",
       "      <th>Age</th>\n",
       "    </tr>\n",
       "  </thead>\n",
       "  <tbody>\n",
       "    <tr>\n",
       "      <th>count</th>\n",
       "      <td>9.672000e+03</td>\n",
       "      <td>9672.000000</td>\n",
       "      <td>9672.000000</td>\n",
       "    </tr>\n",
       "    <tr>\n",
       "      <th>mean</th>\n",
       "      <td>8.935672e+04</td>\n",
       "      <td>2.462779</td>\n",
       "      <td>11.754756</td>\n",
       "    </tr>\n",
       "    <tr>\n",
       "      <th>std</th>\n",
       "      <td>2.828926e+05</td>\n",
       "      <td>1.014915</td>\n",
       "      <td>3.574665</td>\n",
       "    </tr>\n",
       "    <tr>\n",
       "      <th>min</th>\n",
       "      <td>0.000000e+00</td>\n",
       "      <td>0.000000</td>\n",
       "      <td>1.000000</td>\n",
       "    </tr>\n",
       "    <tr>\n",
       "      <th>25%</th>\n",
       "      <td>0.000000e+00</td>\n",
       "      <td>2.000000</td>\n",
       "      <td>10.000000</td>\n",
       "    </tr>\n",
       "    <tr>\n",
       "      <th>50%</th>\n",
       "      <td>5.961000e+04</td>\n",
       "      <td>2.000000</td>\n",
       "      <td>12.000000</td>\n",
       "    </tr>\n",
       "    <tr>\n",
       "      <th>75%</th>\n",
       "      <td>1.010800e+05</td>\n",
       "      <td>3.000000</td>\n",
       "      <td>13.000000</td>\n",
       "    </tr>\n",
       "    <tr>\n",
       "      <th>max</th>\n",
       "      <td>9.912351e+06</td>\n",
       "      <td>5.000000</td>\n",
       "      <td>50.000000</td>\n",
       "    </tr>\n",
       "  </tbody>\n",
       "</table>\n",
       "</div>"
      ],
      "text/plain": [
       "            Millage      Ratings          Age\n",
       "count  9.672000e+03  9672.000000  9672.000000\n",
       "mean   8.935672e+04     2.462779    11.754756\n",
       "std    2.828926e+05     1.014915     3.574665\n",
       "min    0.000000e+00     0.000000     1.000000\n",
       "25%    0.000000e+00     2.000000    10.000000\n",
       "50%    5.961000e+04     2.000000    12.000000\n",
       "75%    1.010800e+05     3.000000    13.000000\n",
       "max    9.912351e+06     5.000000    50.000000"
      ]
     },
     "execution_count": 13,
     "metadata": {},
     "output_type": "execute_result"
    }
   ],
   "source": [
    "#split the data\n",
    "X = df.drop(['Price'], axis=1)\n",
    "y = df['Price']  #target variable\n",
    "\n",
    "from sklearn.model_selection import train_test_split\n",
    "\n",
    "X_train, X_test, y_train, y_test = train_test_split(X, y, test_size=0.25, random_state=42,shuffle=True)\n",
    "X_train.describe()"
   ]
  },
  {
   "cell_type": "code",
   "execution_count": 16,
   "metadata": {},
   "outputs": [],
   "source": [
    "#to display results\n",
    "results = X_test"
   ]
  },
  {
   "cell_type": "code",
   "execution_count": 17,
   "metadata": {},
   "outputs": [
    {
     "data": {
      "text/plain": [
       "<matplotlib.axes._subplots.AxesSubplot at 0x7ffb0bfafba8>"
      ]
     },
     "execution_count": 17,
     "metadata": {},
     "output_type": "execute_result"
    },
    {
     "data": {
      "image/png": "[encoded data removed]",
      "text/plain": [
       "<Figure size 432x288 with 2 Axes>"
      ]
     },
     "metadata": {
      "needs_background": "light"
     },
     "output_type": "display_data"
    }
   ],
   "source": [
    "sns.heatmap(df.corr(),annot=True)"
   ]
  },
  {
   "cell_type": "code",
   "execution_count": 18,
   "metadata": {},
   "outputs": [],
   "source": [
    "# data normalization with sklearn\n",
    "from sklearn.preprocessing import MinMaxScaler\n",
    "\n",
    "norm_cols = ['Millage','Ratings','Age']\n",
    "\n",
    "# fit scaler on training data\n",
    "norm = MinMaxScaler().fit(X_train[norm_cols])\n",
    "\n",
    "# transform training data\n",
    "X_train.loc[:,norm_cols] = norm.transform(X_train[norm_cols])\n",
    "\n",
    "# transform testing data\n",
    "X_test.loc[:,norm_cols] = norm.transform(X_test[norm_cols])"
   ]
  },
  {
   "cell_type": "code",
   "execution_count": 15,
   "metadata": {},
   "outputs": [],
   "source": [
    "#transform training data\n",
    "#y_train=(y_train-y_train.mean())/y_train.std()\n",
    "\n",
    "#y_test = norm_y.transform(y_test)\n",
    "#y_test=(y_test-y_test.mean())/y_test.std()"
   ]
  },
  {
   "cell_type": "code",
   "execution_count": 19,
   "metadata": {},
   "outputs": [
    {
     "data": {
      "text/html": [
       "<div>\n",
       "<style scoped>\n",
       "    .dataframe tbody tr th:only-of-type {\n",
       "        vertical-align: middle;\n",
       "    }\n",
       "\n",
       "    .dataframe tbody tr th {\n",
       "        vertical-align: top;\n",
       "    }\n",
       "\n",
       "    .dataframe thead th {\n",
       "        text-align: right;\n",
       "    }\n",
       "</style>\n",
       "<table border=\"1\" class=\"dataframe\">\n",
       "  <thead>\n",
       "    <tr style=\"text-align: right;\">\n",
       "      <th></th>\n",
       "      <th>Millage</th>\n",
       "      <th>Ratings</th>\n",
       "      <th>Age</th>\n",
       "    </tr>\n",
       "  </thead>\n",
       "  <tbody>\n",
       "    <tr>\n",
       "      <th>count</th>\n",
       "      <td>9672.000000</td>\n",
       "      <td>9672.000000</td>\n",
       "      <td>9672.000000</td>\n",
       "    </tr>\n",
       "    <tr>\n",
       "      <th>mean</th>\n",
       "      <td>0.009015</td>\n",
       "      <td>0.492556</td>\n",
       "      <td>0.219485</td>\n",
       "    </tr>\n",
       "    <tr>\n",
       "      <th>std</th>\n",
       "      <td>0.028539</td>\n",
       "      <td>0.202983</td>\n",
       "      <td>0.072952</td>\n",
       "    </tr>\n",
       "    <tr>\n",
       "      <th>min</th>\n",
       "      <td>0.000000</td>\n",
       "      <td>0.000000</td>\n",
       "      <td>0.000000</td>\n",
       "    </tr>\n",
       "    <tr>\n",
       "      <th>25%</th>\n",
       "      <td>0.000000</td>\n",
       "      <td>0.400000</td>\n",
       "      <td>0.183673</td>\n",
       "    </tr>\n",
       "    <tr>\n",
       "      <th>50%</th>\n",
       "      <td>0.006014</td>\n",
       "      <td>0.400000</td>\n",
       "      <td>0.224490</td>\n",
       "    </tr>\n",
       "    <tr>\n",
       "      <th>75%</th>\n",
       "      <td>0.010197</td>\n",
       "      <td>0.600000</td>\n",
       "      <td>0.244898</td>\n",
       "    </tr>\n",
       "    <tr>\n",
       "      <th>max</th>\n",
       "      <td>1.000000</td>\n",
       "      <td>1.000000</td>\n",
       "      <td>1.000000</td>\n",
       "    </tr>\n",
       "  </tbody>\n",
       "</table>\n",
       "</div>"
      ],
      "text/plain": [
       "           Millage      Ratings          Age\n",
       "count  9672.000000  9672.000000  9672.000000\n",
       "mean      0.009015     0.492556     0.219485\n",
       "std       0.028539     0.202983     0.072952\n",
       "min       0.000000     0.000000     0.000000\n",
       "25%       0.000000     0.400000     0.183673\n",
       "50%       0.006014     0.400000     0.224490\n",
       "75%       0.010197     0.600000     0.244898\n",
       "max       1.000000     1.000000     1.000000"
      ]
     },
     "execution_count": 19,
     "metadata": {},
     "output_type": "execute_result"
    }
   ],
   "source": [
    "X_train.describe()"
   ]
  },
  {
   "cell_type": "code",
   "execution_count": 20,
   "metadata": {},
   "outputs": [
    {
     "data": {
      "text/plain": [
       "(3224, 8)"
      ]
     },
     "execution_count": 20,
     "metadata": {},
     "output_type": "execute_result"
    }
   ],
   "source": [
    "X_test.shape"
   ]
  },
  {
   "cell_type": "code",
   "execution_count": 21,
   "metadata": {},
   "outputs": [],
   "source": [
    "#One Hot encoding for History and Transmission\n",
    "\n",
    "ohe = ce.OneHotEncoder(cols=['History','Transmission'])  #instantiate the one-hot encoder\n",
    "\n",
    "X_train = ohe.fit_transform(X_train)  #fit and transform ohe\n",
    "\n",
    "X_test = ohe.transform(X_test)"
   ]
  },
  {
   "cell_type": "code",
   "execution_count": 22,
   "metadata": {},
   "outputs": [],
   "source": [
    "# encodings for city, Make and Model\n",
    "\n",
    "base_encoder = ce.BaseNEncoder(cols=['city','Make','Model'],base=3)\n",
    "\n",
    "# fit and transform and you will get the encoded data\n",
    "X_train = base_encoder.fit_transform(X_train)\n",
    "\n",
    "X_test = base_encoder.transform(X_test)"
   ]
  },
  {
   "cell_type": "code",
   "execution_count": 23,
   "metadata": {},
   "outputs": [
    {
     "data": {
      "text/plain": [
       "(9672, 24)"
      ]
     },
     "execution_count": 23,
     "metadata": {},
     "output_type": "execute_result"
    }
   ],
   "source": [
    "X_train.shape"
   ]
  },
  {
   "cell_type": "markdown",
   "metadata": {},
   "source": [
    "### Model Development"
   ]
  },
  {
   "cell_type": "markdown",
   "metadata": {},
   "source": [
    "##### Linear Regression"
   ]
  },
  {
   "cell_type": "code",
   "execution_count": 24,
   "metadata": {},
   "outputs": [
    {
     "data": {
      "text/plain": [
       "LinearRegression()"
      ]
     },
     "execution_count": 24,
     "metadata": {},
     "output_type": "execute_result"
    }
   ],
   "source": [
    "from sklearn.linear_model import LinearRegression\n",
    "from sklearn.metrics import mean_absolute_error,r2_score\n",
    "\n",
    "lr = LinearRegression() \n",
    "lr.fit(X_train,y_train)"
   ]
  },
  {
   "cell_type": "code",
   "execution_count": 25,
   "metadata": {},
   "outputs": [
    {
     "name": "stdout",
     "output_type": "stream",
     "text": [
      "The mean_absolute error is 1.322369951483664\n",
      "The r2_error is 0.49496807020870814\n"
     ]
    }
   ],
   "source": [
    "y_train_lr = lr.predict(X_train)\n",
    "\n",
    "print('The mean_absolute error is {}'.format(mean_absolute_error(y_train,y_train_lr)))\n",
    "print('The r2_error is {}'.format(r2_score(y_train,y_train_lr)))"
   ]
  },
  {
   "cell_type": "code",
   "execution_count": 26,
   "metadata": {},
   "outputs": [
    {
     "name": "stdout",
     "output_type": "stream",
     "text": [
      "The mean_absolute error is 1.3322398682537222\n",
      "The r2_error is 0.486436964331028\n"
     ]
    }
   ],
   "source": [
    "y_test_lr = lr.predict(X_test)\n",
    "\n",
    "print('The mean_absolute error is {}'.format(mean_absolute_error(y_test,y_test_lr)))\n",
    "print('The r2_error is {}'.format(r2_score(y_test,y_test_lr)))"
   ]
  },
  {
   "cell_type": "markdown",
   "metadata": {},
   "source": [
    "##### K-Nearest Neigbours"
   ]
  },
  {
   "cell_type": "code",
   "execution_count": 36,
   "metadata": {},
   "outputs": [
    {
     "data": {
      "text/plain": [
       "KNeighborsRegressor(n_neighbors=3)"
      ]
     },
     "execution_count": 36,
     "metadata": {},
     "output_type": "execute_result"
    }
   ],
   "source": [
    "from sklearn.neighbors import KNeighborsRegressor\n",
    "\n",
    "knn = KNeighborsRegressor(n_neighbors=3)\n",
    "knn.fit(X_train,y_train)"
   ]
  },
  {
   "cell_type": "code",
   "execution_count": 37,
   "metadata": {},
   "outputs": [
    {
     "name": "stdout",
     "output_type": "stream",
     "text": [
      "The mean_absolute error for train is 0.6072932001309622\n",
      "The r2_error for train is 0.8447419372681775\n"
     ]
    }
   ],
   "source": [
    "y_train_knn = knn.predict(X_train)\n",
    "\n",
    "print('The mean_absolute error for train is {}'.format(mean_absolute_error(y_train,y_train_knn)))\n",
    "print('The r2_error for train is {}'.format(r2_score(y_train,y_train_knn)))"
   ]
  },
  {
   "cell_type": "code",
   "execution_count": 38,
   "metadata": {},
   "outputs": [
    {
     "name": "stdout",
     "output_type": "stream",
     "text": [
      "The mean_absolute error is 0.814039775330852\n",
      "The r2_error is 0.7145585182815066\n"
     ]
    }
   ],
   "source": [
    "y_test_knn = knn.predict(X_test)\n",
    "\n",
    "print('The mean_absolute error is {}'.format(mean_absolute_error(y_test,y_test_knn)))\n",
    "print('The r2_error is {}'.format(r2_score(y_test,y_test_knn)))"
   ]
  },
  {
   "cell_type": "markdown",
   "metadata": {},
   "source": [
    "##### Random Forest"
   ]
  },
  {
   "cell_type": "code",
   "execution_count": 39,
   "metadata": {},
   "outputs": [
    {
     "data": {
      "text/plain": [
       "RandomForestRegressor(max_depth=5, n_estimators=1000, n_jobs=-1,\n",
       "                      random_state=42)"
      ]
     },
     "execution_count": 39,
     "metadata": {},
     "output_type": "execute_result"
    }
   ],
   "source": [
    "from sklearn.ensemble import RandomForestRegressor,StackingRegressor\n",
    "\n",
    "rf = RandomForestRegressor(n_estimators= 1000, max_depth=5, random_state=42,n_jobs=-1,criterion='mse')\n",
    "rf.fit(X_train,y_train)"
   ]
  },
  {
   "cell_type": "code",
   "execution_count": 40,
   "metadata": {},
   "outputs": [
    {
     "name": "stdout",
     "output_type": "stream",
     "text": [
      "The mean_absolute error is 1.040127979814183\n",
      "The r2_error is 0.6453658869597994\n"
     ]
    }
   ],
   "source": [
    "y_train_rf = rf.predict(X_train)\n",
    "\n",
    "print('The mean_absolute error is {}'.format(mean_absolute_error(y_train,y_train_rf)))\n",
    "print('The r2_error is {}'.format(r2_score(y_train,y_train_rf)))"
   ]
  },
  {
   "cell_type": "code",
   "execution_count": 41,
   "metadata": {},
   "outputs": [
    {
     "name": "stdout",
     "output_type": "stream",
     "text": [
      "The mean_absolute error is 1.0644513942898692\n",
      "The r2_error is 0.6259949211549232\n"
     ]
    }
   ],
   "source": [
    "y_test_rf = rf.predict(X_test)\n",
    "\n",
    "print('The mean_absolute error is {}'.format(mean_absolute_error(y_test,y_test_rf)))\n",
    "print('The r2_error is {}'.format(r2_score(y_test,y_test_rf)))"
   ]
  },
  {
   "cell_type": "markdown",
   "metadata": {},
   "source": [
    "##### Gradient Boosted Trees"
   ]
  },
  {
   "cell_type": "code",
   "execution_count": 42,
   "metadata": {},
   "outputs": [
    {
     "data": {
      "text/plain": [
       "XGBRegressor(max_depth=5, n_estimators=1000, objective='reg:squarederror')"
      ]
     },
     "execution_count": 42,
     "metadata": {},
     "output_type": "execute_result"
    }
   ],
   "source": [
    "import xgboost as xgb\n",
    "\n",
    "xgbr = xgb.XGBRegressor(max_depth=5,objective='reg:squarederror',learning_rate=0.1,\n",
    "                        n_estimators=1000,n_jobs=1) #xgboost\n",
    "xgbr.fit(X_train,y_train)"
   ]
  },
  {
   "cell_type": "code",
   "execution_count": 43,
   "metadata": {},
   "outputs": [
    {
     "name": "stdout",
     "output_type": "stream",
     "text": [
      "The mean_absolute error is 0.44765120088177385\n",
      "The r2_error is 0.9293824330944125\n"
     ]
    }
   ],
   "source": [
    "y_train_xgb = xgbr.predict(X_train)\n",
    "\n",
    "print('The mean_absolute error is {}'.format(mean_absolute_error(y_train,y_train_xgb)))\n",
    "print('The r2_error is {}'.format(r2_score(y_train,y_train_xgb)))"
   ]
  },
  {
   "cell_type": "code",
   "execution_count": 44,
   "metadata": {},
   "outputs": [
    {
     "name": "stdout",
     "output_type": "stream",
     "text": [
      "The mean_absolute error is 0.7695371820999766\n",
      "The r2_error is 0.7749077104898583\n"
     ]
    }
   ],
   "source": [
    "y_test_xgb = xgbr.predict(X_test)\n",
    "\n",
    "print('The mean_absolute error is {}'.format(mean_absolute_error(y_test,y_test_xgb)))\n",
    "print('The r2_error is {}'.format(r2_score(y_test,y_test_xgb)))"
   ]
  },
  {
   "cell_type": "code",
   "execution_count": 49,
   "metadata": {},
   "outputs": [],
   "source": [
    "#build a range predictor\n",
    "from sklearn.ensemble import GradientBoostingRegressor\n",
    "\n",
    "# Set lower and upper quantile\n",
    "LOWER_ALPHA = 0.1\n",
    "UPPER_ALPHA = 0.9\n",
    "\n",
    "# Each model has to be separate\n",
    "lower_model = GradientBoostingRegressor(loss=\"quantile\",alpha=LOWER_ALPHA,max_depth=5,\n",
    "                                        criterion='friedman_mse',learning_rate=0.1,n_estimators=1000)\n",
    "\n",
    "# The mid model will use the default loss\n",
    "mid_model = GradientBoostingRegressor(loss=\"ls\",max_depth=5,\n",
    "                                        criterion='friedman_mse',learning_rate=0.1,n_estimators=1000)\n",
    "\n",
    "upper_model = GradientBoostingRegressor(loss=\"quantile\", alpha=UPPER_ALPHA,max_depth=5,\n",
    "                                        criterion='friedman_mse',learning_rate=0.1,n_estimators=1000)\n",
    "\n",
    "\n",
    "# Fit models\n",
    "lower_model.fit(X_train, y_train)\n",
    "mid_model.fit(X_train, y_train)\n",
    "upper_model.fit(X_train, y_train)\n",
    "\n",
    "# Record actual values on test set\n",
    "predictions = pd.DataFrame(y_test)\n",
    "\n",
    "# Predict\n",
    "predictions['lower'] = lower_model.predict(X_test)\n",
    "predictions['mid'] = mid_model.predict(X_test)\n",
    "predictions['upper'] = upper_model.predict(X_test)"
   ]
  },
  {
   "cell_type": "markdown",
   "metadata": {},
   "source": [
    "#### Stacking Regressor"
   ]
  },
  {
   "cell_type": "code",
   "execution_count": 45,
   "metadata": {},
   "outputs": [
    {
     "data": {
      "text/plain": [
       "StackingRegressor(estimators=[('knn', KNeighborsRegressor(n_neighbors=3)),\n",
       "                              ('xgb',\n",
       "                               XGBRegressor(max_depth=5, n_estimators=1000,\n",
       "                                            objective='reg:squarederror'))],\n",
       "                  final_estimator=XGBRegressor(learning_rate=0.08, max_depth=4,\n",
       "                                               n_estimators=1000,\n",
       "                                               objective='reg:squarederror'))"
      ]
     },
     "execution_count": 45,
     "metadata": {},
     "output_type": "execute_result"
    }
   ],
   "source": [
    "estimators = [('knn',knn),\n",
    "              ('xgb',xgbr)]\n",
    "\n",
    "final_estimator = xgb.XGBRegressor(max_depth=4,objective='reg:squarederror',learning_rate=0.08,\n",
    "                        n_estimators=1000,n_jobs=1)\n",
    "\n",
    "stk_reg = StackingRegressor(estimators=estimators,\n",
    "                        final_estimator=final_estimator)\n",
    "\n",
    "stk_reg.fit(X_train,y_train)"
   ]
  },
  {
   "cell_type": "code",
   "execution_count": 46,
   "metadata": {},
   "outputs": [
    {
     "name": "stdout",
     "output_type": "stream",
     "text": [
      "The mean_absolute error is 0.5056482219319192\n",
      "The r2_error is 0.9052281672533786\n"
     ]
    }
   ],
   "source": [
    "y_train_stk = stk_reg.predict(X_train)\n",
    "\n",
    "print('The mean_absolute error is {}'.format(mean_absolute_error(y_train,y_train_stk)))\n",
    "print('The r2_error is {}'.format(r2_score(y_train,y_train_stk)))"
   ]
  },
  {
   "cell_type": "code",
   "execution_count": 47,
   "metadata": {},
   "outputs": [
    {
     "name": "stdout",
     "output_type": "stream",
     "text": [
      "The mean_absolute error is 0.7579262910667223\n",
      "The r2_error is 0.7735088255357655\n"
     ]
    }
   ],
   "source": [
    "y_test_stk = stk_reg.predict(X_test)\n",
    "\n",
    "print('The mean_absolute error is {}'.format(mean_absolute_error(y_test,y_test_stk)))\n",
    "print('The r2_error is {}'.format(r2_score(y_test,y_test_stk)))"
   ]
  },
  {
   "cell_type": "markdown",
   "metadata": {},
   "source": [
    "#### Result Presentation"
   ]
  },
  {
   "cell_type": "code",
   "execution_count": 51,
   "metadata": {},
   "outputs": [
    {
     "data": {
      "text/html": [
       "<div>\n",
       "<style scoped>\n",
       "    .dataframe tbody tr th:only-of-type {\n",
       "        vertical-align: middle;\n",
       "    }\n",
       "\n",
       "    .dataframe tbody tr th {\n",
       "        vertical-align: top;\n",
       "    }\n",
       "\n",
       "    .dataframe thead th {\n",
       "        text-align: right;\n",
       "    }\n",
       "</style>\n",
       "<table border=\"1\" class=\"dataframe\">\n",
       "  <thead>\n",
       "    <tr style=\"text-align: right;\">\n",
       "      <th></th>\n",
       "      <th>city</th>\n",
       "      <th>History</th>\n",
       "      <th>Millage</th>\n",
       "      <th>Ratings</th>\n",
       "      <th>Make</th>\n",
       "      <th>Model</th>\n",
       "      <th>Transmission</th>\n",
       "      <th>Age</th>\n",
       "      <th>real_price</th>\n",
       "      <th>predicted_price</th>\n",
       "      <th>upper</th>\n",
       "      <th>lower</th>\n",
       "    </tr>\n",
       "  </thead>\n",
       "  <tbody>\n",
       "    <tr>\n",
       "      <th>7348</th>\n",
       "      <td>Lagos</td>\n",
       "      <td>foreign</td>\n",
       "      <td>8.174617e+11</td>\n",
       "      <td>10.0</td>\n",
       "      <td>Lexus</td>\n",
       "      <td>ES 330</td>\n",
       "      <td>Automatic</td>\n",
       "      <td>785.0</td>\n",
       "      <td>2717500.0</td>\n",
       "      <td>2.694957e+06</td>\n",
       "      <td>3.146053e+06</td>\n",
       "      <td>2.179168e+06</td>\n",
       "    </tr>\n",
       "    <tr>\n",
       "      <th>6626</th>\n",
       "      <td>Lagos</td>\n",
       "      <td>foreign</td>\n",
       "      <td>6.839522e+11</td>\n",
       "      <td>10.0</td>\n",
       "      <td>Toyota</td>\n",
       "      <td>RAV 4</td>\n",
       "      <td>Automatic</td>\n",
       "      <td>197.0</td>\n",
       "      <td>10300000.0</td>\n",
       "      <td>9.327804e+06</td>\n",
       "      <td>1.031999e+07</td>\n",
       "      <td>7.079886e+06</td>\n",
       "    </tr>\n",
       "    <tr>\n",
       "      <th>8</th>\n",
       "      <td>Accra</td>\n",
       "      <td>local</td>\n",
       "      <td>0.000000e+00</td>\n",
       "      <td>20.0</td>\n",
       "      <td>Toyota</td>\n",
       "      <td>Avensis</td>\n",
       "      <td>Automatic</td>\n",
       "      <td>491.0</td>\n",
       "      <td>2085000.0</td>\n",
       "      <td>6.415174e+06</td>\n",
       "      <td>7.187811e+06</td>\n",
       "      <td>1.200518e+06</td>\n",
       "    </tr>\n",
       "    <tr>\n",
       "      <th>5013</th>\n",
       "      <td>Lagos</td>\n",
       "      <td>foreign</td>\n",
       "      <td>6.379589e+10</td>\n",
       "      <td>10.0</td>\n",
       "      <td>Toyota</td>\n",
       "      <td>Camry</td>\n",
       "      <td>Automatic</td>\n",
       "      <td>589.0</td>\n",
       "      <td>3120000.0</td>\n",
       "      <td>3.474908e+06</td>\n",
       "      <td>5.187416e+06</td>\n",
       "      <td>2.259978e+06</td>\n",
       "    </tr>\n",
       "    <tr>\n",
       "      <th>884</th>\n",
       "      <td>Lagos</td>\n",
       "      <td>foreign</td>\n",
       "      <td>7.929881e+08</td>\n",
       "      <td>10.0</td>\n",
       "      <td>Acura</td>\n",
       "      <td>TL</td>\n",
       "      <td>Automatic</td>\n",
       "      <td>540.0</td>\n",
       "      <td>3407500.0</td>\n",
       "      <td>2.314425e+06</td>\n",
       "      <td>5.301590e+06</td>\n",
       "      <td>2.578108e+06</td>\n",
       "    </tr>\n",
       "    <tr>\n",
       "      <th>8683</th>\n",
       "      <td>Kaduna</td>\n",
       "      <td>foreign</td>\n",
       "      <td>0.000000e+00</td>\n",
       "      <td>10.0</td>\n",
       "      <td>Mercedes-Benz</td>\n",
       "      <td>GLK 350</td>\n",
       "      <td>Automatic</td>\n",
       "      <td>344.0</td>\n",
       "      <td>8815000.0</td>\n",
       "      <td>8.929449e+06</td>\n",
       "      <td>1.061120e+07</td>\n",
       "      <td>5.463924e+06</td>\n",
       "    </tr>\n",
       "    <tr>\n",
       "      <th>6752</th>\n",
       "      <td>Lagos</td>\n",
       "      <td>foreign</td>\n",
       "      <td>0.000000e+00</td>\n",
       "      <td>10.0</td>\n",
       "      <td>Mercedes-Benz</td>\n",
       "      <td>E 350</td>\n",
       "      <td>Automatic</td>\n",
       "      <td>393.0</td>\n",
       "      <td>5515000.0</td>\n",
       "      <td>7.299375e+06</td>\n",
       "      <td>9.045599e+06</td>\n",
       "      <td>4.734829e+06</td>\n",
       "    </tr>\n",
       "    <tr>\n",
       "      <th>13600</th>\n",
       "      <td>Lagos</td>\n",
       "      <td>foreign</td>\n",
       "      <td>6.475937e+11</td>\n",
       "      <td>10.0</td>\n",
       "      <td>Toyota</td>\n",
       "      <td>Avalon</td>\n",
       "      <td>Automatic</td>\n",
       "      <td>638.0</td>\n",
       "      <td>3120000.0</td>\n",
       "      <td>3.254552e+06</td>\n",
       "      <td>4.148549e+06</td>\n",
       "      <td>2.739552e+06</td>\n",
       "    </tr>\n",
       "    <tr>\n",
       "      <th>3134</th>\n",
       "      <td>Lagos</td>\n",
       "      <td>foreign</td>\n",
       "      <td>8.775603e+11</td>\n",
       "      <td>10.0</td>\n",
       "      <td>Toyota</td>\n",
       "      <td>Avalon</td>\n",
       "      <td>Automatic</td>\n",
       "      <td>540.0</td>\n",
       "      <td>3120000.0</td>\n",
       "      <td>3.578609e+06</td>\n",
       "      <td>5.227927e+06</td>\n",
       "      <td>2.768410e+06</td>\n",
       "    </tr>\n",
       "    <tr>\n",
       "      <th>14245</th>\n",
       "      <td>Ilorin</td>\n",
       "      <td>local</td>\n",
       "      <td>1.313872e+12</td>\n",
       "      <td>20.0</td>\n",
       "      <td>Peugeot</td>\n",
       "      <td>Expert</td>\n",
       "      <td>Manual</td>\n",
       "      <td>589.0</td>\n",
       "      <td>872500.0</td>\n",
       "      <td>1.954119e+06</td>\n",
       "      <td>2.854698e+06</td>\n",
       "      <td>6.539166e+05</td>\n",
       "    </tr>\n",
       "    <tr>\n",
       "      <th>13292</th>\n",
       "      <td>Lagos</td>\n",
       "      <td>foreign</td>\n",
       "      <td>0.000000e+00</td>\n",
       "      <td>10.0</td>\n",
       "      <td>Acura</td>\n",
       "      <td>MDX</td>\n",
       "      <td>Automatic</td>\n",
       "      <td>589.0</td>\n",
       "      <td>3865000.0</td>\n",
       "      <td>3.745591e+06</td>\n",
       "      <td>4.322221e+06</td>\n",
       "      <td>3.314621e+06</td>\n",
       "    </tr>\n",
       "    <tr>\n",
       "      <th>6372</th>\n",
       "      <td>Lagos</td>\n",
       "      <td>foreign</td>\n",
       "      <td>0.000000e+00</td>\n",
       "      <td>10.0</td>\n",
       "      <td>Mercedes-Benz</td>\n",
       "      <td>C 300</td>\n",
       "      <td>Automatic</td>\n",
       "      <td>491.0</td>\n",
       "      <td>4745000.0</td>\n",
       "      <td>4.890768e+06</td>\n",
       "      <td>5.347353e+06</td>\n",
       "      <td>4.157882e+06</td>\n",
       "    </tr>\n",
       "    <tr>\n",
       "      <th>6358</th>\n",
       "      <td>Lagos</td>\n",
       "      <td>foreign</td>\n",
       "      <td>0.000000e+00</td>\n",
       "      <td>10.0</td>\n",
       "      <td>Lexus</td>\n",
       "      <td>RX 350</td>\n",
       "      <td>Automatic</td>\n",
       "      <td>442.0</td>\n",
       "      <td>7165000.0</td>\n",
       "      <td>7.706209e+06</td>\n",
       "      <td>8.747559e+06</td>\n",
       "      <td>5.518262e+06</td>\n",
       "    </tr>\n",
       "    <tr>\n",
       "      <th>13080</th>\n",
       "      <td>Lagos</td>\n",
       "      <td>foreign</td>\n",
       "      <td>8.921116e+08</td>\n",
       "      <td>10.0</td>\n",
       "      <td>Hyundai</td>\n",
       "      <td>Sonata</td>\n",
       "      <td>Automatic</td>\n",
       "      <td>589.0</td>\n",
       "      <td>1222500.0</td>\n",
       "      <td>1.916896e+06</td>\n",
       "      <td>3.773798e+06</td>\n",
       "      <td>2.072134e+06</td>\n",
       "    </tr>\n",
       "    <tr>\n",
       "      <th>5365</th>\n",
       "      <td>Abuja</td>\n",
       "      <td>foreign</td>\n",
       "      <td>8.227251e+11</td>\n",
       "      <td>10.0</td>\n",
       "      <td>Mercedes-Benz</td>\n",
       "      <td>C 300</td>\n",
       "      <td>Automatic</td>\n",
       "      <td>540.0</td>\n",
       "      <td>3975000.0</td>\n",
       "      <td>3.924472e+06</td>\n",
       "      <td>4.750055e+06</td>\n",
       "      <td>3.253645e+06</td>\n",
       "    </tr>\n",
       "    <tr>\n",
       "      <th>14896</th>\n",
       "      <td>Ibadan</td>\n",
       "      <td>local</td>\n",
       "      <td>1.675742e+12</td>\n",
       "      <td>20.0</td>\n",
       "      <td>Volkswagen</td>\n",
       "      <td>Beatle</td>\n",
       "      <td>Automatic</td>\n",
       "      <td>589.0</td>\n",
       "      <td>695000.0</td>\n",
       "      <td>1.626606e+06</td>\n",
       "      <td>1.988588e+06</td>\n",
       "      <td>6.985546e+05</td>\n",
       "    </tr>\n",
       "    <tr>\n",
       "      <th>17240</th>\n",
       "      <td>Lagos</td>\n",
       "      <td>local</td>\n",
       "      <td>8.967704e+11</td>\n",
       "      <td>10.0</td>\n",
       "      <td>Hyundai</td>\n",
       "      <td>Ix35</td>\n",
       "      <td>Automatic</td>\n",
       "      <td>589.0</td>\n",
       "      <td>4000000.0</td>\n",
       "      <td>3.522466e+06</td>\n",
       "      <td>6.085926e+06</td>\n",
       "      <td>1.389190e+06</td>\n",
       "    </tr>\n",
       "    <tr>\n",
       "      <th>12883</th>\n",
       "      <td>Lagos</td>\n",
       "      <td>foreign</td>\n",
       "      <td>0.000000e+00</td>\n",
       "      <td>10.0</td>\n",
       "      <td>Toyota</td>\n",
       "      <td>RAV 4</td>\n",
       "      <td>Automatic</td>\n",
       "      <td>295.0</td>\n",
       "      <td>7165000.0</td>\n",
       "      <td>7.769256e+06</td>\n",
       "      <td>9.602804e+06</td>\n",
       "      <td>6.001560e+06</td>\n",
       "    </tr>\n",
       "    <tr>\n",
       "      <th>2010</th>\n",
       "      <td>Lagos</td>\n",
       "      <td>foreign</td>\n",
       "      <td>0.000000e+00</td>\n",
       "      <td>10.0</td>\n",
       "      <td>Toyota</td>\n",
       "      <td>Avalon</td>\n",
       "      <td>Automatic</td>\n",
       "      <td>638.0</td>\n",
       "      <td>3120000.0</td>\n",
       "      <td>3.030649e+06</td>\n",
       "      <td>4.013984e+06</td>\n",
       "      <td>2.598795e+06</td>\n",
       "    </tr>\n",
       "    <tr>\n",
       "      <th>12902</th>\n",
       "      <td>Lagos</td>\n",
       "      <td>foreign</td>\n",
       "      <td>0.000000e+00</td>\n",
       "      <td>10.0</td>\n",
       "      <td>Acura</td>\n",
       "      <td>MDX</td>\n",
       "      <td>Automatic</td>\n",
       "      <td>589.0</td>\n",
       "      <td>4195000.0</td>\n",
       "      <td>3.745591e+06</td>\n",
       "      <td>4.322221e+06</td>\n",
       "      <td>3.314621e+06</td>\n",
       "    </tr>\n",
       "  </tbody>\n",
       "</table>\n",
       "</div>"
      ],
      "text/plain": [
       "         city  History       Millage  Ratings           Make    Model  \\\n",
       "7348    Lagos  foreign  8.174617e+11     10.0          Lexus   ES 330   \n",
       "6626    Lagos  foreign  6.839522e+11     10.0         Toyota    RAV 4   \n",
       "8       Accra    local  0.000000e+00     20.0         Toyota  Avensis   \n",
       "5013    Lagos  foreign  6.379589e+10     10.0         Toyota    Camry   \n",
       "884     Lagos  foreign  7.929881e+08     10.0          Acura       TL   \n",
       "8683   Kaduna  foreign  0.000000e+00     10.0  Mercedes-Benz  GLK 350   \n",
       "6752    Lagos  foreign  0.000000e+00     10.0  Mercedes-Benz    E 350   \n",
       "13600   Lagos  foreign  6.475937e+11     10.0         Toyota   Avalon   \n",
       "3134    Lagos  foreign  8.775603e+11     10.0         Toyota   Avalon   \n",
       "14245  Ilorin    local  1.313872e+12     20.0        Peugeot   Expert   \n",
       "13292   Lagos  foreign  0.000000e+00     10.0          Acura      MDX   \n",
       "6372    Lagos  foreign  0.000000e+00     10.0  Mercedes-Benz    C 300   \n",
       "6358    Lagos  foreign  0.000000e+00     10.0          Lexus   RX 350   \n",
       "13080   Lagos  foreign  8.921116e+08     10.0        Hyundai   Sonata   \n",
       "5365    Abuja  foreign  8.227251e+11     10.0  Mercedes-Benz    C 300   \n",
       "14896  Ibadan    local  1.675742e+12     20.0     Volkswagen   Beatle   \n",
       "17240   Lagos    local  8.967704e+11     10.0        Hyundai     Ix35   \n",
       "12883   Lagos  foreign  0.000000e+00     10.0         Toyota    RAV 4   \n",
       "2010    Lagos  foreign  0.000000e+00     10.0         Toyota   Avalon   \n",
       "12902   Lagos  foreign  0.000000e+00     10.0          Acura      MDX   \n",
       "\n",
       "      Transmission    Age  real_price  predicted_price         upper  \\\n",
       "7348     Automatic  785.0   2717500.0     2.694957e+06  3.146053e+06   \n",
       "6626     Automatic  197.0  10300000.0     9.327804e+06  1.031999e+07   \n",
       "8        Automatic  491.0   2085000.0     6.415174e+06  7.187811e+06   \n",
       "5013     Automatic  589.0   3120000.0     3.474908e+06  5.187416e+06   \n",
       "884      Automatic  540.0   3407500.0     2.314425e+06  5.301590e+06   \n",
       "8683     Automatic  344.0   8815000.0     8.929449e+06  1.061120e+07   \n",
       "6752     Automatic  393.0   5515000.0     7.299375e+06  9.045599e+06   \n",
       "13600    Automatic  638.0   3120000.0     3.254552e+06  4.148549e+06   \n",
       "3134     Automatic  540.0   3120000.0     3.578609e+06  5.227927e+06   \n",
       "14245       Manual  589.0    872500.0     1.954119e+06  2.854698e+06   \n",
       "13292    Automatic  589.0   3865000.0     3.745591e+06  4.322221e+06   \n",
       "6372     Automatic  491.0   4745000.0     4.890768e+06  5.347353e+06   \n",
       "6358     Automatic  442.0   7165000.0     7.706209e+06  8.747559e+06   \n",
       "13080    Automatic  589.0   1222500.0     1.916896e+06  3.773798e+06   \n",
       "5365     Automatic  540.0   3975000.0     3.924472e+06  4.750055e+06   \n",
       "14896    Automatic  589.0    695000.0     1.626606e+06  1.988588e+06   \n",
       "17240    Automatic  589.0   4000000.0     3.522466e+06  6.085926e+06   \n",
       "12883    Automatic  295.0   7165000.0     7.769256e+06  9.602804e+06   \n",
       "2010     Automatic  638.0   3120000.0     3.030649e+06  4.013984e+06   \n",
       "12902    Automatic  589.0   4195000.0     3.745591e+06  4.322221e+06   \n",
       "\n",
       "              lower  \n",
       "7348   2.179168e+06  \n",
       "6626   7.079886e+06  \n",
       "8      1.200518e+06  \n",
       "5013   2.259978e+06  \n",
       "884    2.578108e+06  \n",
       "8683   5.463924e+06  \n",
       "6752   4.734829e+06  \n",
       "13600  2.739552e+06  \n",
       "3134   2.768410e+06  \n",
       "14245  6.539166e+05  \n",
       "13292  3.314621e+06  \n",
       "6372   4.157882e+06  \n",
       "6358   5.518262e+06  \n",
       "13080  2.072134e+06  \n",
       "5365   3.253645e+06  \n",
       "14896  6.985546e+05  \n",
       "17240  1.389190e+06  \n",
       "12883  6.001560e+06  \n",
       "2010   2.598795e+06  \n",
       "12902  3.314621e+06  "
      ]
     },
     "execution_count": 51,
     "metadata": {},
     "output_type": "execute_result"
    }
   ],
   "source": [
    "results.loc[:,'real_price'] = y_test*1000000\n",
    "results.loc[:,'predicted_price'] = y_test_xgb*1000000\n",
    "results[['upper','lower']] = predictions[['upper','lower']]*1000000\n",
    "\n",
    "# inverse_transform testing data\n",
    "results.loc[:,norm_cols] = norm.inverse_transform(results[norm_cols])\n",
    "\n",
    "results.head(20)"
   ]
  },
  {
   "cell_type": "code",
   "execution_count": 38,
   "metadata": {},
   "outputs": [],
   "source": [
    "#next make range predictions\n",
    "#cross validation ==="
   ]
  }
 ],
 "metadata": {
  "kernelspec": {
   "display_name": "Python 3",
   "language": "python",
   "name": "python3"
  },
  "language_info": {
   "codemirror_mode": {
    "name": "ipython",
    "version": 3
   },
   "file_extension": ".py",
   "mimetype": "text/x-python",
   "name": "python",
   "nbconvert_exporter": "python",
   "pygments_lexer": "ipython3",
   "version": "3.6.9"
  }
 },
 "nbformat": 4,
 "nbformat_minor": 4
}
