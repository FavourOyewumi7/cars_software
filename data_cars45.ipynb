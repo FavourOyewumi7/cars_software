{
 "metadata": {
  "language_info": {
   "codemirror_mode": {
    "name": "ipython",
    "version": 3
   },
   "file_extension": ".py",
   "mimetype": "text/x-python",
   "name": "python",
   "nbconvert_exporter": "python",
   "pygments_lexer": "ipython3",
   "version": "3.8.3-final"
  },
  "orig_nbformat": 2,
  "kernelspec": {
   "name": "python3",
   "display_name": "Python 3"
  }
 },
 "nbformat": 4,
 "nbformat_minor": 2,
 "cells": [
  {
   "cell_type": "code",
   "execution_count": 1,
   "metadata": {},
   "outputs": [],
   "source": [
    "import pandas as pd\n",
    "import numpy as np\n",
    "from bs4 import BeautifulSoup\n",
    "import requests\n",
    "from urllib.request import urlopen\n",
    "import re\n",
    "import csv\n",
    "import json"
   ]
  },
  {
   "cell_type": "code",
   "execution_count": 2,
   "metadata": {},
   "outputs": [],
   "source": [
    "page_link = ('https://autochek.africa/cars-for-sale?page_size=12000')\n",
    "r = requests.get(page_link)\n",
    "soup = BeautifulSoup(r.text, 'html.parser')"
   ]
  },
  {
   "cell_type": "code",
   "execution_count": 3,
   "metadata": {},
   "outputs": [],
   "source": [
    "p = soup.find_all('script',id=\"__NEXT_DATA__\")\n",
    "paragraphs = []\n",
    "for x in p:\n",
    "    paragraphs.append(str(x))"
   ]
  },
  {
   "cell_type": "code",
   "execution_count": 4,
   "metadata": {},
   "outputs": [
    {
     "output_type": "execute_result",
     "data": {
      "text/plain": [
       "dict_keys(['props', 'page', 'query', 'buildId', 'isFallback', 'gssp', 'appGip', 'locale', 'locales', 'defaultLocale', 'head'])"
      ]
     },
     "metadata": {},
     "execution_count": 4
    }
   ],
   "source": [
    "data = json.loads(x.string)\n",
    "data.keys()"
   ]
  },
  {
   "cell_type": "code",
   "execution_count": 17,
   "metadata": {},
   "outputs": [],
   "source": [
    "g= pd.DataFrame(data['props']['pageProps']['cars'])"
   ]
  },
  {
   "cell_type": "code",
   "execution_count": 20,
   "metadata": {},
   "outputs": [],
   "source": [
    "dataf=g.drop(['id','imageUrl', 'state', 'hasWarranty', 'marketplaceOldPrice','hasFinancing',\"mileageUnit\", \t\"installment\" ,\t\"depositReceived\" ,\t\"loanValue\"],axis=1)"
   ]
  },
  {
   "cell_type": "code",
   "execution_count": 21,
   "metadata": {},
   "outputs": [
    {
     "output_type": "execute_result",
     "data": {
      "text/plain": [
       "11995           1625000        0  \n",
       "11996           4635000    46833  \n",
       "11997           1797500        0  \n",
       "11998           6720875   120894  \n",
       "11999           6835000        0  \n",
       "\n",
       "[12000 rows x 7 columns]"
      ],
      "text/html": "<div>\n<style scoped>\n    .dataframe tbody tr th:only-of-type {\n        vertical-align: middle;\n    }\n\n    .dataframe tbody tr th {\n        vertical-align: top;\n    }\n\n    .dataframe thead th {\n        text-align: right;\n    }\n</style>\n<table border=\"1\" class=\"dataframe\">\n  <thead>\n    <tr style=\"text-align: right;\">\n      <th></th>\n      <th>title</th>\n      <th>year</th>\n      <th>city</th>\n      <th>gradeScore</th>\n      <th>sellingCondition</th>\n      <th>marketplacePrice</th>\n      <th>mileage</th>\n    </tr>\n  </thead>\n  <tbody>\n    <tr>\n      <th>0</th>\n      <td>Lexus LX 570</td>\n      <td>2020</td>\n      <td>Lagos</td>\n      <td>5.0</td>\n      <td>new</td>\n      <td>52815000</td>\n      <td>50</td>\n    </tr>\n    <tr>\n      <th>1</th>\n      <td>Land Rover Range Rover Velar</td>\n      <td>2018</td>\n      <td>Lagos</td>\n      <td>5.0</td>\n      <td>foreign</td>\n      <td>49515000</td>\n      <td>14855</td>\n    </tr>\n    <tr>\n      <th>2</th>\n      <td>Lexus LX 570</td>\n      <td>2020</td>\n      <td>Lagos</td>\n      <td>5.0</td>\n      <td>new</td>\n      <td>83615000</td>\n      <td>189</td>\n    </tr>\n    <tr>\n      <th>3</th>\n      <td>Toyota Camry</td>\n      <td>2009</td>\n      <td>Lagos</td>\n      <td>4.9</td>\n      <td>foreign</td>\n      <td>2660000</td>\n      <td>195828</td>\n    </tr>\n    <tr>\n      <th>4</th>\n      <td>Lexus RX 300</td>\n      <td>1999</td>\n      <td>Lagos</td>\n      <td>4.8</td>\n      <td>local</td>\n      <td>1165000</td>\n      <td>155558</td>\n    </tr>\n    <tr>\n      <th>...</th>\n      <td>...</td>\n      <td>...</td>\n      <td>...</td>\n      <td>...</td>\n      <td>...</td>\n      <td>...</td>\n      <td>...</td>\n    </tr>\n    <tr>\n      <th>11995</th>\n      <td>Lexus RX 300</td>\n      <td>2002</td>\n      <td>Lagos</td>\n      <td>NaN</td>\n      <td>foreign</td>\n      <td>1625000</td>\n      <td>0</td>\n    </tr>\n    <tr>\n      <th>11996</th>\n      <td>Lexus RX 330</td>\n      <td>2005</td>\n      <td>Lagos</td>\n      <td>NaN</td>\n      <td>foreign</td>\n      <td>4635000</td>\n      <td>46833</td>\n    </tr>\n    <tr>\n      <th>11997</th>\n      <td>Toyota Matrix</td>\n      <td>2003</td>\n      <td>Lagos</td>\n      <td>NaN</td>\n      <td>foreign</td>\n      <td>1797500</td>\n      <td>0</td>\n    </tr>\n    <tr>\n      <th>11998</th>\n      <td>Toyota RAV 4</td>\n      <td>2013</td>\n      <td>Lagos</td>\n      <td>NaN</td>\n      <td>foreign</td>\n      <td>6720875</td>\n      <td>120894</td>\n    </tr>\n    <tr>\n      <th>11999</th>\n      <td>Toyota Corolla</td>\n      <td>2016</td>\n      <td>Lagos</td>\n      <td>NaN</td>\n      <td>foreign</td>\n      <td>6835000</td>\n      <td>0</td>\n    </tr>\n  </tbody>\n</table>\n<p>12000 rows × 7 columns</p>\n</div>"
     },
     "metadata": {},
     "execution_count": 21
    }
   ],
   "source": [
    "dataf"
   ]
  },
  {
   "cell_type": "code",
   "execution_count": null,
   "metadata": {},
   "outputs": [],
   "source": []
  }
 ]
}