{
 "metadata": {
  "language_info": {
   "codemirror_mode": {
    "name": "ipython",
    "version": 3
   },
   "file_extension": ".py",
   "mimetype": "text/x-python",
   "name": "python",
   "nbconvert_exporter": "python",
   "pygments_lexer": "ipython3",
   "version": "3.8.3-final"
  },
  "orig_nbformat": 2,
  "kernelspec": {
   "name": "python3",
   "display_name": "Python 3"
  }
 },
 "nbformat": 4,
 "nbformat_minor": 2,
 "cells": [
  {
   "cell_type": "code",
   "execution_count": 61,
   "metadata": {},
   "outputs": [],
   "source": [
    "import pandas as pd\n",
    "import numpy as np\n",
    "from bs4 import BeautifulSoup\n",
    "import requests\n",
    "from urllib.request import urlopen\n",
    "import re\n",
    "import csv\n",
    "import json"
   ]
  },
  {
   "cell_type": "code",
   "execution_count": 62,
   "metadata": {},
   "outputs": [],
   "source": [
    "page_link_automatic = ('https://autochek.africa/cars-for-sale?page_number=1&page_size=13800&transmission=automatic')\n",
    "r_auto = requests.get(page_link_automatic)\n",
    "soup_auto = BeautifulSoup(r_auto.text, 'html.parser')\n",
    "p_auto = soup_auto.find_all('script',id=\"__NEXT_DATA__\")\n",
    "paragraphs_auto = []\n",
    "for x in p_auto:\n",
    "    paragraphs_auto.append(str(x))"
   ]
  },
  {
   "cell_type": "code",
   "execution_count": 33,
   "metadata": {},
   "outputs": [
    {
     "output_type": "execute_result",
     "data": {
      "text/plain": [
       "dict_keys(['props', 'page', 'query', 'buildId', 'isFallback', 'gssp', 'appGip', 'locale', 'locales', 'defaultLocale', 'head'])"
      ]
     },
     "metadata": {},
     "execution_count": 33
    }
   ],
   "source": [
    "data_auto = json.loads(x.string)\n",
    "data.keys()"
   ]
  },
  {
   "cell_type": "code",
   "execution_count": 35,
   "metadata": {},
   "outputs": [],
   "source": [
    "g_auto= pd.DataFrame(data_auto['props']['pageProps']['cars'])\n",
    "g_auto"
   ]
  },
  {
   "cell_type": "code",
   "execution_count": 42,
   "metadata": {},
   "outputs": [],
   "source": [
    "data_auto=g_auto.drop(['id','imageUrl', 'state', 'hasWarranty', 'marketplaceOldPrice','hasFinancing',\"mileageUnit\", \t\"installment\" ,\t\"depositReceived\" ,\t\"loanValue\"],axis=1)"
   ]
  },
  {
   "cell_type": "code",
   "execution_count": 44,
   "metadata": {},
   "outputs": [
    {
     "output_type": "execute_result",
     "data": {
      "text/plain": [
       "110388  \n",
       "14           2660000   143175  \n",
       "15           8815000   107757  \n",
       "16           1395000    82998  \n",
       "17          19265000    19444  \n",
       "18            705000   140155  \n",
       "19           1567500   191100  "
      ],
      "text/html": "<div>\n<style scoped>\n    .dataframe tbody tr th:only-of-type {\n        vertical-align: middle;\n    }\n\n    .dataframe tbody tr th {\n        vertical-align: top;\n    }\n\n    .dataframe thead th {\n        text-align: right;\n    }\n</style>\n<table border=\"1\" class=\"dataframe\">\n  <thead>\n    <tr style=\"text-align: right;\">\n      <th></th>\n      <th>title</th>\n      <th>year</th>\n      <th>city</th>\n      <th>gradeScore</th>\n      <th>sellingCondition</th>\n      <th>marketplacePrice</th>\n      <th>mileage</th>\n    </tr>\n  </thead>\n  <tbody>\n    <tr>\n      <th>0</th>\n      <td>BMW X6</td>\n      <td>2008</td>\n      <td>Lagos</td>\n      <td>4.6</td>\n      <td>local</td>\n      <td>7715000</td>\n      <td>59125</td>\n    </tr>\n    <tr>\n      <th>1</th>\n      <td>Lexus LX 570</td>\n      <td>2020</td>\n      <td>Lagos</td>\n      <td>5.0</td>\n      <td>new</td>\n      <td>74815000</td>\n      <td>50</td>\n    </tr>\n    <tr>\n      <th>2</th>\n      <td>Toyota Corolla</td>\n      <td>2013</td>\n      <td>Lagos</td>\n      <td>4.9</td>\n      <td>foreign</td>\n      <td>4415000</td>\n      <td>71550</td>\n    </tr>\n    <tr>\n      <th>3</th>\n      <td>Toyota Camry</td>\n      <td>2002</td>\n      <td>Lagos</td>\n      <td>4.9</td>\n      <td>local</td>\n      <td>1452500</td>\n      <td>268314</td>\n    </tr>\n    <tr>\n      <th>4</th>\n      <td>Honda Accord</td>\n      <td>2003</td>\n      <td>Lagos</td>\n      <td>3.7</td>\n      <td>local</td>\n      <td>705000</td>\n      <td>139886</td>\n    </tr>\n    <tr>\n      <th>5</th>\n      <td>Toyota Avalon</td>\n      <td>2007</td>\n      <td>Lagos</td>\n      <td>5.0</td>\n      <td>foreign</td>\n      <td>3005000</td>\n      <td>155510</td>\n    </tr>\n    <tr>\n      <th>6</th>\n      <td>Toyota Corolla</td>\n      <td>2009</td>\n      <td>Lagos</td>\n      <td>5.0</td>\n      <td>foreign</td>\n      <td>3235000</td>\n      <td>99088</td>\n    </tr>\n    <tr>\n      <th>7</th>\n      <td>Toyota Corolla</td>\n      <td>2014</td>\n      <td>Lagos</td>\n      <td>4.8</td>\n      <td>foreign</td>\n      <td>4195000</td>\n      <td>74503</td>\n    </tr>\n    <tr>\n      <th>8</th>\n      <td>Lexus RX 350</td>\n      <td>2019</td>\n      <td>Lagos</td>\n      <td>5.0</td>\n      <td>foreign</td>\n      <td>23115000</td>\n      <td>14464</td>\n    </tr>\n    <tr>\n      <th>9</th>\n      <td>Land Rover Range Rover Velar</td>\n      <td>2018</td>\n      <td>Lagos</td>\n      <td>5.0</td>\n      <td>foreign</td>\n      <td>49515000</td>\n      <td>14855</td>\n    </tr>\n    <tr>\n      <th>10</th>\n      <td>Lexus LX 570</td>\n      <td>2020</td>\n      <td>Lagos</td>\n      <td>5.0</td>\n      <td>new</td>\n      <td>83615000</td>\n      <td>189</td>\n    </tr>\n    <tr>\n      <th>11</th>\n      <td>Toyota Camry</td>\n      <td>2009</td>\n      <td>Lagos</td>\n      <td>4.9</td>\n      <td>foreign</td>\n      <td>2660000</td>\n      <td>195828</td>\n    </tr>\n    <tr>\n      <th>12</th>\n      <td>Lexus RX 300</td>\n      <td>1999</td>\n      <td>Lagos</td>\n      <td>4.8</td>\n      <td>local</td>\n      <td>1165000</td>\n      <td>155558</td>\n    </tr>\n    <tr>\n      <th>13</th>\n      <td>Toyota Corolla</td>\n      <td>2014</td>\n      <td>Lagos</td>\n      <td>4.9</td>\n      <td>foreign</td>\n      <td>5185000</td>\n      <td>110388</td>\n    </tr>\n    <tr>\n      <th>14</th>\n      <td>Toyota Camry</td>\n      <td>2008</td>\n      <td>Lagos</td>\n      <td>4.9</td>\n      <td>foreign</td>\n      <td>2660000</td>\n      <td>143175</td>\n    </tr>\n    <tr>\n      <th>15</th>\n      <td>Lexus RX 350</td>\n      <td>2011</td>\n      <td>Lagos</td>\n      <td>4.8</td>\n      <td>foreign</td>\n      <td>8815000</td>\n      <td>107757</td>\n    </tr>\n    <tr>\n      <th>16</th>\n      <td>Toyota Camry</td>\n      <td>2010</td>\n      <td>Lagos</td>\n      <td>4.2</td>\n      <td>local</td>\n      <td>1395000</td>\n      <td>82998</td>\n    </tr>\n    <tr>\n      <th>17</th>\n      <td>Lexus RX 350</td>\n      <td>2016</td>\n      <td>Lagos</td>\n      <td>5.0</td>\n      <td>foreign</td>\n      <td>19265000</td>\n      <td>19444</td>\n    </tr>\n    <tr>\n      <th>18</th>\n      <td>Honda Accord</td>\n      <td>2004</td>\n      <td>Lagos</td>\n      <td>4.1</td>\n      <td>local</td>\n      <td>705000</td>\n      <td>140155</td>\n    </tr>\n    <tr>\n      <th>19</th>\n      <td>Toyota Corolla</td>\n      <td>2010</td>\n      <td>Lagos</td>\n      <td>4.9</td>\n      <td>local</td>\n      <td>1567500</td>\n      <td>191100</td>\n    </tr>\n  </tbody>\n</table>\n</div>"
     },
     "metadata": {},
     "execution_count": 44
    }
   ],
   "source": [
    "data_auto"
   ]
  },
  {
   "cell_type": "code",
   "execution_count": 45,
   "metadata": {},
   "outputs": [],
   "source": [
    "data_auto['Transmission'] ='Automatic'"
   ]
  },
  {
   "cell_type": "code",
   "execution_count": 46,
   "metadata": {},
   "outputs": [
    {
     "output_type": "execute_result",
     "data": {
      "text/plain": [
       "07757    Automatic  \n",
       "16           1395000    82998    Automatic  \n",
       "17          19265000    19444    Automatic  \n",
       "18            705000   140155    Automatic  \n",
       "19           1567500   191100    Automatic  "
      ],
      "text/html": "<div>\n<style scoped>\n    .dataframe tbody tr th:only-of-type {\n        vertical-align: middle;\n    }\n\n    .dataframe tbody tr th {\n        vertical-align: top;\n    }\n\n    .dataframe thead th {\n        text-align: right;\n    }\n</style>\n<table border=\"1\" class=\"dataframe\">\n  <thead>\n    <tr style=\"text-align: right;\">\n      <th></th>\n      <th>title</th>\n      <th>year</th>\n      <th>city</th>\n      <th>gradeScore</th>\n      <th>sellingCondition</th>\n      <th>marketplacePrice</th>\n      <th>mileage</th>\n      <th>Transmission</th>\n    </tr>\n  </thead>\n  <tbody>\n    <tr>\n      <th>0</th>\n      <td>BMW X6</td>\n      <td>2008</td>\n      <td>Lagos</td>\n      <td>4.6</td>\n      <td>local</td>\n      <td>7715000</td>\n      <td>59125</td>\n      <td>Automatic</td>\n    </tr>\n    <tr>\n      <th>1</th>\n      <td>Lexus LX 570</td>\n      <td>2020</td>\n      <td>Lagos</td>\n      <td>5.0</td>\n      <td>new</td>\n      <td>74815000</td>\n      <td>50</td>\n      <td>Automatic</td>\n    </tr>\n    <tr>\n      <th>2</th>\n      <td>Toyota Corolla</td>\n      <td>2013</td>\n      <td>Lagos</td>\n      <td>4.9</td>\n      <td>foreign</td>\n      <td>4415000</td>\n      <td>71550</td>\n      <td>Automatic</td>\n    </tr>\n    <tr>\n      <th>3</th>\n      <td>Toyota Camry</td>\n      <td>2002</td>\n      <td>Lagos</td>\n      <td>4.9</td>\n      <td>local</td>\n      <td>1452500</td>\n      <td>268314</td>\n      <td>Automatic</td>\n    </tr>\n    <tr>\n      <th>4</th>\n      <td>Honda Accord</td>\n      <td>2003</td>\n      <td>Lagos</td>\n      <td>3.7</td>\n      <td>local</td>\n      <td>705000</td>\n      <td>139886</td>\n      <td>Automatic</td>\n    </tr>\n    <tr>\n      <th>5</th>\n      <td>Toyota Avalon</td>\n      <td>2007</td>\n      <td>Lagos</td>\n      <td>5.0</td>\n      <td>foreign</td>\n      <td>3005000</td>\n      <td>155510</td>\n      <td>Automatic</td>\n    </tr>\n    <tr>\n      <th>6</th>\n      <td>Toyota Corolla</td>\n      <td>2009</td>\n      <td>Lagos</td>\n      <td>5.0</td>\n      <td>foreign</td>\n      <td>3235000</td>\n      <td>99088</td>\n      <td>Automatic</td>\n    </tr>\n    <tr>\n      <th>7</th>\n      <td>Toyota Corolla</td>\n      <td>2014</td>\n      <td>Lagos</td>\n      <td>4.8</td>\n      <td>foreign</td>\n      <td>4195000</td>\n      <td>74503</td>\n      <td>Automatic</td>\n    </tr>\n    <tr>\n      <th>8</th>\n      <td>Lexus RX 350</td>\n      <td>2019</td>\n      <td>Lagos</td>\n      <td>5.0</td>\n      <td>foreign</td>\n      <td>23115000</td>\n      <td>14464</td>\n      <td>Automatic</td>\n    </tr>\n    <tr>\n      <th>9</th>\n      <td>Land Rover Range Rover Velar</td>\n      <td>2018</td>\n      <td>Lagos</td>\n      <td>5.0</td>\n      <td>foreign</td>\n      <td>49515000</td>\n      <td>14855</td>\n      <td>Automatic</td>\n    </tr>\n    <tr>\n      <th>10</th>\n      <td>Lexus LX 570</td>\n      <td>2020</td>\n      <td>Lagos</td>\n      <td>5.0</td>\n      <td>new</td>\n      <td>83615000</td>\n      <td>189</td>\n      <td>Automatic</td>\n    </tr>\n    <tr>\n      <th>11</th>\n      <td>Toyota Camry</td>\n      <td>2009</td>\n      <td>Lagos</td>\n      <td>4.9</td>\n      <td>foreign</td>\n      <td>2660000</td>\n      <td>195828</td>\n      <td>Automatic</td>\n    </tr>\n    <tr>\n      <th>12</th>\n      <td>Lexus RX 300</td>\n      <td>1999</td>\n      <td>Lagos</td>\n      <td>4.8</td>\n      <td>local</td>\n      <td>1165000</td>\n      <td>155558</td>\n      <td>Automatic</td>\n    </tr>\n    <tr>\n      <th>13</th>\n      <td>Toyota Corolla</td>\n      <td>2014</td>\n      <td>Lagos</td>\n      <td>4.9</td>\n      <td>foreign</td>\n      <td>5185000</td>\n      <td>110388</td>\n      <td>Automatic</td>\n    </tr>\n    <tr>\n      <th>14</th>\n      <td>Toyota Camry</td>\n      <td>2008</td>\n      <td>Lagos</td>\n      <td>4.9</td>\n      <td>foreign</td>\n      <td>2660000</td>\n      <td>143175</td>\n      <td>Automatic</td>\n    </tr>\n    <tr>\n      <th>15</th>\n      <td>Lexus RX 350</td>\n      <td>2011</td>\n      <td>Lagos</td>\n      <td>4.8</td>\n      <td>foreign</td>\n      <td>8815000</td>\n      <td>107757</td>\n      <td>Automatic</td>\n    </tr>\n    <tr>\n      <th>16</th>\n      <td>Toyota Camry</td>\n      <td>2010</td>\n      <td>Lagos</td>\n      <td>4.2</td>\n      <td>local</td>\n      <td>1395000</td>\n      <td>82998</td>\n      <td>Automatic</td>\n    </tr>\n    <tr>\n      <th>17</th>\n      <td>Lexus RX 350</td>\n      <td>2016</td>\n      <td>Lagos</td>\n      <td>5.0</td>\n      <td>foreign</td>\n      <td>19265000</td>\n      <td>19444</td>\n      <td>Automatic</td>\n    </tr>\n    <tr>\n      <th>18</th>\n      <td>Honda Accord</td>\n      <td>2004</td>\n      <td>Lagos</td>\n      <td>4.1</td>\n      <td>local</td>\n      <td>705000</td>\n      <td>140155</td>\n      <td>Automatic</td>\n    </tr>\n    <tr>\n      <th>19</th>\n      <td>Toyota Corolla</td>\n      <td>2010</td>\n      <td>Lagos</td>\n      <td>4.9</td>\n      <td>local</td>\n      <td>1567500</td>\n      <td>191100</td>\n      <td>Automatic</td>\n    </tr>\n  </tbody>\n</table>\n</div>"
     },
     "metadata": {},
     "execution_count": 46
    }
   ],
   "source": [
    "data_auto"
   ]
  },
  {
   "cell_type": "code",
   "execution_count": 47,
   "metadata": {},
   "outputs": [],
   "source": [
    "page_link_manual = ('https://autochek.africa/cars-for-sale?page_number=1&page_size=395&transmission=manual')\n",
    "r_manual = requests.get(page_link_manual)\n",
    "soup_manual = BeautifulSoup(r_manual.text, 'html.parser')"
   ]
  },
  {
   "cell_type": "code",
   "execution_count": 49,
   "metadata": {},
   "outputs": [],
   "source": [
    "p_manual = soup_manual.find_all('script',id=\"__NEXT_DATA__\")\n",
    "paragraphs_manual = []\n",
    "for x_manual in p_manual:\n",
    "    paragraphs_manual.append(str(x_manual))"
   ]
  },
  {
   "cell_type": "code",
   "execution_count": 50,
   "metadata": {},
   "outputs": [
    {
     "output_type": "execute_result",
     "data": {
      "text/plain": [
       "dict_keys(['props', 'page', 'query', 'buildId', 'isFallback', 'gssp', 'appGip', 'locale', 'locales', 'defaultLocale', 'head'])"
      ]
     },
     "metadata": {},
     "execution_count": 50
    }
   ],
   "source": [
    "data_manual = json.loads(x.string)\n",
    "data.keys()"
   ]
  },
  {
   "cell_type": "code",
   "execution_count": 51,
   "metadata": {},
   "outputs": [],
   "source": [
    "g_manual= pd.DataFrame(data_manual['props']['pageProps']['cars'])"
   ]
  },
  {
   "cell_type": "code",
   "execution_count": 52,
   "metadata": {},
   "outputs": [
    {
     "output_type": "execute_result",
     "data": {
      "text/plain": [
       "  0  \n",
       "1            0  \n",
       "2            0  \n",
       "3            0  \n",
       "4            0  \n",
       "..         ...  \n",
       "390          0  \n",
       "391          0  \n",
       "392          0  \n",
       "393          0  \n",
       "394          0  \n",
       "\n",
       "[395 rows x 16 columns]"
      ],
      "text/html": "<div>\n<style scoped>\n    .dataframe tbody tr th:only-of-type {\n        vertical-align: middle;\n    }\n\n    .dataframe tbody tr th {\n        vertical-align: top;\n    }\n\n    .dataframe thead th {\n        text-align: right;\n    }\n</style>\n<table border=\"1\" class=\"dataframe\">\n  <thead>\n    <tr style=\"text-align: right;\">\n      <th></th>\n      <th>id</th>\n      <th>title</th>\n      <th>imageUrl</th>\n      <th>year</th>\n      <th>city</th>\n      <th>state</th>\n      <th>sellingCondition</th>\n      <th>hasWarranty</th>\n      <th>marketplacePrice</th>\n      <th>marketplaceOldPrice</th>\n      <th>hasFinancing</th>\n      <th>mileage</th>\n      <th>mileageUnit</th>\n      <th>installment</th>\n      <th>depositReceived</th>\n      <th>loanValue</th>\n    </tr>\n  </thead>\n  <tbody>\n    <tr>\n      <th>0</th>\n      <td>pHlaBhpHOIuaeS2FlRLmaQ</td>\n      <td>Toyota Dyna</td>\n      <td>https://storage.googleapis.com/ng.img.autochek...</td>\n      <td>2000</td>\n      <td>Lagos</td>\n      <td>Lagos</td>\n      <td>foreign</td>\n      <td>False</td>\n      <td>2947500</td>\n      <td>0</td>\n      <td>False</td>\n      <td>152431</td>\n      <td>km</td>\n      <td>0</td>\n      <td>False</td>\n      <td>0</td>\n    </tr>\n    <tr>\n      <th>1</th>\n      <td>pj8sf5DSkTN5Phbghw1B6Q</td>\n      <td>Volkswagen LT</td>\n      <td>https://storage.googleapis.com/ng.img.autochek...</td>\n      <td>2005</td>\n      <td>Lagos</td>\n      <td>Lagos</td>\n      <td>foreign</td>\n      <td>False</td>\n      <td>3865000</td>\n      <td>0</td>\n      <td>False</td>\n      <td>64462</td>\n      <td>km</td>\n      <td>0</td>\n      <td>False</td>\n      <td>0</td>\n    </tr>\n    <tr>\n      <th>2</th>\n      <td>pkJvXIFTMNbtZ8Qxlj3Ew</td>\n      <td>Fiat Ducato</td>\n      <td>https://storage.googleapis.com/ng.img.autochek...</td>\n      <td>2004</td>\n      <td>Rivers</td>\n      <td>Rivers</td>\n      <td>foreign</td>\n      <td>False</td>\n      <td>2487500</td>\n      <td>0</td>\n      <td>False</td>\n      <td>216000</td>\n      <td>km</td>\n      <td>0</td>\n      <td>False</td>\n      <td>0</td>\n    </tr>\n    <tr>\n      <th>3</th>\n      <td>plsxyGp3CgaVoNsqJj7zTA</td>\n      <td>Ford Transit</td>\n      <td>https://storage.googleapis.com/ng.img.autochek...</td>\n      <td>2006</td>\n      <td>Lagos</td>\n      <td>Lagos</td>\n      <td>foreign</td>\n      <td>False</td>\n      <td>2775000</td>\n      <td>0</td>\n      <td>False</td>\n      <td>0</td>\n      <td>km</td>\n      <td>0</td>\n      <td>False</td>\n      <td>0</td>\n    </tr>\n    <tr>\n      <th>4</th>\n      <td>PlyKefEr9VDg3gCkDoxlA</td>\n      <td>Ford Everest</td>\n      <td>https://storage.googleapis.com/ng.img.autochek...</td>\n      <td>2012</td>\n      <td>Lagos</td>\n      <td>Lagos</td>\n      <td>foreign</td>\n      <td>False</td>\n      <td>1625000</td>\n      <td>0</td>\n      <td>False</td>\n      <td>85878</td>\n      <td>km</td>\n      <td>0</td>\n      <td>False</td>\n      <td>0</td>\n    </tr>\n    <tr>\n      <th>...</th>\n      <td>...</td>\n      <td>...</td>\n      <td>...</td>\n      <td>...</td>\n      <td>...</td>\n      <td>...</td>\n      <td>...</td>\n      <td>...</td>\n      <td>...</td>\n      <td>...</td>\n      <td>...</td>\n      <td>...</td>\n      <td>...</td>\n      <td>...</td>\n      <td>...</td>\n      <td>...</td>\n    </tr>\n    <tr>\n      <th>390</th>\n      <td>UnYML1VI46mcbHAzg5Nbg</td>\n      <td>Volkswagen T5 Transporter</td>\n      <td>https://storage.googleapis.com/ng.img.autochek...</td>\n      <td>2005</td>\n      <td>Lagos</td>\n      <td>Lagos</td>\n      <td>foreign</td>\n      <td>False</td>\n      <td>2890000</td>\n      <td>0</td>\n      <td>False</td>\n      <td>0</td>\n      <td>km</td>\n      <td>0</td>\n      <td>False</td>\n      <td>0</td>\n    </tr>\n    <tr>\n      <th>391</th>\n      <td>UqUE3hWRY2uoxU2FOwjItQ</td>\n      <td>Volkswagen LT</td>\n      <td>https://storage.googleapis.com/ng.img.autochek...</td>\n      <td>2005</td>\n      <td>Lagos</td>\n      <td>Lagos</td>\n      <td>foreign</td>\n      <td>False</td>\n      <td>0</td>\n      <td>0</td>\n      <td>False</td>\n      <td>123442</td>\n      <td>km</td>\n      <td>0</td>\n      <td>False</td>\n      <td>0</td>\n    </tr>\n    <tr>\n      <th>392</th>\n      <td>UrC2ieWxDb1UJ1SII6rEg</td>\n      <td>Volkswagen T5 Transporter</td>\n      <td>https://storage.googleapis.com/ng.img.autochek...</td>\n      <td>2002</td>\n      <td>Lagos</td>\n      <td>Lagos</td>\n      <td>foreign</td>\n      <td>False</td>\n      <td>2315000</td>\n      <td>0</td>\n      <td>False</td>\n      <td>0</td>\n      <td>km</td>\n      <td>0</td>\n      <td>False</td>\n      <td>0</td>\n    </tr>\n    <tr>\n      <th>393</th>\n      <td>uRgQVqJGU0oyRGOWzEi5cQ</td>\n      <td>Volkswagen T5 Transporter</td>\n      <td>https://storage.googleapis.com/ng.img.autochek...</td>\n      <td>2003</td>\n      <td>Lagos</td>\n      <td>Lagos</td>\n      <td>foreign</td>\n      <td>False</td>\n      <td>1970000</td>\n      <td>0</td>\n      <td>False</td>\n      <td>0</td>\n      <td>km</td>\n      <td>0</td>\n      <td>False</td>\n      <td>0</td>\n    </tr>\n    <tr>\n      <th>394</th>\n      <td>urQ9ejKAiBsVvl7cpWxjoQ</td>\n      <td>Toyota Hiace</td>\n      <td>https://storage.googleapis.com/ng.img.autochek...</td>\n      <td>2012</td>\n      <td>Lagos</td>\n      <td>Lagos</td>\n      <td>foreign</td>\n      <td>False</td>\n      <td>8265000</td>\n      <td>0</td>\n      <td>False</td>\n      <td>0</td>\n      <td>km</td>\n      <td>0</td>\n      <td>False</td>\n      <td>0</td>\n    </tr>\n  </tbody>\n</table>\n<p>395 rows × 16 columns</p>\n</div>"
     },
     "metadata": {},
     "execution_count": 52
    }
   ],
   "source": [
    "g_manual"
   ]
  },
  {
   "cell_type": "code",
   "execution_count": 53,
   "metadata": {},
   "outputs": [],
   "source": [
    "data_manual=g_manual.drop(['id','imageUrl', 'state', 'hasWarranty', 'marketplaceOldPrice','hasFinancing',\"mileageUnit\", \t\"installment\" ,\t\"depositReceived\" ,\t\"loanValue\"],axis=1)"
   ]
  },
  {
   "cell_type": "code",
   "execution_count": 54,
   "metadata": {},
   "outputs": [
    {
     "output_type": "execute_result",
     "data": {
      "text/plain": [
       "      ...  \n",
       "390           2890000        0  \n",
       "391                 0   123442  \n",
       "392           2315000        0  \n",
       "393           1970000        0  \n",
       "394           8265000        0  \n",
       "\n",
       "[395 rows x 6 columns]"
      ],
      "text/html": "<div>\n<style scoped>\n    .dataframe tbody tr th:only-of-type {\n        vertical-align: middle;\n    }\n\n    .dataframe tbody tr th {\n        vertical-align: top;\n    }\n\n    .dataframe thead th {\n        text-align: right;\n    }\n</style>\n<table border=\"1\" class=\"dataframe\">\n  <thead>\n    <tr style=\"text-align: right;\">\n      <th></th>\n      <th>title</th>\n      <th>year</th>\n      <th>city</th>\n      <th>sellingCondition</th>\n      <th>marketplacePrice</th>\n      <th>mileage</th>\n    </tr>\n  </thead>\n  <tbody>\n    <tr>\n      <th>0</th>\n      <td>Toyota Dyna</td>\n      <td>2000</td>\n      <td>Lagos</td>\n      <td>foreign</td>\n      <td>2947500</td>\n      <td>152431</td>\n    </tr>\n    <tr>\n      <th>1</th>\n      <td>Volkswagen LT</td>\n      <td>2005</td>\n      <td>Lagos</td>\n      <td>foreign</td>\n      <td>3865000</td>\n      <td>64462</td>\n    </tr>\n    <tr>\n      <th>2</th>\n      <td>Fiat Ducato</td>\n      <td>2004</td>\n      <td>Rivers</td>\n      <td>foreign</td>\n      <td>2487500</td>\n      <td>216000</td>\n    </tr>\n    <tr>\n      <th>3</th>\n      <td>Ford Transit</td>\n      <td>2006</td>\n      <td>Lagos</td>\n      <td>foreign</td>\n      <td>2775000</td>\n      <td>0</td>\n    </tr>\n    <tr>\n      <th>4</th>\n      <td>Ford Everest</td>\n      <td>2012</td>\n      <td>Lagos</td>\n      <td>foreign</td>\n      <td>1625000</td>\n      <td>85878</td>\n    </tr>\n    <tr>\n      <th>...</th>\n      <td>...</td>\n      <td>...</td>\n      <td>...</td>\n      <td>...</td>\n      <td>...</td>\n      <td>...</td>\n    </tr>\n    <tr>\n      <th>390</th>\n      <td>Volkswagen T5 Transporter</td>\n      <td>2005</td>\n      <td>Lagos</td>\n      <td>foreign</td>\n      <td>2890000</td>\n      <td>0</td>\n    </tr>\n    <tr>\n      <th>391</th>\n      <td>Volkswagen LT</td>\n      <td>2005</td>\n      <td>Lagos</td>\n      <td>foreign</td>\n      <td>0</td>\n      <td>123442</td>\n    </tr>\n    <tr>\n      <th>392</th>\n      <td>Volkswagen T5 Transporter</td>\n      <td>2002</td>\n      <td>Lagos</td>\n      <td>foreign</td>\n      <td>2315000</td>\n      <td>0</td>\n    </tr>\n    <tr>\n      <th>393</th>\n      <td>Volkswagen T5 Transporter</td>\n      <td>2003</td>\n      <td>Lagos</td>\n      <td>foreign</td>\n      <td>1970000</td>\n      <td>0</td>\n    </tr>\n    <tr>\n      <th>394</th>\n      <td>Toyota Hiace</td>\n      <td>2012</td>\n      <td>Lagos</td>\n      <td>foreign</td>\n      <td>8265000</td>\n      <td>0</td>\n    </tr>\n  </tbody>\n</table>\n<p>395 rows × 6 columns</p>\n</div>"
     },
     "metadata": {},
     "execution_count": 54
    }
   ],
   "source": [
    "data_manual"
   ]
  },
  {
   "cell_type": "code",
   "execution_count": 55,
   "metadata": {},
   "outputs": [],
   "source": [
    "data_manual['Transmission'] ='Manual'"
   ]
  },
  {
   "cell_type": "code",
   "execution_count": 56,
   "metadata": {},
   "outputs": [
    {
     "output_type": "execute_result",
     "data": {
      "text/plain": [
       "             0   123442       Manaul  \n",
       "392           2315000        0       Manaul  \n",
       "393           1970000        0       Manaul  \n",
       "394           8265000        0       Manaul  \n",
       "\n",
       "[395 rows x 7 columns]"
      ],
      "text/html": "<div>\n<style scoped>\n    .dataframe tbody tr th:only-of-type {\n        vertical-align: middle;\n    }\n\n    .dataframe tbody tr th {\n        vertical-align: top;\n    }\n\n    .dataframe thead th {\n        text-align: right;\n    }\n</style>\n<table border=\"1\" class=\"dataframe\">\n  <thead>\n    <tr style=\"text-align: right;\">\n      <th></th>\n      <th>title</th>\n      <th>year</th>\n      <th>city</th>\n      <th>sellingCondition</th>\n      <th>marketplacePrice</th>\n      <th>mileage</th>\n      <th>Transmission</th>\n    </tr>\n  </thead>\n  <tbody>\n    <tr>\n      <th>0</th>\n      <td>Toyota Dyna</td>\n      <td>2000</td>\n      <td>Lagos</td>\n      <td>foreign</td>\n      <td>2947500</td>\n      <td>152431</td>\n      <td>Manaul</td>\n    </tr>\n    <tr>\n      <th>1</th>\n      <td>Volkswagen LT</td>\n      <td>2005</td>\n      <td>Lagos</td>\n      <td>foreign</td>\n      <td>3865000</td>\n      <td>64462</td>\n      <td>Manaul</td>\n    </tr>\n    <tr>\n      <th>2</th>\n      <td>Fiat Ducato</td>\n      <td>2004</td>\n      <td>Rivers</td>\n      <td>foreign</td>\n      <td>2487500</td>\n      <td>216000</td>\n      <td>Manaul</td>\n    </tr>\n    <tr>\n      <th>3</th>\n      <td>Ford Transit</td>\n      <td>2006</td>\n      <td>Lagos</td>\n      <td>foreign</td>\n      <td>2775000</td>\n      <td>0</td>\n      <td>Manaul</td>\n    </tr>\n    <tr>\n      <th>4</th>\n      <td>Ford Everest</td>\n      <td>2012</td>\n      <td>Lagos</td>\n      <td>foreign</td>\n      <td>1625000</td>\n      <td>85878</td>\n      <td>Manaul</td>\n    </tr>\n    <tr>\n      <th>...</th>\n      <td>...</td>\n      <td>...</td>\n      <td>...</td>\n      <td>...</td>\n      <td>...</td>\n      <td>...</td>\n      <td>...</td>\n    </tr>\n    <tr>\n      <th>390</th>\n      <td>Volkswagen T5 Transporter</td>\n      <td>2005</td>\n      <td>Lagos</td>\n      <td>foreign</td>\n      <td>2890000</td>\n      <td>0</td>\n      <td>Manaul</td>\n    </tr>\n    <tr>\n      <th>391</th>\n      <td>Volkswagen LT</td>\n      <td>2005</td>\n      <td>Lagos</td>\n      <td>foreign</td>\n      <td>0</td>\n      <td>123442</td>\n      <td>Manaul</td>\n    </tr>\n    <tr>\n      <th>392</th>\n      <td>Volkswagen T5 Transporter</td>\n      <td>2002</td>\n      <td>Lagos</td>\n      <td>foreign</td>\n      <td>2315000</td>\n      <td>0</td>\n      <td>Manaul</td>\n    </tr>\n    <tr>\n      <th>393</th>\n      <td>Volkswagen T5 Transporter</td>\n      <td>2003</td>\n      <td>Lagos</td>\n      <td>foreign</td>\n      <td>1970000</td>\n      <td>0</td>\n      <td>Manaul</td>\n    </tr>\n    <tr>\n      <th>394</th>\n      <td>Toyota Hiace</td>\n      <td>2012</td>\n      <td>Lagos</td>\n      <td>foreign</td>\n      <td>8265000</td>\n      <td>0</td>\n      <td>Manaul</td>\n    </tr>\n  </tbody>\n</table>\n<p>395 rows × 7 columns</p>\n</div>"
     },
     "metadata": {},
     "execution_count": 56
    }
   ],
   "source": [
    "data_manual"
   ]
  },
  {
   "cell_type": "code",
   "execution_count": 59,
   "metadata": {},
   "outputs": [],
   "source": [
    "cars=pd.concat([data_manual,data_auto])"
   ]
  },
  {
   "cell_type": "code",
   "execution_count": 60,
   "metadata": {},
   "outputs": [
    {
     "output_type": "execute_result",
     "data": {
      "text/plain": [
       "         ...         ...  \n",
       "15    Automatic         4.8  \n",
       "16    Automatic         4.2  \n",
       "17    Automatic         5.0  \n",
       "18    Automatic         4.1  \n",
       "19    Automatic         4.9  \n",
       "\n",
       "[415 rows x 8 columns]"
      ],
      "text/html": "<div>\n<style scoped>\n    .dataframe tbody tr th:only-of-type {\n        vertical-align: middle;\n    }\n\n    .dataframe tbody tr th {\n        vertical-align: top;\n    }\n\n    .dataframe thead th {\n        text-align: right;\n    }\n</style>\n<table border=\"1\" class=\"dataframe\">\n  <thead>\n    <tr style=\"text-align: right;\">\n      <th></th>\n      <th>title</th>\n      <th>year</th>\n      <th>city</th>\n      <th>sellingCondition</th>\n      <th>marketplacePrice</th>\n      <th>mileage</th>\n      <th>Transmission</th>\n      <th>gradeScore</th>\n    </tr>\n  </thead>\n  <tbody>\n    <tr>\n      <th>0</th>\n      <td>Toyota Dyna</td>\n      <td>2000</td>\n      <td>Lagos</td>\n      <td>foreign</td>\n      <td>2947500</td>\n      <td>152431</td>\n      <td>Manaul</td>\n      <td>NaN</td>\n    </tr>\n    <tr>\n      <th>1</th>\n      <td>Volkswagen LT</td>\n      <td>2005</td>\n      <td>Lagos</td>\n      <td>foreign</td>\n      <td>3865000</td>\n      <td>64462</td>\n      <td>Manaul</td>\n      <td>NaN</td>\n    </tr>\n    <tr>\n      <th>2</th>\n      <td>Fiat Ducato</td>\n      <td>2004</td>\n      <td>Rivers</td>\n      <td>foreign</td>\n      <td>2487500</td>\n      <td>216000</td>\n      <td>Manaul</td>\n      <td>NaN</td>\n    </tr>\n    <tr>\n      <th>3</th>\n      <td>Ford Transit</td>\n      <td>2006</td>\n      <td>Lagos</td>\n      <td>foreign</td>\n      <td>2775000</td>\n      <td>0</td>\n      <td>Manaul</td>\n      <td>NaN</td>\n    </tr>\n    <tr>\n      <th>4</th>\n      <td>Ford Everest</td>\n      <td>2012</td>\n      <td>Lagos</td>\n      <td>foreign</td>\n      <td>1625000</td>\n      <td>85878</td>\n      <td>Manaul</td>\n      <td>NaN</td>\n    </tr>\n    <tr>\n      <th>...</th>\n      <td>...</td>\n      <td>...</td>\n      <td>...</td>\n      <td>...</td>\n      <td>...</td>\n      <td>...</td>\n      <td>...</td>\n      <td>...</td>\n    </tr>\n    <tr>\n      <th>15</th>\n      <td>Lexus RX 350</td>\n      <td>2011</td>\n      <td>Lagos</td>\n      <td>foreign</td>\n      <td>8815000</td>\n      <td>107757</td>\n      <td>Automatic</td>\n      <td>4.8</td>\n    </tr>\n    <tr>\n      <th>16</th>\n      <td>Toyota Camry</td>\n      <td>2010</td>\n      <td>Lagos</td>\n      <td>local</td>\n      <td>1395000</td>\n      <td>82998</td>\n      <td>Automatic</td>\n      <td>4.2</td>\n    </tr>\n    <tr>\n      <th>17</th>\n      <td>Lexus RX 350</td>\n      <td>2016</td>\n      <td>Lagos</td>\n      <td>foreign</td>\n      <td>19265000</td>\n      <td>19444</td>\n      <td>Automatic</td>\n      <td>5.0</td>\n    </tr>\n    <tr>\n      <th>18</th>\n      <td>Honda Accord</td>\n      <td>2004</td>\n      <td>Lagos</td>\n      <td>local</td>\n      <td>705000</td>\n      <td>140155</td>\n      <td>Automatic</td>\n      <td>4.1</td>\n    </tr>\n    <tr>\n      <th>19</th>\n      <td>Toyota Corolla</td>\n      <td>2010</td>\n      <td>Lagos</td>\n      <td>local</td>\n      <td>1567500</td>\n      <td>191100</td>\n      <td>Automatic</td>\n      <td>4.9</td>\n    </tr>\n  </tbody>\n</table>\n<p>415 rows × 8 columns</p>\n</div>"
     },
     "metadata": {},
     "execution_count": 60
    }
   ],
   "source": [
    "cars"
   ]
  },
  {
   "cell_type": "code",
   "execution_count": null,
   "metadata": {},
   "outputs": [],
   "source": []
  }
 ]
}