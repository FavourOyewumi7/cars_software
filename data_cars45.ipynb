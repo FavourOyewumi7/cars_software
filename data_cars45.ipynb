{
 "metadata": {
  "language_info": {
   "codemirror_mode": {
    "name": "ipython",
    "version": 3
   },
   "file_extension": ".py",
   "mimetype": "text/x-python",
   "name": "python",
   "nbconvert_exporter": "python",
   "pygments_lexer": "ipython3",
   "version": "3.8.3-final"
  },
  "orig_nbformat": 2,
  "kernelspec": {
   "name": "python3",
   "display_name": "Python 3"
  }
 },
 "nbformat": 4,
 "nbformat_minor": 2,
 "cells": [
  {
   "cell_type": "code",
   "execution_count": 23,
   "metadata": {},
   "outputs": [],
   "source": [
    "import pandas as pd\n",
    "import numpy as np\n",
    "from bs4 import BeautifulSoup\n",
    "import requests\n",
    "from urllib.request import urlopen\n",
    "import re\n",
    "import csv\n",
    "import json"
   ]
  },
  {
   "cell_type": "code",
   "execution_count": 24,
   "metadata": {},
   "outputs": [],
   "source": [
    "page_link_automatic = ('https://autochek.africa/cars-for-sale?page_number=1&page_size=13800&transmission=automatic')\n",
    "r_auto = requests.get(page_link_automatic)\n",
    "soup_auto = BeautifulSoup(r_auto.text, 'html.parser')\n"
   ]
  },
  {
   "cell_type": "code",
   "execution_count": 25,
   "metadata": {},
   "outputs": [],
   "source": [
    "p_auto = soup_auto.find_all('script',id=\"__NEXT_DATA__\")\n",
    "paragraphs_auto = []\n",
    "for x in p_auto:\n",
    "    paragraphs_auto.append(str(x))"
   ]
  },
  {
   "cell_type": "code",
   "execution_count": 26,
   "metadata": {},
   "outputs": [
    {
     "output_type": "execute_result",
     "data": {
      "text/plain": [
       "dict_keys(['props', 'page', 'query', 'buildId', 'isFallback', 'gssp', 'appGip', 'locale', 'locales', 'defaultLocale', 'head'])"
      ]
     },
     "metadata": {},
     "execution_count": 26
    }
   ],
   "source": [
    "data_auto = json.loads(x.string)\n",
    "data_auto.keys()"
   ]
  },
  {
   "cell_type": "code",
   "execution_count": 27,
   "metadata": {},
   "outputs": [
    {
     "output_type": "execute_result",
     "data": {
      "text/plain": [
       "           False        0.0  \n",
       "13796            False        0.0  \n",
       "13797            False        0.0  \n",
       "13798            False        0.0  \n",
       "13799            False        0.0  \n",
       "\n",
       "[13800 rows x 17 columns]"
      ],
      "text/html": "<div>\n<style scoped>\n    .dataframe tbody tr th:only-of-type {\n        vertical-align: middle;\n    }\n\n    .dataframe tbody tr th {\n        vertical-align: top;\n    }\n\n    .dataframe thead th {\n        text-align: right;\n    }\n</style>\n<table border=\"1\" class=\"dataframe\">\n  <thead>\n    <tr style=\"text-align: right;\">\n      <th></th>\n      <th>id</th>\n      <th>title</th>\n      <th>imageUrl</th>\n      <th>year</th>\n      <th>city</th>\n      <th>state</th>\n      <th>gradeScore</th>\n      <th>sellingCondition</th>\n      <th>hasWarranty</th>\n      <th>marketplacePrice</th>\n      <th>marketplaceOldPrice</th>\n      <th>hasFinancing</th>\n      <th>mileage</th>\n      <th>mileageUnit</th>\n      <th>installment</th>\n      <th>depositReceived</th>\n      <th>loanValue</th>\n    </tr>\n  </thead>\n  <tbody>\n    <tr>\n      <th>0</th>\n      <td>784IV6Jhp</td>\n      <td>Honda Accord</td>\n      <td>https://storage.googleapis.com/img.autochek.af...</td>\n      <td>2015</td>\n      <td>Abia</td>\n      <td>Abia</td>\n      <td>4.7</td>\n      <td>foreign</td>\n      <td>False</td>\n      <td>4965000</td>\n      <td>0.0</td>\n      <td>False</td>\n      <td>149232</td>\n      <td>km</td>\n      <td>0.0</td>\n      <td>False</td>\n      <td>0.0</td>\n    </tr>\n    <tr>\n      <th>1</th>\n      <td>MrtPd5BnA</td>\n      <td>Toyota Corolla</td>\n      <td>https://storage.googleapis.com/img.autochek.af...</td>\n      <td>2005</td>\n      <td>Accra</td>\n      <td>Accra</td>\n      <td>4.4</td>\n      <td>local</td>\n      <td>False</td>\n      <td>1280000</td>\n      <td>0.0</td>\n      <td>False</td>\n      <td>145078</td>\n      <td>km</td>\n      <td>0.0</td>\n      <td>False</td>\n      <td>0.0</td>\n    </tr>\n    <tr>\n      <th>2</th>\n      <td>qM6HJHqfE</td>\n      <td>Toyota Corolla</td>\n      <td>https://storage.googleapis.com/img.autochek.af...</td>\n      <td>2008</td>\n      <td>Accra</td>\n      <td>Accra</td>\n      <td>4.6</td>\n      <td>local</td>\n      <td>False</td>\n      <td>1280000</td>\n      <td>0.0</td>\n      <td>False</td>\n      <td>91691</td>\n      <td>km</td>\n      <td>0.0</td>\n      <td>False</td>\n      <td>0.0</td>\n    </tr>\n    <tr>\n      <th>3</th>\n      <td>tdC4gq2Tz</td>\n      <td>Toyota Corolla</td>\n      <td>https://storage.googleapis.com/img.autochek.af...</td>\n      <td>2004</td>\n      <td>Lagos</td>\n      <td>Lagos</td>\n      <td>4.5</td>\n      <td>local</td>\n      <td>False</td>\n      <td>1567500</td>\n      <td>0.0</td>\n      <td>False</td>\n      <td>234797</td>\n      <td>km</td>\n      <td>0.0</td>\n      <td>False</td>\n      <td>0.0</td>\n    </tr>\n    <tr>\n      <th>4</th>\n      <td>-TMj7Pgku</td>\n      <td>Hyundai Azera</td>\n      <td>https://storage.googleapis.com/img.autochek.af...</td>\n      <td>2013</td>\n      <td>Lagos</td>\n      <td>Lagos</td>\n      <td>4.8</td>\n      <td>foreign</td>\n      <td>False</td>\n      <td>6065000</td>\n      <td>0.0</td>\n      <td>False</td>\n      <td>145678</td>\n      <td>km</td>\n      <td>0.0</td>\n      <td>False</td>\n      <td>0.0</td>\n    </tr>\n    <tr>\n      <th>...</th>\n      <td>...</td>\n      <td>...</td>\n      <td>...</td>\n      <td>...</td>\n      <td>...</td>\n      <td>...</td>\n      <td>...</td>\n      <td>...</td>\n      <td>...</td>\n      <td>...</td>\n      <td>...</td>\n      <td>...</td>\n      <td>...</td>\n      <td>...</td>\n      <td>...</td>\n      <td>...</td>\n      <td>...</td>\n    </tr>\n    <tr>\n      <th>13795</th>\n      <td>GQjuYmGHEsIzuXZTtlKf5A</td>\n      <td>Lexus RX 350</td>\n      <td>https://storage.googleapis.com/ng.img.autochek...</td>\n      <td>2010</td>\n      <td>Lagos</td>\n      <td>Lagos</td>\n      <td>NaN</td>\n      <td>foreign</td>\n      <td>False</td>\n      <td>5735000</td>\n      <td>0.0</td>\n      <td>False</td>\n      <td>0</td>\n      <td>km</td>\n      <td>0.0</td>\n      <td>False</td>\n      <td>0.0</td>\n    </tr>\n    <tr>\n      <th>13796</th>\n      <td>GQk6el9PypDjVWgmyMJWPA</td>\n      <td>Lexus RX 200</td>\n      <td>https://storage.googleapis.com/ng.img.autochek...</td>\n      <td>2003</td>\n      <td>Lagos</td>\n      <td>Lagos</td>\n      <td>NaN</td>\n      <td>foreign</td>\n      <td>False</td>\n      <td>2717500</td>\n      <td>0.0</td>\n      <td>False</td>\n      <td>0</td>\n      <td>km</td>\n      <td>0.0</td>\n      <td>False</td>\n      <td>0.0</td>\n    </tr>\n    <tr>\n      <th>13797</th>\n      <td>gNRod1awD4WhuHljp3dxOg</td>\n      <td>Toyota Corolla</td>\n      <td>https://storage.googleapis.com/ng.img.autochek...</td>\n      <td>2007</td>\n      <td>Lagos</td>\n      <td>Lagos</td>\n      <td>NaN</td>\n      <td>foreign</td>\n      <td>False</td>\n      <td>2545000</td>\n      <td>0.0</td>\n      <td>False</td>\n      <td>92000</td>\n      <td>km</td>\n      <td>0.0</td>\n      <td>False</td>\n      <td>0.0</td>\n    </tr>\n    <tr>\n      <th>13798</th>\n      <td>gnvZ05ZhssQD7agnp3jLtg</td>\n      <td>Toyota Avalon</td>\n      <td>https://storage.googleapis.com/ng.img.autochek...</td>\n      <td>2007</td>\n      <td>Lagos</td>\n      <td>Lagos</td>\n      <td>NaN</td>\n      <td>foreign</td>\n      <td>False</td>\n      <td>3120000</td>\n      <td>0.0</td>\n      <td>False</td>\n      <td>73838</td>\n      <td>km</td>\n      <td>0.0</td>\n      <td>False</td>\n      <td>0.0</td>\n    </tr>\n    <tr>\n      <th>13799</th>\n      <td>Go3eA0woYDxYBoEolSAow</td>\n      <td>Toyota Venza</td>\n      <td>https://storage.googleapis.com/ng.img.autochek...</td>\n      <td>2010</td>\n      <td>Lagos</td>\n      <td>Lagos</td>\n      <td>NaN</td>\n      <td>foreign</td>\n      <td>False</td>\n      <td>0</td>\n      <td>0.0</td>\n      <td>False</td>\n      <td>0</td>\n      <td>km</td>\n      <td>0.0</td>\n      <td>False</td>\n      <td>0.0</td>\n    </tr>\n  </tbody>\n</table>\n<p>13800 rows × 17 columns</p>\n</div>"
     },
     "metadata": {},
     "execution_count": 27
    }
   ],
   "source": [
    "g_auto= pd.DataFrame(data_auto['props']['pageProps']['cars'])\n",
    "g_auto"
   ]
  },
  {
   "cell_type": "code",
   "execution_count": 28,
   "metadata": {},
   "outputs": [],
   "source": [
    "data_auto=g_auto.drop(['id','imageUrl', 'state', 'hasWarranty','marketplaceOldPrice','hasFinancing',\"mileageUnit\", \"installment\" ,\t\"depositReceived\" ,\t\"loanValue\"],axis=1)"
   ]
  },
  {
   "cell_type": "code",
   "execution_count": 29,
   "metadata": {},
   "outputs": [
    {
     "output_type": "execute_result",
     "data": {
      "text/plain": [
       "13795           5735000        0  \n",
       "13796           2717500        0  \n",
       "13797           2545000    92000  \n",
       "13798           3120000    73838  \n",
       "13799                 0        0  \n",
       "\n",
       "[13800 rows x 7 columns]"
      ],
      "text/html": "<div>\n<style scoped>\n    .dataframe tbody tr th:only-of-type {\n        vertical-align: middle;\n    }\n\n    .dataframe tbody tr th {\n        vertical-align: top;\n    }\n\n    .dataframe thead th {\n        text-align: right;\n    }\n</style>\n<table border=\"1\" class=\"dataframe\">\n  <thead>\n    <tr style=\"text-align: right;\">\n      <th></th>\n      <th>title</th>\n      <th>year</th>\n      <th>city</th>\n      <th>gradeScore</th>\n      <th>sellingCondition</th>\n      <th>marketplacePrice</th>\n      <th>mileage</th>\n    </tr>\n  </thead>\n  <tbody>\n    <tr>\n      <th>0</th>\n      <td>Honda Accord</td>\n      <td>2015</td>\n      <td>Abia</td>\n      <td>4.7</td>\n      <td>foreign</td>\n      <td>4965000</td>\n      <td>149232</td>\n    </tr>\n    <tr>\n      <th>1</th>\n      <td>Toyota Corolla</td>\n      <td>2005</td>\n      <td>Accra</td>\n      <td>4.4</td>\n      <td>local</td>\n      <td>1280000</td>\n      <td>145078</td>\n    </tr>\n    <tr>\n      <th>2</th>\n      <td>Toyota Corolla</td>\n      <td>2008</td>\n      <td>Accra</td>\n      <td>4.6</td>\n      <td>local</td>\n      <td>1280000</td>\n      <td>91691</td>\n    </tr>\n    <tr>\n      <th>3</th>\n      <td>Toyota Corolla</td>\n      <td>2004</td>\n      <td>Lagos</td>\n      <td>4.5</td>\n      <td>local</td>\n      <td>1567500</td>\n      <td>234797</td>\n    </tr>\n    <tr>\n      <th>4</th>\n      <td>Hyundai Azera</td>\n      <td>2013</td>\n      <td>Lagos</td>\n      <td>4.8</td>\n      <td>foreign</td>\n      <td>6065000</td>\n      <td>145678</td>\n    </tr>\n    <tr>\n      <th>...</th>\n      <td>...</td>\n      <td>...</td>\n      <td>...</td>\n      <td>...</td>\n      <td>...</td>\n      <td>...</td>\n      <td>...</td>\n    </tr>\n    <tr>\n      <th>13795</th>\n      <td>Lexus RX 350</td>\n      <td>2010</td>\n      <td>Lagos</td>\n      <td>NaN</td>\n      <td>foreign</td>\n      <td>5735000</td>\n      <td>0</td>\n    </tr>\n    <tr>\n      <th>13796</th>\n      <td>Lexus RX 200</td>\n      <td>2003</td>\n      <td>Lagos</td>\n      <td>NaN</td>\n      <td>foreign</td>\n      <td>2717500</td>\n      <td>0</td>\n    </tr>\n    <tr>\n      <th>13797</th>\n      <td>Toyota Corolla</td>\n      <td>2007</td>\n      <td>Lagos</td>\n      <td>NaN</td>\n      <td>foreign</td>\n      <td>2545000</td>\n      <td>92000</td>\n    </tr>\n    <tr>\n      <th>13798</th>\n      <td>Toyota Avalon</td>\n      <td>2007</td>\n      <td>Lagos</td>\n      <td>NaN</td>\n      <td>foreign</td>\n      <td>3120000</td>\n      <td>73838</td>\n    </tr>\n    <tr>\n      <th>13799</th>\n      <td>Toyota Venza</td>\n      <td>2010</td>\n      <td>Lagos</td>\n      <td>NaN</td>\n      <td>foreign</td>\n      <td>0</td>\n      <td>0</td>\n    </tr>\n  </tbody>\n</table>\n<p>13800 rows × 7 columns</p>\n</div>"
     },
     "metadata": {},
     "execution_count": 29
    }
   ],
   "source": [
    "data_auto"
   ]
  },
  {
   "cell_type": "code",
   "execution_count": 30,
   "metadata": {},
   "outputs": [],
   "source": [
    "data_auto['Transmission'] ='Automatic'"
   ]
  },
  {
   "cell_type": "code",
   "execution_count": 31,
   "metadata": {},
   "outputs": [
    {
     "output_type": "execute_result",
     "data": {
      "text/plain": [
       "717500        0    Automatic  \n",
       "13797           2545000    92000    Automatic  \n",
       "13798           3120000    73838    Automatic  \n",
       "13799                 0        0    Automatic  \n",
       "\n",
       "[13800 rows x 8 columns]"
      ],
      "text/html": "<div>\n<style scoped>\n    .dataframe tbody tr th:only-of-type {\n        vertical-align: middle;\n    }\n\n    .dataframe tbody tr th {\n        vertical-align: top;\n    }\n\n    .dataframe thead th {\n        text-align: right;\n    }\n</style>\n<table border=\"1\" class=\"dataframe\">\n  <thead>\n    <tr style=\"text-align: right;\">\n      <th></th>\n      <th>title</th>\n      <th>year</th>\n      <th>city</th>\n      <th>gradeScore</th>\n      <th>sellingCondition</th>\n      <th>marketplacePrice</th>\n      <th>mileage</th>\n      <th>Transmission</th>\n    </tr>\n  </thead>\n  <tbody>\n    <tr>\n      <th>0</th>\n      <td>Honda Accord</td>\n      <td>2015</td>\n      <td>Abia</td>\n      <td>4.7</td>\n      <td>foreign</td>\n      <td>4965000</td>\n      <td>149232</td>\n      <td>Automatic</td>\n    </tr>\n    <tr>\n      <th>1</th>\n      <td>Toyota Corolla</td>\n      <td>2005</td>\n      <td>Accra</td>\n      <td>4.4</td>\n      <td>local</td>\n      <td>1280000</td>\n      <td>145078</td>\n      <td>Automatic</td>\n    </tr>\n    <tr>\n      <th>2</th>\n      <td>Toyota Corolla</td>\n      <td>2008</td>\n      <td>Accra</td>\n      <td>4.6</td>\n      <td>local</td>\n      <td>1280000</td>\n      <td>91691</td>\n      <td>Automatic</td>\n    </tr>\n    <tr>\n      <th>3</th>\n      <td>Toyota Corolla</td>\n      <td>2004</td>\n      <td>Lagos</td>\n      <td>4.5</td>\n      <td>local</td>\n      <td>1567500</td>\n      <td>234797</td>\n      <td>Automatic</td>\n    </tr>\n    <tr>\n      <th>4</th>\n      <td>Hyundai Azera</td>\n      <td>2013</td>\n      <td>Lagos</td>\n      <td>4.8</td>\n      <td>foreign</td>\n      <td>6065000</td>\n      <td>145678</td>\n      <td>Automatic</td>\n    </tr>\n    <tr>\n      <th>...</th>\n      <td>...</td>\n      <td>...</td>\n      <td>...</td>\n      <td>...</td>\n      <td>...</td>\n      <td>...</td>\n      <td>...</td>\n      <td>...</td>\n    </tr>\n    <tr>\n      <th>13795</th>\n      <td>Lexus RX 350</td>\n      <td>2010</td>\n      <td>Lagos</td>\n      <td>NaN</td>\n      <td>foreign</td>\n      <td>5735000</td>\n      <td>0</td>\n      <td>Automatic</td>\n    </tr>\n    <tr>\n      <th>13796</th>\n      <td>Lexus RX 200</td>\n      <td>2003</td>\n      <td>Lagos</td>\n      <td>NaN</td>\n      <td>foreign</td>\n      <td>2717500</td>\n      <td>0</td>\n      <td>Automatic</td>\n    </tr>\n    <tr>\n      <th>13797</th>\n      <td>Toyota Corolla</td>\n      <td>2007</td>\n      <td>Lagos</td>\n      <td>NaN</td>\n      <td>foreign</td>\n      <td>2545000</td>\n      <td>92000</td>\n      <td>Automatic</td>\n    </tr>\n    <tr>\n      <th>13798</th>\n      <td>Toyota Avalon</td>\n      <td>2007</td>\n      <td>Lagos</td>\n      <td>NaN</td>\n      <td>foreign</td>\n      <td>3120000</td>\n      <td>73838</td>\n      <td>Automatic</td>\n    </tr>\n    <tr>\n      <th>13799</th>\n      <td>Toyota Venza</td>\n      <td>2010</td>\n      <td>Lagos</td>\n      <td>NaN</td>\n      <td>foreign</td>\n      <td>0</td>\n      <td>0</td>\n      <td>Automatic</td>\n    </tr>\n  </tbody>\n</table>\n<p>13800 rows × 8 columns</p>\n</div>"
     },
     "metadata": {},
     "execution_count": 31
    }
   ],
   "source": [
    "data_auto"
   ]
  },
  {
   "cell_type": "code",
   "execution_count": 32,
   "metadata": {},
   "outputs": [],
   "source": [
    "page_link_manual = ('https://autochek.africa/cars-for-sale?page_number=1&page_size=395&transmission=manual')\n",
    "r_manual = requests.get(page_link_manual)\n",
    "soup_manual = BeautifulSoup(r_manual.text, 'html.parser')"
   ]
  },
  {
   "cell_type": "code",
   "execution_count": 33,
   "metadata": {},
   "outputs": [],
   "source": [
    "p_manual = soup_manual.find_all('script',id=\"__NEXT_DATA__\")\n",
    "paragraphs_manual = []\n",
    "for x in p_manual:\n",
    "    paragraphs_manual.append(str(x))"
   ]
  },
  {
   "cell_type": "code",
   "execution_count": 34,
   "metadata": {},
   "outputs": [
    {
     "output_type": "execute_result",
     "data": {
      "text/plain": [
       "dict_keys(['props', 'page', 'query', 'buildId', 'isFallback', 'gssp', 'appGip', 'locale', 'locales', 'defaultLocale', 'head'])"
      ]
     },
     "metadata": {},
     "execution_count": 34
    }
   ],
   "source": [
    "data_manual = json.loads(x.string)\n",
    "data_manual.keys()"
   ]
  },
  {
   "cell_type": "code",
   "execution_count": 35,
   "metadata": {},
   "outputs": [],
   "source": [
    "g_manual= pd.DataFrame(data_manual['props']['pageProps']['cars'])"
   ]
  },
  {
   "cell_type": "code",
   "execution_count": 36,
   "metadata": {},
   "outputs": [
    {
     "output_type": "execute_result",
     "data": {
      "text/plain": [
       "  0  \n",
       "1            0  \n",
       "2            0  \n",
       "3            0  \n",
       "4            0  \n",
       "..         ...  \n",
       "390          0  \n",
       "391          0  \n",
       "392          0  \n",
       "393          0  \n",
       "394          0  \n",
       "\n",
       "[395 rows x 16 columns]"
      ],
      "text/html": "<div>\n<style scoped>\n    .dataframe tbody tr th:only-of-type {\n        vertical-align: middle;\n    }\n\n    .dataframe tbody tr th {\n        vertical-align: top;\n    }\n\n    .dataframe thead th {\n        text-align: right;\n    }\n</style>\n<table border=\"1\" class=\"dataframe\">\n  <thead>\n    <tr style=\"text-align: right;\">\n      <th></th>\n      <th>id</th>\n      <th>title</th>\n      <th>imageUrl</th>\n      <th>year</th>\n      <th>city</th>\n      <th>state</th>\n      <th>sellingCondition</th>\n      <th>hasWarranty</th>\n      <th>marketplacePrice</th>\n      <th>marketplaceOldPrice</th>\n      <th>hasFinancing</th>\n      <th>mileage</th>\n      <th>mileageUnit</th>\n      <th>installment</th>\n      <th>depositReceived</th>\n      <th>loanValue</th>\n    </tr>\n  </thead>\n  <tbody>\n    <tr>\n      <th>0</th>\n      <td>pHlaBhpHOIuaeS2FlRLmaQ</td>\n      <td>Toyota Dyna</td>\n      <td>https://storage.googleapis.com/ng.img.autochek...</td>\n      <td>2000</td>\n      <td>Lagos</td>\n      <td>Lagos</td>\n      <td>foreign</td>\n      <td>False</td>\n      <td>2947500</td>\n      <td>0</td>\n      <td>False</td>\n      <td>152431</td>\n      <td>km</td>\n      <td>0</td>\n      <td>False</td>\n      <td>0</td>\n    </tr>\n    <tr>\n      <th>1</th>\n      <td>pj8sf5DSkTN5Phbghw1B6Q</td>\n      <td>Volkswagen LT</td>\n      <td>https://storage.googleapis.com/ng.img.autochek...</td>\n      <td>2005</td>\n      <td>Lagos</td>\n      <td>Lagos</td>\n      <td>foreign</td>\n      <td>False</td>\n      <td>3865000</td>\n      <td>0</td>\n      <td>False</td>\n      <td>64462</td>\n      <td>km</td>\n      <td>0</td>\n      <td>False</td>\n      <td>0</td>\n    </tr>\n    <tr>\n      <th>2</th>\n      <td>pkJvXIFTMNbtZ8Qxlj3Ew</td>\n      <td>Fiat Ducato</td>\n      <td>https://storage.googleapis.com/ng.img.autochek...</td>\n      <td>2004</td>\n      <td>Rivers</td>\n      <td>Rivers</td>\n      <td>foreign</td>\n      <td>False</td>\n      <td>2487500</td>\n      <td>0</td>\n      <td>False</td>\n      <td>216000</td>\n      <td>km</td>\n      <td>0</td>\n      <td>False</td>\n      <td>0</td>\n    </tr>\n    <tr>\n      <th>3</th>\n      <td>plsxyGp3CgaVoNsqJj7zTA</td>\n      <td>Ford Transit</td>\n      <td>https://storage.googleapis.com/ng.img.autochek...</td>\n      <td>2006</td>\n      <td>Lagos</td>\n      <td>Lagos</td>\n      <td>foreign</td>\n      <td>False</td>\n      <td>2775000</td>\n      <td>0</td>\n      <td>False</td>\n      <td>0</td>\n      <td>km</td>\n      <td>0</td>\n      <td>False</td>\n      <td>0</td>\n    </tr>\n    <tr>\n      <th>4</th>\n      <td>PlyKefEr9VDg3gCkDoxlA</td>\n      <td>Ford Everest</td>\n      <td>https://storage.googleapis.com/ng.img.autochek...</td>\n      <td>2012</td>\n      <td>Lagos</td>\n      <td>Lagos</td>\n      <td>foreign</td>\n      <td>False</td>\n      <td>1625000</td>\n      <td>0</td>\n      <td>False</td>\n      <td>85878</td>\n      <td>km</td>\n      <td>0</td>\n      <td>False</td>\n      <td>0</td>\n    </tr>\n    <tr>\n      <th>...</th>\n      <td>...</td>\n      <td>...</td>\n      <td>...</td>\n      <td>...</td>\n      <td>...</td>\n      <td>...</td>\n      <td>...</td>\n      <td>...</td>\n      <td>...</td>\n      <td>...</td>\n      <td>...</td>\n      <td>...</td>\n      <td>...</td>\n      <td>...</td>\n      <td>...</td>\n      <td>...</td>\n    </tr>\n    <tr>\n      <th>390</th>\n      <td>UnYML1VI46mcbHAzg5Nbg</td>\n      <td>Volkswagen T5 Transporter</td>\n      <td>https://storage.googleapis.com/ng.img.autochek...</td>\n      <td>2005</td>\n      <td>Lagos</td>\n      <td>Lagos</td>\n      <td>foreign</td>\n      <td>False</td>\n      <td>2890000</td>\n      <td>0</td>\n      <td>False</td>\n      <td>0</td>\n      <td>km</td>\n      <td>0</td>\n      <td>False</td>\n      <td>0</td>\n    </tr>\n    <tr>\n      <th>391</th>\n      <td>UqUE3hWRY2uoxU2FOwjItQ</td>\n      <td>Volkswagen LT</td>\n      <td>https://storage.googleapis.com/ng.img.autochek...</td>\n      <td>2005</td>\n      <td>Lagos</td>\n      <td>Lagos</td>\n      <td>foreign</td>\n      <td>False</td>\n      <td>0</td>\n      <td>0</td>\n      <td>False</td>\n      <td>123442</td>\n      <td>km</td>\n      <td>0</td>\n      <td>False</td>\n      <td>0</td>\n    </tr>\n    <tr>\n      <th>392</th>\n      <td>UrC2ieWxDb1UJ1SII6rEg</td>\n      <td>Volkswagen T5 Transporter</td>\n      <td>https://storage.googleapis.com/ng.img.autochek...</td>\n      <td>2002</td>\n      <td>Lagos</td>\n      <td>Lagos</td>\n      <td>foreign</td>\n      <td>False</td>\n      <td>2315000</td>\n      <td>0</td>\n      <td>False</td>\n      <td>0</td>\n      <td>km</td>\n      <td>0</td>\n      <td>False</td>\n      <td>0</td>\n    </tr>\n    <tr>\n      <th>393</th>\n      <td>uRgQVqJGU0oyRGOWzEi5cQ</td>\n      <td>Volkswagen T5 Transporter</td>\n      <td>https://storage.googleapis.com/ng.img.autochek...</td>\n      <td>2003</td>\n      <td>Lagos</td>\n      <td>Lagos</td>\n      <td>foreign</td>\n      <td>False</td>\n      <td>1970000</td>\n      <td>0</td>\n      <td>False</td>\n      <td>0</td>\n      <td>km</td>\n      <td>0</td>\n      <td>False</td>\n      <td>0</td>\n    </tr>\n    <tr>\n      <th>394</th>\n      <td>urQ9ejKAiBsVvl7cpWxjoQ</td>\n      <td>Toyota Hiace</td>\n      <td>https://storage.googleapis.com/ng.img.autochek...</td>\n      <td>2012</td>\n      <td>Lagos</td>\n      <td>Lagos</td>\n      <td>foreign</td>\n      <td>False</td>\n      <td>8265000</td>\n      <td>0</td>\n      <td>False</td>\n      <td>0</td>\n      <td>km</td>\n      <td>0</td>\n      <td>False</td>\n      <td>0</td>\n    </tr>\n  </tbody>\n</table>\n<p>395 rows × 16 columns</p>\n</div>"
     },
     "metadata": {},
     "execution_count": 36
    }
   ],
   "source": [
    "g_manual"
   ]
  },
  {
   "cell_type": "code",
   "execution_count": 37,
   "metadata": {},
   "outputs": [],
   "source": [
    "data_manual=g_manual.drop(['id','imageUrl', 'state', 'hasWarranty', 'marketplaceOldPrice','hasFinancing',\"mileageUnit\", \"installment\" ,\"depositReceived\" ,\"loanValue\"],axis=1)"
   ]
  },
  {
   "cell_type": "code",
   "execution_count": 38,
   "metadata": {},
   "outputs": [
    {
     "output_type": "execute_result",
     "data": {
      "text/plain": [
       "      ...  \n",
       "390           2890000        0  \n",
       "391                 0   123442  \n",
       "392           2315000        0  \n",
       "393           1970000        0  \n",
       "394           8265000        0  \n",
       "\n",
       "[395 rows x 6 columns]"
      ],
      "text/html": "<div>\n<style scoped>\n    .dataframe tbody tr th:only-of-type {\n        vertical-align: middle;\n    }\n\n    .dataframe tbody tr th {\n        vertical-align: top;\n    }\n\n    .dataframe thead th {\n        text-align: right;\n    }\n</style>\n<table border=\"1\" class=\"dataframe\">\n  <thead>\n    <tr style=\"text-align: right;\">\n      <th></th>\n      <th>title</th>\n      <th>year</th>\n      <th>city</th>\n      <th>sellingCondition</th>\n      <th>marketplacePrice</th>\n      <th>mileage</th>\n    </tr>\n  </thead>\n  <tbody>\n    <tr>\n      <th>0</th>\n      <td>Toyota Dyna</td>\n      <td>2000</td>\n      <td>Lagos</td>\n      <td>foreign</td>\n      <td>2947500</td>\n      <td>152431</td>\n    </tr>\n    <tr>\n      <th>1</th>\n      <td>Volkswagen LT</td>\n      <td>2005</td>\n      <td>Lagos</td>\n      <td>foreign</td>\n      <td>3865000</td>\n      <td>64462</td>\n    </tr>\n    <tr>\n      <th>2</th>\n      <td>Fiat Ducato</td>\n      <td>2004</td>\n      <td>Rivers</td>\n      <td>foreign</td>\n      <td>2487500</td>\n      <td>216000</td>\n    </tr>\n    <tr>\n      <th>3</th>\n      <td>Ford Transit</td>\n      <td>2006</td>\n      <td>Lagos</td>\n      <td>foreign</td>\n      <td>2775000</td>\n      <td>0</td>\n    </tr>\n    <tr>\n      <th>4</th>\n      <td>Ford Everest</td>\n      <td>2012</td>\n      <td>Lagos</td>\n      <td>foreign</td>\n      <td>1625000</td>\n      <td>85878</td>\n    </tr>\n    <tr>\n      <th>...</th>\n      <td>...</td>\n      <td>...</td>\n      <td>...</td>\n      <td>...</td>\n      <td>...</td>\n      <td>...</td>\n    </tr>\n    <tr>\n      <th>390</th>\n      <td>Volkswagen T5 Transporter</td>\n      <td>2005</td>\n      <td>Lagos</td>\n      <td>foreign</td>\n      <td>2890000</td>\n      <td>0</td>\n    </tr>\n    <tr>\n      <th>391</th>\n      <td>Volkswagen LT</td>\n      <td>2005</td>\n      <td>Lagos</td>\n      <td>foreign</td>\n      <td>0</td>\n      <td>123442</td>\n    </tr>\n    <tr>\n      <th>392</th>\n      <td>Volkswagen T5 Transporter</td>\n      <td>2002</td>\n      <td>Lagos</td>\n      <td>foreign</td>\n      <td>2315000</td>\n      <td>0</td>\n    </tr>\n    <tr>\n      <th>393</th>\n      <td>Volkswagen T5 Transporter</td>\n      <td>2003</td>\n      <td>Lagos</td>\n      <td>foreign</td>\n      <td>1970000</td>\n      <td>0</td>\n    </tr>\n    <tr>\n      <th>394</th>\n      <td>Toyota Hiace</td>\n      <td>2012</td>\n      <td>Lagos</td>\n      <td>foreign</td>\n      <td>8265000</td>\n      <td>0</td>\n    </tr>\n  </tbody>\n</table>\n<p>395 rows × 6 columns</p>\n</div>"
     },
     "metadata": {},
     "execution_count": 38
    }
   ],
   "source": [
    "data_manual"
   ]
  },
  {
   "cell_type": "code",
   "execution_count": 39,
   "metadata": {},
   "outputs": [],
   "source": [
    "## the \"gradeScore\" is set to 0 when we filtered by manual so we have to input here manually \n",
    "data_manual['Transmission'] ='Manual'\n",
    "data_manual[\"gradeScore\"]= 0"
   ]
  },
  {
   "cell_type": "code",
   "execution_count": 40,
   "metadata": {},
   "outputs": [
    {
     "output_type": "execute_result",
     "data": {
      "text/plain": [
       "  \n",
       "392           2315000        0       Manual           0  \n",
       "393           1970000        0       Manual           0  \n",
       "394           8265000        0       Manual           0  \n",
       "\n",
       "[395 rows x 8 columns]"
      ],
      "text/html": "<div>\n<style scoped>\n    .dataframe tbody tr th:only-of-type {\n        vertical-align: middle;\n    }\n\n    .dataframe tbody tr th {\n        vertical-align: top;\n    }\n\n    .dataframe thead th {\n        text-align: right;\n    }\n</style>\n<table border=\"1\" class=\"dataframe\">\n  <thead>\n    <tr style=\"text-align: right;\">\n      <th></th>\n      <th>title</th>\n      <th>year</th>\n      <th>city</th>\n      <th>sellingCondition</th>\n      <th>marketplacePrice</th>\n      <th>mileage</th>\n      <th>Transmission</th>\n      <th>gradeScore</th>\n    </tr>\n  </thead>\n  <tbody>\n    <tr>\n      <th>0</th>\n      <td>Toyota Dyna</td>\n      <td>2000</td>\n      <td>Lagos</td>\n      <td>foreign</td>\n      <td>2947500</td>\n      <td>152431</td>\n      <td>Manual</td>\n      <td>0</td>\n    </tr>\n    <tr>\n      <th>1</th>\n      <td>Volkswagen LT</td>\n      <td>2005</td>\n      <td>Lagos</td>\n      <td>foreign</td>\n      <td>3865000</td>\n      <td>64462</td>\n      <td>Manual</td>\n      <td>0</td>\n    </tr>\n    <tr>\n      <th>2</th>\n      <td>Fiat Ducato</td>\n      <td>2004</td>\n      <td>Rivers</td>\n      <td>foreign</td>\n      <td>2487500</td>\n      <td>216000</td>\n      <td>Manual</td>\n      <td>0</td>\n    </tr>\n    <tr>\n      <th>3</th>\n      <td>Ford Transit</td>\n      <td>2006</td>\n      <td>Lagos</td>\n      <td>foreign</td>\n      <td>2775000</td>\n      <td>0</td>\n      <td>Manual</td>\n      <td>0</td>\n    </tr>\n    <tr>\n      <th>4</th>\n      <td>Ford Everest</td>\n      <td>2012</td>\n      <td>Lagos</td>\n      <td>foreign</td>\n      <td>1625000</td>\n      <td>85878</td>\n      <td>Manual</td>\n      <td>0</td>\n    </tr>\n    <tr>\n      <th>...</th>\n      <td>...</td>\n      <td>...</td>\n      <td>...</td>\n      <td>...</td>\n      <td>...</td>\n      <td>...</td>\n      <td>...</td>\n      <td>...</td>\n    </tr>\n    <tr>\n      <th>390</th>\n      <td>Volkswagen T5 Transporter</td>\n      <td>2005</td>\n      <td>Lagos</td>\n      <td>foreign</td>\n      <td>2890000</td>\n      <td>0</td>\n      <td>Manual</td>\n      <td>0</td>\n    </tr>\n    <tr>\n      <th>391</th>\n      <td>Volkswagen LT</td>\n      <td>2005</td>\n      <td>Lagos</td>\n      <td>foreign</td>\n      <td>0</td>\n      <td>123442</td>\n      <td>Manual</td>\n      <td>0</td>\n    </tr>\n    <tr>\n      <th>392</th>\n      <td>Volkswagen T5 Transporter</td>\n      <td>2002</td>\n      <td>Lagos</td>\n      <td>foreign</td>\n      <td>2315000</td>\n      <td>0</td>\n      <td>Manual</td>\n      <td>0</td>\n    </tr>\n    <tr>\n      <th>393</th>\n      <td>Volkswagen T5 Transporter</td>\n      <td>2003</td>\n      <td>Lagos</td>\n      <td>foreign</td>\n      <td>1970000</td>\n      <td>0</td>\n      <td>Manual</td>\n      <td>0</td>\n    </tr>\n    <tr>\n      <th>394</th>\n      <td>Toyota Hiace</td>\n      <td>2012</td>\n      <td>Lagos</td>\n      <td>foreign</td>\n      <td>8265000</td>\n      <td>0</td>\n      <td>Manual</td>\n      <td>0</td>\n    </tr>\n  </tbody>\n</table>\n<p>395 rows × 8 columns</p>\n</div>"
     },
     "metadata": {},
     "execution_count": 40
    }
   ],
   "source": [
    "data_manual"
   ]
  },
  {
   "cell_type": "code",
   "execution_count": 41,
   "metadata": {},
   "outputs": [],
   "source": [
    "full_car=[data_auto,data_manual]"
   ]
  },
  {
   "cell_type": "code",
   "execution_count": 42,
   "metadata": {},
   "outputs": [],
   "source": [
    "cars=pd.concat(full_car)"
   ]
  },
  {
   "cell_type": "code",
   "execution_count": 43,
   "metadata": {},
   "outputs": [
    {
     "output_type": "execute_result",
     "data": {
      "text/plain": [
       "           0   123442       Manual  \n",
       "392           2315000        0       Manual  \n",
       "393           1970000        0       Manual  \n",
       "394           8265000        0       Manual  \n",
       "\n",
       "[14195 rows x 8 columns]"
      ],
      "text/html": "<div>\n<style scoped>\n    .dataframe tbody tr th:only-of-type {\n        vertical-align: middle;\n    }\n\n    .dataframe tbody tr th {\n        vertical-align: top;\n    }\n\n    .dataframe thead th {\n        text-align: right;\n    }\n</style>\n<table border=\"1\" class=\"dataframe\">\n  <thead>\n    <tr style=\"text-align: right;\">\n      <th></th>\n      <th>title</th>\n      <th>year</th>\n      <th>city</th>\n      <th>gradeScore</th>\n      <th>sellingCondition</th>\n      <th>marketplacePrice</th>\n      <th>mileage</th>\n      <th>Transmission</th>\n    </tr>\n  </thead>\n  <tbody>\n    <tr>\n      <th>0</th>\n      <td>Honda Accord</td>\n      <td>2015</td>\n      <td>Abia</td>\n      <td>4.7</td>\n      <td>foreign</td>\n      <td>4965000</td>\n      <td>149232</td>\n      <td>Automatic</td>\n    </tr>\n    <tr>\n      <th>1</th>\n      <td>Toyota Corolla</td>\n      <td>2005</td>\n      <td>Accra</td>\n      <td>4.4</td>\n      <td>local</td>\n      <td>1280000</td>\n      <td>145078</td>\n      <td>Automatic</td>\n    </tr>\n    <tr>\n      <th>2</th>\n      <td>Toyota Corolla</td>\n      <td>2008</td>\n      <td>Accra</td>\n      <td>4.6</td>\n      <td>local</td>\n      <td>1280000</td>\n      <td>91691</td>\n      <td>Automatic</td>\n    </tr>\n    <tr>\n      <th>3</th>\n      <td>Toyota Corolla</td>\n      <td>2004</td>\n      <td>Lagos</td>\n      <td>4.5</td>\n      <td>local</td>\n      <td>1567500</td>\n      <td>234797</td>\n      <td>Automatic</td>\n    </tr>\n    <tr>\n      <th>4</th>\n      <td>Hyundai Azera</td>\n      <td>2013</td>\n      <td>Lagos</td>\n      <td>4.8</td>\n      <td>foreign</td>\n      <td>6065000</td>\n      <td>145678</td>\n      <td>Automatic</td>\n    </tr>\n    <tr>\n      <th>...</th>\n      <td>...</td>\n      <td>...</td>\n      <td>...</td>\n      <td>...</td>\n      <td>...</td>\n      <td>...</td>\n      <td>...</td>\n      <td>...</td>\n    </tr>\n    <tr>\n      <th>390</th>\n      <td>Volkswagen T5 Transporter</td>\n      <td>2005</td>\n      <td>Lagos</td>\n      <td>0.0</td>\n      <td>foreign</td>\n      <td>2890000</td>\n      <td>0</td>\n      <td>Manual</td>\n    </tr>\n    <tr>\n      <th>391</th>\n      <td>Volkswagen LT</td>\n      <td>2005</td>\n      <td>Lagos</td>\n      <td>0.0</td>\n      <td>foreign</td>\n      <td>0</td>\n      <td>123442</td>\n      <td>Manual</td>\n    </tr>\n    <tr>\n      <th>392</th>\n      <td>Volkswagen T5 Transporter</td>\n      <td>2002</td>\n      <td>Lagos</td>\n      <td>0.0</td>\n      <td>foreign</td>\n      <td>2315000</td>\n      <td>0</td>\n      <td>Manual</td>\n    </tr>\n    <tr>\n      <th>393</th>\n      <td>Volkswagen T5 Transporter</td>\n      <td>2003</td>\n      <td>Lagos</td>\n      <td>0.0</td>\n      <td>foreign</td>\n      <td>1970000</td>\n      <td>0</td>\n      <td>Manual</td>\n    </tr>\n    <tr>\n      <th>394</th>\n      <td>Toyota Hiace</td>\n      <td>2012</td>\n      <td>Lagos</td>\n      <td>0.0</td>\n      <td>foreign</td>\n      <td>8265000</td>\n      <td>0</td>\n      <td>Manual</td>\n    </tr>\n  </tbody>\n</table>\n<p>14195 rows × 8 columns</p>\n</div>"
     },
     "metadata": {},
     "execution_count": 43
    }
   ],
   "source": [
    "cars"
   ]
  },
  {
   "cell_type": "code",
   "execution_count": 48,
   "metadata": {},
   "outputs": [],
   "source": [
    "cars[['make','model']] = pd.DataFrame(cars.title.str.split(' ',1).tolist(),\n",
    "                                 columns = ['make','model'])\n"
   ]
  },
  {
   "cell_type": "code",
   "execution_count": 50,
   "metadata": {},
   "outputs": [
    {
     "output_type": "execute_result",
     "data": {
      "text/plain": [
       "  \n",
       "391       Manual          Lexus   RX 350  \n",
       "392       Manual        Porsche  Cayenne  \n",
       "393       Manual  Mercedes-Benz    C 180  \n",
       "394       Manual         Toyota    Camry  \n",
       "\n",
       "[14195 rows x 9 columns]"
      ],
      "text/html": "<div>\n<style scoped>\n    .dataframe tbody tr th:only-of-type {\n        vertical-align: middle;\n    }\n\n    .dataframe tbody tr th {\n        vertical-align: top;\n    }\n\n    .dataframe thead th {\n        text-align: right;\n    }\n</style>\n<table border=\"1\" class=\"dataframe\">\n  <thead>\n    <tr style=\"text-align: right;\">\n      <th></th>\n      <th>year</th>\n      <th>city</th>\n      <th>gradeScore</th>\n      <th>sellingCondition</th>\n      <th>marketplacePrice</th>\n      <th>mileage</th>\n      <th>Transmission</th>\n      <th>make</th>\n      <th>model</th>\n    </tr>\n  </thead>\n  <tbody>\n    <tr>\n      <th>0</th>\n      <td>2015</td>\n      <td>Abia</td>\n      <td>4.7</td>\n      <td>foreign</td>\n      <td>4965000</td>\n      <td>149232</td>\n      <td>Automatic</td>\n      <td>Honda</td>\n      <td>Accord</td>\n    </tr>\n    <tr>\n      <th>1</th>\n      <td>2005</td>\n      <td>Accra</td>\n      <td>4.4</td>\n      <td>local</td>\n      <td>1280000</td>\n      <td>145078</td>\n      <td>Automatic</td>\n      <td>Toyota</td>\n      <td>Corolla</td>\n    </tr>\n    <tr>\n      <th>2</th>\n      <td>2008</td>\n      <td>Accra</td>\n      <td>4.6</td>\n      <td>local</td>\n      <td>1280000</td>\n      <td>91691</td>\n      <td>Automatic</td>\n      <td>Toyota</td>\n      <td>Corolla</td>\n    </tr>\n    <tr>\n      <th>3</th>\n      <td>2004</td>\n      <td>Lagos</td>\n      <td>4.5</td>\n      <td>local</td>\n      <td>1567500</td>\n      <td>234797</td>\n      <td>Automatic</td>\n      <td>Toyota</td>\n      <td>Corolla</td>\n    </tr>\n    <tr>\n      <th>4</th>\n      <td>2013</td>\n      <td>Lagos</td>\n      <td>4.8</td>\n      <td>foreign</td>\n      <td>6065000</td>\n      <td>145678</td>\n      <td>Automatic</td>\n      <td>Hyundai</td>\n      <td>Azera</td>\n    </tr>\n    <tr>\n      <th>...</th>\n      <td>...</td>\n      <td>...</td>\n      <td>...</td>\n      <td>...</td>\n      <td>...</td>\n      <td>...</td>\n      <td>...</td>\n      <td>...</td>\n      <td>...</td>\n    </tr>\n    <tr>\n      <th>390</th>\n      <td>2005</td>\n      <td>Lagos</td>\n      <td>0.0</td>\n      <td>foreign</td>\n      <td>2890000</td>\n      <td>0</td>\n      <td>Manual</td>\n      <td>Toyota</td>\n      <td>Corolla</td>\n    </tr>\n    <tr>\n      <th>391</th>\n      <td>2005</td>\n      <td>Lagos</td>\n      <td>0.0</td>\n      <td>foreign</td>\n      <td>0</td>\n      <td>123442</td>\n      <td>Manual</td>\n      <td>Lexus</td>\n      <td>RX 350</td>\n    </tr>\n    <tr>\n      <th>392</th>\n      <td>2002</td>\n      <td>Lagos</td>\n      <td>0.0</td>\n      <td>foreign</td>\n      <td>2315000</td>\n      <td>0</td>\n      <td>Manual</td>\n      <td>Porsche</td>\n      <td>Cayenne</td>\n    </tr>\n    <tr>\n      <th>393</th>\n      <td>2003</td>\n      <td>Lagos</td>\n      <td>0.0</td>\n      <td>foreign</td>\n      <td>1970000</td>\n      <td>0</td>\n      <td>Manual</td>\n      <td>Mercedes-Benz</td>\n      <td>C 180</td>\n    </tr>\n    <tr>\n      <th>394</th>\n      <td>2012</td>\n      <td>Lagos</td>\n      <td>0.0</td>\n      <td>foreign</td>\n      <td>8265000</td>\n      <td>0</td>\n      <td>Manual</td>\n      <td>Toyota</td>\n      <td>Camry</td>\n    </tr>\n  </tbody>\n</table>\n<p>14195 rows × 9 columns</p>\n</div>"
     },
     "metadata": {},
     "execution_count": 50
    }
   ],
   "source": [
    "cars.drop(['title'],axis=1,inplace=True)\n",
    "cars"
   ]
  },
  {
   "cell_type": "code",
   "execution_count": 51,
   "metadata": {},
   "outputs": [],
   "source": [
    "cars.to_csv('./data/full_car.csv',header=True)"
   ]
  },
  {
   "cell_type": "code",
   "execution_count": null,
   "metadata": {},
   "outputs": [],
   "source": []
  }
 ]
}