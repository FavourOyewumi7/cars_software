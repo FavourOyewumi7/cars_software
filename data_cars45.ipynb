{
 "metadata": {
  "language_info": {
   "codemirror_mode": {
    "name": "ipython",
    "version": 3
   },
   "file_extension": ".py",
   "mimetype": "text/x-python",
   "name": "python",
   "nbconvert_exporter": "python",
   "pygments_lexer": "ipython3",
   "version": "3.8.3-final"
  },
  "orig_nbformat": 2,
  "kernelspec": {
   "name": "python3",
   "display_name": "Python 3"
  }
 },
 "nbformat": 4,
 "nbformat_minor": 2,
 "cells": [
  {
   "cell_type": "code",
   "execution_count": 80,
   "metadata": {},
   "outputs": [],
   "source": [
    "import pandas as pd\n",
    "import numpy as np\n",
    "from bs4 import BeautifulSoup\n",
    "import requests\n",
    "from urllib.request import urlopen\n",
    "import re\n",
    "import csv\n",
    "import json"
   ]
  },
  {
   "cell_type": "code",
   "execution_count": 81,
   "metadata": {},
   "outputs": [],
   "source": [
    "page_link_automatic = ('https://autochek.africa/cars-for-sale?page_number=1&page_size=13800&transmission=automatic')\n",
    "r_auto = requests.get(page_link_automatic)\n",
    "soup_auto = BeautifulSoup(r_auto.text, 'html.parser')\n"
   ]
  },
  {
   "cell_type": "code",
   "execution_count": 82,
   "metadata": {},
   "outputs": [],
   "source": [
    "p_auto = soup_auto.find_all('script',id=\"__NEXT_DATA__\")\n",
    "paragraphs_auto = []\n",
    "for x in p_auto:\n",
    "    paragraphs_auto.append(str(x))"
   ]
  },
  {
   "cell_type": "code",
   "execution_count": 83,
   "metadata": {},
   "outputs": [
    {
     "output_type": "execute_result",
     "data": {
      "text/plain": [
       "dict_keys(['props', 'page', 'query', 'buildId', 'isFallback', 'gssp', 'appGip', 'locale', 'locales', 'defaultLocale', 'head'])"
      ]
     },
     "metadata": {},
     "execution_count": 83
    }
   ],
   "source": [
    "data_auto = json.loads(x.string)\n",
    "data_auto.keys()"
   ]
  },
  {
   "cell_type": "code",
   "execution_count": 84,
   "metadata": {},
   "outputs": [
    {
     "output_type": "execute_result",
     "data": {
      "text/plain": [
       "           False        0.0  \n",
       "13796            False        0.0  \n",
       "13797            False        0.0  \n",
       "13798            False        0.0  \n",
       "13799            False        0.0  \n",
       "\n",
       "[13800 rows x 17 columns]"
      ],
      "text/html": "<div>\n<style scoped>\n    .dataframe tbody tr th:only-of-type {\n        vertical-align: middle;\n    }\n\n    .dataframe tbody tr th {\n        vertical-align: top;\n    }\n\n    .dataframe thead th {\n        text-align: right;\n    }\n</style>\n<table border=\"1\" class=\"dataframe\">\n  <thead>\n    <tr style=\"text-align: right;\">\n      <th></th>\n      <th>id</th>\n      <th>title</th>\n      <th>imageUrl</th>\n      <th>year</th>\n      <th>city</th>\n      <th>state</th>\n      <th>gradeScore</th>\n      <th>sellingCondition</th>\n      <th>hasWarranty</th>\n      <th>marketplacePrice</th>\n      <th>marketplaceOldPrice</th>\n      <th>hasFinancing</th>\n      <th>mileage</th>\n      <th>mileageUnit</th>\n      <th>installment</th>\n      <th>depositReceived</th>\n      <th>loanValue</th>\n    </tr>\n  </thead>\n  <tbody>\n    <tr>\n      <th>0</th>\n      <td>kxyznoA6_</td>\n      <td>Kia Cerato</td>\n      <td>https://storage.googleapis.com/img.autochek.af...</td>\n      <td>2014</td>\n      <td>Lagos</td>\n      <td>Lagos</td>\n      <td>5.0</td>\n      <td>foreign</td>\n      <td>False</td>\n      <td>3865000</td>\n      <td>0.0</td>\n      <td>False</td>\n      <td>48254</td>\n      <td>km</td>\n      <td>0.0</td>\n      <td>False</td>\n      <td>0.0</td>\n    </tr>\n    <tr>\n      <th>1</th>\n      <td>alsxnPR1_</td>\n      <td>Toyota Vitz</td>\n      <td>https://storage.googleapis.com/img.autochek.af...</td>\n      <td>2009</td>\n      <td>Lagos</td>\n      <td>Lagos</td>\n      <td>4.9</td>\n      <td>foreign</td>\n      <td>False</td>\n      <td>1855000</td>\n      <td>0.0</td>\n      <td>False</td>\n      <td>31742</td>\n      <td>km</td>\n      <td>0.0</td>\n      <td>False</td>\n      <td>0.0</td>\n    </tr>\n    <tr>\n      <th>2</th>\n      <td>Mi2ZkiYZK</td>\n      <td>Nissan X-Trail</td>\n      <td>https://storage.googleapis.com/img.autochek.af...</td>\n      <td>2015</td>\n      <td>Lagos</td>\n      <td>Lagos</td>\n      <td>5.0</td>\n      <td>local</td>\n      <td>False</td>\n      <td>4745000</td>\n      <td>4745000.0</td>\n      <td>False</td>\n      <td>40254</td>\n      <td>km</td>\n      <td>0.0</td>\n      <td>False</td>\n      <td>0.0</td>\n    </tr>\n    <tr>\n      <th>3</th>\n      <td>WGYVzW51s</td>\n      <td>Toyota Corolla</td>\n      <td>https://storage.googleapis.com/img.autochek.af...</td>\n      <td>2005</td>\n      <td>Lagos</td>\n      <td>Lagos</td>\n      <td>4.9</td>\n      <td>foreign</td>\n      <td>False</td>\n      <td>2545000</td>\n      <td>0.0</td>\n      <td>False</td>\n      <td>299999</td>\n      <td>km</td>\n      <td>0.0</td>\n      <td>False</td>\n      <td>0.0</td>\n    </tr>\n    <tr>\n      <th>4</th>\n      <td>i6-K7ddN6</td>\n      <td>Nissan Murano</td>\n      <td>https://storage.googleapis.com/img.autochek.af...</td>\n      <td>2004</td>\n      <td>Lagos</td>\n      <td>Lagos</td>\n      <td>3.3</td>\n      <td>local</td>\n      <td>False</td>\n      <td>705000</td>\n      <td>0.0</td>\n      <td>False</td>\n      <td>171039</td>\n      <td>km</td>\n      <td>0.0</td>\n      <td>False</td>\n      <td>0.0</td>\n    </tr>\n    <tr>\n      <th>...</th>\n      <td>...</td>\n      <td>...</td>\n      <td>...</td>\n      <td>...</td>\n      <td>...</td>\n      <td>...</td>\n      <td>...</td>\n      <td>...</td>\n      <td>...</td>\n      <td>...</td>\n      <td>...</td>\n      <td>...</td>\n      <td>...</td>\n      <td>...</td>\n      <td>...</td>\n      <td>...</td>\n      <td>...</td>\n    </tr>\n    <tr>\n      <th>13795</th>\n      <td>SEkWn49fBWGlKvZaDxp6gA</td>\n      <td>Toyota RAV 4</td>\n      <td>https://storage.googleapis.com/ng.img.autochek...</td>\n      <td>2011</td>\n      <td>Lagos</td>\n      <td>Lagos</td>\n      <td>NaN</td>\n      <td>foreign</td>\n      <td>False</td>\n      <td>4525000</td>\n      <td>0.0</td>\n      <td>False</td>\n      <td>0</td>\n      <td>km</td>\n      <td>0.0</td>\n      <td>False</td>\n      <td>0.0</td>\n    </tr>\n    <tr>\n      <th>13796</th>\n      <td>SgSlqfOG99IuKx3vlVRSEw</td>\n      <td>Toyota Highlander</td>\n      <td>https://storage.googleapis.com/ng.img.autochek...</td>\n      <td>2006</td>\n      <td>Lagos</td>\n      <td>Lagos</td>\n      <td>NaN</td>\n      <td>foreign</td>\n      <td>False</td>\n      <td>4085000</td>\n      <td>0.0</td>\n      <td>False</td>\n      <td>0</td>\n      <td>km</td>\n      <td>0.0</td>\n      <td>False</td>\n      <td>0.0</td>\n    </tr>\n    <tr>\n      <th>13797</th>\n      <td>sEpm0CepfYABcKoy5AlOQ</td>\n      <td>Honda CR-V</td>\n      <td>https://storage.googleapis.com/ng.img.autochek...</td>\n      <td>2018</td>\n      <td>Lagos</td>\n      <td>Lagos</td>\n      <td>NaN</td>\n      <td>foreign</td>\n      <td>False</td>\n      <td>18165000</td>\n      <td>0.0</td>\n      <td>False</td>\n      <td>28756</td>\n      <td>km</td>\n      <td>0.0</td>\n      <td>False</td>\n      <td>0.0</td>\n    </tr>\n    <tr>\n      <th>13798</th>\n      <td>SEQfkGElFaFgtXxZTyLKAQ</td>\n      <td>Acura MDX</td>\n      <td>https://storage.googleapis.com/ng.img.autochek...</td>\n      <td>2008</td>\n      <td>Lagos</td>\n      <td>Lagos</td>\n      <td>NaN</td>\n      <td>foreign</td>\n      <td>False</td>\n      <td>0</td>\n      <td>0.0</td>\n      <td>False</td>\n      <td>0</td>\n      <td>km</td>\n      <td>0.0</td>\n      <td>False</td>\n      <td>0.0</td>\n    </tr>\n    <tr>\n      <th>13799</th>\n      <td>sERabUFnEAJ3Asn7oZuKfA</td>\n      <td>Toyota Avalon</td>\n      <td>https://storage.googleapis.com/ng.img.autochek...</td>\n      <td>2008</td>\n      <td>Lagos</td>\n      <td>Lagos</td>\n      <td>NaN</td>\n      <td>foreign</td>\n      <td>False</td>\n      <td>3177500</td>\n      <td>0.0</td>\n      <td>False</td>\n      <td>91</td>\n      <td>km</td>\n      <td>0.0</td>\n      <td>False</td>\n      <td>0.0</td>\n    </tr>\n  </tbody>\n</table>\n<p>13800 rows × 17 columns</p>\n</div>"
     },
     "metadata": {},
     "execution_count": 84
    }
   ],
   "source": [
    "g_auto= pd.DataFrame(data_auto['props']['pageProps']['cars'])\n",
    "g_auto"
   ]
  },
  {
   "cell_type": "code",
   "execution_count": 85,
   "metadata": {},
   "outputs": [],
   "source": [
    "data_auto=g_auto.drop(['id','imageUrl', 'state', 'hasWarranty', \"gradeScore\",'marketplaceOldPrice','hasFinancing',\"mileageUnit\", \t\"installment\" ,\t\"depositReceived\" ,\t\"loanValue\"],axis=1)"
   ]
  },
  {
   "cell_type": "code",
   "execution_count": 86,
   "metadata": {},
   "outputs": [
    {
     "output_type": "execute_result",
     "data": {
      "text/plain": [
       "54  \n",
       "1        31742  \n",
       "2        40254  \n",
       "3       299999  \n",
       "4       171039  \n",
       "...        ...  \n",
       "13795        0  \n",
       "13796        0  \n",
       "13797    28756  \n",
       "13798        0  \n",
       "13799       91  \n",
       "\n",
       "[13800 rows x 6 columns]"
      ],
      "text/html": "<div>\n<style scoped>\n    .dataframe tbody tr th:only-of-type {\n        vertical-align: middle;\n    }\n\n    .dataframe tbody tr th {\n        vertical-align: top;\n    }\n\n    .dataframe thead th {\n        text-align: right;\n    }\n</style>\n<table border=\"1\" class=\"dataframe\">\n  <thead>\n    <tr style=\"text-align: right;\">\n      <th></th>\n      <th>title</th>\n      <th>year</th>\n      <th>city</th>\n      <th>sellingCondition</th>\n      <th>marketplacePrice</th>\n      <th>mileage</th>\n    </tr>\n  </thead>\n  <tbody>\n    <tr>\n      <th>0</th>\n      <td>Kia Cerato</td>\n      <td>2014</td>\n      <td>Lagos</td>\n      <td>foreign</td>\n      <td>3865000</td>\n      <td>48254</td>\n    </tr>\n    <tr>\n      <th>1</th>\n      <td>Toyota Vitz</td>\n      <td>2009</td>\n      <td>Lagos</td>\n      <td>foreign</td>\n      <td>1855000</td>\n      <td>31742</td>\n    </tr>\n    <tr>\n      <th>2</th>\n      <td>Nissan X-Trail</td>\n      <td>2015</td>\n      <td>Lagos</td>\n      <td>local</td>\n      <td>4745000</td>\n      <td>40254</td>\n    </tr>\n    <tr>\n      <th>3</th>\n      <td>Toyota Corolla</td>\n      <td>2005</td>\n      <td>Lagos</td>\n      <td>foreign</td>\n      <td>2545000</td>\n      <td>299999</td>\n    </tr>\n    <tr>\n      <th>4</th>\n      <td>Nissan Murano</td>\n      <td>2004</td>\n      <td>Lagos</td>\n      <td>local</td>\n      <td>705000</td>\n      <td>171039</td>\n    </tr>\n    <tr>\n      <th>...</th>\n      <td>...</td>\n      <td>...</td>\n      <td>...</td>\n      <td>...</td>\n      <td>...</td>\n      <td>...</td>\n    </tr>\n    <tr>\n      <th>13795</th>\n      <td>Toyota RAV 4</td>\n      <td>2011</td>\n      <td>Lagos</td>\n      <td>foreign</td>\n      <td>4525000</td>\n      <td>0</td>\n    </tr>\n    <tr>\n      <th>13796</th>\n      <td>Toyota Highlander</td>\n      <td>2006</td>\n      <td>Lagos</td>\n      <td>foreign</td>\n      <td>4085000</td>\n      <td>0</td>\n    </tr>\n    <tr>\n      <th>13797</th>\n      <td>Honda CR-V</td>\n      <td>2018</td>\n      <td>Lagos</td>\n      <td>foreign</td>\n      <td>18165000</td>\n      <td>28756</td>\n    </tr>\n    <tr>\n      <th>13798</th>\n      <td>Acura MDX</td>\n      <td>2008</td>\n      <td>Lagos</td>\n      <td>foreign</td>\n      <td>0</td>\n      <td>0</td>\n    </tr>\n    <tr>\n      <th>13799</th>\n      <td>Toyota Avalon</td>\n      <td>2008</td>\n      <td>Lagos</td>\n      <td>foreign</td>\n      <td>3177500</td>\n      <td>91</td>\n    </tr>\n  </tbody>\n</table>\n<p>13800 rows × 6 columns</p>\n</div>"
     },
     "metadata": {},
     "execution_count": 86
    }
   ],
   "source": [
    "data_auto"
   ]
  },
  {
   "cell_type": "code",
   "execution_count": 87,
   "metadata": {},
   "outputs": [],
   "source": [
    "data_auto['Transmission'] ='Automatic'"
   ]
  },
  {
   "cell_type": "code",
   "execution_count": 88,
   "metadata": {},
   "outputs": [
    {
     "output_type": "execute_result",
     "data": {
      "text/plain": [
       "      ...          ...  \n",
       "13795        0    Automatic  \n",
       "13796        0    Automatic  \n",
       "13797    28756    Automatic  \n",
       "13798        0    Automatic  \n",
       "13799       91    Automatic  \n",
       "\n",
       "[13800 rows x 7 columns]"
      ],
      "text/html": "<div>\n<style scoped>\n    .dataframe tbody tr th:only-of-type {\n        vertical-align: middle;\n    }\n\n    .dataframe tbody tr th {\n        vertical-align: top;\n    }\n\n    .dataframe thead th {\n        text-align: right;\n    }\n</style>\n<table border=\"1\" class=\"dataframe\">\n  <thead>\n    <tr style=\"text-align: right;\">\n      <th></th>\n      <th>title</th>\n      <th>year</th>\n      <th>city</th>\n      <th>sellingCondition</th>\n      <th>marketplacePrice</th>\n      <th>mileage</th>\n      <th>Transmission</th>\n    </tr>\n  </thead>\n  <tbody>\n    <tr>\n      <th>0</th>\n      <td>Kia Cerato</td>\n      <td>2014</td>\n      <td>Lagos</td>\n      <td>foreign</td>\n      <td>3865000</td>\n      <td>48254</td>\n      <td>Automatic</td>\n    </tr>\n    <tr>\n      <th>1</th>\n      <td>Toyota Vitz</td>\n      <td>2009</td>\n      <td>Lagos</td>\n      <td>foreign</td>\n      <td>1855000</td>\n      <td>31742</td>\n      <td>Automatic</td>\n    </tr>\n    <tr>\n      <th>2</th>\n      <td>Nissan X-Trail</td>\n      <td>2015</td>\n      <td>Lagos</td>\n      <td>local</td>\n      <td>4745000</td>\n      <td>40254</td>\n      <td>Automatic</td>\n    </tr>\n    <tr>\n      <th>3</th>\n      <td>Toyota Corolla</td>\n      <td>2005</td>\n      <td>Lagos</td>\n      <td>foreign</td>\n      <td>2545000</td>\n      <td>299999</td>\n      <td>Automatic</td>\n    </tr>\n    <tr>\n      <th>4</th>\n      <td>Nissan Murano</td>\n      <td>2004</td>\n      <td>Lagos</td>\n      <td>local</td>\n      <td>705000</td>\n      <td>171039</td>\n      <td>Automatic</td>\n    </tr>\n    <tr>\n      <th>...</th>\n      <td>...</td>\n      <td>...</td>\n      <td>...</td>\n      <td>...</td>\n      <td>...</td>\n      <td>...</td>\n      <td>...</td>\n    </tr>\n    <tr>\n      <th>13795</th>\n      <td>Toyota RAV 4</td>\n      <td>2011</td>\n      <td>Lagos</td>\n      <td>foreign</td>\n      <td>4525000</td>\n      <td>0</td>\n      <td>Automatic</td>\n    </tr>\n    <tr>\n      <th>13796</th>\n      <td>Toyota Highlander</td>\n      <td>2006</td>\n      <td>Lagos</td>\n      <td>foreign</td>\n      <td>4085000</td>\n      <td>0</td>\n      <td>Automatic</td>\n    </tr>\n    <tr>\n      <th>13797</th>\n      <td>Honda CR-V</td>\n      <td>2018</td>\n      <td>Lagos</td>\n      <td>foreign</td>\n      <td>18165000</td>\n      <td>28756</td>\n      <td>Automatic</td>\n    </tr>\n    <tr>\n      <th>13798</th>\n      <td>Acura MDX</td>\n      <td>2008</td>\n      <td>Lagos</td>\n      <td>foreign</td>\n      <td>0</td>\n      <td>0</td>\n      <td>Automatic</td>\n    </tr>\n    <tr>\n      <th>13799</th>\n      <td>Toyota Avalon</td>\n      <td>2008</td>\n      <td>Lagos</td>\n      <td>foreign</td>\n      <td>3177500</td>\n      <td>91</td>\n      <td>Automatic</td>\n    </tr>\n  </tbody>\n</table>\n<p>13800 rows × 7 columns</p>\n</div>"
     },
     "metadata": {},
     "execution_count": 88
    }
   ],
   "source": [
    "data_auto"
   ]
  },
  {
   "cell_type": "code",
   "execution_count": 89,
   "metadata": {},
   "outputs": [],
   "source": [
    "page_link_manual = ('https://autochek.africa/cars-for-sale?page_number=1&page_size=395&transmission=manual')\n",
    "r_manual = requests.get(page_link_manual)\n",
    "soup_manual = BeautifulSoup(r_manual.text, 'html.parser')"
   ]
  },
  {
   "cell_type": "code",
   "execution_count": 90,
   "metadata": {},
   "outputs": [],
   "source": [
    "p_manual = soup_manual.find_all('script',id=\"__NEXT_DATA__\")\n",
    "paragraphs_manual = []\n",
    "for x in p_manual:\n",
    "    paragraphs_manual.append(str(x))"
   ]
  },
  {
   "cell_type": "code",
   "execution_count": 91,
   "metadata": {},
   "outputs": [
    {
     "output_type": "execute_result",
     "data": {
      "text/plain": [
       "dict_keys(['props', 'page', 'query', 'buildId', 'isFallback', 'gssp', 'appGip', 'locale', 'locales', 'defaultLocale', 'head'])"
      ]
     },
     "metadata": {},
     "execution_count": 91
    }
   ],
   "source": [
    "data_manual = json.loads(x.string)\n",
    "data_manual.keys()"
   ]
  },
  {
   "cell_type": "code",
   "execution_count": 92,
   "metadata": {},
   "outputs": [],
   "source": [
    "g_manual= pd.DataFrame(data_manual['props']['pageProps']['cars'])"
   ]
  },
  {
   "cell_type": "code",
   "execution_count": 93,
   "metadata": {},
   "outputs": [
    {
     "output_type": "execute_result",
     "data": {
      "text/plain": [
       "  0  \n",
       "1            0  \n",
       "2            0  \n",
       "3            0  \n",
       "4            0  \n",
       "..         ...  \n",
       "390          0  \n",
       "391          0  \n",
       "392          0  \n",
       "393          0  \n",
       "394          0  \n",
       "\n",
       "[395 rows x 16 columns]"
      ],
      "text/html": "<div>\n<style scoped>\n    .dataframe tbody tr th:only-of-type {\n        vertical-align: middle;\n    }\n\n    .dataframe tbody tr th {\n        vertical-align: top;\n    }\n\n    .dataframe thead th {\n        text-align: right;\n    }\n</style>\n<table border=\"1\" class=\"dataframe\">\n  <thead>\n    <tr style=\"text-align: right;\">\n      <th></th>\n      <th>id</th>\n      <th>title</th>\n      <th>imageUrl</th>\n      <th>year</th>\n      <th>city</th>\n      <th>state</th>\n      <th>sellingCondition</th>\n      <th>hasWarranty</th>\n      <th>marketplacePrice</th>\n      <th>marketplaceOldPrice</th>\n      <th>hasFinancing</th>\n      <th>mileage</th>\n      <th>mileageUnit</th>\n      <th>installment</th>\n      <th>depositReceived</th>\n      <th>loanValue</th>\n    </tr>\n  </thead>\n  <tbody>\n    <tr>\n      <th>0</th>\n      <td>pHlaBhpHOIuaeS2FlRLmaQ</td>\n      <td>Toyota Dyna</td>\n      <td>https://storage.googleapis.com/ng.img.autochek...</td>\n      <td>2000</td>\n      <td>Lagos</td>\n      <td>Lagos</td>\n      <td>foreign</td>\n      <td>False</td>\n      <td>2947500</td>\n      <td>0</td>\n      <td>False</td>\n      <td>152431</td>\n      <td>km</td>\n      <td>0</td>\n      <td>False</td>\n      <td>0</td>\n    </tr>\n    <tr>\n      <th>1</th>\n      <td>pj8sf5DSkTN5Phbghw1B6Q</td>\n      <td>Volkswagen LT</td>\n      <td>https://storage.googleapis.com/ng.img.autochek...</td>\n      <td>2005</td>\n      <td>Lagos</td>\n      <td>Lagos</td>\n      <td>foreign</td>\n      <td>False</td>\n      <td>3865000</td>\n      <td>0</td>\n      <td>False</td>\n      <td>64462</td>\n      <td>km</td>\n      <td>0</td>\n      <td>False</td>\n      <td>0</td>\n    </tr>\n    <tr>\n      <th>2</th>\n      <td>pkJvXIFTMNbtZ8Qxlj3Ew</td>\n      <td>Fiat Ducato</td>\n      <td>https://storage.googleapis.com/ng.img.autochek...</td>\n      <td>2004</td>\n      <td>Rivers</td>\n      <td>Rivers</td>\n      <td>foreign</td>\n      <td>False</td>\n      <td>2487500</td>\n      <td>0</td>\n      <td>False</td>\n      <td>216000</td>\n      <td>km</td>\n      <td>0</td>\n      <td>False</td>\n      <td>0</td>\n    </tr>\n    <tr>\n      <th>3</th>\n      <td>plsxyGp3CgaVoNsqJj7zTA</td>\n      <td>Ford Transit</td>\n      <td>https://storage.googleapis.com/ng.img.autochek...</td>\n      <td>2006</td>\n      <td>Lagos</td>\n      <td>Lagos</td>\n      <td>foreign</td>\n      <td>False</td>\n      <td>2775000</td>\n      <td>0</td>\n      <td>False</td>\n      <td>0</td>\n      <td>km</td>\n      <td>0</td>\n      <td>False</td>\n      <td>0</td>\n    </tr>\n    <tr>\n      <th>4</th>\n      <td>PlyKefEr9VDg3gCkDoxlA</td>\n      <td>Ford Everest</td>\n      <td>https://storage.googleapis.com/ng.img.autochek...</td>\n      <td>2012</td>\n      <td>Lagos</td>\n      <td>Lagos</td>\n      <td>foreign</td>\n      <td>False</td>\n      <td>1625000</td>\n      <td>0</td>\n      <td>False</td>\n      <td>85878</td>\n      <td>km</td>\n      <td>0</td>\n      <td>False</td>\n      <td>0</td>\n    </tr>\n    <tr>\n      <th>...</th>\n      <td>...</td>\n      <td>...</td>\n      <td>...</td>\n      <td>...</td>\n      <td>...</td>\n      <td>...</td>\n      <td>...</td>\n      <td>...</td>\n      <td>...</td>\n      <td>...</td>\n      <td>...</td>\n      <td>...</td>\n      <td>...</td>\n      <td>...</td>\n      <td>...</td>\n      <td>...</td>\n    </tr>\n    <tr>\n      <th>390</th>\n      <td>UnYML1VI46mcbHAzg5Nbg</td>\n      <td>Volkswagen T5 Transporter</td>\n      <td>https://storage.googleapis.com/ng.img.autochek...</td>\n      <td>2005</td>\n      <td>Lagos</td>\n      <td>Lagos</td>\n      <td>foreign</td>\n      <td>False</td>\n      <td>2890000</td>\n      <td>0</td>\n      <td>False</td>\n      <td>0</td>\n      <td>km</td>\n      <td>0</td>\n      <td>False</td>\n      <td>0</td>\n    </tr>\n    <tr>\n      <th>391</th>\n      <td>UqUE3hWRY2uoxU2FOwjItQ</td>\n      <td>Volkswagen LT</td>\n      <td>https://storage.googleapis.com/ng.img.autochek...</td>\n      <td>2005</td>\n      <td>Lagos</td>\n      <td>Lagos</td>\n      <td>foreign</td>\n      <td>False</td>\n      <td>0</td>\n      <td>0</td>\n      <td>False</td>\n      <td>123442</td>\n      <td>km</td>\n      <td>0</td>\n      <td>False</td>\n      <td>0</td>\n    </tr>\n    <tr>\n      <th>392</th>\n      <td>UrC2ieWxDb1UJ1SII6rEg</td>\n      <td>Volkswagen T5 Transporter</td>\n      <td>https://storage.googleapis.com/ng.img.autochek...</td>\n      <td>2002</td>\n      <td>Lagos</td>\n      <td>Lagos</td>\n      <td>foreign</td>\n      <td>False</td>\n      <td>2315000</td>\n      <td>0</td>\n      <td>False</td>\n      <td>0</td>\n      <td>km</td>\n      <td>0</td>\n      <td>False</td>\n      <td>0</td>\n    </tr>\n    <tr>\n      <th>393</th>\n      <td>uRgQVqJGU0oyRGOWzEi5cQ</td>\n      <td>Volkswagen T5 Transporter</td>\n      <td>https://storage.googleapis.com/ng.img.autochek...</td>\n      <td>2003</td>\n      <td>Lagos</td>\n      <td>Lagos</td>\n      <td>foreign</td>\n      <td>False</td>\n      <td>1970000</td>\n      <td>0</td>\n      <td>False</td>\n      <td>0</td>\n      <td>km</td>\n      <td>0</td>\n      <td>False</td>\n      <td>0</td>\n    </tr>\n    <tr>\n      <th>394</th>\n      <td>urQ9ejKAiBsVvl7cpWxjoQ</td>\n      <td>Toyota Hiace</td>\n      <td>https://storage.googleapis.com/ng.img.autochek...</td>\n      <td>2012</td>\n      <td>Lagos</td>\n      <td>Lagos</td>\n      <td>foreign</td>\n      <td>False</td>\n      <td>8265000</td>\n      <td>0</td>\n      <td>False</td>\n      <td>0</td>\n      <td>km</td>\n      <td>0</td>\n      <td>False</td>\n      <td>0</td>\n    </tr>\n  </tbody>\n</table>\n<p>395 rows × 16 columns</p>\n</div>"
     },
     "metadata": {},
     "execution_count": 93
    }
   ],
   "source": [
    "g_manual"
   ]
  },
  {
   "cell_type": "code",
   "execution_count": 94,
   "metadata": {},
   "outputs": [],
   "source": [
    "data_manual=g_manual.drop(['id','imageUrl', 'state', 'hasWarranty', 'marketplaceOldPrice','hasFinancing',\"mileageUnit\", \"installment\" ,\"depositReceived\" ,\"loanValue\"],axis=1)"
   ]
  },
  {
   "cell_type": "code",
   "execution_count": 95,
   "metadata": {},
   "outputs": [
    {
     "output_type": "execute_result",
     "data": {
      "text/plain": [
       "      ...  \n",
       "390           2890000        0  \n",
       "391                 0   123442  \n",
       "392           2315000        0  \n",
       "393           1970000        0  \n",
       "394           8265000        0  \n",
       "\n",
       "[395 rows x 6 columns]"
      ],
      "text/html": "<div>\n<style scoped>\n    .dataframe tbody tr th:only-of-type {\n        vertical-align: middle;\n    }\n\n    .dataframe tbody tr th {\n        vertical-align: top;\n    }\n\n    .dataframe thead th {\n        text-align: right;\n    }\n</style>\n<table border=\"1\" class=\"dataframe\">\n  <thead>\n    <tr style=\"text-align: right;\">\n      <th></th>\n      <th>title</th>\n      <th>year</th>\n      <th>city</th>\n      <th>sellingCondition</th>\n      <th>marketplacePrice</th>\n      <th>mileage</th>\n    </tr>\n  </thead>\n  <tbody>\n    <tr>\n      <th>0</th>\n      <td>Toyota Dyna</td>\n      <td>2000</td>\n      <td>Lagos</td>\n      <td>foreign</td>\n      <td>2947500</td>\n      <td>152431</td>\n    </tr>\n    <tr>\n      <th>1</th>\n      <td>Volkswagen LT</td>\n      <td>2005</td>\n      <td>Lagos</td>\n      <td>foreign</td>\n      <td>3865000</td>\n      <td>64462</td>\n    </tr>\n    <tr>\n      <th>2</th>\n      <td>Fiat Ducato</td>\n      <td>2004</td>\n      <td>Rivers</td>\n      <td>foreign</td>\n      <td>2487500</td>\n      <td>216000</td>\n    </tr>\n    <tr>\n      <th>3</th>\n      <td>Ford Transit</td>\n      <td>2006</td>\n      <td>Lagos</td>\n      <td>foreign</td>\n      <td>2775000</td>\n      <td>0</td>\n    </tr>\n    <tr>\n      <th>4</th>\n      <td>Ford Everest</td>\n      <td>2012</td>\n      <td>Lagos</td>\n      <td>foreign</td>\n      <td>1625000</td>\n      <td>85878</td>\n    </tr>\n    <tr>\n      <th>...</th>\n      <td>...</td>\n      <td>...</td>\n      <td>...</td>\n      <td>...</td>\n      <td>...</td>\n      <td>...</td>\n    </tr>\n    <tr>\n      <th>390</th>\n      <td>Volkswagen T5 Transporter</td>\n      <td>2005</td>\n      <td>Lagos</td>\n      <td>foreign</td>\n      <td>2890000</td>\n      <td>0</td>\n    </tr>\n    <tr>\n      <th>391</th>\n      <td>Volkswagen LT</td>\n      <td>2005</td>\n      <td>Lagos</td>\n      <td>foreign</td>\n      <td>0</td>\n      <td>123442</td>\n    </tr>\n    <tr>\n      <th>392</th>\n      <td>Volkswagen T5 Transporter</td>\n      <td>2002</td>\n      <td>Lagos</td>\n      <td>foreign</td>\n      <td>2315000</td>\n      <td>0</td>\n    </tr>\n    <tr>\n      <th>393</th>\n      <td>Volkswagen T5 Transporter</td>\n      <td>2003</td>\n      <td>Lagos</td>\n      <td>foreign</td>\n      <td>1970000</td>\n      <td>0</td>\n    </tr>\n    <tr>\n      <th>394</th>\n      <td>Toyota Hiace</td>\n      <td>2012</td>\n      <td>Lagos</td>\n      <td>foreign</td>\n      <td>8265000</td>\n      <td>0</td>\n    </tr>\n  </tbody>\n</table>\n<p>395 rows × 6 columns</p>\n</div>"
     },
     "metadata": {},
     "execution_count": 95
    }
   ],
   "source": [
    "data_manual"
   ]
  },
  {
   "cell_type": "code",
   "execution_count": 96,
   "metadata": {},
   "outputs": [],
   "source": [
    "data_manual['Transmission'] ='Manual'"
   ]
  },
  {
   "cell_type": "code",
   "execution_count": 97,
   "metadata": {},
   "outputs": [
    {
     "output_type": "execute_result",
     "data": {
      "text/plain": [
       "             0   123442       Manual  \n",
       "392           2315000        0       Manual  \n",
       "393           1970000        0       Manual  \n",
       "394           8265000        0       Manual  \n",
       "\n",
       "[395 rows x 7 columns]"
      ],
      "text/html": "<div>\n<style scoped>\n    .dataframe tbody tr th:only-of-type {\n        vertical-align: middle;\n    }\n\n    .dataframe tbody tr th {\n        vertical-align: top;\n    }\n\n    .dataframe thead th {\n        text-align: right;\n    }\n</style>\n<table border=\"1\" class=\"dataframe\">\n  <thead>\n    <tr style=\"text-align: right;\">\n      <th></th>\n      <th>title</th>\n      <th>year</th>\n      <th>city</th>\n      <th>sellingCondition</th>\n      <th>marketplacePrice</th>\n      <th>mileage</th>\n      <th>Transmission</th>\n    </tr>\n  </thead>\n  <tbody>\n    <tr>\n      <th>0</th>\n      <td>Toyota Dyna</td>\n      <td>2000</td>\n      <td>Lagos</td>\n      <td>foreign</td>\n      <td>2947500</td>\n      <td>152431</td>\n      <td>Manual</td>\n    </tr>\n    <tr>\n      <th>1</th>\n      <td>Volkswagen LT</td>\n      <td>2005</td>\n      <td>Lagos</td>\n      <td>foreign</td>\n      <td>3865000</td>\n      <td>64462</td>\n      <td>Manual</td>\n    </tr>\n    <tr>\n      <th>2</th>\n      <td>Fiat Ducato</td>\n      <td>2004</td>\n      <td>Rivers</td>\n      <td>foreign</td>\n      <td>2487500</td>\n      <td>216000</td>\n      <td>Manual</td>\n    </tr>\n    <tr>\n      <th>3</th>\n      <td>Ford Transit</td>\n      <td>2006</td>\n      <td>Lagos</td>\n      <td>foreign</td>\n      <td>2775000</td>\n      <td>0</td>\n      <td>Manual</td>\n    </tr>\n    <tr>\n      <th>4</th>\n      <td>Ford Everest</td>\n      <td>2012</td>\n      <td>Lagos</td>\n      <td>foreign</td>\n      <td>1625000</td>\n      <td>85878</td>\n      <td>Manual</td>\n    </tr>\n    <tr>\n      <th>...</th>\n      <td>...</td>\n      <td>...</td>\n      <td>...</td>\n      <td>...</td>\n      <td>...</td>\n      <td>...</td>\n      <td>...</td>\n    </tr>\n    <tr>\n      <th>390</th>\n      <td>Volkswagen T5 Transporter</td>\n      <td>2005</td>\n      <td>Lagos</td>\n      <td>foreign</td>\n      <td>2890000</td>\n      <td>0</td>\n      <td>Manual</td>\n    </tr>\n    <tr>\n      <th>391</th>\n      <td>Volkswagen LT</td>\n      <td>2005</td>\n      <td>Lagos</td>\n      <td>foreign</td>\n      <td>0</td>\n      <td>123442</td>\n      <td>Manual</td>\n    </tr>\n    <tr>\n      <th>392</th>\n      <td>Volkswagen T5 Transporter</td>\n      <td>2002</td>\n      <td>Lagos</td>\n      <td>foreign</td>\n      <td>2315000</td>\n      <td>0</td>\n      <td>Manual</td>\n    </tr>\n    <tr>\n      <th>393</th>\n      <td>Volkswagen T5 Transporter</td>\n      <td>2003</td>\n      <td>Lagos</td>\n      <td>foreign</td>\n      <td>1970000</td>\n      <td>0</td>\n      <td>Manual</td>\n    </tr>\n    <tr>\n      <th>394</th>\n      <td>Toyota Hiace</td>\n      <td>2012</td>\n      <td>Lagos</td>\n      <td>foreign</td>\n      <td>8265000</td>\n      <td>0</td>\n      <td>Manual</td>\n    </tr>\n  </tbody>\n</table>\n<p>395 rows × 7 columns</p>\n</div>"
     },
     "metadata": {},
     "execution_count": 97
    }
   ],
   "source": [
    "data_manual"
   ]
  },
  {
   "cell_type": "code",
   "execution_count": 98,
   "metadata": {},
   "outputs": [],
   "source": [
    "full_car=[data_auto,data_manual]"
   ]
  },
  {
   "cell_type": "code",
   "execution_count": 99,
   "metadata": {},
   "outputs": [],
   "source": [
    "cars=pd.concat(full_car)"
   ]
  },
  {
   "cell_type": "code",
   "execution_count": 100,
   "metadata": {},
   "outputs": [
    {
     "output_type": "execute_result",
     "data": {
      "text/plain": [
       "           0   123442       Manual  \n",
       "392           2315000        0       Manual  \n",
       "393           1970000        0       Manual  \n",
       "394           8265000        0       Manual  \n",
       "\n",
       "[14195 rows x 7 columns]"
      ],
      "text/html": "<div>\n<style scoped>\n    .dataframe tbody tr th:only-of-type {\n        vertical-align: middle;\n    }\n\n    .dataframe tbody tr th {\n        vertical-align: top;\n    }\n\n    .dataframe thead th {\n        text-align: right;\n    }\n</style>\n<table border=\"1\" class=\"dataframe\">\n  <thead>\n    <tr style=\"text-align: right;\">\n      <th></th>\n      <th>title</th>\n      <th>year</th>\n      <th>city</th>\n      <th>sellingCondition</th>\n      <th>marketplacePrice</th>\n      <th>mileage</th>\n      <th>Transmission</th>\n    </tr>\n  </thead>\n  <tbody>\n    <tr>\n      <th>0</th>\n      <td>Kia Cerato</td>\n      <td>2014</td>\n      <td>Lagos</td>\n      <td>foreign</td>\n      <td>3865000</td>\n      <td>48254</td>\n      <td>Automatic</td>\n    </tr>\n    <tr>\n      <th>1</th>\n      <td>Toyota Vitz</td>\n      <td>2009</td>\n      <td>Lagos</td>\n      <td>foreign</td>\n      <td>1855000</td>\n      <td>31742</td>\n      <td>Automatic</td>\n    </tr>\n    <tr>\n      <th>2</th>\n      <td>Nissan X-Trail</td>\n      <td>2015</td>\n      <td>Lagos</td>\n      <td>local</td>\n      <td>4745000</td>\n      <td>40254</td>\n      <td>Automatic</td>\n    </tr>\n    <tr>\n      <th>3</th>\n      <td>Toyota Corolla</td>\n      <td>2005</td>\n      <td>Lagos</td>\n      <td>foreign</td>\n      <td>2545000</td>\n      <td>299999</td>\n      <td>Automatic</td>\n    </tr>\n    <tr>\n      <th>4</th>\n      <td>Nissan Murano</td>\n      <td>2004</td>\n      <td>Lagos</td>\n      <td>local</td>\n      <td>705000</td>\n      <td>171039</td>\n      <td>Automatic</td>\n    </tr>\n    <tr>\n      <th>...</th>\n      <td>...</td>\n      <td>...</td>\n      <td>...</td>\n      <td>...</td>\n      <td>...</td>\n      <td>...</td>\n      <td>...</td>\n    </tr>\n    <tr>\n      <th>390</th>\n      <td>Volkswagen T5 Transporter</td>\n      <td>2005</td>\n      <td>Lagos</td>\n      <td>foreign</td>\n      <td>2890000</td>\n      <td>0</td>\n      <td>Manual</td>\n    </tr>\n    <tr>\n      <th>391</th>\n      <td>Volkswagen LT</td>\n      <td>2005</td>\n      <td>Lagos</td>\n      <td>foreign</td>\n      <td>0</td>\n      <td>123442</td>\n      <td>Manual</td>\n    </tr>\n    <tr>\n      <th>392</th>\n      <td>Volkswagen T5 Transporter</td>\n      <td>2002</td>\n      <td>Lagos</td>\n      <td>foreign</td>\n      <td>2315000</td>\n      <td>0</td>\n      <td>Manual</td>\n    </tr>\n    <tr>\n      <th>393</th>\n      <td>Volkswagen T5 Transporter</td>\n      <td>2003</td>\n      <td>Lagos</td>\n      <td>foreign</td>\n      <td>1970000</td>\n      <td>0</td>\n      <td>Manual</td>\n    </tr>\n    <tr>\n      <th>394</th>\n      <td>Toyota Hiace</td>\n      <td>2012</td>\n      <td>Lagos</td>\n      <td>foreign</td>\n      <td>8265000</td>\n      <td>0</td>\n      <td>Manual</td>\n    </tr>\n  </tbody>\n</table>\n<p>14195 rows × 7 columns</p>\n</div>"
     },
     "metadata": {},
     "execution_count": 100
    }
   ],
   "source": [
    "cars"
   ]
  },
  {
   "cell_type": "code",
   "execution_count": 105,
   "metadata": {},
   "outputs": [],
   "source": [
    "cars.to_csv('./data/full_car.csv',header=True)"
   ]
  }
 ]
}