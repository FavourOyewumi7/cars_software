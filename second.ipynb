{
 "metadata": {
  "language_info": {
   "codemirror_mode": {
    "name": "ipython",
    "version": 3
   },
   "file_extension": ".py",
   "mimetype": "text/x-python",
   "name": "python",
   "nbconvert_exporter": "python",
   "pygments_lexer": "ipython3",
   "version": "3.8.3-final"
  },
  "orig_nbformat": 2,
  "kernelspec": {
   "name": "python3",
   "display_name": "Python 3"
  }
 },
 "nbformat": 4,
 "nbformat_minor": 2,
 "cells": [
  {
   "cell_type": "code",
   "execution_count": 184,
   "metadata": {},
   "outputs": [],
   "source": [
    "import pandas as pd\n",
    "import numpy as np\n",
    "from bs4 import BeautifulSoup\n",
    "import requests\n",
    "from urllib.request import urlopen\n",
    "import re\n",
    "import csv\n",
    "import json\n",
    "import time"
   ]
  },
  {
   "cell_type": "code",
   "execution_count": 185,
   "metadata": {},
   "outputs": [],
   "source": [
    "cars_information_auto = []"
   ]
  },
  {
   "cell_type": "code",
   "execution_count": 186,
   "metadata": {},
   "outputs": [],
   "source": [
    "for x in range(1,32):\n",
    "    url= ('https://buy.cars45.com/cars?filter=125%2C1020&limit=100&page=')\n",
    "    r = requests.get(url+str(x))\n",
    "    soup_auto = BeautifulSoup(r.content, 'html.parser')\n",
    "    content = soup_auto.find_all('div',class_=\"product_box\")\n",
    "\n",
    "    for property in content:\n",
    "        Name = property.find('h4').text.strip()\n",
    "        History = property.find('p', class_='d-none d-sm-block').text.strip()\n",
    "        Price = property.find('h5').text.strip()\n",
    "        Ratings = property.find('a').text.strip()\n",
    "        Millage = property.find('span', class_='intersemibold').text.strip()\n",
    "        Year = property.find_all('span', class_='intersemibold')[1].text.strip()\n",
    "\n",
    "        car_info = {\n",
    "            'Name': Name,\n",
    "            'Price':Price,\n",
    "            'History':History,\n",
    "            'Millage':Millage,\n",
    "            'Ratings': Ratings,\n",
    "            'Year':Year\n",
    "    }\n",
    "        cars_information_auto.append(car_info)\n",
    "    "
   ]
  },
  {
   "cell_type": "code",
   "execution_count": 187,
   "metadata": {},
   "outputs": [],
   "source": [
    "car_df_auto=pd.DataFrame(cars_information_auto)"
   ]
  },
  {
   "cell_type": "code",
   "execution_count": 188,
   "metadata": {},
   "outputs": [
    {
     "output_type": "stream",
     "name": "stdout",
     "text": [
      "3019\n"
     ]
    }
   ],
   "source": [
    "print(len(car_df_auto))"
   ]
  },
  {
   "cell_type": "code",
   "execution_count": 189,
   "metadata": {},
   "outputs": [
    {
     "output_type": "execute_result",
     "data": {
      "text/plain": [
       "                                                Name        Price  \\\n",
       "0  2010 Honda Accord Crosstour\\n                 ...  ₦ 2,382,500   \n",
       "1  2007 Toyota Corolla\\n                         ...    ₦ 751,250   \n",
       "2  2006 Honda Accord\\n                           ...    ₦ 976,250   \n",
       "3  2007 Infiniti Fx\\n                            ...  ₦ 1,145,000   \n",
       "4  2002 Toyota Camry\\n                           ...    ₦ 863,750   \n",
       "\n",
       "         History    Millage Ratings  Year  \n",
       "0  Nigerian Used  109,898Km       C  2010  \n",
       "1  Nigerian Used  222,345Km       D  2007  \n",
       "2  Nigerian Used  132,550Km       D  2006  \n",
       "3  Nigerian Used   61,114Km       D  2007  \n",
       "4  Nigerian Used  122,824Km       E  2002  "
      ],
      "text/html": "<div>\n<style scoped>\n    .dataframe tbody tr th:only-of-type {\n        vertical-align: middle;\n    }\n\n    .dataframe tbody tr th {\n        vertical-align: top;\n    }\n\n    .dataframe thead th {\n        text-align: right;\n    }\n</style>\n<table border=\"1\" class=\"dataframe\">\n  <thead>\n    <tr style=\"text-align: right;\">\n      <th></th>\n      <th>Name</th>\n      <th>Price</th>\n      <th>History</th>\n      <th>Millage</th>\n      <th>Ratings</th>\n      <th>Year</th>\n    </tr>\n  </thead>\n  <tbody>\n    <tr>\n      <th>0</th>\n      <td>2010 Honda Accord Crosstour\\n                 ...</td>\n      <td>₦ 2,382,500</td>\n      <td>Nigerian Used</td>\n      <td>109,898Km</td>\n      <td>C</td>\n      <td>2010</td>\n    </tr>\n    <tr>\n      <th>1</th>\n      <td>2007 Toyota Corolla\\n                         ...</td>\n      <td>₦ 751,250</td>\n      <td>Nigerian Used</td>\n      <td>222,345Km</td>\n      <td>D</td>\n      <td>2007</td>\n    </tr>\n    <tr>\n      <th>2</th>\n      <td>2006 Honda Accord\\n                           ...</td>\n      <td>₦ 976,250</td>\n      <td>Nigerian Used</td>\n      <td>132,550Km</td>\n      <td>D</td>\n      <td>2006</td>\n    </tr>\n    <tr>\n      <th>3</th>\n      <td>2007 Infiniti Fx\\n                            ...</td>\n      <td>₦ 1,145,000</td>\n      <td>Nigerian Used</td>\n      <td>61,114Km</td>\n      <td>D</td>\n      <td>2007</td>\n    </tr>\n    <tr>\n      <th>4</th>\n      <td>2002 Toyota Camry\\n                           ...</td>\n      <td>₦ 863,750</td>\n      <td>Nigerian Used</td>\n      <td>122,824Km</td>\n      <td>E</td>\n      <td>2002</td>\n    </tr>\n  </tbody>\n</table>\n</div>"
     },
     "metadata": {},
     "execution_count": 189
    }
   ],
   "source": [
    "car_df_auto.head()"
   ]
  },
  {
   "cell_type": "code",
   "execution_count": 190,
   "metadata": {},
   "outputs": [],
   "source": [
    "car_df_auto[['Year2','Make','Model']]=pd.DataFrame(car_df_auto.Name.str.split(' ',expand=False,n=2).tolist(),\n",
    "columns = ['Year2','Make','Model'])\n",
    "car_df_auto[['Model','Others']]=pd.DataFrame(car_df_auto.Model.str.split('\\n',expand=False,n=1).tolist(),columns = ['Model','Others'])\n"
   ]
  },
  {
   "cell_type": "code",
   "execution_count": 191,
   "metadata": {},
   "outputs": [],
   "source": [
    "car_df_auto.drop(['Name','Year2','Others'],axis=1,inplace=True)"
   ]
  },
  {
   "cell_type": "code",
   "execution_count": 192,
   "metadata": {},
   "outputs": [
    {
     "output_type": "execute_result",
     "data": {
      "text/plain": [
       "         Price        History    Millage Ratings  Year      Make  \\\n",
       "0  ₦ 2,382,500  Nigerian Used  109,898Km       C  2010     Honda   \n",
       "1    ₦ 751,250  Nigerian Used  222,345Km       D  2007    Toyota   \n",
       "2    ₦ 976,250  Nigerian Used  132,550Km       D  2006     Honda   \n",
       "3  ₦ 1,145,000  Nigerian Used   61,114Km       D  2007  Infiniti   \n",
       "4    ₦ 863,750  Nigerian Used  122,824Km       E  2002    Toyota   \n",
       "\n",
       "              Model  \n",
       "0  Accord Crosstour  \n",
       "1           Corolla  \n",
       "2            Accord  \n",
       "3                Fx  \n",
       "4             Camry  "
      ],
      "text/html": "<div>\n<style scoped>\n    .dataframe tbody tr th:only-of-type {\n        vertical-align: middle;\n    }\n\n    .dataframe tbody tr th {\n        vertical-align: top;\n    }\n\n    .dataframe thead th {\n        text-align: right;\n    }\n</style>\n<table border=\"1\" class=\"dataframe\">\n  <thead>\n    <tr style=\"text-align: right;\">\n      <th></th>\n      <th>Price</th>\n      <th>History</th>\n      <th>Millage</th>\n      <th>Ratings</th>\n      <th>Year</th>\n      <th>Make</th>\n      <th>Model</th>\n    </tr>\n  </thead>\n  <tbody>\n    <tr>\n      <th>0</th>\n      <td>₦ 2,382,500</td>\n      <td>Nigerian Used</td>\n      <td>109,898Km</td>\n      <td>C</td>\n      <td>2010</td>\n      <td>Honda</td>\n      <td>Accord Crosstour</td>\n    </tr>\n    <tr>\n      <th>1</th>\n      <td>₦ 751,250</td>\n      <td>Nigerian Used</td>\n      <td>222,345Km</td>\n      <td>D</td>\n      <td>2007</td>\n      <td>Toyota</td>\n      <td>Corolla</td>\n    </tr>\n    <tr>\n      <th>2</th>\n      <td>₦ 976,250</td>\n      <td>Nigerian Used</td>\n      <td>132,550Km</td>\n      <td>D</td>\n      <td>2006</td>\n      <td>Honda</td>\n      <td>Accord</td>\n    </tr>\n    <tr>\n      <th>3</th>\n      <td>₦ 1,145,000</td>\n      <td>Nigerian Used</td>\n      <td>61,114Km</td>\n      <td>D</td>\n      <td>2007</td>\n      <td>Infiniti</td>\n      <td>Fx</td>\n    </tr>\n    <tr>\n      <th>4</th>\n      <td>₦ 863,750</td>\n      <td>Nigerian Used</td>\n      <td>122,824Km</td>\n      <td>E</td>\n      <td>2002</td>\n      <td>Toyota</td>\n      <td>Camry</td>\n    </tr>\n  </tbody>\n</table>\n</div>"
     },
     "metadata": {},
     "execution_count": 192
    }
   ],
   "source": [
    "car_df_auto.head()"
   ]
  },
  {
   "cell_type": "code",
   "execution_count": 193,
   "metadata": {},
   "outputs": [],
   "source": [
    "car_df_auto['Transmission'] ='Automatic'\n",
    "car_df_auto['Fuel'] ='Petrol'"
   ]
  },
  {
   "cell_type": "code",
   "execution_count": 194,
   "metadata": {},
   "outputs": [
    {
     "output_type": "execute_result",
     "data": {
      "text/plain": [
       "            Price        History    Millage Ratings  Year           Make  \\\n",
       "0     ₦ 2,382,500  Nigerian Used  109,898Km       C  2010          Honda   \n",
       "1       ₦ 751,250  Nigerian Used  222,345Km       D  2007         Toyota   \n",
       "2       ₦ 976,250  Nigerian Used  132,550Km       D  2006          Honda   \n",
       "3     ₦ 1,145,000  Nigerian Used   61,114Km       D  2007       Infiniti   \n",
       "4       ₦ 863,750  Nigerian Used  122,824Km       E  2002         Toyota   \n",
       "...           ...            ...        ...     ...   ...            ...   \n",
       "3014  ₦ 9,893,906  Nigerian Used   28,027Km       D  2016  Mercedes-Benz   \n",
       "3015  ₦ 2,974,400                 163,978Km       B  2011         Toyota   \n",
       "3016  ₦ 4,202,500   Foreign Used  103,147Km       C  2009         Toyota   \n",
       "3017  ₦ 2,140,000                 148,118Km       C  2007          Lexus   \n",
       "3018  ₦ 1,890,000                  29,654Km       C  2006  Mercedes-Benz   \n",
       "\n",
       "                 Model Transmission    Fuel  \n",
       "0     Accord Crosstour    Automatic  Petrol  \n",
       "1              Corolla    Automatic  Petrol  \n",
       "2               Accord    Automatic  Petrol  \n",
       "3                   Fx    Automatic  Petrol  \n",
       "4                Camry    Automatic  Petrol  \n",
       "...                ...          ...     ...  \n",
       "3014              C300    Automatic  Petrol  \n",
       "3015             Camry    Automatic  Petrol  \n",
       "3016             Venza    Automatic  Petrol  \n",
       "3017                ES    Automatic  Petrol  \n",
       "3018            Ml350     Automatic  Petrol  \n",
       "\n",
       "[3019 rows x 9 columns]"
      ],
      "text/html": "<div>\n<style scoped>\n    .dataframe tbody tr th:only-of-type {\n        vertical-align: middle;\n    }\n\n    .dataframe tbody tr th {\n        vertical-align: top;\n    }\n\n    .dataframe thead th {\n        text-align: right;\n    }\n</style>\n<table border=\"1\" class=\"dataframe\">\n  <thead>\n    <tr style=\"text-align: right;\">\n      <th></th>\n      <th>Price</th>\n      <th>History</th>\n      <th>Millage</th>\n      <th>Ratings</th>\n      <th>Year</th>\n      <th>Make</th>\n      <th>Model</th>\n      <th>Transmission</th>\n      <th>Fuel</th>\n    </tr>\n  </thead>\n  <tbody>\n    <tr>\n      <th>0</th>\n      <td>₦ 2,382,500</td>\n      <td>Nigerian Used</td>\n      <td>109,898Km</td>\n      <td>C</td>\n      <td>2010</td>\n      <td>Honda</td>\n      <td>Accord Crosstour</td>\n      <td>Automatic</td>\n      <td>Petrol</td>\n    </tr>\n    <tr>\n      <th>1</th>\n      <td>₦ 751,250</td>\n      <td>Nigerian Used</td>\n      <td>222,345Km</td>\n      <td>D</td>\n      <td>2007</td>\n      <td>Toyota</td>\n      <td>Corolla</td>\n      <td>Automatic</td>\n      <td>Petrol</td>\n    </tr>\n    <tr>\n      <th>2</th>\n      <td>₦ 976,250</td>\n      <td>Nigerian Used</td>\n      <td>132,550Km</td>\n      <td>D</td>\n      <td>2006</td>\n      <td>Honda</td>\n      <td>Accord</td>\n      <td>Automatic</td>\n      <td>Petrol</td>\n    </tr>\n    <tr>\n      <th>3</th>\n      <td>₦ 1,145,000</td>\n      <td>Nigerian Used</td>\n      <td>61,114Km</td>\n      <td>D</td>\n      <td>2007</td>\n      <td>Infiniti</td>\n      <td>Fx</td>\n      <td>Automatic</td>\n      <td>Petrol</td>\n    </tr>\n    <tr>\n      <th>4</th>\n      <td>₦ 863,750</td>\n      <td>Nigerian Used</td>\n      <td>122,824Km</td>\n      <td>E</td>\n      <td>2002</td>\n      <td>Toyota</td>\n      <td>Camry</td>\n      <td>Automatic</td>\n      <td>Petrol</td>\n    </tr>\n    <tr>\n      <th>...</th>\n      <td>...</td>\n      <td>...</td>\n      <td>...</td>\n      <td>...</td>\n      <td>...</td>\n      <td>...</td>\n      <td>...</td>\n      <td>...</td>\n      <td>...</td>\n    </tr>\n    <tr>\n      <th>3014</th>\n      <td>₦ 9,893,906</td>\n      <td>Nigerian Used</td>\n      <td>28,027Km</td>\n      <td>D</td>\n      <td>2016</td>\n      <td>Mercedes-Benz</td>\n      <td>C300</td>\n      <td>Automatic</td>\n      <td>Petrol</td>\n    </tr>\n    <tr>\n      <th>3015</th>\n      <td>₦ 2,974,400</td>\n      <td></td>\n      <td>163,978Km</td>\n      <td>B</td>\n      <td>2011</td>\n      <td>Toyota</td>\n      <td>Camry</td>\n      <td>Automatic</td>\n      <td>Petrol</td>\n    </tr>\n    <tr>\n      <th>3016</th>\n      <td>₦ 4,202,500</td>\n      <td>Foreign Used</td>\n      <td>103,147Km</td>\n      <td>C</td>\n      <td>2009</td>\n      <td>Toyota</td>\n      <td>Venza</td>\n      <td>Automatic</td>\n      <td>Petrol</td>\n    </tr>\n    <tr>\n      <th>3017</th>\n      <td>₦ 2,140,000</td>\n      <td></td>\n      <td>148,118Km</td>\n      <td>C</td>\n      <td>2007</td>\n      <td>Lexus</td>\n      <td>ES</td>\n      <td>Automatic</td>\n      <td>Petrol</td>\n    </tr>\n    <tr>\n      <th>3018</th>\n      <td>₦ 1,890,000</td>\n      <td></td>\n      <td>29,654Km</td>\n      <td>C</td>\n      <td>2006</td>\n      <td>Mercedes-Benz</td>\n      <td>Ml350</td>\n      <td>Automatic</td>\n      <td>Petrol</td>\n    </tr>\n  </tbody>\n</table>\n<p>3019 rows × 9 columns</p>\n</div>"
     },
     "metadata": {},
     "execution_count": 194
    }
   ],
   "source": [
    "car_df_auto"
   ]
  },
  {
   "cell_type": "code",
   "execution_count": 195,
   "metadata": {},
   "outputs": [],
   "source": [
    "cars_information_manu = []"
   ]
  },
  {
   "cell_type": "code",
   "execution_count": 196,
   "metadata": {},
   "outputs": [],
   "source": [
    "## scraping Manual cars\n",
    "\n",
    "for x in range(1,4):\n",
    "    url= ('https://buy.cars45.com/cars?filter=126%2C1020&limit=100&page=')\n",
    "    r = requests.get(url+str(x))\n",
    "    soup_auto = BeautifulSoup(r.content, 'html.parser')\n",
    "    content = soup_auto.find_all('div',class_=\"product_box\")\n",
    "\n",
    "    for property in content:\n",
    "        Name = property.find('h4').text.strip()\n",
    "        History = property.find('p', class_='d-none d-sm-block').text.strip()\n",
    "        Price = property.find('h5').text.strip()\n",
    "        Ratings = property.find('a').text.strip()\n",
    "        Millage = property.find('span', class_='intersemibold').text.strip()\n",
    "        Year = property.find_all('span', class_='intersemibold')[1].text.strip()\n",
    "\n",
    "        car_info = {\n",
    "            'Name': Name,\n",
    "            'Price':Price,\n",
    "            'History':History,\n",
    "            'Millage':Millage,\n",
    "            'Ratings': Ratings,\n",
    "            'Year':Year\n",
    "    }\n",
    "        cars_information_manu.append(car_info)"
   ]
  },
  {
   "cell_type": "code",
   "execution_count": 197,
   "metadata": {},
   "outputs": [
    {
     "output_type": "stream",
     "name": "stdout",
     "text": [
      "275\n"
     ]
    }
   ],
   "source": [
    "car_df_manu=pd.DataFrame(cars_information_manu)\n",
    "print(len(car_df_manu))"
   ]
  },
  {
   "cell_type": "code",
   "execution_count": 198,
   "metadata": {},
   "outputs": [],
   "source": [
    "car_df_manu[['Year2','Make','Model']]=pd.DataFrame(car_df_manu.Name.str.split(' ',expand=False,n=2).tolist(),\n",
    "columns = ['Year2','Make','Model'])\n",
    "car_df_manu[['Model','Others']]=pd.DataFrame(car_df_manu.Model.str.split('\\n',expand=False,n=1).tolist(),columns = ['Model','Others'])"
   ]
  },
  {
   "cell_type": "code",
   "execution_count": 199,
   "metadata": {},
   "outputs": [],
   "source": [
    "car_df_manu.drop(['Name','Year2','Others'],axis=1,inplace=True)"
   ]
  },
  {
   "cell_type": "code",
   "execution_count": 200,
   "metadata": {},
   "outputs": [],
   "source": [
    "## Since we go got just Manual cars with petrol engine I will input the values here \n",
    "car_df_manu['Transmission'] ='Manual'\n",
    "car_df_manu['Fuel'] ='Petrol'"
   ]
  },
  {
   "cell_type": "code",
   "execution_count": 201,
   "metadata": {},
   "outputs": [],
   "source": [
    "## concarting the  two dataframes \n",
    "full_car=[car_df_manu,car_df_auto]\n",
    "data_check24=pd.concat(full_car)"
   ]
  },
  {
   "cell_type": "code",
   "execution_count": 202,
   "metadata": {},
   "outputs": [],
   "source": [
    "data_check24.to_csv('./data/second_full_car.csv',header=True)"
   ]
  },
  {
   "cell_type": "code",
   "execution_count": 204,
   "metadata": {},
   "outputs": [
    {
     "output_type": "execute_result",
     "data": {
      "text/plain": [
       "            Price        History    Millage Ratings  Year           Make  \\\n",
       "0     ₦ 1,482,500   Foreign Used  224,740Km       D  2003         Toyota   \n",
       "1       ₦ 582,500  Nigerian Used  188,400Km       D  2011        Hyundai   \n",
       "2       ₦ 222,500  Nigerian Used        1Km       D  2004            Kia   \n",
       "3       ₦ 582,500  Nigerian Used  175,218Km       D  2009            Kia   \n",
       "4       ₦ 402,500  Nigerian Used  240,417Km       D  1998        Peugeot   \n",
       "...           ...            ...        ...     ...   ...            ...   \n",
       "3014  ₦ 9,893,906  Nigerian Used   28,027Km       D  2016  Mercedes-Benz   \n",
       "3015  ₦ 2,974,400                 163,978Km       B  2011         Toyota   \n",
       "3016  ₦ 4,202,500   Foreign Used  103,147Km       C  2009         Toyota   \n",
       "3017  ₦ 2,140,000                 148,118Km       C  2007          Lexus   \n",
       "3018  ₦ 1,890,000                  29,654Km       C  2006  Mercedes-Benz   \n",
       "\n",
       "       Model Transmission    Fuel  \n",
       "0     Matrix       Manual  Petrol  \n",
       "1        I10       Manual  Petrol  \n",
       "2        Rio       Manual  Petrol  \n",
       "3     Optima       Manual  Petrol  \n",
       "4        406       Manual  Petrol  \n",
       "...      ...          ...     ...  \n",
       "3014    C300    Automatic  Petrol  \n",
       "3015   Camry    Automatic  Petrol  \n",
       "3016   Venza    Automatic  Petrol  \n",
       "3017      ES    Automatic  Petrol  \n",
       "3018  Ml350     Automatic  Petrol  \n",
       "\n",
       "[3294 rows x 9 columns]"
      ],
      "text/html": "<div>\n<style scoped>\n    .dataframe tbody tr th:only-of-type {\n        vertical-align: middle;\n    }\n\n    .dataframe tbody tr th {\n        vertical-align: top;\n    }\n\n    .dataframe thead th {\n        text-align: right;\n    }\n</style>\n<table border=\"1\" class=\"dataframe\">\n  <thead>\n    <tr style=\"text-align: right;\">\n      <th></th>\n      <th>Price</th>\n      <th>History</th>\n      <th>Millage</th>\n      <th>Ratings</th>\n      <th>Year</th>\n      <th>Make</th>\n      <th>Model</th>\n      <th>Transmission</th>\n      <th>Fuel</th>\n    </tr>\n  </thead>\n  <tbody>\n    <tr>\n      <th>0</th>\n      <td>₦ 1,482,500</td>\n      <td>Foreign Used</td>\n      <td>224,740Km</td>\n      <td>D</td>\n      <td>2003</td>\n      <td>Toyota</td>\n      <td>Matrix</td>\n      <td>Manual</td>\n      <td>Petrol</td>\n    </tr>\n    <tr>\n      <th>1</th>\n      <td>₦ 582,500</td>\n      <td>Nigerian Used</td>\n      <td>188,400Km</td>\n      <td>D</td>\n      <td>2011</td>\n      <td>Hyundai</td>\n      <td>I10</td>\n      <td>Manual</td>\n      <td>Petrol</td>\n    </tr>\n    <tr>\n      <th>2</th>\n      <td>₦ 222,500</td>\n      <td>Nigerian Used</td>\n      <td>1Km</td>\n      <td>D</td>\n      <td>2004</td>\n      <td>Kia</td>\n      <td>Rio</td>\n      <td>Manual</td>\n      <td>Petrol</td>\n    </tr>\n    <tr>\n      <th>3</th>\n      <td>₦ 582,500</td>\n      <td>Nigerian Used</td>\n      <td>175,218Km</td>\n      <td>D</td>\n      <td>2009</td>\n      <td>Kia</td>\n      <td>Optima</td>\n      <td>Manual</td>\n      <td>Petrol</td>\n    </tr>\n    <tr>\n      <th>4</th>\n      <td>₦ 402,500</td>\n      <td>Nigerian Used</td>\n      <td>240,417Km</td>\n      <td>D</td>\n      <td>1998</td>\n      <td>Peugeot</td>\n      <td>406</td>\n      <td>Manual</td>\n      <td>Petrol</td>\n    </tr>\n    <tr>\n      <th>...</th>\n      <td>...</td>\n      <td>...</td>\n      <td>...</td>\n      <td>...</td>\n      <td>...</td>\n      <td>...</td>\n      <td>...</td>\n      <td>...</td>\n      <td>...</td>\n    </tr>\n    <tr>\n      <th>3014</th>\n      <td>₦ 9,893,906</td>\n      <td>Nigerian Used</td>\n      <td>28,027Km</td>\n      <td>D</td>\n      <td>2016</td>\n      <td>Mercedes-Benz</td>\n      <td>C300</td>\n      <td>Automatic</td>\n      <td>Petrol</td>\n    </tr>\n    <tr>\n      <th>3015</th>\n      <td>₦ 2,974,400</td>\n      <td></td>\n      <td>163,978Km</td>\n      <td>B</td>\n      <td>2011</td>\n      <td>Toyota</td>\n      <td>Camry</td>\n      <td>Automatic</td>\n      <td>Petrol</td>\n    </tr>\n    <tr>\n      <th>3016</th>\n      <td>₦ 4,202,500</td>\n      <td>Foreign Used</td>\n      <td>103,147Km</td>\n      <td>C</td>\n      <td>2009</td>\n      <td>Toyota</td>\n      <td>Venza</td>\n      <td>Automatic</td>\n      <td>Petrol</td>\n    </tr>\n    <tr>\n      <th>3017</th>\n      <td>₦ 2,140,000</td>\n      <td></td>\n      <td>148,118Km</td>\n      <td>C</td>\n      <td>2007</td>\n      <td>Lexus</td>\n      <td>ES</td>\n      <td>Automatic</td>\n      <td>Petrol</td>\n    </tr>\n    <tr>\n      <th>3018</th>\n      <td>₦ 1,890,000</td>\n      <td></td>\n      <td>29,654Km</td>\n      <td>C</td>\n      <td>2006</td>\n      <td>Mercedes-Benz</td>\n      <td>Ml350</td>\n      <td>Automatic</td>\n      <td>Petrol</td>\n    </tr>\n  </tbody>\n</table>\n<p>3294 rows × 9 columns</p>\n</div>"
     },
     "metadata": {},
     "execution_count": 204
    }
   ],
   "source": [
    "data_check24"
   ]
  },
  {
   "cell_type": "code",
   "execution_count": null,
   "metadata": {},
   "outputs": [],
   "source": []
  }
 ]
}