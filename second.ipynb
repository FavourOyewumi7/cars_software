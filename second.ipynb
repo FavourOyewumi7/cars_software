{
 "metadata": {
  "language_info": {
   "codemirror_mode": {
    "name": "ipython",
    "version": 3
   },
   "file_extension": ".py",
   "mimetype": "text/x-python",
   "name": "python",
   "nbconvert_exporter": "python",
   "pygments_lexer": "ipython3",
   "version": "3.8.3-final"
  },
  "orig_nbformat": 2,
  "kernelspec": {
   "name": "python3",
   "display_name": "Python 3"
  }
 },
 "nbformat": 4,
 "nbformat_minor": 2,
 "cells": [
  {
   "cell_type": "code",
   "execution_count": 143,
   "metadata": {},
   "outputs": [],
   "source": [
    "import pandas as pd\n",
    "import numpy as np\n",
    "from bs4 import BeautifulSoup\n",
    "import requests\n",
    "from urllib.request import urlopen\n",
    "import re\n",
    "import csv\n",
    "import json\n",
    "import time"
   ]
  },
  {
   "cell_type": "code",
   "execution_count": 144,
   "metadata": {},
   "outputs": [],
   "source": [
    "cars_information = []"
   ]
  },
  {
   "cell_type": "code",
   "execution_count": 145,
   "metadata": {},
   "outputs": [],
   "source": [
    "for x in range(1,32):\n",
    "    url= ('https://buy.cars45.com/cars?filter=125%2C1020&limit=100&page=')\n",
    "    r = requests.get(url+str(x))\n",
    "    soup_auto = BeautifulSoup(r.content, 'html.parser')\n",
    "    content = soup_auto.find_all('div',class_=\"product_box\")\n",
    "\n",
    "    for property in content:\n",
    "        Name = property.find('h4').text.strip()\n",
    "        History = property.find('p', class_='d-none d-sm-block').text.strip()\n",
    "        Price = property.find('h5').text.strip()\n",
    "        Ratings = property.find('a').text.strip()\n",
    "        Millage = property.find('span', class_='intersemibold').text.strip()\n",
    "        Year = property.find_all('span', class_='intersemibold')[1].text.strip()\n",
    "\n",
    "        car_info = {\n",
    "            'Name': Name,\n",
    "            'Price':Price,\n",
    "            'History':History,\n",
    "            'Millage':Millage,\n",
    "            '  Ratings': Ratings,\n",
    "            'Year':Year\n",
    "    }\n",
    "        cars_information.append(car_info)\n",
    "    "
   ]
  },
  {
   "cell_type": "code",
   "execution_count": 146,
   "metadata": {},
   "outputs": [],
   "source": [
    "car_df=pd.DataFrame(cars_information)"
   ]
  },
  {
   "cell_type": "code",
   "execution_count": 147,
   "metadata": {},
   "outputs": [
    {
     "output_type": "stream",
     "name": "stdout",
     "text": [
      "3019\n"
     ]
    }
   ],
   "source": [
    "print(len(car_df))"
   ]
  },
  {
   "cell_type": "code",
   "execution_count": 148,
   "metadata": {},
   "outputs": [
    {
     "output_type": "execute_result",
     "data": {
      "text/plain": [
       "                                                   Name         Price  \\\n",
       "0     2012 Toyota Camry\\n                           ...   ₦ 2,720,000   \n",
       "1     2006 Land Rover Lr3\\n                         ...   ₦ 1,820,000   \n",
       "2     2017 Toyota Highlander\\n                      ...  ₦ 16,670,000   \n",
       "3     2018 Kia Rio\\n                                ...   ₦ 3,957,500   \n",
       "4     2009 Toyota Corolla\\n                         ...   ₦ 2,607,500   \n",
       "...                                                 ...           ...   \n",
       "3014  2016 Mercedes-Benz C300\\n                     ...   ₦ 9,893,906   \n",
       "3015  2011 Toyota Camry\\n                           ...   ₦ 2,974,400   \n",
       "3016  2009 Toyota Venza\\n                           ...   ₦ 4,202,500   \n",
       "3017  2007 Lexus ES\\n                               ...   ₦ 2,140,000   \n",
       "3018  2006 Mercedes-Benz Ml350 \\n                   ...   ₦ 1,890,000   \n",
       "\n",
       "            History    Millage   Ratings  Year  \n",
       "0     Nigerian Used  118,746Km            2012  \n",
       "1     Nigerian Used  164,373Km         D  2006  \n",
       "2      Foreign Used   43,589Km         C  2017  \n",
       "3     Nigerian Used   45,846Km         C  2018  \n",
       "4     Nigerian Used  345,675Km         C  2009  \n",
       "...             ...        ...       ...   ...  \n",
       "3014  Nigerian Used   28,027Km         D  2016  \n",
       "3015                 163,978Km         B  2011  \n",
       "3016   Foreign Used  103,147Km         C  2009  \n",
       "3017                 148,118Km         C  2007  \n",
       "3018                  29,654Km         C  2006  \n",
       "\n",
       "[3019 rows x 6 columns]"
      ],
      "text/html": "<div>\n<style scoped>\n    .dataframe tbody tr th:only-of-type {\n        vertical-align: middle;\n    }\n\n    .dataframe tbody tr th {\n        vertical-align: top;\n    }\n\n    .dataframe thead th {\n        text-align: right;\n    }\n</style>\n<table border=\"1\" class=\"dataframe\">\n  <thead>\n    <tr style=\"text-align: right;\">\n      <th></th>\n      <th>Name</th>\n      <th>Price</th>\n      <th>History</th>\n      <th>Millage</th>\n      <th>Ratings</th>\n      <th>Year</th>\n    </tr>\n  </thead>\n  <tbody>\n    <tr>\n      <th>0</th>\n      <td>2012 Toyota Camry\\n                           ...</td>\n      <td>₦ 2,720,000</td>\n      <td>Nigerian Used</td>\n      <td>118,746Km</td>\n      <td></td>\n      <td>2012</td>\n    </tr>\n    <tr>\n      <th>1</th>\n      <td>2006 Land Rover Lr3\\n                         ...</td>\n      <td>₦ 1,820,000</td>\n      <td>Nigerian Used</td>\n      <td>164,373Km</td>\n      <td>D</td>\n      <td>2006</td>\n    </tr>\n    <tr>\n      <th>2</th>\n      <td>2017 Toyota Highlander\\n                      ...</td>\n      <td>₦ 16,670,000</td>\n      <td>Foreign Used</td>\n      <td>43,589Km</td>\n      <td>C</td>\n      <td>2017</td>\n    </tr>\n    <tr>\n      <th>3</th>\n      <td>2018 Kia Rio\\n                                ...</td>\n      <td>₦ 3,957,500</td>\n      <td>Nigerian Used</td>\n      <td>45,846Km</td>\n      <td>C</td>\n      <td>2018</td>\n    </tr>\n    <tr>\n      <th>4</th>\n      <td>2009 Toyota Corolla\\n                         ...</td>\n      <td>₦ 2,607,500</td>\n      <td>Nigerian Used</td>\n      <td>345,675Km</td>\n      <td>C</td>\n      <td>2009</td>\n    </tr>\n    <tr>\n      <th>...</th>\n      <td>...</td>\n      <td>...</td>\n      <td>...</td>\n      <td>...</td>\n      <td>...</td>\n      <td>...</td>\n    </tr>\n    <tr>\n      <th>3014</th>\n      <td>2016 Mercedes-Benz C300\\n                     ...</td>\n      <td>₦ 9,893,906</td>\n      <td>Nigerian Used</td>\n      <td>28,027Km</td>\n      <td>D</td>\n      <td>2016</td>\n    </tr>\n    <tr>\n      <th>3015</th>\n      <td>2011 Toyota Camry\\n                           ...</td>\n      <td>₦ 2,974,400</td>\n      <td></td>\n      <td>163,978Km</td>\n      <td>B</td>\n      <td>2011</td>\n    </tr>\n    <tr>\n      <th>3016</th>\n      <td>2009 Toyota Venza\\n                           ...</td>\n      <td>₦ 4,202,500</td>\n      <td>Foreign Used</td>\n      <td>103,147Km</td>\n      <td>C</td>\n      <td>2009</td>\n    </tr>\n    <tr>\n      <th>3017</th>\n      <td>2007 Lexus ES\\n                               ...</td>\n      <td>₦ 2,140,000</td>\n      <td></td>\n      <td>148,118Km</td>\n      <td>C</td>\n      <td>2007</td>\n    </tr>\n    <tr>\n      <th>3018</th>\n      <td>2006 Mercedes-Benz Ml350 \\n                   ...</td>\n      <td>₦ 1,890,000</td>\n      <td></td>\n      <td>29,654Km</td>\n      <td>C</td>\n      <td>2006</td>\n    </tr>\n  </tbody>\n</table>\n<p>3019 rows × 6 columns</p>\n</div>"
     },
     "metadata": {},
     "execution_count": 148
    }
   ],
   "source": [
    "car_df"
   ]
  },
  {
   "cell_type": "code",
   "execution_count": 150,
   "metadata": {},
   "outputs": [],
   "source": [
    "car_df[['Year2','Make','Model']]=pd.DataFrame(car_df.Name.str.split(' ',expand=False,n=2).tolist(),\n",
    "columns = ['Year2','Make','Model'])\n",
    "car_df[['Model','Others']]=pd.DataFrame(car_df.Model.str.split('\\n',expand=False,n=1).tolist(),columns = ['Model','Others'])\n"
   ]
  },
  {
   "cell_type": "code",
   "execution_count": 152,
   "metadata": {},
   "outputs": [],
   "source": [
    "car_df.drop(['Name','Year2','Others'],axis=1,inplace=True)"
   ]
  },
  {
   "cell_type": "code",
   "execution_count": 153,
   "metadata": {},
   "outputs": [
    {
     "output_type": "execute_result",
     "data": {
      "text/plain": [
       "             Price        History    Millage   Ratings  Year           Make  \\\n",
       "0      ₦ 2,720,000  Nigerian Used  118,746Km            2012         Toyota   \n",
       "1      ₦ 1,820,000  Nigerian Used  164,373Km         D  2006           Land   \n",
       "2     ₦ 16,670,000   Foreign Used   43,589Km         C  2017         Toyota   \n",
       "3      ₦ 3,957,500  Nigerian Used   45,846Km         C  2018            Kia   \n",
       "4      ₦ 2,607,500  Nigerian Used  345,675Km         C  2009         Toyota   \n",
       "...            ...            ...        ...       ...   ...            ...   \n",
       "3014   ₦ 9,893,906  Nigerian Used   28,027Km         D  2016  Mercedes-Benz   \n",
       "3015   ₦ 2,974,400                 163,978Km         B  2011         Toyota   \n",
       "3016   ₦ 4,202,500   Foreign Used  103,147Km         C  2009         Toyota   \n",
       "3017   ₦ 2,140,000                 148,118Km         C  2007          Lexus   \n",
       "3018   ₦ 1,890,000                  29,654Km         C  2006  Mercedes-Benz   \n",
       "\n",
       "           Model  \n",
       "0          Camry  \n",
       "1      Rover Lr3  \n",
       "2     Highlander  \n",
       "3            Rio  \n",
       "4        Corolla  \n",
       "...          ...  \n",
       "3014        C300  \n",
       "3015       Camry  \n",
       "3016       Venza  \n",
       "3017          ES  \n",
       "3018      Ml350   \n",
       "\n",
       "[3019 rows x 7 columns]"
      ],
      "text/html": "<div>\n<style scoped>\n    .dataframe tbody tr th:only-of-type {\n        vertical-align: middle;\n    }\n\n    .dataframe tbody tr th {\n        vertical-align: top;\n    }\n\n    .dataframe thead th {\n        text-align: right;\n    }\n</style>\n<table border=\"1\" class=\"dataframe\">\n  <thead>\n    <tr style=\"text-align: right;\">\n      <th></th>\n      <th>Price</th>\n      <th>History</th>\n      <th>Millage</th>\n      <th>Ratings</th>\n      <th>Year</th>\n      <th>Make</th>\n      <th>Model</th>\n    </tr>\n  </thead>\n  <tbody>\n    <tr>\n      <th>0</th>\n      <td>₦ 2,720,000</td>\n      <td>Nigerian Used</td>\n      <td>118,746Km</td>\n      <td></td>\n      <td>2012</td>\n      <td>Toyota</td>\n      <td>Camry</td>\n    </tr>\n    <tr>\n      <th>1</th>\n      <td>₦ 1,820,000</td>\n      <td>Nigerian Used</td>\n      <td>164,373Km</td>\n      <td>D</td>\n      <td>2006</td>\n      <td>Land</td>\n      <td>Rover Lr3</td>\n    </tr>\n    <tr>\n      <th>2</th>\n      <td>₦ 16,670,000</td>\n      <td>Foreign Used</td>\n      <td>43,589Km</td>\n      <td>C</td>\n      <td>2017</td>\n      <td>Toyota</td>\n      <td>Highlander</td>\n    </tr>\n    <tr>\n      <th>3</th>\n      <td>₦ 3,957,500</td>\n      <td>Nigerian Used</td>\n      <td>45,846Km</td>\n      <td>C</td>\n      <td>2018</td>\n      <td>Kia</td>\n      <td>Rio</td>\n    </tr>\n    <tr>\n      <th>4</th>\n      <td>₦ 2,607,500</td>\n      <td>Nigerian Used</td>\n      <td>345,675Km</td>\n      <td>C</td>\n      <td>2009</td>\n      <td>Toyota</td>\n      <td>Corolla</td>\n    </tr>\n    <tr>\n      <th>...</th>\n      <td>...</td>\n      <td>...</td>\n      <td>...</td>\n      <td>...</td>\n      <td>...</td>\n      <td>...</td>\n      <td>...</td>\n    </tr>\n    <tr>\n      <th>3014</th>\n      <td>₦ 9,893,906</td>\n      <td>Nigerian Used</td>\n      <td>28,027Km</td>\n      <td>D</td>\n      <td>2016</td>\n      <td>Mercedes-Benz</td>\n      <td>C300</td>\n    </tr>\n    <tr>\n      <th>3015</th>\n      <td>₦ 2,974,400</td>\n      <td></td>\n      <td>163,978Km</td>\n      <td>B</td>\n      <td>2011</td>\n      <td>Toyota</td>\n      <td>Camry</td>\n    </tr>\n    <tr>\n      <th>3016</th>\n      <td>₦ 4,202,500</td>\n      <td>Foreign Used</td>\n      <td>103,147Km</td>\n      <td>C</td>\n      <td>2009</td>\n      <td>Toyota</td>\n      <td>Venza</td>\n    </tr>\n    <tr>\n      <th>3017</th>\n      <td>₦ 2,140,000</td>\n      <td></td>\n      <td>148,118Km</td>\n      <td>C</td>\n      <td>2007</td>\n      <td>Lexus</td>\n      <td>ES</td>\n    </tr>\n    <tr>\n      <th>3018</th>\n      <td>₦ 1,890,000</td>\n      <td></td>\n      <td>29,654Km</td>\n      <td>C</td>\n      <td>2006</td>\n      <td>Mercedes-Benz</td>\n      <td>Ml350</td>\n    </tr>\n  </tbody>\n</table>\n<p>3019 rows × 7 columns</p>\n</div>"
     },
     "metadata": {},
     "execution_count": 153
    }
   ],
   "source": [
    "car_df"
   ]
  },
  {
   "cell_type": "code",
   "execution_count": 154,
   "metadata": {},
   "outputs": [],
   "source": [
    "car_df['Transmission'] ='Automatic'\n",
    "car_df['Fuel'] ='Petrol'"
   ]
  },
  {
   "cell_type": "code",
   "execution_count": 155,
   "metadata": {},
   "outputs": [
    {
     "output_type": "execute_result",
     "data": {
      "text/plain": [
       "             Price        History    Millage   Ratings  Year           Make  \\\n",
       "0      ₦ 2,720,000  Nigerian Used  118,746Km            2012         Toyota   \n",
       "1      ₦ 1,820,000  Nigerian Used  164,373Km         D  2006           Land   \n",
       "2     ₦ 16,670,000   Foreign Used   43,589Km         C  2017         Toyota   \n",
       "3      ₦ 3,957,500  Nigerian Used   45,846Km         C  2018            Kia   \n",
       "4      ₦ 2,607,500  Nigerian Used  345,675Km         C  2009         Toyota   \n",
       "...            ...            ...        ...       ...   ...            ...   \n",
       "3014   ₦ 9,893,906  Nigerian Used   28,027Km         D  2016  Mercedes-Benz   \n",
       "3015   ₦ 2,974,400                 163,978Km         B  2011         Toyota   \n",
       "3016   ₦ 4,202,500   Foreign Used  103,147Km         C  2009         Toyota   \n",
       "3017   ₦ 2,140,000                 148,118Km         C  2007          Lexus   \n",
       "3018   ₦ 1,890,000                  29,654Km         C  2006  Mercedes-Benz   \n",
       "\n",
       "           Model Transmission    Fuel  \n",
       "0          Camry    Automatic  Petrol  \n",
       "1      Rover Lr3    Automatic  Petrol  \n",
       "2     Highlander    Automatic  Petrol  \n",
       "3            Rio    Automatic  Petrol  \n",
       "4        Corolla    Automatic  Petrol  \n",
       "...          ...          ...     ...  \n",
       "3014        C300    Automatic  Petrol  \n",
       "3015       Camry    Automatic  Petrol  \n",
       "3016       Venza    Automatic  Petrol  \n",
       "3017          ES    Automatic  Petrol  \n",
       "3018      Ml350     Automatic  Petrol  \n",
       "\n",
       "[3019 rows x 9 columns]"
      ],
      "text/html": "<div>\n<style scoped>\n    .dataframe tbody tr th:only-of-type {\n        vertical-align: middle;\n    }\n\n    .dataframe tbody tr th {\n        vertical-align: top;\n    }\n\n    .dataframe thead th {\n        text-align: right;\n    }\n</style>\n<table border=\"1\" class=\"dataframe\">\n  <thead>\n    <tr style=\"text-align: right;\">\n      <th></th>\n      <th>Price</th>\n      <th>History</th>\n      <th>Millage</th>\n      <th>Ratings</th>\n      <th>Year</th>\n      <th>Make</th>\n      <th>Model</th>\n      <th>Transmission</th>\n      <th>Fuel</th>\n    </tr>\n  </thead>\n  <tbody>\n    <tr>\n      <th>0</th>\n      <td>₦ 2,720,000</td>\n      <td>Nigerian Used</td>\n      <td>118,746Km</td>\n      <td></td>\n      <td>2012</td>\n      <td>Toyota</td>\n      <td>Camry</td>\n      <td>Automatic</td>\n      <td>Petrol</td>\n    </tr>\n    <tr>\n      <th>1</th>\n      <td>₦ 1,820,000</td>\n      <td>Nigerian Used</td>\n      <td>164,373Km</td>\n      <td>D</td>\n      <td>2006</td>\n      <td>Land</td>\n      <td>Rover Lr3</td>\n      <td>Automatic</td>\n      <td>Petrol</td>\n    </tr>\n    <tr>\n      <th>2</th>\n      <td>₦ 16,670,000</td>\n      <td>Foreign Used</td>\n      <td>43,589Km</td>\n      <td>C</td>\n      <td>2017</td>\n      <td>Toyota</td>\n      <td>Highlander</td>\n      <td>Automatic</td>\n      <td>Petrol</td>\n    </tr>\n    <tr>\n      <th>3</th>\n      <td>₦ 3,957,500</td>\n      <td>Nigerian Used</td>\n      <td>45,846Km</td>\n      <td>C</td>\n      <td>2018</td>\n      <td>Kia</td>\n      <td>Rio</td>\n      <td>Automatic</td>\n      <td>Petrol</td>\n    </tr>\n    <tr>\n      <th>4</th>\n      <td>₦ 2,607,500</td>\n      <td>Nigerian Used</td>\n      <td>345,675Km</td>\n      <td>C</td>\n      <td>2009</td>\n      <td>Toyota</td>\n      <td>Corolla</td>\n      <td>Automatic</td>\n      <td>Petrol</td>\n    </tr>\n    <tr>\n      <th>...</th>\n      <td>...</td>\n      <td>...</td>\n      <td>...</td>\n      <td>...</td>\n      <td>...</td>\n      <td>...</td>\n      <td>...</td>\n      <td>...</td>\n      <td>...</td>\n    </tr>\n    <tr>\n      <th>3014</th>\n      <td>₦ 9,893,906</td>\n      <td>Nigerian Used</td>\n      <td>28,027Km</td>\n      <td>D</td>\n      <td>2016</td>\n      <td>Mercedes-Benz</td>\n      <td>C300</td>\n      <td>Automatic</td>\n      <td>Petrol</td>\n    </tr>\n    <tr>\n      <th>3015</th>\n      <td>₦ 2,974,400</td>\n      <td></td>\n      <td>163,978Km</td>\n      <td>B</td>\n      <td>2011</td>\n      <td>Toyota</td>\n      <td>Camry</td>\n      <td>Automatic</td>\n      <td>Petrol</td>\n    </tr>\n    <tr>\n      <th>3016</th>\n      <td>₦ 4,202,500</td>\n      <td>Foreign Used</td>\n      <td>103,147Km</td>\n      <td>C</td>\n      <td>2009</td>\n      <td>Toyota</td>\n      <td>Venza</td>\n      <td>Automatic</td>\n      <td>Petrol</td>\n    </tr>\n    <tr>\n      <th>3017</th>\n      <td>₦ 2,140,000</td>\n      <td></td>\n      <td>148,118Km</td>\n      <td>C</td>\n      <td>2007</td>\n      <td>Lexus</td>\n      <td>ES</td>\n      <td>Automatic</td>\n      <td>Petrol</td>\n    </tr>\n    <tr>\n      <th>3018</th>\n      <td>₦ 1,890,000</td>\n      <td></td>\n      <td>29,654Km</td>\n      <td>C</td>\n      <td>2006</td>\n      <td>Mercedes-Benz</td>\n      <td>Ml350</td>\n      <td>Automatic</td>\n      <td>Petrol</td>\n    </tr>\n  </tbody>\n</table>\n<p>3019 rows × 9 columns</p>\n</div>"
     },
     "metadata": {},
     "execution_count": 155
    }
   ],
   "source": [
    "car_df"
   ]
  },
  {
   "cell_type": "code",
   "execution_count": null,
   "metadata": {},
   "outputs": [],
   "source": []
  }
 ]
}