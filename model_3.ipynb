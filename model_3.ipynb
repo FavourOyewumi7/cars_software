{
 "cells": [
  {
   "cell_type": "code",
   "execution_count": 1,
   "metadata": {},
   "outputs": [],
   "source": [
    "#import libraries\n",
    "import numpy as np \n",
    "import pandas as pd\n",
    "import seaborn as sns\n",
    "import matplotlib.pyplot as plt\n",
    "import category_encoders as ce\n",
    "from sklearn.model_selection import cross_validate\n",
    "\n",
    "#ignore warnings\n",
    "import warnings\n",
    "warnings.filterwarnings('ignore')"
   ]
  },
  {
   "cell_type": "code",
   "execution_count": 2,
   "metadata": {},
   "outputs": [
    {
     "data": {
      "text/html": [
       "<div>\n",
       "<style scoped>\n",
       "    .dataframe tbody tr th:only-of-type {\n",
       "        vertical-align: middle;\n",
       "    }\n",
       "\n",
       "    .dataframe tbody tr th {\n",
       "        vertical-align: top;\n",
       "    }\n",
       "\n",
       "    .dataframe thead th {\n",
       "        text-align: right;\n",
       "    }\n",
       "</style>\n",
       "<table border=\"1\" class=\"dataframe\">\n",
       "  <thead>\n",
       "    <tr style=\"text-align: right;\">\n",
       "      <th></th>\n",
       "      <th>Price</th>\n",
       "      <th>city</th>\n",
       "      <th>History</th>\n",
       "      <th>Millage</th>\n",
       "      <th>Ratings</th>\n",
       "      <th>Year</th>\n",
       "      <th>Make</th>\n",
       "      <th>Model</th>\n",
       "      <th>Transmission</th>\n",
       "      <th>Age</th>\n",
       "    </tr>\n",
       "  </thead>\n",
       "  <tbody>\n",
       "    <tr>\n",
       "      <th>0</th>\n",
       "      <td>4965000.0</td>\n",
       "      <td>Abia</td>\n",
       "      <td>foreign</td>\n",
       "      <td>149232.0</td>\n",
       "      <td>4.7</td>\n",
       "      <td>2015.0</td>\n",
       "      <td>Honda</td>\n",
       "      <td>Accord</td>\n",
       "      <td>Automatic</td>\n",
       "      <td>5.0</td>\n",
       "    </tr>\n",
       "    <tr>\n",
       "      <th>1</th>\n",
       "      <td>1280000.0</td>\n",
       "      <td>Accra</td>\n",
       "      <td>local</td>\n",
       "      <td>145078.0</td>\n",
       "      <td>4.4</td>\n",
       "      <td>2005.0</td>\n",
       "      <td>Toyota</td>\n",
       "      <td>Corolla</td>\n",
       "      <td>Automatic</td>\n",
       "      <td>15.0</td>\n",
       "    </tr>\n",
       "    <tr>\n",
       "      <th>2</th>\n",
       "      <td>1280000.0</td>\n",
       "      <td>Accra</td>\n",
       "      <td>local</td>\n",
       "      <td>91691.0</td>\n",
       "      <td>4.6</td>\n",
       "      <td>2008.0</td>\n",
       "      <td>Toyota</td>\n",
       "      <td>Corolla</td>\n",
       "      <td>Automatic</td>\n",
       "      <td>12.0</td>\n",
       "    </tr>\n",
       "    <tr>\n",
       "      <th>3</th>\n",
       "      <td>1567500.0</td>\n",
       "      <td>Lagos</td>\n",
       "      <td>local</td>\n",
       "      <td>234797.0</td>\n",
       "      <td>4.5</td>\n",
       "      <td>2004.0</td>\n",
       "      <td>Toyota</td>\n",
       "      <td>Corolla</td>\n",
       "      <td>Automatic</td>\n",
       "      <td>16.0</td>\n",
       "    </tr>\n",
       "    <tr>\n",
       "      <th>4</th>\n",
       "      <td>6065000.0</td>\n",
       "      <td>Lagos</td>\n",
       "      <td>foreign</td>\n",
       "      <td>145678.0</td>\n",
       "      <td>4.8</td>\n",
       "      <td>2013.0</td>\n",
       "      <td>Hyundai</td>\n",
       "      <td>Azera</td>\n",
       "      <td>Automatic</td>\n",
       "      <td>7.0</td>\n",
       "    </tr>\n",
       "  </tbody>\n",
       "</table>\n",
       "</div>"
      ],
      "text/plain": [
       "       Price   city  History   Millage  Ratings    Year     Make    Model  \\\n",
       "0  4965000.0   Abia  foreign  149232.0      4.7  2015.0    Honda   Accord   \n",
       "1  1280000.0  Accra    local  145078.0      4.4  2005.0   Toyota  Corolla   \n",
       "2  1280000.0  Accra    local   91691.0      4.6  2008.0   Toyota  Corolla   \n",
       "3  1567500.0  Lagos    local  234797.0      4.5  2004.0   Toyota  Corolla   \n",
       "4  6065000.0  Lagos  foreign  145678.0      4.8  2013.0  Hyundai    Azera   \n",
       "\n",
       "  Transmission   Age  \n",
       "0    Automatic   5.0  \n",
       "1    Automatic  15.0  \n",
       "2    Automatic  12.0  \n",
       "3    Automatic  16.0  \n",
       "4    Automatic   7.0  "
      ]
     },
     "execution_count": 2,
     "metadata": {},
     "output_type": "execute_result"
    }
   ],
   "source": [
    "#import data\n",
    "df = pd.read_csv(\"./data/cleaned_data_with3.csv\",index_col=0)\n",
    "\n",
    "df.head()"
   ]
  },
  {
   "cell_type": "markdown",
   "metadata": {},
   "source": [
    "### Data Preparation"
   ]
  },
  {
   "cell_type": "code",
   "execution_count": 3,
   "metadata": {},
   "outputs": [],
   "source": [
    "df['Price'] = df['Price']/1000000 #reduce the Price values"
   ]
  },
  {
   "cell_type": "code",
   "execution_count": 4,
   "metadata": {},
   "outputs": [],
   "source": [
    "#drop the Year column\n",
    "df = df.drop(['Year'],axis=1)"
   ]
  },
  {
   "cell_type": "code",
   "execution_count": 5,
   "metadata": {},
   "outputs": [
    {
     "data": {
      "text/plain": [
       "(17227, 9)"
      ]
     },
     "execution_count": 5,
     "metadata": {},
     "output_type": "execute_result"
    }
   ],
   "source": [
    "df.shape"
   ]
  },
  {
   "cell_type": "code",
   "execution_count": 6,
   "metadata": {},
   "outputs": [
    {
     "data": {
      "text/html": [
       "<div>\n",
       "<style scoped>\n",
       "    .dataframe tbody tr th:only-of-type {\n",
       "        vertical-align: middle;\n",
       "    }\n",
       "\n",
       "    .dataframe tbody tr th {\n",
       "        vertical-align: top;\n",
       "    }\n",
       "\n",
       "    .dataframe thead th {\n",
       "        text-align: right;\n",
       "    }\n",
       "</style>\n",
       "<table border=\"1\" class=\"dataframe\">\n",
       "  <thead>\n",
       "    <tr style=\"text-align: right;\">\n",
       "      <th></th>\n",
       "      <th>Price</th>\n",
       "      <th>city</th>\n",
       "      <th>History</th>\n",
       "      <th>Millage</th>\n",
       "      <th>Ratings</th>\n",
       "      <th>Make</th>\n",
       "      <th>Model</th>\n",
       "      <th>Transmission</th>\n",
       "      <th>Age</th>\n",
       "    </tr>\n",
       "  </thead>\n",
       "  <tbody>\n",
       "    <tr>\n",
       "      <th>599</th>\n",
       "      <td>0.0</td>\n",
       "      <td>Lagos</td>\n",
       "      <td>foreign</td>\n",
       "      <td>10000.0</td>\n",
       "      <td>3.0</td>\n",
       "      <td>Toyota</td>\n",
       "      <td>RAV 4</td>\n",
       "      <td>Automatic</td>\n",
       "      <td>12.0</td>\n",
       "    </tr>\n",
       "    <tr>\n",
       "      <th>606</th>\n",
       "      <td>0.0</td>\n",
       "      <td>Lagos</td>\n",
       "      <td>foreign</td>\n",
       "      <td>9856.0</td>\n",
       "      <td>3.0</td>\n",
       "      <td>Honda</td>\n",
       "      <td>CR-V</td>\n",
       "      <td>Automatic</td>\n",
       "      <td>12.0</td>\n",
       "    </tr>\n",
       "    <tr>\n",
       "      <th>617</th>\n",
       "      <td>0.0</td>\n",
       "      <td>Lagos</td>\n",
       "      <td>foreign</td>\n",
       "      <td>0.0</td>\n",
       "      <td>3.0</td>\n",
       "      <td>Ford</td>\n",
       "      <td>Explorer</td>\n",
       "      <td>Automatic</td>\n",
       "      <td>4.0</td>\n",
       "    </tr>\n",
       "    <tr>\n",
       "      <th>618</th>\n",
       "      <td>0.0</td>\n",
       "      <td>Rivers</td>\n",
       "      <td>foreign</td>\n",
       "      <td>98000.0</td>\n",
       "      <td>3.0</td>\n",
       "      <td>Honda</td>\n",
       "      <td>CR-V</td>\n",
       "      <td>Automatic</td>\n",
       "      <td>12.0</td>\n",
       "    </tr>\n",
       "    <tr>\n",
       "      <th>621</th>\n",
       "      <td>0.0</td>\n",
       "      <td>Lagos</td>\n",
       "      <td>foreign</td>\n",
       "      <td>125425.0</td>\n",
       "      <td>3.0</td>\n",
       "      <td>Toyota</td>\n",
       "      <td>Camry</td>\n",
       "      <td>Automatic</td>\n",
       "      <td>12.0</td>\n",
       "    </tr>\n",
       "    <tr>\n",
       "      <th>...</th>\n",
       "      <td>...</td>\n",
       "      <td>...</td>\n",
       "      <td>...</td>\n",
       "      <td>...</td>\n",
       "      <td>...</td>\n",
       "      <td>...</td>\n",
       "      <td>...</td>\n",
       "      <td>...</td>\n",
       "      <td>...</td>\n",
       "    </tr>\n",
       "    <tr>\n",
       "      <th>14176</th>\n",
       "      <td>0.0</td>\n",
       "      <td>Lagos</td>\n",
       "      <td>foreign</td>\n",
       "      <td>92134.0</td>\n",
       "      <td>0.0</td>\n",
       "      <td>Mazda</td>\n",
       "      <td>Tribute</td>\n",
       "      <td>Manual</td>\n",
       "      <td>12.0</td>\n",
       "    </tr>\n",
       "    <tr>\n",
       "      <th>14177</th>\n",
       "      <td>0.0</td>\n",
       "      <td>Lagos</td>\n",
       "      <td>foreign</td>\n",
       "      <td>21344.0</td>\n",
       "      <td>0.0</td>\n",
       "      <td>Toyota</td>\n",
       "      <td>Corolla</td>\n",
       "      <td>Manual</td>\n",
       "      <td>14.0</td>\n",
       "    </tr>\n",
       "    <tr>\n",
       "      <th>14181</th>\n",
       "      <td>0.0</td>\n",
       "      <td>Lagos</td>\n",
       "      <td>foreign</td>\n",
       "      <td>153063.0</td>\n",
       "      <td>0.0</td>\n",
       "      <td>Toyota</td>\n",
       "      <td>Camry</td>\n",
       "      <td>Manual</td>\n",
       "      <td>23.0</td>\n",
       "    </tr>\n",
       "    <tr>\n",
       "      <th>14188</th>\n",
       "      <td>0.0</td>\n",
       "      <td>Lagos</td>\n",
       "      <td>foreign</td>\n",
       "      <td>0.0</td>\n",
       "      <td>0.0</td>\n",
       "      <td>Mercedes-Benz</td>\n",
       "      <td>E 350</td>\n",
       "      <td>Manual</td>\n",
       "      <td>7.0</td>\n",
       "    </tr>\n",
       "    <tr>\n",
       "      <th>14191</th>\n",
       "      <td>0.0</td>\n",
       "      <td>Lagos</td>\n",
       "      <td>foreign</td>\n",
       "      <td>123442.0</td>\n",
       "      <td>0.0</td>\n",
       "      <td>Lexus</td>\n",
       "      <td>RX 350</td>\n",
       "      <td>Manual</td>\n",
       "      <td>15.0</td>\n",
       "    </tr>\n",
       "  </tbody>\n",
       "</table>\n",
       "<p>2866 rows × 9 columns</p>\n",
       "</div>"
      ],
      "text/plain": [
       "       Price    city  History   Millage  Ratings           Make     Model  \\\n",
       "599      0.0   Lagos  foreign   10000.0      3.0         Toyota     RAV 4   \n",
       "606      0.0   Lagos  foreign    9856.0      3.0          Honda      CR-V   \n",
       "617      0.0   Lagos  foreign       0.0      3.0           Ford  Explorer   \n",
       "618      0.0  Rivers  foreign   98000.0      3.0          Honda      CR-V   \n",
       "621      0.0   Lagos  foreign  125425.0      3.0         Toyota     Camry   \n",
       "...      ...     ...      ...       ...      ...            ...       ...   \n",
       "14176    0.0   Lagos  foreign   92134.0      0.0          Mazda   Tribute   \n",
       "14177    0.0   Lagos  foreign   21344.0      0.0         Toyota   Corolla   \n",
       "14181    0.0   Lagos  foreign  153063.0      0.0         Toyota     Camry   \n",
       "14188    0.0   Lagos  foreign       0.0      0.0  Mercedes-Benz     E 350   \n",
       "14191    0.0   Lagos  foreign  123442.0      0.0          Lexus    RX 350   \n",
       "\n",
       "      Transmission   Age  \n",
       "599      Automatic  12.0  \n",
       "606      Automatic  12.0  \n",
       "617      Automatic   4.0  \n",
       "618      Automatic  12.0  \n",
       "621      Automatic  12.0  \n",
       "...            ...   ...  \n",
       "14176       Manual  12.0  \n",
       "14177       Manual  14.0  \n",
       "14181       Manual  23.0  \n",
       "14188       Manual   7.0  \n",
       "14191       Manual  15.0  \n",
       "\n",
       "[2866 rows x 9 columns]"
      ]
     },
     "execution_count": 6,
     "metadata": {},
     "output_type": "execute_result"
    }
   ],
   "source": [
    "df[df.Price <= 0]"
   ]
  },
  {
   "cell_type": "code",
   "execution_count": 7,
   "metadata": {},
   "outputs": [
    {
     "data": {
      "text/plain": [
       "<matplotlib.axes._subplots.AxesSubplot at 0x7ff2f7f877b8>"
      ]
     },
     "execution_count": 7,
     "metadata": {},
     "output_type": "execute_result"
    },
    {
     "data": {
      "image/png": "[encoded data removed]",
      "text/plain": [
       "<Figure size 432x288 with 1 Axes>"
      ]
     },
     "metadata": {
      "needs_background": "light"
     },
     "output_type": "display_data"
    }
   ],
   "source": [
    "#find outliers!\n",
    "sns.boxplot(x=df['Price'])"
   ]
  },
  {
   "cell_type": "code",
   "execution_count": 8,
   "metadata": {},
   "outputs": [
    {
     "data": {
      "text/html": [
       "<div>\n",
       "<style scoped>\n",
       "    .dataframe tbody tr th:only-of-type {\n",
       "        vertical-align: middle;\n",
       "    }\n",
       "\n",
       "    .dataframe tbody tr th {\n",
       "        vertical-align: top;\n",
       "    }\n",
       "\n",
       "    .dataframe thead th {\n",
       "        text-align: right;\n",
       "    }\n",
       "</style>\n",
       "<table border=\"1\" class=\"dataframe\">\n",
       "  <thead>\n",
       "    <tr style=\"text-align: right;\">\n",
       "      <th></th>\n",
       "      <th>Price</th>\n",
       "      <th>city</th>\n",
       "      <th>History</th>\n",
       "      <th>Millage</th>\n",
       "      <th>Ratings</th>\n",
       "      <th>Make</th>\n",
       "      <th>Model</th>\n",
       "      <th>Transmission</th>\n",
       "      <th>Age</th>\n",
       "    </tr>\n",
       "  </thead>\n",
       "  <tbody>\n",
       "    <tr>\n",
       "      <th>32</th>\n",
       "      <td>30.265</td>\n",
       "      <td>Lagos</td>\n",
       "      <td>foreign</td>\n",
       "      <td>76794.0</td>\n",
       "      <td>4.9</td>\n",
       "      <td>Lexus</td>\n",
       "      <td>LX 570</td>\n",
       "      <td>Automatic</td>\n",
       "      <td>3.0</td>\n",
       "    </tr>\n",
       "    <tr>\n",
       "      <th>52</th>\n",
       "      <td>23.115</td>\n",
       "      <td>Lagos</td>\n",
       "      <td>foreign</td>\n",
       "      <td>14464.0</td>\n",
       "      <td>5.0</td>\n",
       "      <td>Lexus</td>\n",
       "      <td>RX 350</td>\n",
       "      <td>Automatic</td>\n",
       "      <td>1.0</td>\n",
       "    </tr>\n",
       "    <tr>\n",
       "      <th>53</th>\n",
       "      <td>49.515</td>\n",
       "      <td>Lagos</td>\n",
       "      <td>foreign</td>\n",
       "      <td>14855.0</td>\n",
       "      <td>5.0</td>\n",
       "      <td>Land</td>\n",
       "      <td>Rover Range Rover Velar</td>\n",
       "      <td>Automatic</td>\n",
       "      <td>2.0</td>\n",
       "    </tr>\n",
       "    <tr>\n",
       "      <th>61</th>\n",
       "      <td>19.265</td>\n",
       "      <td>Lagos</td>\n",
       "      <td>foreign</td>\n",
       "      <td>19444.0</td>\n",
       "      <td>5.0</td>\n",
       "      <td>Lexus</td>\n",
       "      <td>RX 350</td>\n",
       "      <td>Automatic</td>\n",
       "      <td>4.0</td>\n",
       "    </tr>\n",
       "    <tr>\n",
       "      <th>128</th>\n",
       "      <td>55.015</td>\n",
       "      <td>Lagos</td>\n",
       "      <td>foreign</td>\n",
       "      <td>18297.0</td>\n",
       "      <td>4.7</td>\n",
       "      <td>Mercedes-Benz</td>\n",
       "      <td>G 63 AMG</td>\n",
       "      <td>Automatic</td>\n",
       "      <td>4.0</td>\n",
       "    </tr>\n",
       "    <tr>\n",
       "      <th>...</th>\n",
       "      <td>...</td>\n",
       "      <td>...</td>\n",
       "      <td>...</td>\n",
       "      <td>...</td>\n",
       "      <td>...</td>\n",
       "      <td>...</td>\n",
       "      <td>...</td>\n",
       "      <td>...</td>\n",
       "      <td>...</td>\n",
       "    </tr>\n",
       "    <tr>\n",
       "      <th>17439</th>\n",
       "      <td>36.000</td>\n",
       "      <td>Lagos</td>\n",
       "      <td>foreign</td>\n",
       "      <td>49987.0</td>\n",
       "      <td>3.0</td>\n",
       "      <td>Rover</td>\n",
       "      <td>Range Rover Vogue</td>\n",
       "      <td>Automatic</td>\n",
       "      <td>12.0</td>\n",
       "    </tr>\n",
       "    <tr>\n",
       "      <th>17442</th>\n",
       "      <td>29.000</td>\n",
       "      <td>Lagos</td>\n",
       "      <td>foreign</td>\n",
       "      <td>23570.0</td>\n",
       "      <td>2.0</td>\n",
       "      <td>Land</td>\n",
       "      <td>Rover Range Rover Sport</td>\n",
       "      <td>Automatic</td>\n",
       "      <td>12.0</td>\n",
       "    </tr>\n",
       "    <tr>\n",
       "      <th>17443</th>\n",
       "      <td>16.000</td>\n",
       "      <td>Lagos</td>\n",
       "      <td>foreign</td>\n",
       "      <td>3931.0</td>\n",
       "      <td>1.0</td>\n",
       "      <td>Toyota</td>\n",
       "      <td>Camry</td>\n",
       "      <td>Automatic</td>\n",
       "      <td>12.0</td>\n",
       "    </tr>\n",
       "    <tr>\n",
       "      <th>17457</th>\n",
       "      <td>16.500</td>\n",
       "      <td>Lagos</td>\n",
       "      <td>foreign</td>\n",
       "      <td>89582.0</td>\n",
       "      <td>3.0</td>\n",
       "      <td>Lexus</td>\n",
       "      <td>Lx</td>\n",
       "      <td>Automatic</td>\n",
       "      <td>12.0</td>\n",
       "    </tr>\n",
       "    <tr>\n",
       "      <th>17460</th>\n",
       "      <td>22.000</td>\n",
       "      <td>Lagos</td>\n",
       "      <td>foreign</td>\n",
       "      <td>75259.0</td>\n",
       "      <td>3.0</td>\n",
       "      <td>Mercedes-Benz</td>\n",
       "      <td>Gl550</td>\n",
       "      <td>Automatic</td>\n",
       "      <td>12.0</td>\n",
       "    </tr>\n",
       "  </tbody>\n",
       "</table>\n",
       "<p>1072 rows × 9 columns</p>\n",
       "</div>"
      ],
      "text/plain": [
       "        Price   city  History  Millage  Ratings           Make  \\\n",
       "32     30.265  Lagos  foreign  76794.0      4.9          Lexus   \n",
       "52     23.115  Lagos  foreign  14464.0      5.0          Lexus   \n",
       "53     49.515  Lagos  foreign  14855.0      5.0           Land   \n",
       "61     19.265  Lagos  foreign  19444.0      5.0          Lexus   \n",
       "128    55.015  Lagos  foreign  18297.0      4.7  Mercedes-Benz   \n",
       "...       ...    ...      ...      ...      ...            ...   \n",
       "17439  36.000  Lagos  foreign  49987.0      3.0          Rover   \n",
       "17442  29.000  Lagos  foreign  23570.0      2.0           Land   \n",
       "17443  16.000  Lagos  foreign   3931.0      1.0         Toyota   \n",
       "17457  16.500  Lagos  foreign  89582.0      3.0          Lexus   \n",
       "17460  22.000  Lagos  foreign  75259.0      3.0  Mercedes-Benz   \n",
       "\n",
       "                         Model Transmission   Age  \n",
       "32                      LX 570    Automatic   3.0  \n",
       "52                      RX 350    Automatic   1.0  \n",
       "53     Rover Range Rover Velar    Automatic   2.0  \n",
       "61                      RX 350    Automatic   4.0  \n",
       "128                   G 63 AMG    Automatic   4.0  \n",
       "...                        ...          ...   ...  \n",
       "17439        Range Rover Vogue    Automatic  12.0  \n",
       "17442  Rover Range Rover Sport    Automatic  12.0  \n",
       "17443                    Camry    Automatic  12.0  \n",
       "17457                       Lx    Automatic  12.0  \n",
       "17460                    Gl550    Automatic  12.0  \n",
       "\n",
       "[1072 rows x 9 columns]"
      ]
     },
     "execution_count": 8,
     "metadata": {},
     "output_type": "execute_result"
    }
   ],
   "source": [
    "#check for outliers size\n",
    "\n",
    "df[df.Price > 15]"
   ]
  },
  {
   "cell_type": "code",
   "execution_count": 9,
   "metadata": {},
   "outputs": [],
   "source": [
    "#drop all columns where Price is zero and greater than 50(million)\n",
    "df = df.drop(df[df.Price > 15].index)\n",
    "\n",
    "df = df.drop(df[df.Price <= 0].index)"
   ]
  },
  {
   "cell_type": "code",
   "execution_count": 10,
   "metadata": {},
   "outputs": [
    {
     "data": {
      "text/plain": [
       "(13289, 9)"
      ]
     },
     "execution_count": 10,
     "metadata": {},
     "output_type": "execute_result"
    }
   ],
   "source": [
    "df.shape"
   ]
  },
  {
   "cell_type": "code",
   "execution_count": 11,
   "metadata": {},
   "outputs": [
    {
     "data": {
      "text/plain": [
       "<matplotlib.axes._subplots.AxesSubplot at 0x7ff2f726ca58>"
      ]
     },
     "execution_count": 11,
     "metadata": {},
     "output_type": "execute_result"
    },
    {
     "data": {
      "image/png": "[encoded data removed]",
      "text/plain": [
       "<Figure size 432x288 with 1 Axes>"
      ]
     },
     "metadata": {
      "needs_background": "light"
     },
     "output_type": "display_data"
    }
   ],
   "source": [
    "#find outliers!\n",
    "sns.boxplot(x=df['Price'])"
   ]
  },
  {
   "cell_type": "code",
   "execution_count": 12,
   "metadata": {},
   "outputs": [
    {
     "data": {
      "text/plain": [
       "<matplotlib.axes._subplots.AxesSubplot at 0x7ff2f74e2128>"
      ]
     },
     "execution_count": 12,
     "metadata": {},
     "output_type": "execute_result"
    },
    {
     "data": {
      "image/png": "[encoded data removed]",
      "text/plain": [
       "<Figure size 432x288 with 1 Axes>"
      ]
     },
     "metadata": {
      "needs_background": "light"
     },
     "output_type": "display_data"
    }
   ],
   "source": [
    "#check out the Millage column\n",
    "sns.boxplot(x=df['Millage'])"
   ]
  },
  {
   "cell_type": "code",
   "execution_count": 13,
   "metadata": {},
   "outputs": [
    {
     "data": {
      "text/plain": [
       "(1044, 9)"
      ]
     },
     "execution_count": 13,
     "metadata": {},
     "output_type": "execute_result"
    }
   ],
   "source": [
    "#check for outliers size\n",
    "\n",
    "df[df.Millage > 200000].shape"
   ]
  },
  {
   "cell_type": "code",
   "execution_count": 14,
   "metadata": {},
   "outputs": [],
   "source": [
    "#drop all columns with Millage more than four hundred thousand km\n",
    "df = df.drop(df[df.Millage > 200000].index)"
   ]
  },
  {
   "cell_type": "code",
   "execution_count": 15,
   "metadata": {},
   "outputs": [
    {
     "data": {
      "text/plain": [
       "(12245, 9)"
      ]
     },
     "execution_count": 15,
     "metadata": {},
     "output_type": "execute_result"
    }
   ],
   "source": [
    "df.shape"
   ]
  },
  {
   "cell_type": "code",
   "execution_count": 16,
   "metadata": {},
   "outputs": [
    {
     "data": {
      "text/plain": [
       "<matplotlib.axes._subplots.AxesSubplot at 0x7ff2f72a6da0>"
      ]
     },
     "execution_count": 16,
     "metadata": {},
     "output_type": "execute_result"
    },
    {
     "data": {
      "image/png": "[encoded data removed]",
      "text/plain": [
       "<Figure size 432x288 with 1 Axes>"
      ]
     },
     "metadata": {
      "needs_background": "light"
     },
     "output_type": "display_data"
    }
   ],
   "source": [
    "#find outliers in Age!\n",
    "sns.boxplot(x=df['Age'])"
   ]
  },
  {
   "cell_type": "code",
   "execution_count": 17,
   "metadata": {},
   "outputs": [
    {
     "data": {
      "text/plain": [
       "(182, 9)"
      ]
     },
     "execution_count": 17,
     "metadata": {},
     "output_type": "execute_result"
    }
   ],
   "source": [
    "#drop all age greater than 20\n",
    "\n",
    "df[df.Age > 20].shape"
   ]
  },
  {
   "cell_type": "code",
   "execution_count": 18,
   "metadata": {},
   "outputs": [],
   "source": [
    "#drop Age greater than 20\n",
    "\n",
    "df = df.drop(df[df.Age > 20].index)"
   ]
  },
  {
   "cell_type": "code",
   "execution_count": 19,
   "metadata": {},
   "outputs": [
    {
     "data": {
      "text/plain": [
       "(12063, 9)"
      ]
     },
     "execution_count": 19,
     "metadata": {},
     "output_type": "execute_result"
    }
   ],
   "source": [
    "df.shape"
   ]
  },
  {
   "cell_type": "code",
   "execution_count": 20,
   "metadata": {},
   "outputs": [
    {
     "data": {
      "text/html": [
       "<div>\n",
       "<style scoped>\n",
       "    .dataframe tbody tr th:only-of-type {\n",
       "        vertical-align: middle;\n",
       "    }\n",
       "\n",
       "    .dataframe tbody tr th {\n",
       "        vertical-align: top;\n",
       "    }\n",
       "\n",
       "    .dataframe thead th {\n",
       "        text-align: right;\n",
       "    }\n",
       "</style>\n",
       "<table border=\"1\" class=\"dataframe\">\n",
       "  <thead>\n",
       "    <tr style=\"text-align: right;\">\n",
       "      <th></th>\n",
       "      <th>Millage</th>\n",
       "      <th>Ratings</th>\n",
       "      <th>Age</th>\n",
       "    </tr>\n",
       "  </thead>\n",
       "  <tbody>\n",
       "    <tr>\n",
       "      <th>count</th>\n",
       "      <td>10253.000000</td>\n",
       "      <td>10253.000000</td>\n",
       "      <td>10253.000000</td>\n",
       "    </tr>\n",
       "    <tr>\n",
       "      <th>mean</th>\n",
       "      <td>51392.566858</td>\n",
       "      <td>3.125427</td>\n",
       "      <td>11.257973</td>\n",
       "    </tr>\n",
       "    <tr>\n",
       "      <th>std</th>\n",
       "      <td>53736.626978</td>\n",
       "      <td>0.714315</td>\n",
       "      <td>3.321836</td>\n",
       "    </tr>\n",
       "    <tr>\n",
       "      <th>min</th>\n",
       "      <td>0.000000</td>\n",
       "      <td>0.000000</td>\n",
       "      <td>0.000000</td>\n",
       "    </tr>\n",
       "    <tr>\n",
       "      <th>25%</th>\n",
       "      <td>0.000000</td>\n",
       "      <td>3.000000</td>\n",
       "      <td>9.000000</td>\n",
       "    </tr>\n",
       "    <tr>\n",
       "      <th>50%</th>\n",
       "      <td>47799.000000</td>\n",
       "      <td>3.000000</td>\n",
       "      <td>12.000000</td>\n",
       "    </tr>\n",
       "    <tr>\n",
       "      <th>75%</th>\n",
       "      <td>87000.000000</td>\n",
       "      <td>3.000000</td>\n",
       "      <td>13.000000</td>\n",
       "    </tr>\n",
       "    <tr>\n",
       "      <th>max</th>\n",
       "      <td>200000.000000</td>\n",
       "      <td>5.000000</td>\n",
       "      <td>20.000000</td>\n",
       "    </tr>\n",
       "  </tbody>\n",
       "</table>\n",
       "</div>"
      ],
      "text/plain": [
       "             Millage       Ratings           Age\n",
       "count   10253.000000  10253.000000  10253.000000\n",
       "mean    51392.566858      3.125427     11.257973\n",
       "std     53736.626978      0.714315      3.321836\n",
       "min         0.000000      0.000000      0.000000\n",
       "25%         0.000000      3.000000      9.000000\n",
       "50%     47799.000000      3.000000     12.000000\n",
       "75%     87000.000000      3.000000     13.000000\n",
       "max    200000.000000      5.000000     20.000000"
      ]
     },
     "execution_count": 20,
     "metadata": {},
     "output_type": "execute_result"
    }
   ],
   "source": [
    "#split the data\n",
    "X = df.drop(['Price'], axis=1)\n",
    "y = df['Price']  #target variable\n",
    "\n",
    "from sklearn.model_selection import train_test_split\n",
    "\n",
    "X_train, X_test, y_train, y_test = train_test_split(X, y, test_size=0.15, random_state=42,shuffle=True)\n",
    "X_train.describe()"
   ]
  },
  {
   "cell_type": "code",
   "execution_count": 21,
   "metadata": {},
   "outputs": [],
   "source": [
    "#to display results\n",
    "results = X_test"
   ]
  },
  {
   "cell_type": "code",
   "execution_count": 22,
   "metadata": {},
   "outputs": [
    {
     "data": {
      "text/plain": [
       "<matplotlib.axes._subplots.AxesSubplot at 0x7ff2f7834860>"
      ]
     },
     "execution_count": 22,
     "metadata": {},
     "output_type": "execute_result"
    },
    {
     "data": {
      "image/png": "[encoded data removed]",
      "text/plain": [
       "<Figure size 432x288 with 2 Axes>"
      ]
     },
     "metadata": {
      "needs_background": "light"
     },
     "output_type": "display_data"
    }
   ],
   "source": [
    "sns.heatmap(df.corr(),annot=True)"
   ]
  },
  {
   "cell_type": "code",
   "execution_count": 23,
   "metadata": {},
   "outputs": [],
   "source": [
    "# data normalization with sklearn\n",
    "from sklearn.preprocessing import MinMaxScaler\n",
    "\n",
    "norm_cols = ['Millage','Ratings','Age']\n",
    "\n",
    "# fit scaler on training data\n",
    "norm = MinMaxScaler().fit(X_train[norm_cols])\n",
    "\n",
    "# transform training data\n",
    "X_train.loc[:,norm_cols] = norm.transform(X_train[norm_cols])\n",
    "\n",
    "# transform testing data\n",
    "X_test.loc[:,norm_cols] = norm.transform(X_test[norm_cols])"
   ]
  },
  {
   "cell_type": "code",
   "execution_count": 24,
   "metadata": {},
   "outputs": [],
   "source": [
    "#transform training data\n",
    "#y_train=(y_train-y_train.mean())/y_train.std()\n",
    "\n",
    "#y_test = norm_y.transform(y_test)\n",
    "#y_test=(y_test-y_test.mean())/y_test.std()"
   ]
  },
  {
   "cell_type": "code",
   "execution_count": 25,
   "metadata": {},
   "outputs": [
    {
     "data": {
      "text/html": [
       "<div>\n",
       "<style scoped>\n",
       "    .dataframe tbody tr th:only-of-type {\n",
       "        vertical-align: middle;\n",
       "    }\n",
       "\n",
       "    .dataframe tbody tr th {\n",
       "        vertical-align: top;\n",
       "    }\n",
       "\n",
       "    .dataframe thead th {\n",
       "        text-align: right;\n",
       "    }\n",
       "</style>\n",
       "<table border=\"1\" class=\"dataframe\">\n",
       "  <thead>\n",
       "    <tr style=\"text-align: right;\">\n",
       "      <th></th>\n",
       "      <th>Millage</th>\n",
       "      <th>Ratings</th>\n",
       "      <th>Age</th>\n",
       "    </tr>\n",
       "  </thead>\n",
       "  <tbody>\n",
       "    <tr>\n",
       "      <th>count</th>\n",
       "      <td>10253.000000</td>\n",
       "      <td>10253.000000</td>\n",
       "      <td>10253.000000</td>\n",
       "    </tr>\n",
       "    <tr>\n",
       "      <th>mean</th>\n",
       "      <td>0.256963</td>\n",
       "      <td>0.625085</td>\n",
       "      <td>0.562899</td>\n",
       "    </tr>\n",
       "    <tr>\n",
       "      <th>std</th>\n",
       "      <td>0.268683</td>\n",
       "      <td>0.142863</td>\n",
       "      <td>0.166092</td>\n",
       "    </tr>\n",
       "    <tr>\n",
       "      <th>min</th>\n",
       "      <td>0.000000</td>\n",
       "      <td>0.000000</td>\n",
       "      <td>0.000000</td>\n",
       "    </tr>\n",
       "    <tr>\n",
       "      <th>25%</th>\n",
       "      <td>0.000000</td>\n",
       "      <td>0.600000</td>\n",
       "      <td>0.450000</td>\n",
       "    </tr>\n",
       "    <tr>\n",
       "      <th>50%</th>\n",
       "      <td>0.238995</td>\n",
       "      <td>0.600000</td>\n",
       "      <td>0.600000</td>\n",
       "    </tr>\n",
       "    <tr>\n",
       "      <th>75%</th>\n",
       "      <td>0.435000</td>\n",
       "      <td>0.600000</td>\n",
       "      <td>0.650000</td>\n",
       "    </tr>\n",
       "    <tr>\n",
       "      <th>max</th>\n",
       "      <td>1.000000</td>\n",
       "      <td>1.000000</td>\n",
       "      <td>1.000000</td>\n",
       "    </tr>\n",
       "  </tbody>\n",
       "</table>\n",
       "</div>"
      ],
      "text/plain": [
       "            Millage       Ratings           Age\n",
       "count  10253.000000  10253.000000  10253.000000\n",
       "mean       0.256963      0.625085      0.562899\n",
       "std        0.268683      0.142863      0.166092\n",
       "min        0.000000      0.000000      0.000000\n",
       "25%        0.000000      0.600000      0.450000\n",
       "50%        0.238995      0.600000      0.600000\n",
       "75%        0.435000      0.600000      0.650000\n",
       "max        1.000000      1.000000      1.000000"
      ]
     },
     "execution_count": 25,
     "metadata": {},
     "output_type": "execute_result"
    }
   ],
   "source": [
    "X_train.describe()"
   ]
  },
  {
   "cell_type": "code",
   "execution_count": 26,
   "metadata": {},
   "outputs": [
    {
     "data": {
      "text/plain": [
       "(1810, 8)"
      ]
     },
     "execution_count": 26,
     "metadata": {},
     "output_type": "execute_result"
    }
   ],
   "source": [
    "X_test.shape"
   ]
  },
  {
   "cell_type": "code",
   "execution_count": 27,
   "metadata": {},
   "outputs": [],
   "source": [
    "#One Hot encoding for History and Transmission\n",
    "\n",
    "ohe = ce.OneHotEncoder(cols=['History','Transmission'])  #instantiate the one-hot encoder\n",
    "\n",
    "X_train = ohe.fit_transform(X_train)  #fit and transform ohe\n",
    "\n",
    "X_test = ohe.transform(X_test)"
   ]
  },
  {
   "cell_type": "code",
   "execution_count": 28,
   "metadata": {},
   "outputs": [],
   "source": [
    "# encodings for city, Make and Model\n",
    "\n",
    "base_encoder = ce.BaseNEncoder(cols=['city','Make','Model'],base=3)\n",
    "\n",
    "# fit and transform and you will get the encoded data\n",
    "X_train = base_encoder.fit_transform(X_train)\n",
    "\n",
    "X_test = base_encoder.transform(X_test)"
   ]
  },
  {
   "cell_type": "code",
   "execution_count": 29,
   "metadata": {},
   "outputs": [
    {
     "data": {
      "text/plain": [
       "(10253, 24)"
      ]
     },
     "execution_count": 29,
     "metadata": {},
     "output_type": "execute_result"
    }
   ],
   "source": [
    "X_train.shape"
   ]
  },
  {
   "cell_type": "markdown",
   "metadata": {},
   "source": [
    "### Model Development"
   ]
  },
  {
   "cell_type": "markdown",
   "metadata": {},
   "source": [
    "##### Linear Regression"
   ]
  },
  {
   "cell_type": "code",
   "execution_count": 30,
   "metadata": {},
   "outputs": [
    {
     "name": "stdout",
     "output_type": "stream",
     "text": [
      "[-1.56330168 -1.45505793 -1.48682111 -1.47463866 -1.54904022]\n"
     ]
    }
   ],
   "source": [
    "from sklearn.linear_model import LinearRegression\n",
    "from sklearn.metrics import mean_absolute_error,r2_score\n",
    "\n",
    "lr = LinearRegression() \n",
    "lr_scores = cross_validate(lr, X_train, y_train, cv=5,scoring=('r2', 'neg_mean_absolute_error'),return_train_score=True)\n",
    "\n",
    "print(lr_scores['test_neg_mean_absolute_error'])"
   ]
  },
  {
   "cell_type": "code",
   "execution_count": 31,
   "metadata": {},
   "outputs": [
    {
     "name": "stdout",
     "output_type": "stream",
     "text": [
      "[0.4943232  0.4976098  0.49028401 0.4765443  0.49293225]\n"
     ]
    }
   ],
   "source": [
    "print(lr_scores['test_r2'])"
   ]
  },
  {
   "cell_type": "code",
   "execution_count": 32,
   "metadata": {},
   "outputs": [
    {
     "name": "stdout",
     "output_type": "stream",
     "text": [
      "The mean_absolute error is 1.4722560869475139\n",
      "The r2_error is 0.5407293778720217\n"
     ]
    }
   ],
   "source": [
    "lr.fit(X_train,y_train)\n",
    "y_test_lr = lr.predict(X_test)\n",
    "\n",
    "print('The mean_absolute error is {}'.format(mean_absolute_error(y_test,y_test_lr)))\n",
    "print('The r2_error is {}'.format(r2_score(y_test,y_test_lr)))"
   ]
  },
  {
   "cell_type": "markdown",
   "metadata": {},
   "source": [
    "##### K-Nearest Neigbours"
   ]
  },
  {
   "cell_type": "code",
   "execution_count": 33,
   "metadata": {},
   "outputs": [
    {
     "name": "stdout",
     "output_type": "stream",
     "text": [
      "[-1.02117671 -0.97120519 -0.98274129 -0.98114649 -1.04467367]\n"
     ]
    }
   ],
   "source": [
    "from sklearn.neighbors import KNeighborsRegressor\n",
    "\n",
    "knn = KNeighborsRegressor(n_neighbors=6) #n_neighbors = 6 is the optimal value according to grid search CV.\n",
    "\n",
    "knn_scores = cross_validate(knn, X_train, y_train, cv=5,scoring=('r2', 'neg_mean_absolute_error'),return_train_score=True)\n",
    "\n",
    "print(knn_scores['test_neg_mean_absolute_error'])"
   ]
  },
  {
   "cell_type": "code",
   "execution_count": 34,
   "metadata": {},
   "outputs": [
    {
     "name": "stdout",
     "output_type": "stream",
     "text": [
      "[0.68504096 0.69218825 0.6814527  0.64357768 0.66867462]\n"
     ]
    }
   ],
   "source": [
    "print(knn_scores['test_r2'])"
   ]
  },
  {
   "cell_type": "code",
   "execution_count": 35,
   "metadata": {},
   "outputs": [
    {
     "name": "stdout",
     "output_type": "stream",
     "text": [
      "The mean_absolute error is 0.9218510459484347\n",
      "The r2_error is 0.7637138899809854\n"
     ]
    }
   ],
   "source": [
    "knn.fit(X_train,y_train)\n",
    "\n",
    "y_test_knn = knn.predict(X_test)\n",
    "\n",
    "print('The mean_absolute error is {}'.format(mean_absolute_error(y_test,y_test_knn)))\n",
    "print('The r2_error is {}'.format(r2_score(y_test,y_test_knn)))"
   ]
  },
  {
   "cell_type": "markdown",
   "metadata": {},
   "source": [
    "##### Random Forest"
   ]
  },
  {
   "cell_type": "code",
   "execution_count": 36,
   "metadata": {},
   "outputs": [
    {
     "name": "stdout",
     "output_type": "stream",
     "text": [
      "[-1.33167618 -1.29633335 -1.29188663 -1.27728473 -1.33107981]\n"
     ]
    }
   ],
   "source": [
    "from sklearn.ensemble import RandomForestRegressor,StackingRegressor\n",
    "\n",
    "rf = RandomForestRegressor(n_estimators= 1000, max_depth=5, random_state=42,n_jobs=-1,criterion='mse')\n",
    "\n",
    "rf_scores = cross_validate(rf, X_train, y_train, cv=5,scoring=('r2', 'neg_mean_absolute_error'),return_train_score=True)\n",
    "\n",
    "print(rf_scores['test_neg_mean_absolute_error'])"
   ]
  },
  {
   "cell_type": "code",
   "execution_count": 37,
   "metadata": {},
   "outputs": [
    {
     "name": "stdout",
     "output_type": "stream",
     "text": [
      "[0.59809413 0.57286622 0.58667597 0.57202849 0.59219855]\n"
     ]
    }
   ],
   "source": [
    "print(rf_scores['test_r2'])"
   ]
  },
  {
   "cell_type": "code",
   "execution_count": 38,
   "metadata": {},
   "outputs": [
    {
     "name": "stdout",
     "output_type": "stream",
     "text": [
      "The mean_absolute error is 1.2516295648877989\n",
      "The r2_error is 0.6523101056077081\n"
     ]
    }
   ],
   "source": [
    "rf.fit(X_train,y_train)\n",
    "\n",
    "y_test_rf = rf.predict(X_test)\n",
    "\n",
    "print('The mean_absolute error is {}'.format(mean_absolute_error(y_test,y_test_rf)))\n",
    "print('The r2_error is {}'.format(r2_score(y_test,y_test_rf)))"
   ]
  },
  {
   "cell_type": "markdown",
   "metadata": {},
   "source": [
    "##### Gradient Boosted Trees"
   ]
  },
  {
   "cell_type": "code",
   "execution_count": 39,
   "metadata": {},
   "outputs": [
    {
     "name": "stdout",
     "output_type": "stream",
     "text": [
      "[-0.91507833 -0.88442493 -0.91450669 -0.88741939 -0.92450024]\n"
     ]
    }
   ],
   "source": [
    "import xgboost as xgb\n",
    "\n",
    "xgbr = xgb.XGBRegressor(max_depth=6,objective='reg:squarederror',learning_rate=0.08,\n",
    "                        n_estimators=800,n_jobs=1) #parameters concluded from gridsearch-cv\n",
    "\n",
    "xgb_scores = cross_validate(xgbr, X_train, y_train, cv=5,scoring=('r2', 'neg_mean_absolute_error'),return_train_score=True)\n",
    "\n",
    "print(xgb_scores['test_neg_mean_absolute_error'])"
   ]
  },
  {
   "cell_type": "code",
   "execution_count": 40,
   "metadata": {},
   "outputs": [
    {
     "name": "stdout",
     "output_type": "stream",
     "text": [
      "[0.75962093 0.758105   0.73689093 0.74363223 0.74977425]\n"
     ]
    }
   ],
   "source": [
    "print(xgb_scores['test_r2'])"
   ]
  },
  {
   "cell_type": "code",
   "execution_count": 41,
   "metadata": {},
   "outputs": [
    {
     "name": "stdout",
     "output_type": "stream",
     "text": [
      "The mean_absolute error is 0.829831051661151\n",
      "The r2_score is 0.8173345756901752\n"
     ]
    }
   ],
   "source": [
    "xgbr.fit(X_train,y_train)\n",
    "\n",
    "y_test_xgb = xgbr.predict(X_test)\n",
    "\n",
    "print('The mean_absolute error is {}'.format(mean_absolute_error(y_test,y_test_xgb)))\n",
    "print('The r2_score is {}'.format(r2_score(y_test,y_test_xgb)))"
   ]
  },
  {
   "cell_type": "markdown",
   "metadata": {},
   "source": [
    "#### Result Presentation"
   ]
  },
  {
   "cell_type": "code",
   "execution_count": 42,
   "metadata": {},
   "outputs": [
    {
     "data": {
      "text/html": [
       "<div>\n",
       "<style scoped>\n",
       "    .dataframe tbody tr th:only-of-type {\n",
       "        vertical-align: middle;\n",
       "    }\n",
       "\n",
       "    .dataframe tbody tr th {\n",
       "        vertical-align: top;\n",
       "    }\n",
       "\n",
       "    .dataframe thead th {\n",
       "        text-align: right;\n",
       "    }\n",
       "</style>\n",
       "<table border=\"1\" class=\"dataframe\">\n",
       "  <thead>\n",
       "    <tr style=\"text-align: right;\">\n",
       "      <th></th>\n",
       "      <th>city</th>\n",
       "      <th>History</th>\n",
       "      <th>Millage</th>\n",
       "      <th>Ratings</th>\n",
       "      <th>Make</th>\n",
       "      <th>Model</th>\n",
       "      <th>Transmission</th>\n",
       "      <th>Age</th>\n",
       "      <th>real_price</th>\n",
       "      <th>predicted_price</th>\n",
       "    </tr>\n",
       "  </thead>\n",
       "  <tbody>\n",
       "    <tr>\n",
       "      <th>11446</th>\n",
       "      <td>Lagos</td>\n",
       "      <td>foreign</td>\n",
       "      <td>58963.0</td>\n",
       "      <td>3.0</td>\n",
       "      <td>Toyota</td>\n",
       "      <td>RAV 4</td>\n",
       "      <td>Automatic</td>\n",
       "      <td>7.0</td>\n",
       "      <td>9365000.0</td>\n",
       "      <td>7.035674e+06</td>\n",
       "    </tr>\n",
       "    <tr>\n",
       "      <th>14939</th>\n",
       "      <td>Lagos</td>\n",
       "      <td>local</td>\n",
       "      <td>199588.0</td>\n",
       "      <td>4.0</td>\n",
       "      <td>Toyota</td>\n",
       "      <td>Camry</td>\n",
       "      <td>Automatic</td>\n",
       "      <td>12.0</td>\n",
       "      <td>1370000.0</td>\n",
       "      <td>1.607045e+06</td>\n",
       "    </tr>\n",
       "    <tr>\n",
       "      <th>9679</th>\n",
       "      <td>Lagos</td>\n",
       "      <td>foreign</td>\n",
       "      <td>83000.0</td>\n",
       "      <td>3.0</td>\n",
       "      <td>Acura</td>\n",
       "      <td>MDX</td>\n",
       "      <td>Automatic</td>\n",
       "      <td>12.0</td>\n",
       "      <td>3645000.0</td>\n",
       "      <td>3.573657e+06</td>\n",
       "    </tr>\n",
       "    <tr>\n",
       "      <th>11596</th>\n",
       "      <td>Lagos</td>\n",
       "      <td>foreign</td>\n",
       "      <td>0.0</td>\n",
       "      <td>3.0</td>\n",
       "      <td>Toyota</td>\n",
       "      <td>Camry</td>\n",
       "      <td>Automatic</td>\n",
       "      <td>9.0</td>\n",
       "      <td>4085000.0</td>\n",
       "      <td>3.844625e+06</td>\n",
       "    </tr>\n",
       "    <tr>\n",
       "      <th>12358</th>\n",
       "      <td>Lagos</td>\n",
       "      <td>foreign</td>\n",
       "      <td>0.0</td>\n",
       "      <td>3.0</td>\n",
       "      <td>Toyota</td>\n",
       "      <td>Camry</td>\n",
       "      <td>Automatic</td>\n",
       "      <td>20.0</td>\n",
       "      <td>1084500.0</td>\n",
       "      <td>1.225708e+06</td>\n",
       "    </tr>\n",
       "    <tr>\n",
       "      <th>16227</th>\n",
       "      <td>Lagos</td>\n",
       "      <td>foreign</td>\n",
       "      <td>97967.0</td>\n",
       "      <td>3.0</td>\n",
       "      <td>Honda</td>\n",
       "      <td>Civic</td>\n",
       "      <td>Automatic</td>\n",
       "      <td>12.0</td>\n",
       "      <td>1850000.0</td>\n",
       "      <td>2.468121e+06</td>\n",
       "    </tr>\n",
       "    <tr>\n",
       "      <th>8298</th>\n",
       "      <td>Lagos</td>\n",
       "      <td>foreign</td>\n",
       "      <td>0.0</td>\n",
       "      <td>3.0</td>\n",
       "      <td>Toyota</td>\n",
       "      <td>Camry</td>\n",
       "      <td>Automatic</td>\n",
       "      <td>12.0</td>\n",
       "      <td>2430000.0</td>\n",
       "      <td>3.269437e+06</td>\n",
       "    </tr>\n",
       "    <tr>\n",
       "      <th>5117</th>\n",
       "      <td>Lagos</td>\n",
       "      <td>foreign</td>\n",
       "      <td>0.0</td>\n",
       "      <td>3.0</td>\n",
       "      <td>Mercedes-Benz</td>\n",
       "      <td>ML 350</td>\n",
       "      <td>Automatic</td>\n",
       "      <td>10.0</td>\n",
       "      <td>5295000.0</td>\n",
       "      <td>6.144286e+06</td>\n",
       "    </tr>\n",
       "    <tr>\n",
       "      <th>15526</th>\n",
       "      <td>Abuja</td>\n",
       "      <td>local</td>\n",
       "      <td>188576.0</td>\n",
       "      <td>3.0</td>\n",
       "      <td>BMW</td>\n",
       "      <td>ALPINA</td>\n",
       "      <td>Automatic</td>\n",
       "      <td>12.0</td>\n",
       "      <td>6910000.0</td>\n",
       "      <td>2.720279e+06</td>\n",
       "    </tr>\n",
       "    <tr>\n",
       "      <th>11710</th>\n",
       "      <td>Lagos</td>\n",
       "      <td>foreign</td>\n",
       "      <td>0.0</td>\n",
       "      <td>3.0</td>\n",
       "      <td>Toyota</td>\n",
       "      <td>Camry</td>\n",
       "      <td>Automatic</td>\n",
       "      <td>10.0</td>\n",
       "      <td>4140000.0</td>\n",
       "      <td>3.562443e+06</td>\n",
       "    </tr>\n",
       "    <tr>\n",
       "      <th>2153</th>\n",
       "      <td>Lagos</td>\n",
       "      <td>foreign</td>\n",
       "      <td>0.0</td>\n",
       "      <td>3.0</td>\n",
       "      <td>Pontiac</td>\n",
       "      <td>Vibe</td>\n",
       "      <td>Automatic</td>\n",
       "      <td>15.0</td>\n",
       "      <td>2085000.0</td>\n",
       "      <td>1.870536e+06</td>\n",
       "    </tr>\n",
       "    <tr>\n",
       "      <th>16344</th>\n",
       "      <td>Lagos</td>\n",
       "      <td>local</td>\n",
       "      <td>172277.0</td>\n",
       "      <td>5.0</td>\n",
       "      <td>Kia</td>\n",
       "      <td>Sedona</td>\n",
       "      <td>Automatic</td>\n",
       "      <td>12.0</td>\n",
       "      <td>529000.0</td>\n",
       "      <td>7.278297e+05</td>\n",
       "    </tr>\n",
       "    <tr>\n",
       "      <th>11912</th>\n",
       "      <td>Lagos</td>\n",
       "      <td>foreign</td>\n",
       "      <td>49000.0</td>\n",
       "      <td>3.0</td>\n",
       "      <td>Mercedes-Benz</td>\n",
       "      <td>ML 350</td>\n",
       "      <td>Automatic</td>\n",
       "      <td>5.0</td>\n",
       "      <td>11675000.0</td>\n",
       "      <td>1.092116e+07</td>\n",
       "    </tr>\n",
       "    <tr>\n",
       "      <th>15908</th>\n",
       "      <td>Lagos</td>\n",
       "      <td>local</td>\n",
       "      <td>112723.0</td>\n",
       "      <td>5.0</td>\n",
       "      <td>Toyota</td>\n",
       "      <td>Sienna</td>\n",
       "      <td>Automatic</td>\n",
       "      <td>12.0</td>\n",
       "      <td>1620000.0</td>\n",
       "      <td>1.746691e+06</td>\n",
       "    </tr>\n",
       "    <tr>\n",
       "      <th>13700</th>\n",
       "      <td>Lagos</td>\n",
       "      <td>foreign</td>\n",
       "      <td>68000.0</td>\n",
       "      <td>3.0</td>\n",
       "      <td>Ford</td>\n",
       "      <td>Edge</td>\n",
       "      <td>Automatic</td>\n",
       "      <td>5.0</td>\n",
       "      <td>8595000.0</td>\n",
       "      <td>7.513955e+06</td>\n",
       "    </tr>\n",
       "    <tr>\n",
       "      <th>774</th>\n",
       "      <td>Lagos</td>\n",
       "      <td>foreign</td>\n",
       "      <td>1.0</td>\n",
       "      <td>3.0</td>\n",
       "      <td>Toyota</td>\n",
       "      <td>Camry</td>\n",
       "      <td>Automatic</td>\n",
       "      <td>10.0</td>\n",
       "      <td>3407500.0</td>\n",
       "      <td>3.855958e+06</td>\n",
       "    </tr>\n",
       "    <tr>\n",
       "      <th>10307</th>\n",
       "      <td>Osun</td>\n",
       "      <td>foreign</td>\n",
       "      <td>135000.0</td>\n",
       "      <td>3.0</td>\n",
       "      <td>Toyota</td>\n",
       "      <td>Avalon</td>\n",
       "      <td>Automatic</td>\n",
       "      <td>14.0</td>\n",
       "      <td>2545000.0</td>\n",
       "      <td>1.914266e+06</td>\n",
       "    </tr>\n",
       "    <tr>\n",
       "      <th>2101</th>\n",
       "      <td>Lagos</td>\n",
       "      <td>foreign</td>\n",
       "      <td>32000.0</td>\n",
       "      <td>3.0</td>\n",
       "      <td>Toyota</td>\n",
       "      <td>Camry</td>\n",
       "      <td>Automatic</td>\n",
       "      <td>5.0</td>\n",
       "      <td>6340000.0</td>\n",
       "      <td>7.276830e+06</td>\n",
       "    </tr>\n",
       "    <tr>\n",
       "      <th>11785</th>\n",
       "      <td>Lagos</td>\n",
       "      <td>foreign</td>\n",
       "      <td>0.0</td>\n",
       "      <td>3.0</td>\n",
       "      <td>Toyota</td>\n",
       "      <td>RAV 4</td>\n",
       "      <td>Automatic</td>\n",
       "      <td>10.0</td>\n",
       "      <td>4965000.0</td>\n",
       "      <td>4.651001e+06</td>\n",
       "    </tr>\n",
       "    <tr>\n",
       "      <th>5552</th>\n",
       "      <td>Lagos</td>\n",
       "      <td>foreign</td>\n",
       "      <td>102000.0</td>\n",
       "      <td>3.0</td>\n",
       "      <td>Honda</td>\n",
       "      <td>Pilot</td>\n",
       "      <td>Automatic</td>\n",
       "      <td>14.0</td>\n",
       "      <td>2487500.0</td>\n",
       "      <td>2.281300e+06</td>\n",
       "    </tr>\n",
       "  </tbody>\n",
       "</table>\n",
       "</div>"
      ],
      "text/plain": [
       "        city  History   Millage  Ratings           Make   Model Transmission  \\\n",
       "11446  Lagos  foreign   58963.0      3.0         Toyota   RAV 4    Automatic   \n",
       "14939  Lagos    local  199588.0      4.0         Toyota   Camry    Automatic   \n",
       "9679   Lagos  foreign   83000.0      3.0          Acura     MDX    Automatic   \n",
       "11596  Lagos  foreign       0.0      3.0         Toyota   Camry    Automatic   \n",
       "12358  Lagos  foreign       0.0      3.0         Toyota   Camry    Automatic   \n",
       "16227  Lagos  foreign   97967.0      3.0          Honda   Civic    Automatic   \n",
       "8298   Lagos  foreign       0.0      3.0         Toyota   Camry    Automatic   \n",
       "5117   Lagos  foreign       0.0      3.0  Mercedes-Benz  ML 350    Automatic   \n",
       "15526  Abuja    local  188576.0      3.0            BMW  ALPINA    Automatic   \n",
       "11710  Lagos  foreign       0.0      3.0         Toyota   Camry    Automatic   \n",
       "2153   Lagos  foreign       0.0      3.0        Pontiac    Vibe    Automatic   \n",
       "16344  Lagos    local  172277.0      5.0            Kia  Sedona    Automatic   \n",
       "11912  Lagos  foreign   49000.0      3.0  Mercedes-Benz  ML 350    Automatic   \n",
       "15908  Lagos    local  112723.0      5.0         Toyota  Sienna    Automatic   \n",
       "13700  Lagos  foreign   68000.0      3.0           Ford    Edge    Automatic   \n",
       "774    Lagos  foreign       1.0      3.0         Toyota   Camry    Automatic   \n",
       "10307   Osun  foreign  135000.0      3.0         Toyota  Avalon    Automatic   \n",
       "2101   Lagos  foreign   32000.0      3.0         Toyota   Camry    Automatic   \n",
       "11785  Lagos  foreign       0.0      3.0         Toyota   RAV 4    Automatic   \n",
       "5552   Lagos  foreign  102000.0      3.0          Honda   Pilot    Automatic   \n",
       "\n",
       "        Age  real_price  predicted_price  \n",
       "11446   7.0   9365000.0     7.035674e+06  \n",
       "14939  12.0   1370000.0     1.607045e+06  \n",
       "9679   12.0   3645000.0     3.573657e+06  \n",
       "11596   9.0   4085000.0     3.844625e+06  \n",
       "12358  20.0   1084500.0     1.225708e+06  \n",
       "16227  12.0   1850000.0     2.468121e+06  \n",
       "8298   12.0   2430000.0     3.269437e+06  \n",
       "5117   10.0   5295000.0     6.144286e+06  \n",
       "15526  12.0   6910000.0     2.720279e+06  \n",
       "11710  10.0   4140000.0     3.562443e+06  \n",
       "2153   15.0   2085000.0     1.870536e+06  \n",
       "16344  12.0    529000.0     7.278297e+05  \n",
       "11912   5.0  11675000.0     1.092116e+07  \n",
       "15908  12.0   1620000.0     1.746691e+06  \n",
       "13700   5.0   8595000.0     7.513955e+06  \n",
       "774    10.0   3407500.0     3.855958e+06  \n",
       "10307  14.0   2545000.0     1.914266e+06  \n",
       "2101    5.0   6340000.0     7.276830e+06  \n",
       "11785  10.0   4965000.0     4.651001e+06  \n",
       "5552   14.0   2487500.0     2.281300e+06  "
      ]
     },
     "execution_count": 42,
     "metadata": {},
     "output_type": "execute_result"
    }
   ],
   "source": [
    "results.loc[:,'real_price'] = y_test*1000000\n",
    "results.loc[:,'predicted_price'] = y_test_xgb*1000000\n",
    "#results[['upper','lower']] = predictions[['upper','lower']]*1000000\n",
    "\n",
    "# inverse_transform testing data\n",
    "results.loc[:,norm_cols] = norm.inverse_transform(results[norm_cols])\n",
    "\n",
    "results.head(20)"
   ]
  },
  {
   "cell_type": "code",
   "execution_count": 43,
   "metadata": {},
   "outputs": [],
   "source": [
    "#next \n",
    "#make range predictions"
   ]
  },
  {
   "cell_type": "code",
   "execution_count": 44,
   "metadata": {},
   "outputs": [],
   "source": [
    "#build a range predictor\n",
    "from sklearn.ensemble import GradientBoostingRegressor\n",
    "\n",
    "# Set lower and upper quantile\n",
    "LOWER_ALPHA = 0.95\n",
    "UPPER_ALPHA = 0.98\n",
    "\n",
    "\n",
    "# Each model has to be separate\n",
    "lower_model = GradientBoostingRegressor(loss=\"quantile\",alpha=LOWER_ALPHA,max_depth=6,\n",
    "                                        criterion='friedman_mse',learning_rate=0.08,n_estimators=800)\n",
    "\n",
    "# The mid model will use the default loss\n",
    "mid_model = GradientBoostingRegressor(loss=\"ls\",max_depth=6,\n",
    "                                        criterion='friedman_mse',learning_rate=0.08,n_estimators=800)\n",
    "\n",
    "upper_model = GradientBoostingRegressor(loss=\"quantile\", alpha=UPPER_ALPHA,max_depth=6,\n",
    "                                        criterion='friedman_mse',learning_rate=0.08,n_estimators=800)\n",
    "\n",
    "\n",
    "# Fit models\n",
    "lower_model.fit(X_train, y_train)\n",
    "mid_model.fit(X_train, y_train)\n",
    "upper_model.fit(X_train, y_train)\n",
    "\n",
    "# Record actual values on test set\n",
    "predictions = pd.DataFrame(y_test)\n",
    "\n",
    "# Predict\n",
    "predictions['lower'] = lower_model.predict(X_test)\n",
    "predictions['mid'] = mid_model.predict(X_test)\n",
    "predictions['upper'] = upper_model.predict(X_test)"
   ]
  },
  {
   "cell_type": "code",
   "execution_count": 45,
   "metadata": {},
   "outputs": [
    {
     "data": {
      "text/html": [
       "<div>\n",
       "<style scoped>\n",
       "    .dataframe tbody tr th:only-of-type {\n",
       "        vertical-align: middle;\n",
       "    }\n",
       "\n",
       "    .dataframe tbody tr th {\n",
       "        vertical-align: top;\n",
       "    }\n",
       "\n",
       "    .dataframe thead th {\n",
       "        text-align: right;\n",
       "    }\n",
       "</style>\n",
       "<table border=\"1\" class=\"dataframe\">\n",
       "  <thead>\n",
       "    <tr style=\"text-align: right;\">\n",
       "      <th></th>\n",
       "      <th>city</th>\n",
       "      <th>History</th>\n",
       "      <th>Millage</th>\n",
       "      <th>Ratings</th>\n",
       "      <th>Make</th>\n",
       "      <th>Model</th>\n",
       "      <th>Transmission</th>\n",
       "      <th>Age</th>\n",
       "      <th>real_price</th>\n",
       "      <th>predicted_price</th>\n",
       "      <th>upper</th>\n",
       "      <th>lower</th>\n",
       "      <th>mid</th>\n",
       "    </tr>\n",
       "  </thead>\n",
       "  <tbody>\n",
       "    <tr>\n",
       "      <th>115</th>\n",
       "      <td>Lagos</td>\n",
       "      <td>foreign</td>\n",
       "      <td>100943.0</td>\n",
       "      <td>4.8</td>\n",
       "      <td>Mercedes-Benz</td>\n",
       "      <td>ML 350</td>\n",
       "      <td>Automatic</td>\n",
       "      <td>7.0</td>\n",
       "      <td>12665000.0</td>\n",
       "      <td>1.221323e+07</td>\n",
       "      <td>1.241071e+07</td>\n",
       "      <td>1.241780e+07</td>\n",
       "      <td>1.232565e+07</td>\n",
       "    </tr>\n",
       "    <tr>\n",
       "      <th>12342</th>\n",
       "      <td>Lagos</td>\n",
       "      <td>foreign</td>\n",
       "      <td>0.0</td>\n",
       "      <td>3.0</td>\n",
       "      <td>Lexus</td>\n",
       "      <td>ES 300</td>\n",
       "      <td>Automatic</td>\n",
       "      <td>12.0</td>\n",
       "      <td>4305000.0</td>\n",
       "      <td>3.883509e+06</td>\n",
       "      <td>5.723097e+06</td>\n",
       "      <td>4.901863e+06</td>\n",
       "      <td>3.835641e+06</td>\n",
       "    </tr>\n",
       "    <tr>\n",
       "      <th>13035</th>\n",
       "      <td>Lagos</td>\n",
       "      <td>foreign</td>\n",
       "      <td>0.0</td>\n",
       "      <td>3.0</td>\n",
       "      <td>Toyota</td>\n",
       "      <td>Sienna</td>\n",
       "      <td>Automatic</td>\n",
       "      <td>17.0</td>\n",
       "      <td>2545000.0</td>\n",
       "      <td>2.315453e+06</td>\n",
       "      <td>3.101273e+06</td>\n",
       "      <td>2.904547e+06</td>\n",
       "      <td>2.331300e+06</td>\n",
       "    </tr>\n",
       "    <tr>\n",
       "      <th>4606</th>\n",
       "      <td>Lagos</td>\n",
       "      <td>foreign</td>\n",
       "      <td>0.0</td>\n",
       "      <td>3.0</td>\n",
       "      <td>Nissan</td>\n",
       "      <td>Pathfinder</td>\n",
       "      <td>Automatic</td>\n",
       "      <td>17.0</td>\n",
       "      <td>1912500.0</td>\n",
       "      <td>2.127571e+06</td>\n",
       "      <td>3.826755e+06</td>\n",
       "      <td>2.762771e+06</td>\n",
       "      <td>2.019525e+06</td>\n",
       "    </tr>\n",
       "    <tr>\n",
       "      <th>15408</th>\n",
       "      <td>Lagos</td>\n",
       "      <td>local</td>\n",
       "      <td>75012.0</td>\n",
       "      <td>4.0</td>\n",
       "      <td>Mitsubishi</td>\n",
       "      <td>Lancer</td>\n",
       "      <td>Automatic</td>\n",
       "      <td>12.0</td>\n",
       "      <td>1045000.0</td>\n",
       "      <td>3.001097e+06</td>\n",
       "      <td>7.971074e+06</td>\n",
       "      <td>7.742693e+06</td>\n",
       "      <td>2.847518e+06</td>\n",
       "    </tr>\n",
       "    <tr>\n",
       "      <th>8208</th>\n",
       "      <td>Lagos</td>\n",
       "      <td>foreign</td>\n",
       "      <td>96257.0</td>\n",
       "      <td>3.0</td>\n",
       "      <td>Toyota</td>\n",
       "      <td>Highlander</td>\n",
       "      <td>Automatic</td>\n",
       "      <td>12.0</td>\n",
       "      <td>4085000.0</td>\n",
       "      <td>4.425605e+06</td>\n",
       "      <td>7.646106e+06</td>\n",
       "      <td>6.430306e+06</td>\n",
       "      <td>4.198935e+06</td>\n",
       "    </tr>\n",
       "    <tr>\n",
       "      <th>2614</th>\n",
       "      <td>Lagos</td>\n",
       "      <td>foreign</td>\n",
       "      <td>23541.0</td>\n",
       "      <td>3.0</td>\n",
       "      <td>Lexus</td>\n",
       "      <td>RX 350</td>\n",
       "      <td>Automatic</td>\n",
       "      <td>7.0</td>\n",
       "      <td>9475000.0</td>\n",
       "      <td>9.563731e+06</td>\n",
       "      <td>1.130961e+07</td>\n",
       "      <td>1.127204e+07</td>\n",
       "      <td>9.707772e+06</td>\n",
       "    </tr>\n",
       "    <tr>\n",
       "      <th>5352</th>\n",
       "      <td>Ibadan</td>\n",
       "      <td>foreign</td>\n",
       "      <td>0.0</td>\n",
       "      <td>3.0</td>\n",
       "      <td>Toyota</td>\n",
       "      <td>Camry</td>\n",
       "      <td>Automatic</td>\n",
       "      <td>9.0</td>\n",
       "      <td>3535000.0</td>\n",
       "      <td>3.589831e+06</td>\n",
       "      <td>6.793623e+06</td>\n",
       "      <td>4.858795e+06</td>\n",
       "      <td>3.551216e+06</td>\n",
       "    </tr>\n",
       "    <tr>\n",
       "      <th>6004</th>\n",
       "      <td>Lagos</td>\n",
       "      <td>foreign</td>\n",
       "      <td>80000.0</td>\n",
       "      <td>3.0</td>\n",
       "      <td>Toyota</td>\n",
       "      <td>Camry</td>\n",
       "      <td>Automatic</td>\n",
       "      <td>13.0</td>\n",
       "      <td>3235000.0</td>\n",
       "      <td>2.891810e+06</td>\n",
       "      <td>4.173421e+06</td>\n",
       "      <td>4.584476e+06</td>\n",
       "      <td>2.909388e+06</td>\n",
       "    </tr>\n",
       "    <tr>\n",
       "      <th>15915</th>\n",
       "      <td>Lagos</td>\n",
       "      <td>local</td>\n",
       "      <td>84806.0</td>\n",
       "      <td>3.0</td>\n",
       "      <td>Nissan</td>\n",
       "      <td>Altima</td>\n",
       "      <td>Automatic</td>\n",
       "      <td>12.0</td>\n",
       "      <td>2655000.0</td>\n",
       "      <td>1.532043e+06</td>\n",
       "      <td>6.682414e+06</td>\n",
       "      <td>6.679960e+06</td>\n",
       "      <td>2.004162e+06</td>\n",
       "    </tr>\n",
       "    <tr>\n",
       "      <th>376</th>\n",
       "      <td>Lagos</td>\n",
       "      <td>foreign</td>\n",
       "      <td>188971.0</td>\n",
       "      <td>4.6</td>\n",
       "      <td>Mazda</td>\n",
       "      <td>Tribute</td>\n",
       "      <td>Automatic</td>\n",
       "      <td>15.0</td>\n",
       "      <td>2257500.0</td>\n",
       "      <td>3.376346e+06</td>\n",
       "      <td>3.728706e+06</td>\n",
       "      <td>3.624658e+06</td>\n",
       "      <td>3.146081e+06</td>\n",
       "    </tr>\n",
       "    <tr>\n",
       "      <th>1894</th>\n",
       "      <td>Lagos</td>\n",
       "      <td>foreign</td>\n",
       "      <td>0.0</td>\n",
       "      <td>3.0</td>\n",
       "      <td>Nissan</td>\n",
       "      <td>Quest</td>\n",
       "      <td>Automatic</td>\n",
       "      <td>7.0</td>\n",
       "      <td>3465000.0</td>\n",
       "      <td>3.480778e+06</td>\n",
       "      <td>1.321243e+07</td>\n",
       "      <td>9.852582e+06</td>\n",
       "      <td>4.150112e+06</td>\n",
       "    </tr>\n",
       "    <tr>\n",
       "      <th>16747</th>\n",
       "      <td>Lagos</td>\n",
       "      <td>local</td>\n",
       "      <td>152900.0</td>\n",
       "      <td>4.0</td>\n",
       "      <td>Toyota</td>\n",
       "      <td>Camry</td>\n",
       "      <td>Automatic</td>\n",
       "      <td>12.0</td>\n",
       "      <td>2101000.0</td>\n",
       "      <td>1.847110e+06</td>\n",
       "      <td>5.420836e+06</td>\n",
       "      <td>4.122537e+06</td>\n",
       "      <td>1.770112e+06</td>\n",
       "    </tr>\n",
       "    <tr>\n",
       "      <th>17345</th>\n",
       "      <td>Lagos</td>\n",
       "      <td>foreign</td>\n",
       "      <td>167437.0</td>\n",
       "      <td>3.0</td>\n",
       "      <td>Toyota</td>\n",
       "      <td>Highlander</td>\n",
       "      <td>Automatic</td>\n",
       "      <td>12.0</td>\n",
       "      <td>2700000.0</td>\n",
       "      <td>4.116819e+06</td>\n",
       "      <td>7.101188e+06</td>\n",
       "      <td>5.794978e+06</td>\n",
       "      <td>4.025757e+06</td>\n",
       "    </tr>\n",
       "    <tr>\n",
       "      <th>9458</th>\n",
       "      <td>Lagos</td>\n",
       "      <td>foreign</td>\n",
       "      <td>72000.0</td>\n",
       "      <td>3.0</td>\n",
       "      <td>Toyota</td>\n",
       "      <td>Corolla</td>\n",
       "      <td>Automatic</td>\n",
       "      <td>10.0</td>\n",
       "      <td>2545000.0</td>\n",
       "      <td>3.320636e+06</td>\n",
       "      <td>7.862477e+06</td>\n",
       "      <td>6.311876e+06</td>\n",
       "      <td>3.200901e+06</td>\n",
       "    </tr>\n",
       "    <tr>\n",
       "      <th>10102</th>\n",
       "      <td>Lagos</td>\n",
       "      <td>foreign</td>\n",
       "      <td>0.0</td>\n",
       "      <td>3.0</td>\n",
       "      <td>Toyota</td>\n",
       "      <td>Camry</td>\n",
       "      <td>Automatic</td>\n",
       "      <td>7.0</td>\n",
       "      <td>4965000.0</td>\n",
       "      <td>5.288836e+06</td>\n",
       "      <td>8.558045e+06</td>\n",
       "      <td>6.862766e+06</td>\n",
       "      <td>5.279654e+06</td>\n",
       "    </tr>\n",
       "    <tr>\n",
       "      <th>4328</th>\n",
       "      <td>Lagos</td>\n",
       "      <td>foreign</td>\n",
       "      <td>0.0</td>\n",
       "      <td>3.0</td>\n",
       "      <td>Toyota</td>\n",
       "      <td>Camry</td>\n",
       "      <td>Automatic</td>\n",
       "      <td>8.0</td>\n",
       "      <td>4965000.0</td>\n",
       "      <td>4.784673e+06</td>\n",
       "      <td>8.019905e+06</td>\n",
       "      <td>6.193869e+06</td>\n",
       "      <td>4.804614e+06</td>\n",
       "    </tr>\n",
       "    <tr>\n",
       "      <th>7309</th>\n",
       "      <td>Lagos</td>\n",
       "      <td>foreign</td>\n",
       "      <td>52.0</td>\n",
       "      <td>3.0</td>\n",
       "      <td>Lexus</td>\n",
       "      <td>ES 350</td>\n",
       "      <td>Automatic</td>\n",
       "      <td>10.0</td>\n",
       "      <td>5515000.0</td>\n",
       "      <td>4.622516e+06</td>\n",
       "      <td>7.088264e+06</td>\n",
       "      <td>5.600066e+06</td>\n",
       "      <td>4.664772e+06</td>\n",
       "    </tr>\n",
       "    <tr>\n",
       "      <th>3444</th>\n",
       "      <td>Lagos</td>\n",
       "      <td>foreign</td>\n",
       "      <td>81566.0</td>\n",
       "      <td>3.0</td>\n",
       "      <td>Acura</td>\n",
       "      <td>MDX</td>\n",
       "      <td>Automatic</td>\n",
       "      <td>12.0</td>\n",
       "      <td>3645000.0</td>\n",
       "      <td>5.560488e+06</td>\n",
       "      <td>7.159062e+06</td>\n",
       "      <td>6.590986e+06</td>\n",
       "      <td>5.673483e+06</td>\n",
       "    </tr>\n",
       "    <tr>\n",
       "      <th>3069</th>\n",
       "      <td>Lagos</td>\n",
       "      <td>foreign</td>\n",
       "      <td>20000.0</td>\n",
       "      <td>3.0</td>\n",
       "      <td>Lexus</td>\n",
       "      <td>ES 350</td>\n",
       "      <td>Automatic</td>\n",
       "      <td>3.0</td>\n",
       "      <td>12665000.0</td>\n",
       "      <td>1.130254e+07</td>\n",
       "      <td>1.362331e+07</td>\n",
       "      <td>1.467523e+07</td>\n",
       "      <td>1.186208e+07</td>\n",
       "    </tr>\n",
       "  </tbody>\n",
       "</table>\n",
       "</div>"
      ],
      "text/plain": [
       "         city  History   Millage  Ratings           Make       Model  \\\n",
       "115     Lagos  foreign  100943.0      4.8  Mercedes-Benz      ML 350   \n",
       "12342   Lagos  foreign       0.0      3.0          Lexus      ES 300   \n",
       "13035   Lagos  foreign       0.0      3.0         Toyota      Sienna   \n",
       "4606    Lagos  foreign       0.0      3.0         Nissan  Pathfinder   \n",
       "15408   Lagos    local   75012.0      4.0     Mitsubishi      Lancer   \n",
       "8208    Lagos  foreign   96257.0      3.0         Toyota  Highlander   \n",
       "2614    Lagos  foreign   23541.0      3.0          Lexus      RX 350   \n",
       "5352   Ibadan  foreign       0.0      3.0         Toyota       Camry   \n",
       "6004    Lagos  foreign   80000.0      3.0         Toyota       Camry   \n",
       "15915   Lagos    local   84806.0      3.0         Nissan      Altima   \n",
       "376     Lagos  foreign  188971.0      4.6          Mazda     Tribute   \n",
       "1894    Lagos  foreign       0.0      3.0         Nissan       Quest   \n",
       "16747   Lagos    local  152900.0      4.0         Toyota       Camry   \n",
       "17345   Lagos  foreign  167437.0      3.0         Toyota  Highlander   \n",
       "9458    Lagos  foreign   72000.0      3.0         Toyota     Corolla   \n",
       "10102   Lagos  foreign       0.0      3.0         Toyota       Camry   \n",
       "4328    Lagos  foreign       0.0      3.0         Toyota       Camry   \n",
       "7309    Lagos  foreign      52.0      3.0          Lexus      ES 350   \n",
       "3444    Lagos  foreign   81566.0      3.0          Acura         MDX   \n",
       "3069    Lagos  foreign   20000.0      3.0          Lexus      ES 350   \n",
       "\n",
       "      Transmission   Age  real_price  predicted_price         upper  \\\n",
       "115      Automatic   7.0  12665000.0     1.221323e+07  1.241071e+07   \n",
       "12342    Automatic  12.0   4305000.0     3.883509e+06  5.723097e+06   \n",
       "13035    Automatic  17.0   2545000.0     2.315453e+06  3.101273e+06   \n",
       "4606     Automatic  17.0   1912500.0     2.127571e+06  3.826755e+06   \n",
       "15408    Automatic  12.0   1045000.0     3.001097e+06  7.971074e+06   \n",
       "8208     Automatic  12.0   4085000.0     4.425605e+06  7.646106e+06   \n",
       "2614     Automatic   7.0   9475000.0     9.563731e+06  1.130961e+07   \n",
       "5352     Automatic   9.0   3535000.0     3.589831e+06  6.793623e+06   \n",
       "6004     Automatic  13.0   3235000.0     2.891810e+06  4.173421e+06   \n",
       "15915    Automatic  12.0   2655000.0     1.532043e+06  6.682414e+06   \n",
       "376      Automatic  15.0   2257500.0     3.376346e+06  3.728706e+06   \n",
       "1894     Automatic   7.0   3465000.0     3.480778e+06  1.321243e+07   \n",
       "16747    Automatic  12.0   2101000.0     1.847110e+06  5.420836e+06   \n",
       "17345    Automatic  12.0   2700000.0     4.116819e+06  7.101188e+06   \n",
       "9458     Automatic  10.0   2545000.0     3.320636e+06  7.862477e+06   \n",
       "10102    Automatic   7.0   4965000.0     5.288836e+06  8.558045e+06   \n",
       "4328     Automatic   8.0   4965000.0     4.784673e+06  8.019905e+06   \n",
       "7309     Automatic  10.0   5515000.0     4.622516e+06  7.088264e+06   \n",
       "3444     Automatic  12.0   3645000.0     5.560488e+06  7.159062e+06   \n",
       "3069     Automatic   3.0  12665000.0     1.130254e+07  1.362331e+07   \n",
       "\n",
       "              lower           mid  \n",
       "115    1.241780e+07  1.232565e+07  \n",
       "12342  4.901863e+06  3.835641e+06  \n",
       "13035  2.904547e+06  2.331300e+06  \n",
       "4606   2.762771e+06  2.019525e+06  \n",
       "15408  7.742693e+06  2.847518e+06  \n",
       "8208   6.430306e+06  4.198935e+06  \n",
       "2614   1.127204e+07  9.707772e+06  \n",
       "5352   4.858795e+06  3.551216e+06  \n",
       "6004   4.584476e+06  2.909388e+06  \n",
       "15915  6.679960e+06  2.004162e+06  \n",
       "376    3.624658e+06  3.146081e+06  \n",
       "1894   9.852582e+06  4.150112e+06  \n",
       "16747  4.122537e+06  1.770112e+06  \n",
       "17345  5.794978e+06  4.025757e+06  \n",
       "9458   6.311876e+06  3.200901e+06  \n",
       "10102  6.862766e+06  5.279654e+06  \n",
       "4328   6.193869e+06  4.804614e+06  \n",
       "7309   5.600066e+06  4.664772e+06  \n",
       "3444   6.590986e+06  5.673483e+06  \n",
       "3069   1.467523e+07  1.186208e+07  "
      ]
     },
     "execution_count": 45,
     "metadata": {},
     "output_type": "execute_result"
    }
   ],
   "source": [
    "results[['upper','lower','mid']] = predictions[['upper','lower','mid']]*1000000\n",
    "\n",
    "results.tail(20)"
   ]
  },
  {
   "cell_type": "code",
   "execution_count": 46,
   "metadata": {},
   "outputs": [
    {
     "data": {
      "image/png": "[encoded data removed]",
      "text/plain": [
       "<Figure size 720x360 with 1 Axes>"
      ]
     },
     "metadata": {
      "needs_background": "light"
     },
     "output_type": "display_data"
    }
   ],
   "source": [
    "make = 'Toyota'\n",
    "city = 'Ibadan'\n",
    "plt.figure(figsize=(10,5))\n",
    "df[(df.Make == make ) & (df.city == city )].Price.plot.hist(grid=False,bins=20)\n",
    "plt.title(\"{} cars in {} typically go for\".format(make,city))\n",
    "plt.show()"
   ]
  },
  {
   "cell_type": "code",
   "execution_count": 47,
   "metadata": {},
   "outputs": [
    {
     "data": {
      "image/png": "[encoded data removed]",
      "text/plain": [
       "<Figure size 720x360 with 1 Axes>"
      ]
     },
     "metadata": {
      "needs_background": "light"
     },
     "output_type": "display_data"
    }
   ],
   "source": [
    "plt.figure(figsize=(10,5))\n",
    "df[(df.Age >= 5) & (df.Age <= 9)].Price.plot.hist(bins=20)\n",
    "plt.title(\"cars within the age of 5 and 9 typically go for\")\n",
    "plt.show()"
   ]
  },
  {
   "cell_type": "code",
   "execution_count": null,
   "metadata": {},
   "outputs": [],
   "source": []
  }
 ],
 "metadata": {
  "kernelspec": {
   "display_name": "Python 3",
   "language": "python",
   "name": "python3"
  },
  "language_info": {
   "codemirror_mode": {
    "name": "ipython",
    "version": 3
   },
   "file_extension": ".py",
   "mimetype": "text/x-python",
   "name": "python",
   "nbconvert_exporter": "python",
   "pygments_lexer": "ipython3",
   "version": "3.6.9"
  }
 },
 "nbformat": 4,
 "nbformat_minor": 4
}
