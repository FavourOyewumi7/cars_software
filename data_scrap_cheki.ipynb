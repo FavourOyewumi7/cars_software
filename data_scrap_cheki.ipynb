{
 "cells": [
  {
   "cell_type": "code",
   "execution_count": 1,
   "metadata": {},
   "outputs": [],
   "source": [
    "import pandas as pd\n",
    "import numpy as np\n",
    "from bs4 import BeautifulSoup\n",
    "import requests\n",
    "from urllib.request import urlopen\n",
    "import re"
   ]
  },
  {
   "cell_type": "code",
   "execution_count": 98,
   "metadata": {},
   "outputs": [],
   "source": [
    "#initialize a dataframe\n",
    "cars_1 = pd.DataFrame()"
   ]
  },
  {
   "cell_type": "code",
   "execution_count": 101,
   "metadata": {},
   "outputs": [],
   "source": [
    "details = []   #Prices for the 1st page\n",
    "page_link =  'https://autochek.africa/cars-for-sale/mercedes-benz-200-ref-2w8PyIiXb'\n",
    "\n",
    "page_response = requests.get(page_link)\n",
    "page_content = BeautifulSoup(page_response.content, \"html.parser\")\n",
    "\n",
    "#for image scrape\n",
    "html = urlopen(page_link)\n",
    "bs = BeautifulSoup(html, 'html.parser')"
   ]
  },
  {
   "cell_type": "code",
   "execution_count": 102,
   "metadata": {},
   "outputs": [
    {
     "data": {
      "text/html": [
       "<div>\n",
       "<style scoped>\n",
       "    .dataframe tbody tr th:only-of-type {\n",
       "        vertical-align: middle;\n",
       "    }\n",
       "\n",
       "    .dataframe tbody tr th {\n",
       "        vertical-align: top;\n",
       "    }\n",
       "\n",
       "    .dataframe thead th {\n",
       "        text-align: right;\n",
       "    }\n",
       "</style>\n",
       "<table border=\"1\" class=\"dataframe\">\n",
       "  <thead>\n",
       "    <tr style=\"text-align: right;\">\n",
       "      <th></th>\n",
       "      <th>0</th>\n",
       "      <th>1</th>\n",
       "      <th>2</th>\n",
       "      <th>3</th>\n",
       "      <th>4</th>\n",
       "      <th>5</th>\n",
       "      <th>6</th>\n",
       "      <th>7</th>\n",
       "      <th>8</th>\n",
       "      <th>9</th>\n",
       "      <th>10</th>\n",
       "    </tr>\n",
       "  </thead>\n",
       "  <tbody>\n",
       "    <tr>\n",
       "      <th>0</th>\n",
       "      <td>3,755,000</td>\n",
       "      <td>Lagos</td>\n",
       "      <td>Foreign Used</td>\n",
       "      <td>automatic</td>\n",
       "      <td>Black</td>\n",
       "      <td>0 km</td>\n",
       "      <td>Toyota</td>\n",
       "      <td>Matrix</td>\n",
       "      <td>2011</td>\n",
       "      <td>5.00</td>\n",
       "      <td>Toyota Matrix 2011</td>\n",
       "    </tr>\n",
       "    <tr>\n",
       "      <th>1</th>\n",
       "      <td>24,765,000</td>\n",
       "      <td>Lagos</td>\n",
       "      <td>Foreign Used</td>\n",
       "      <td>automatic</td>\n",
       "      <td>Pale brown</td>\n",
       "      <td>45,133 km</td>\n",
       "      <td>Mercedes-Benz</td>\n",
       "      <td>200</td>\n",
       "      <td>2018</td>\n",
       "      <td>5.00</td>\n",
       "      <td>Mercedes-Benz 200 2018</td>\n",
       "    </tr>\n",
       "  </tbody>\n",
       "</table>\n",
       "</div>"
      ],
      "text/plain": [
       "           0      1             2          3           4          5   \\\n",
       "0   3,755,000  Lagos  Foreign Used  automatic       Black       0 km   \n",
       "1  24,765,000  Lagos  Foreign Used  automatic  Pale brown  45,133 km   \n",
       "\n",
       "              6       7     8     9                        10  \n",
       "0         Toyota  Matrix  2011  5.00      Toyota Matrix 2011   \n",
       "1  Mercedes-Benz     200  2018  5.00  Mercedes-Benz 200 2018   "
      ]
     },
     "execution_count": 102,
     "metadata": {},
     "output_type": "execute_result"
    }
   ],
   "source": [
    "for i in range(59,60):\n",
    "    price = page_content.find_all(\"div\")[i].text   #scrap price here\n",
    "    details.append(price)\n",
    "    \n",
    "for i in range(15,16):\n",
    "    location = page_content.find_all(\"span\")[i].text   #scrap location here\n",
    "    details.append(location)\n",
    "    \n",
    "for i in range(17,18):\n",
    "    history = page_content.find_all(\"span\")[i].text   #scrap history here\n",
    "    details.append(history)\n",
    "    \n",
    "for i in range(25,26):\n",
    "    transmission = page_content.find_all(\"span\")[i].text   #scrap location here\n",
    "    details.append(transmission)\n",
    "    \n",
    "for i in range(31,32):\n",
    "    color = page_content.find_all(\"span\")[i].text   #scrap colour here\n",
    "    details.append(color)\n",
    "\n",
    "for i in range(13,14):\n",
    "    mileage = page_content.find_all(\"span\")[i].text   #scrap location here\n",
    "    details.append(mileage)\n",
    "\n",
    "for i in range(44,45):\n",
    "    name_make = page_content.find_all(\"div\")[i].text   #scrap name and make here\n",
    "    make_mix = name_make.split('(')\n",
    "    more_model = make_mix[0]\n",
    "    more_details = more_model.split(' ')\n",
    "    make = more_details[0]\n",
    "    model = more_details[1]\n",
    "    year = more_details[2]\n",
    "    rating = make_mix[1].split(')')[0]\n",
    "    details.append(make)\n",
    "    details.append(model)\n",
    "    details.append(year)\n",
    "    details.append(rating)\n",
    "    details.append(more_model)\n",
    "\n",
    "#Append to the dataframe\n",
    "cars_1 = cars_1.append(pd.Series(details), ignore_index=True)\n",
    "\n",
    "#save to disk\n",
    "cars_1.to_csv('./data/cheki_data.csv')\n",
    "\n",
    "cars_1.head()"
   ]
  },
  {
   "cell_type": "code",
   "execution_count": null,
   "metadata": {},
   "outputs": [],
   "source": []
  }
 ],
 "metadata": {
  "kernelspec": {
   "display_name": "Python 3",
   "language": "python",
   "name": "python3"
  },
  "language_info": {
   "codemirror_mode": {
    "name": "ipython",
    "version": 3
   },
   "file_extension": ".py",
   "mimetype": "text/x-python",
   "name": "python",
   "nbconvert_exporter": "python",
   "pygments_lexer": "ipython3",
   "version": "3.6.9"
  }
 },
 "nbformat": 4,
 "nbformat_minor": 4
}
