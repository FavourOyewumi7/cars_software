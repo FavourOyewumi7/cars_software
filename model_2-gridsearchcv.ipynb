{
 "cells": [
  {
   "cell_type": "code",
   "execution_count": 3,
   "metadata": {},
   "outputs": [],
   "source": [
    "#import libraries\n",
    "import numpy as np \n",
    "import pandas as pd\n",
    "import seaborn as sns\n",
    "import matplotlib.pyplot as plt\n",
    "import category_encoders as ce\n",
    "from sklearn.model_selection import cross_validate\n",
    "\n",
    "#ignore warnings\n",
    "import warnings\n",
    "warnings.filterwarnings('ignore')"
   ]
  },
  {
   "cell_type": "code",
   "execution_count": 8,
   "metadata": {},
   "outputs": [
    {
     "data": {
      "text/html": [
       "<div>\n",
       "<style scoped>\n",
       "    .dataframe tbody tr th:only-of-type {\n",
       "        vertical-align: middle;\n",
       "    }\n",
       "\n",
       "    .dataframe tbody tr th {\n",
       "        vertical-align: top;\n",
       "    }\n",
       "\n",
       "    .dataframe thead th {\n",
       "        text-align: right;\n",
       "    }\n",
       "</style>\n",
       "<table border=\"1\" class=\"dataframe\">\n",
       "  <thead>\n",
       "    <tr style=\"text-align: right;\">\n",
       "      <th></th>\n",
       "      <th>Price</th>\n",
       "      <th>city</th>\n",
       "      <th>History</th>\n",
       "      <th>Millage</th>\n",
       "      <th>Ratings</th>\n",
       "      <th>Year</th>\n",
       "      <th>Make</th>\n",
       "      <th>Model</th>\n",
       "      <th>Transmission</th>\n",
       "      <th>Age</th>\n",
       "    </tr>\n",
       "  </thead>\n",
       "  <tbody>\n",
       "    <tr>\n",
       "      <th>0</th>\n",
       "      <td>4965000.0</td>\n",
       "      <td>Abia</td>\n",
       "      <td>foreign</td>\n",
       "      <td>149232.0</td>\n",
       "      <td>4.7</td>\n",
       "      <td>2015.0</td>\n",
       "      <td>Honda</td>\n",
       "      <td>Accord</td>\n",
       "      <td>Automatic</td>\n",
       "      <td>5.0</td>\n",
       "    </tr>\n",
       "    <tr>\n",
       "      <th>1</th>\n",
       "      <td>1280000.0</td>\n",
       "      <td>Accra</td>\n",
       "      <td>local</td>\n",
       "      <td>145078.0</td>\n",
       "      <td>4.4</td>\n",
       "      <td>2005.0</td>\n",
       "      <td>Toyota</td>\n",
       "      <td>Corolla</td>\n",
       "      <td>Automatic</td>\n",
       "      <td>15.0</td>\n",
       "    </tr>\n",
       "    <tr>\n",
       "      <th>2</th>\n",
       "      <td>1280000.0</td>\n",
       "      <td>Accra</td>\n",
       "      <td>local</td>\n",
       "      <td>91691.0</td>\n",
       "      <td>4.6</td>\n",
       "      <td>2008.0</td>\n",
       "      <td>Toyota</td>\n",
       "      <td>Corolla</td>\n",
       "      <td>Automatic</td>\n",
       "      <td>12.0</td>\n",
       "    </tr>\n",
       "    <tr>\n",
       "      <th>3</th>\n",
       "      <td>1567500.0</td>\n",
       "      <td>Lagos</td>\n",
       "      <td>local</td>\n",
       "      <td>234797.0</td>\n",
       "      <td>4.5</td>\n",
       "      <td>2004.0</td>\n",
       "      <td>Toyota</td>\n",
       "      <td>Corolla</td>\n",
       "      <td>Automatic</td>\n",
       "      <td>16.0</td>\n",
       "    </tr>\n",
       "    <tr>\n",
       "      <th>4</th>\n",
       "      <td>6065000.0</td>\n",
       "      <td>Lagos</td>\n",
       "      <td>foreign</td>\n",
       "      <td>145678.0</td>\n",
       "      <td>4.8</td>\n",
       "      <td>2013.0</td>\n",
       "      <td>Hyundai</td>\n",
       "      <td>Azera</td>\n",
       "      <td>Automatic</td>\n",
       "      <td>7.0</td>\n",
       "    </tr>\n",
       "  </tbody>\n",
       "</table>\n",
       "</div>"
      ],
      "text/plain": [
       "       Price   city  History   Millage  Ratings    Year     Make    Model  \\\n",
       "0  4965000.0   Abia  foreign  149232.0      4.7  2015.0    Honda   Accord   \n",
       "1  1280000.0  Accra    local  145078.0      4.4  2005.0   Toyota  Corolla   \n",
       "2  1280000.0  Accra    local   91691.0      4.6  2008.0   Toyota  Corolla   \n",
       "3  1567500.0  Lagos    local  234797.0      4.5  2004.0   Toyota  Corolla   \n",
       "4  6065000.0  Lagos  foreign  145678.0      4.8  2013.0  Hyundai    Azera   \n",
       "\n",
       "  Transmission   Age  \n",
       "0    Automatic   5.0  \n",
       "1    Automatic  15.0  \n",
       "2    Automatic  12.0  \n",
       "3    Automatic  16.0  \n",
       "4    Automatic   7.0  "
      ]
     },
     "execution_count": 8,
     "metadata": {},
     "output_type": "execute_result"
    }
   ],
   "source": [
    "#import data\n",
    "df = pd.read_csv(\"./data/cleaned_data_with2.csv\",index_col=0)\n",
    "\n",
    "df.head()"
   ]
  },
  {
   "cell_type": "markdown",
   "metadata": {},
   "source": [
    "### Data Preparation"
   ]
  },
  {
   "cell_type": "code",
   "execution_count": 38,
   "metadata": {},
   "outputs": [
    {
     "data": {
      "text/plain": [
       "4270000"
      ]
     },
     "execution_count": 38,
     "metadata": {},
     "output_type": "execute_result"
    }
   ],
   "source": [
    "np.int(np.round(4.2712154,decimals=2)*1000000)"
   ]
  },
  {
   "cell_type": "code",
   "execution_count": 9,
   "metadata": {},
   "outputs": [],
   "source": [
    "df['Price'] = df['Price']/1000000 #reduce the Price values"
   ]
  },
  {
   "cell_type": "code",
   "execution_count": 10,
   "metadata": {},
   "outputs": [],
   "source": [
    "#drop the Year column\n",
    "df = df.drop(['Year'],axis=1)"
   ]
  },
  {
   "cell_type": "code",
   "execution_count": 11,
   "metadata": {},
   "outputs": [
    {
     "data": {
      "text/plain": [
       "(17227, 9)"
      ]
     },
     "execution_count": 11,
     "metadata": {},
     "output_type": "execute_result"
    }
   ],
   "source": [
    "df.shape"
   ]
  },
  {
   "cell_type": "code",
   "execution_count": 12,
   "metadata": {},
   "outputs": [
    {
     "data": {
      "text/html": [
       "<div>\n",
       "<style scoped>\n",
       "    .dataframe tbody tr th:only-of-type {\n",
       "        vertical-align: middle;\n",
       "    }\n",
       "\n",
       "    .dataframe tbody tr th {\n",
       "        vertical-align: top;\n",
       "    }\n",
       "\n",
       "    .dataframe thead th {\n",
       "        text-align: right;\n",
       "    }\n",
       "</style>\n",
       "<table border=\"1\" class=\"dataframe\">\n",
       "  <thead>\n",
       "    <tr style=\"text-align: right;\">\n",
       "      <th></th>\n",
       "      <th>Price</th>\n",
       "      <th>city</th>\n",
       "      <th>History</th>\n",
       "      <th>Millage</th>\n",
       "      <th>Ratings</th>\n",
       "      <th>Make</th>\n",
       "      <th>Model</th>\n",
       "      <th>Transmission</th>\n",
       "      <th>Age</th>\n",
       "    </tr>\n",
       "  </thead>\n",
       "  <tbody>\n",
       "    <tr>\n",
       "      <th>599</th>\n",
       "      <td>0.0</td>\n",
       "      <td>Lagos</td>\n",
       "      <td>foreign</td>\n",
       "      <td>10000.0</td>\n",
       "      <td>2.0</td>\n",
       "      <td>Toyota</td>\n",
       "      <td>RAV 4</td>\n",
       "      <td>Automatic</td>\n",
       "      <td>12.0</td>\n",
       "    </tr>\n",
       "    <tr>\n",
       "      <th>606</th>\n",
       "      <td>0.0</td>\n",
       "      <td>Lagos</td>\n",
       "      <td>foreign</td>\n",
       "      <td>9856.0</td>\n",
       "      <td>2.0</td>\n",
       "      <td>Honda</td>\n",
       "      <td>CR-V</td>\n",
       "      <td>Automatic</td>\n",
       "      <td>12.0</td>\n",
       "    </tr>\n",
       "    <tr>\n",
       "      <th>617</th>\n",
       "      <td>0.0</td>\n",
       "      <td>Lagos</td>\n",
       "      <td>foreign</td>\n",
       "      <td>0.0</td>\n",
       "      <td>2.0</td>\n",
       "      <td>Ford</td>\n",
       "      <td>Explorer</td>\n",
       "      <td>Automatic</td>\n",
       "      <td>4.0</td>\n",
       "    </tr>\n",
       "    <tr>\n",
       "      <th>618</th>\n",
       "      <td>0.0</td>\n",
       "      <td>Rivers</td>\n",
       "      <td>foreign</td>\n",
       "      <td>98000.0</td>\n",
       "      <td>2.0</td>\n",
       "      <td>Honda</td>\n",
       "      <td>CR-V</td>\n",
       "      <td>Automatic</td>\n",
       "      <td>12.0</td>\n",
       "    </tr>\n",
       "    <tr>\n",
       "      <th>621</th>\n",
       "      <td>0.0</td>\n",
       "      <td>Lagos</td>\n",
       "      <td>foreign</td>\n",
       "      <td>125425.0</td>\n",
       "      <td>2.0</td>\n",
       "      <td>Toyota</td>\n",
       "      <td>Camry</td>\n",
       "      <td>Automatic</td>\n",
       "      <td>12.0</td>\n",
       "    </tr>\n",
       "    <tr>\n",
       "      <th>...</th>\n",
       "      <td>...</td>\n",
       "      <td>...</td>\n",
       "      <td>...</td>\n",
       "      <td>...</td>\n",
       "      <td>...</td>\n",
       "      <td>...</td>\n",
       "      <td>...</td>\n",
       "      <td>...</td>\n",
       "      <td>...</td>\n",
       "    </tr>\n",
       "    <tr>\n",
       "      <th>14176</th>\n",
       "      <td>0.0</td>\n",
       "      <td>Lagos</td>\n",
       "      <td>foreign</td>\n",
       "      <td>92134.0</td>\n",
       "      <td>0.0</td>\n",
       "      <td>Mazda</td>\n",
       "      <td>Tribute</td>\n",
       "      <td>Manual</td>\n",
       "      <td>12.0</td>\n",
       "    </tr>\n",
       "    <tr>\n",
       "      <th>14177</th>\n",
       "      <td>0.0</td>\n",
       "      <td>Lagos</td>\n",
       "      <td>foreign</td>\n",
       "      <td>21344.0</td>\n",
       "      <td>0.0</td>\n",
       "      <td>Toyota</td>\n",
       "      <td>Corolla</td>\n",
       "      <td>Manual</td>\n",
       "      <td>14.0</td>\n",
       "    </tr>\n",
       "    <tr>\n",
       "      <th>14181</th>\n",
       "      <td>0.0</td>\n",
       "      <td>Lagos</td>\n",
       "      <td>foreign</td>\n",
       "      <td>153063.0</td>\n",
       "      <td>0.0</td>\n",
       "      <td>Toyota</td>\n",
       "      <td>Camry</td>\n",
       "      <td>Manual</td>\n",
       "      <td>23.0</td>\n",
       "    </tr>\n",
       "    <tr>\n",
       "      <th>14188</th>\n",
       "      <td>0.0</td>\n",
       "      <td>Lagos</td>\n",
       "      <td>foreign</td>\n",
       "      <td>0.0</td>\n",
       "      <td>0.0</td>\n",
       "      <td>Mercedes-Benz</td>\n",
       "      <td>E 350</td>\n",
       "      <td>Manual</td>\n",
       "      <td>7.0</td>\n",
       "    </tr>\n",
       "    <tr>\n",
       "      <th>14191</th>\n",
       "      <td>0.0</td>\n",
       "      <td>Lagos</td>\n",
       "      <td>foreign</td>\n",
       "      <td>123442.0</td>\n",
       "      <td>0.0</td>\n",
       "      <td>Lexus</td>\n",
       "      <td>RX 350</td>\n",
       "      <td>Manual</td>\n",
       "      <td>15.0</td>\n",
       "    </tr>\n",
       "  </tbody>\n",
       "</table>\n",
       "<p>2866 rows × 9 columns</p>\n",
       "</div>"
      ],
      "text/plain": [
       "       Price    city  History   Millage  Ratings           Make     Model  \\\n",
       "599      0.0   Lagos  foreign   10000.0      2.0         Toyota     RAV 4   \n",
       "606      0.0   Lagos  foreign    9856.0      2.0          Honda      CR-V   \n",
       "617      0.0   Lagos  foreign       0.0      2.0           Ford  Explorer   \n",
       "618      0.0  Rivers  foreign   98000.0      2.0          Honda      CR-V   \n",
       "621      0.0   Lagos  foreign  125425.0      2.0         Toyota     Camry   \n",
       "...      ...     ...      ...       ...      ...            ...       ...   \n",
       "14176    0.0   Lagos  foreign   92134.0      0.0          Mazda   Tribute   \n",
       "14177    0.0   Lagos  foreign   21344.0      0.0         Toyota   Corolla   \n",
       "14181    0.0   Lagos  foreign  153063.0      0.0         Toyota     Camry   \n",
       "14188    0.0   Lagos  foreign       0.0      0.0  Mercedes-Benz     E 350   \n",
       "14191    0.0   Lagos  foreign  123442.0      0.0          Lexus    RX 350   \n",
       "\n",
       "      Transmission   Age  \n",
       "599      Automatic  12.0  \n",
       "606      Automatic  12.0  \n",
       "617      Automatic   4.0  \n",
       "618      Automatic  12.0  \n",
       "621      Automatic  12.0  \n",
       "...            ...   ...  \n",
       "14176       Manual  12.0  \n",
       "14177       Manual  14.0  \n",
       "14181       Manual  23.0  \n",
       "14188       Manual   7.0  \n",
       "14191       Manual  15.0  \n",
       "\n",
       "[2866 rows x 9 columns]"
      ]
     },
     "execution_count": 12,
     "metadata": {},
     "output_type": "execute_result"
    }
   ],
   "source": [
    "df[df.Price <= 0]"
   ]
  },
  {
   "cell_type": "code",
   "execution_count": 13,
   "metadata": {},
   "outputs": [
    {
     "data": {
      "text/plain": [
       "<AxesSubplot:xlabel='Price'>"
      ]
     },
     "execution_count": 13,
     "metadata": {},
     "output_type": "execute_result"
    },
    {
     "data": {
      "image/png": "[encoded data removed]",
      "text/plain": [
       "<Figure size 432x288 with 1 Axes>"
      ]
     },
     "metadata": {
      "needs_background": "light"
     },
     "output_type": "display_data"
    }
   ],
   "source": [
    "#find outliers!\n",
    "sns.boxplot(x=df['Price'])"
   ]
  },
  {
   "cell_type": "code",
   "execution_count": 14,
   "metadata": {},
   "outputs": [
    {
     "data": {
      "text/html": [
       "<div>\n",
       "<style scoped>\n",
       "    .dataframe tbody tr th:only-of-type {\n",
       "        vertical-align: middle;\n",
       "    }\n",
       "\n",
       "    .dataframe tbody tr th {\n",
       "        vertical-align: top;\n",
       "    }\n",
       "\n",
       "    .dataframe thead th {\n",
       "        text-align: right;\n",
       "    }\n",
       "</style>\n",
       "<table border=\"1\" class=\"dataframe\">\n",
       "  <thead>\n",
       "    <tr style=\"text-align: right;\">\n",
       "      <th></th>\n",
       "      <th>Price</th>\n",
       "      <th>city</th>\n",
       "      <th>History</th>\n",
       "      <th>Millage</th>\n",
       "      <th>Ratings</th>\n",
       "      <th>Make</th>\n",
       "      <th>Model</th>\n",
       "      <th>Transmission</th>\n",
       "      <th>Age</th>\n",
       "    </tr>\n",
       "  </thead>\n",
       "  <tbody>\n",
       "    <tr>\n",
       "      <th>32</th>\n",
       "      <td>30.265</td>\n",
       "      <td>Lagos</td>\n",
       "      <td>foreign</td>\n",
       "      <td>76794.0</td>\n",
       "      <td>4.9</td>\n",
       "      <td>Lexus</td>\n",
       "      <td>LX 570</td>\n",
       "      <td>Automatic</td>\n",
       "      <td>3.0</td>\n",
       "    </tr>\n",
       "    <tr>\n",
       "      <th>52</th>\n",
       "      <td>23.115</td>\n",
       "      <td>Lagos</td>\n",
       "      <td>foreign</td>\n",
       "      <td>14464.0</td>\n",
       "      <td>5.0</td>\n",
       "      <td>Lexus</td>\n",
       "      <td>RX 350</td>\n",
       "      <td>Automatic</td>\n",
       "      <td>1.0</td>\n",
       "    </tr>\n",
       "    <tr>\n",
       "      <th>53</th>\n",
       "      <td>49.515</td>\n",
       "      <td>Lagos</td>\n",
       "      <td>foreign</td>\n",
       "      <td>14855.0</td>\n",
       "      <td>5.0</td>\n",
       "      <td>Land</td>\n",
       "      <td>Rover Range Rover Velar</td>\n",
       "      <td>Automatic</td>\n",
       "      <td>2.0</td>\n",
       "    </tr>\n",
       "    <tr>\n",
       "      <th>61</th>\n",
       "      <td>19.265</td>\n",
       "      <td>Lagos</td>\n",
       "      <td>foreign</td>\n",
       "      <td>19444.0</td>\n",
       "      <td>5.0</td>\n",
       "      <td>Lexus</td>\n",
       "      <td>RX 350</td>\n",
       "      <td>Automatic</td>\n",
       "      <td>4.0</td>\n",
       "    </tr>\n",
       "    <tr>\n",
       "      <th>128</th>\n",
       "      <td>55.015</td>\n",
       "      <td>Lagos</td>\n",
       "      <td>foreign</td>\n",
       "      <td>18297.0</td>\n",
       "      <td>4.7</td>\n",
       "      <td>Mercedes-Benz</td>\n",
       "      <td>G 63 AMG</td>\n",
       "      <td>Automatic</td>\n",
       "      <td>4.0</td>\n",
       "    </tr>\n",
       "    <tr>\n",
       "      <th>...</th>\n",
       "      <td>...</td>\n",
       "      <td>...</td>\n",
       "      <td>...</td>\n",
       "      <td>...</td>\n",
       "      <td>...</td>\n",
       "      <td>...</td>\n",
       "      <td>...</td>\n",
       "      <td>...</td>\n",
       "      <td>...</td>\n",
       "    </tr>\n",
       "    <tr>\n",
       "      <th>17439</th>\n",
       "      <td>36.000</td>\n",
       "      <td>Lagos</td>\n",
       "      <td>foreign</td>\n",
       "      <td>49987.0</td>\n",
       "      <td>3.0</td>\n",
       "      <td>Rover</td>\n",
       "      <td>Range Rover Vogue</td>\n",
       "      <td>Automatic</td>\n",
       "      <td>12.0</td>\n",
       "    </tr>\n",
       "    <tr>\n",
       "      <th>17442</th>\n",
       "      <td>29.000</td>\n",
       "      <td>Lagos</td>\n",
       "      <td>foreign</td>\n",
       "      <td>23570.0</td>\n",
       "      <td>2.0</td>\n",
       "      <td>Land</td>\n",
       "      <td>Rover Range Rover Sport</td>\n",
       "      <td>Automatic</td>\n",
       "      <td>12.0</td>\n",
       "    </tr>\n",
       "    <tr>\n",
       "      <th>17443</th>\n",
       "      <td>16.000</td>\n",
       "      <td>Lagos</td>\n",
       "      <td>foreign</td>\n",
       "      <td>3931.0</td>\n",
       "      <td>1.0</td>\n",
       "      <td>Toyota</td>\n",
       "      <td>Camry</td>\n",
       "      <td>Automatic</td>\n",
       "      <td>12.0</td>\n",
       "    </tr>\n",
       "    <tr>\n",
       "      <th>17457</th>\n",
       "      <td>16.500</td>\n",
       "      <td>Lagos</td>\n",
       "      <td>foreign</td>\n",
       "      <td>89582.0</td>\n",
       "      <td>3.0</td>\n",
       "      <td>Lexus</td>\n",
       "      <td>Lx</td>\n",
       "      <td>Automatic</td>\n",
       "      <td>12.0</td>\n",
       "    </tr>\n",
       "    <tr>\n",
       "      <th>17460</th>\n",
       "      <td>22.000</td>\n",
       "      <td>Lagos</td>\n",
       "      <td>foreign</td>\n",
       "      <td>75259.0</td>\n",
       "      <td>3.0</td>\n",
       "      <td>Mercedes-Benz</td>\n",
       "      <td>Gl550</td>\n",
       "      <td>Automatic</td>\n",
       "      <td>12.0</td>\n",
       "    </tr>\n",
       "  </tbody>\n",
       "</table>\n",
       "<p>1072 rows × 9 columns</p>\n",
       "</div>"
      ],
      "text/plain": [
       "        Price   city  History  Millage  Ratings           Make  \\\n",
       "32     30.265  Lagos  foreign  76794.0      4.9          Lexus   \n",
       "52     23.115  Lagos  foreign  14464.0      5.0          Lexus   \n",
       "53     49.515  Lagos  foreign  14855.0      5.0           Land   \n",
       "61     19.265  Lagos  foreign  19444.0      5.0          Lexus   \n",
       "128    55.015  Lagos  foreign  18297.0      4.7  Mercedes-Benz   \n",
       "...       ...    ...      ...      ...      ...            ...   \n",
       "17439  36.000  Lagos  foreign  49987.0      3.0          Rover   \n",
       "17442  29.000  Lagos  foreign  23570.0      2.0           Land   \n",
       "17443  16.000  Lagos  foreign   3931.0      1.0         Toyota   \n",
       "17457  16.500  Lagos  foreign  89582.0      3.0          Lexus   \n",
       "17460  22.000  Lagos  foreign  75259.0      3.0  Mercedes-Benz   \n",
       "\n",
       "                         Model Transmission   Age  \n",
       "32                      LX 570    Automatic   3.0  \n",
       "52                      RX 350    Automatic   1.0  \n",
       "53     Rover Range Rover Velar    Automatic   2.0  \n",
       "61                      RX 350    Automatic   4.0  \n",
       "128                   G 63 AMG    Automatic   4.0  \n",
       "...                        ...          ...   ...  \n",
       "17439        Range Rover Vogue    Automatic  12.0  \n",
       "17442  Rover Range Rover Sport    Automatic  12.0  \n",
       "17443                    Camry    Automatic  12.0  \n",
       "17457                       Lx    Automatic  12.0  \n",
       "17460                    Gl550    Automatic  12.0  \n",
       "\n",
       "[1072 rows x 9 columns]"
      ]
     },
     "execution_count": 14,
     "metadata": {},
     "output_type": "execute_result"
    }
   ],
   "source": [
    "#check for outliers size\n",
    "\n",
    "df[df.Price > 15]"
   ]
  },
  {
   "cell_type": "code",
   "execution_count": 15,
   "metadata": {},
   "outputs": [],
   "source": [
    "#drop all columns where Price is zero and greater than 50(million)\n",
    "df = df.drop(df[df.Price > 15].index)\n",
    "\n",
    "df = df.drop(df[df.Price <= 0].index)"
   ]
  },
  {
   "cell_type": "code",
   "execution_count": 22,
   "metadata": {},
   "outputs": [
    {
     "data": {
      "text/plain": [
       "(12245, 9)"
      ]
     },
     "execution_count": 22,
     "metadata": {},
     "output_type": "execute_result"
    }
   ],
   "source": [
    "df.shape"
   ]
  },
  {
   "cell_type": "code",
   "execution_count": 17,
   "metadata": {},
   "outputs": [
    {
     "data": {
      "text/plain": [
       "<AxesSubplot:xlabel='Price'>"
      ]
     },
     "execution_count": 17,
     "metadata": {},
     "output_type": "execute_result"
    },
    {
     "data": {
      "image/png": "[encoded data removed]",
      "text/plain": [
       "<Figure size 432x288 with 1 Axes>"
      ]
     },
     "metadata": {
      "needs_background": "light"
     },
     "output_type": "display_data"
    }
   ],
   "source": [
    "#find outliers!\n",
    "sns.boxplot(x=df['Price'])"
   ]
  },
  {
   "cell_type": "code",
   "execution_count": 18,
   "metadata": {},
   "outputs": [
    {
     "data": {
      "text/plain": [
       "<AxesSubplot:xlabel='Millage'>"
      ]
     },
     "execution_count": 18,
     "metadata": {},
     "output_type": "execute_result"
    },
    {
     "data": {
      "image/png": "[encoded data removed]",
      "text/plain": [
       "<Figure size 432x288 with 1 Axes>"
      ]
     },
     "metadata": {
      "needs_background": "light"
     },
     "output_type": "display_data"
    }
   ],
   "source": [
    "#check out the Millage column\n",
    "sns.boxplot(x=df['Millage'])"
   ]
  },
  {
   "cell_type": "code",
   "execution_count": 19,
   "metadata": {},
   "outputs": [
    {
     "data": {
      "text/plain": [
       "(1044, 9)"
      ]
     },
     "execution_count": 19,
     "metadata": {},
     "output_type": "execute_result"
    }
   ],
   "source": [
    "#check for outliers size\n",
    "\n",
    "df[df.Millage > 200000].shape"
   ]
  },
  {
   "cell_type": "code",
   "execution_count": 20,
   "metadata": {},
   "outputs": [],
   "source": [
    "#drop all columns with Millage more than four hundred thousand km\n",
    "df = df.drop(df[df.Millage > 200000].index)"
   ]
  },
  {
   "cell_type": "code",
   "execution_count": 23,
   "metadata": {},
   "outputs": [
    {
     "data": {
      "text/plain": [
       "(12245, 9)"
      ]
     },
     "execution_count": 23,
     "metadata": {},
     "output_type": "execute_result"
    }
   ],
   "source": [
    "df.shape"
   ]
  },
  {
   "cell_type": "code",
   "execution_count": 24,
   "metadata": {},
   "outputs": [
    {
     "data": {
      "text/plain": [
       "<AxesSubplot:xlabel='Age'>"
      ]
     },
     "execution_count": 24,
     "metadata": {},
     "output_type": "execute_result"
    },
    {
     "data": {
      "image/png": "[encoded data removed]",
      "text/plain": [
       "<Figure size 432x288 with 1 Axes>"
      ]
     },
     "metadata": {
      "needs_background": "light"
     },
     "output_type": "display_data"
    }
   ],
   "source": [
    "#find outliers in Age!\n",
    "sns.boxplot(x=df['Age'])"
   ]
  },
  {
   "cell_type": "code",
   "execution_count": 25,
   "metadata": {},
   "outputs": [
    {
     "data": {
      "text/plain": [
       "(182, 9)"
      ]
     },
     "execution_count": 25,
     "metadata": {},
     "output_type": "execute_result"
    }
   ],
   "source": [
    "#drop all age greater than 20\n",
    "\n",
    "df[df.Age > 20].shape"
   ]
  },
  {
   "cell_type": "code",
   "execution_count": 26,
   "metadata": {},
   "outputs": [],
   "source": [
    "#drop Age greater than 20\n",
    "\n",
    "df = df.drop(df[df.Age > 20].index)"
   ]
  },
  {
   "cell_type": "code",
   "execution_count": 27,
   "metadata": {},
   "outputs": [
    {
     "data": {
      "text/plain": [
       "(12063, 9)"
      ]
     },
     "execution_count": 27,
     "metadata": {},
     "output_type": "execute_result"
    }
   ],
   "source": [
    "df.shape"
   ]
  },
  {
   "cell_type": "code",
   "execution_count": 28,
   "metadata": {},
   "outputs": [
    {
     "data": {
      "text/html": [
       "<div>\n",
       "<style scoped>\n",
       "    .dataframe tbody tr th:only-of-type {\n",
       "        vertical-align: middle;\n",
       "    }\n",
       "\n",
       "    .dataframe tbody tr th {\n",
       "        vertical-align: top;\n",
       "    }\n",
       "\n",
       "    .dataframe thead th {\n",
       "        text-align: right;\n",
       "    }\n",
       "</style>\n",
       "<table border=\"1\" class=\"dataframe\">\n",
       "  <thead>\n",
       "    <tr style=\"text-align: right;\">\n",
       "      <th></th>\n",
       "      <th>Millage</th>\n",
       "      <th>Ratings</th>\n",
       "      <th>Age</th>\n",
       "    </tr>\n",
       "  </thead>\n",
       "  <tbody>\n",
       "    <tr>\n",
       "      <th>count</th>\n",
       "      <td>10253.000000</td>\n",
       "      <td>10253.000000</td>\n",
       "      <td>10253.000000</td>\n",
       "    </tr>\n",
       "    <tr>\n",
       "      <th>mean</th>\n",
       "      <td>51392.566858</td>\n",
       "      <td>2.371989</td>\n",
       "      <td>11.257973</td>\n",
       "    </tr>\n",
       "    <tr>\n",
       "      <th>std</th>\n",
       "      <td>53736.626978</td>\n",
       "      <td>0.940773</td>\n",
       "      <td>3.321836</td>\n",
       "    </tr>\n",
       "    <tr>\n",
       "      <th>min</th>\n",
       "      <td>0.000000</td>\n",
       "      <td>0.000000</td>\n",
       "      <td>0.000000</td>\n",
       "    </tr>\n",
       "    <tr>\n",
       "      <th>25%</th>\n",
       "      <td>0.000000</td>\n",
       "      <td>2.000000</td>\n",
       "      <td>9.000000</td>\n",
       "    </tr>\n",
       "    <tr>\n",
       "      <th>50%</th>\n",
       "      <td>47799.000000</td>\n",
       "      <td>2.000000</td>\n",
       "      <td>12.000000</td>\n",
       "    </tr>\n",
       "    <tr>\n",
       "      <th>75%</th>\n",
       "      <td>87000.000000</td>\n",
       "      <td>2.000000</td>\n",
       "      <td>13.000000</td>\n",
       "    </tr>\n",
       "    <tr>\n",
       "      <th>max</th>\n",
       "      <td>200000.000000</td>\n",
       "      <td>5.000000</td>\n",
       "      <td>20.000000</td>\n",
       "    </tr>\n",
       "  </tbody>\n",
       "</table>\n",
       "</div>"
      ],
      "text/plain": [
       "             Millage       Ratings           Age\n",
       "count   10253.000000  10253.000000  10253.000000\n",
       "mean    51392.566858      2.371989     11.257973\n",
       "std     53736.626978      0.940773      3.321836\n",
       "min         0.000000      0.000000      0.000000\n",
       "25%         0.000000      2.000000      9.000000\n",
       "50%     47799.000000      2.000000     12.000000\n",
       "75%     87000.000000      2.000000     13.000000\n",
       "max    200000.000000      5.000000     20.000000"
      ]
     },
     "execution_count": 28,
     "metadata": {},
     "output_type": "execute_result"
    }
   ],
   "source": [
    "#split the data\n",
    "X = df.drop(['Price'], axis=1)\n",
    "y = df['Price']  #target variable\n",
    "\n",
    "from sklearn.model_selection import train_test_split\n",
    "\n",
    "X_train, X_test, y_train, y_test = train_test_split(X, y, test_size=0.15, random_state=42,shuffle=True)\n",
    "X_train.describe()"
   ]
  },
  {
   "cell_type": "code",
   "execution_count": 29,
   "metadata": {},
   "outputs": [],
   "source": [
    "#to display results\n",
    "results = X_test"
   ]
  },
  {
   "cell_type": "code",
   "execution_count": 30,
   "metadata": {},
   "outputs": [
    {
     "data": {
      "text/html": [
       "<div>\n",
       "<style scoped>\n",
       "    .dataframe tbody tr th:only-of-type {\n",
       "        vertical-align: middle;\n",
       "    }\n",
       "\n",
       "    .dataframe tbody tr th {\n",
       "        vertical-align: top;\n",
       "    }\n",
       "\n",
       "    .dataframe thead th {\n",
       "        text-align: right;\n",
       "    }\n",
       "</style>\n",
       "<table border=\"1\" class=\"dataframe\">\n",
       "  <thead>\n",
       "    <tr style=\"text-align: right;\">\n",
       "      <th></th>\n",
       "      <th>city</th>\n",
       "      <th>History</th>\n",
       "      <th>Millage</th>\n",
       "      <th>Ratings</th>\n",
       "      <th>Make</th>\n",
       "      <th>Model</th>\n",
       "      <th>Transmission</th>\n",
       "      <th>Age</th>\n",
       "    </tr>\n",
       "  </thead>\n",
       "  <tbody>\n",
       "    <tr>\n",
       "      <th>12373</th>\n",
       "      <td>Lagos</td>\n",
       "      <td>foreign</td>\n",
       "      <td>71212.0</td>\n",
       "      <td>2.0</td>\n",
       "      <td>Toyota</td>\n",
       "      <td>Venza</td>\n",
       "      <td>Automatic</td>\n",
       "      <td>9.0</td>\n",
       "    </tr>\n",
       "    <tr>\n",
       "      <th>7170</th>\n",
       "      <td>Rivers</td>\n",
       "      <td>foreign</td>\n",
       "      <td>0.0</td>\n",
       "      <td>2.0</td>\n",
       "      <td>Toyota</td>\n",
       "      <td>Corolla</td>\n",
       "      <td>Automatic</td>\n",
       "      <td>20.0</td>\n",
       "    </tr>\n",
       "    <tr>\n",
       "      <th>17241</th>\n",
       "      <td>Lagos</td>\n",
       "      <td>local</td>\n",
       "      <td>164184.0</td>\n",
       "      <td>2.0</td>\n",
       "      <td>Toyota</td>\n",
       "      <td>Land Cruiser</td>\n",
       "      <td>Automatic</td>\n",
       "      <td>12.0</td>\n",
       "    </tr>\n",
       "    <tr>\n",
       "      <th>14316</th>\n",
       "      <td>Abuja</td>\n",
       "      <td>local</td>\n",
       "      <td>143420.0</td>\n",
       "      <td>5.0</td>\n",
       "      <td>Mazda</td>\n",
       "      <td>626</td>\n",
       "      <td>Manual</td>\n",
       "      <td>12.0</td>\n",
       "    </tr>\n",
       "    <tr>\n",
       "      <th>597</th>\n",
       "      <td>Lagos</td>\n",
       "      <td>foreign</td>\n",
       "      <td>98000.0</td>\n",
       "      <td>2.0</td>\n",
       "      <td>Toyota</td>\n",
       "      <td>FJ</td>\n",
       "      <td>Automatic</td>\n",
       "      <td>12.0</td>\n",
       "    </tr>\n",
       "  </tbody>\n",
       "</table>\n",
       "</div>"
      ],
      "text/plain": [
       "         city  History   Millage  Ratings    Make         Model Transmission  \\\n",
       "12373   Lagos  foreign   71212.0      2.0  Toyota         Venza    Automatic   \n",
       "7170   Rivers  foreign       0.0      2.0  Toyota       Corolla    Automatic   \n",
       "17241   Lagos    local  164184.0      2.0  Toyota  Land Cruiser    Automatic   \n",
       "14316   Abuja    local  143420.0      5.0   Mazda           626       Manual   \n",
       "597     Lagos  foreign   98000.0      2.0  Toyota            FJ    Automatic   \n",
       "\n",
       "        Age  \n",
       "12373   9.0  \n",
       "7170   20.0  \n",
       "17241  12.0  \n",
       "14316  12.0  \n",
       "597    12.0  "
      ]
     },
     "execution_count": 30,
     "metadata": {},
     "output_type": "execute_result"
    }
   ],
   "source": [
    "X_train.head()"
   ]
  },
  {
   "cell_type": "code",
   "execution_count": 22,
   "metadata": {},
   "outputs": [
    {
     "data": {
      "text/plain": [
       "<matplotlib.axes._subplots.AxesSubplot at 0x7fa812d95e80>"
      ]
     },
     "execution_count": 22,
     "metadata": {},
     "output_type": "execute_result"
    },
    {
     "data": {
      "image/png": "[encoded data removed]",
      "text/plain": [
       "<Figure size 432x288 with 2 Axes>"
      ]
     },
     "metadata": {
      "needs_background": "light"
     },
     "output_type": "display_data"
    }
   ],
   "source": [
    "sns.heatmap(df.corr(),annot=True)"
   ]
  },
  {
   "cell_type": "code",
   "execution_count": 23,
   "metadata": {},
   "outputs": [],
   "source": [
    "# data normalization with sklearn\n",
    "from sklearn.preprocessing import MinMaxScaler\n",
    "\n",
    "norm_cols = ['Millage','Ratings','Age']\n",
    "\n",
    "# fit scaler on training data\n",
    "norm = MinMaxScaler().fit(X_train[norm_cols])\n",
    "\n",
    "# transform training data\n",
    "X_train.loc[:,norm_cols] = norm.transform(X_train[norm_cols])\n",
    "\n",
    "# transform testing data\n",
    "X_test.loc[:,norm_cols] = norm.transform(X_test[norm_cols])"
   ]
  },
  {
   "cell_type": "code",
   "execution_count": 24,
   "metadata": {},
   "outputs": [],
   "source": [
    "#transform training data\n",
    "#y_train=(y_train-y_train.mean())/y_train.std()\n",
    "\n",
    "#y_test = norm_y.transform(y_test)\n",
    "#y_test=(y_test-y_test.mean())/y_test.std()"
   ]
  },
  {
   "cell_type": "code",
   "execution_count": 25,
   "metadata": {},
   "outputs": [
    {
     "data": {
      "text/html": [
       "<div>\n",
       "<style scoped>\n",
       "    .dataframe tbody tr th:only-of-type {\n",
       "        vertical-align: middle;\n",
       "    }\n",
       "\n",
       "    .dataframe tbody tr th {\n",
       "        vertical-align: top;\n",
       "    }\n",
       "\n",
       "    .dataframe thead th {\n",
       "        text-align: right;\n",
       "    }\n",
       "</style>\n",
       "<table border=\"1\" class=\"dataframe\">\n",
       "  <thead>\n",
       "    <tr style=\"text-align: right;\">\n",
       "      <th></th>\n",
       "      <th>Millage</th>\n",
       "      <th>Ratings</th>\n",
       "      <th>Age</th>\n",
       "    </tr>\n",
       "  </thead>\n",
       "  <tbody>\n",
       "    <tr>\n",
       "      <th>count</th>\n",
       "      <td>10253.000000</td>\n",
       "      <td>10253.000000</td>\n",
       "      <td>10253.000000</td>\n",
       "    </tr>\n",
       "    <tr>\n",
       "      <th>mean</th>\n",
       "      <td>0.256963</td>\n",
       "      <td>0.474398</td>\n",
       "      <td>0.562899</td>\n",
       "    </tr>\n",
       "    <tr>\n",
       "      <th>std</th>\n",
       "      <td>0.268683</td>\n",
       "      <td>0.188155</td>\n",
       "      <td>0.166092</td>\n",
       "    </tr>\n",
       "    <tr>\n",
       "      <th>min</th>\n",
       "      <td>0.000000</td>\n",
       "      <td>0.000000</td>\n",
       "      <td>0.000000</td>\n",
       "    </tr>\n",
       "    <tr>\n",
       "      <th>25%</th>\n",
       "      <td>0.000000</td>\n",
       "      <td>0.400000</td>\n",
       "      <td>0.450000</td>\n",
       "    </tr>\n",
       "    <tr>\n",
       "      <th>50%</th>\n",
       "      <td>0.238995</td>\n",
       "      <td>0.400000</td>\n",
       "      <td>0.600000</td>\n",
       "    </tr>\n",
       "    <tr>\n",
       "      <th>75%</th>\n",
       "      <td>0.435000</td>\n",
       "      <td>0.400000</td>\n",
       "      <td>0.650000</td>\n",
       "    </tr>\n",
       "    <tr>\n",
       "      <th>max</th>\n",
       "      <td>1.000000</td>\n",
       "      <td>1.000000</td>\n",
       "      <td>1.000000</td>\n",
       "    </tr>\n",
       "  </tbody>\n",
       "</table>\n",
       "</div>"
      ],
      "text/plain": [
       "            Millage       Ratings           Age\n",
       "count  10253.000000  10253.000000  10253.000000\n",
       "mean       0.256963      0.474398      0.562899\n",
       "std        0.268683      0.188155      0.166092\n",
       "min        0.000000      0.000000      0.000000\n",
       "25%        0.000000      0.400000      0.450000\n",
       "50%        0.238995      0.400000      0.600000\n",
       "75%        0.435000      0.400000      0.650000\n",
       "max        1.000000      1.000000      1.000000"
      ]
     },
     "execution_count": 25,
     "metadata": {},
     "output_type": "execute_result"
    }
   ],
   "source": [
    "X_train.describe()"
   ]
  },
  {
   "cell_type": "code",
   "execution_count": 1,
   "metadata": {},
   "outputs": [
    {
     "ename": "NameError",
     "evalue": "name 'X_train' is not defined",
     "output_type": "error",
     "traceback": [
      "\u001b[0;31m---------------------------------------------------------------------------\u001b[0m",
      "\u001b[0;31mNameError\u001b[0m                                 Traceback (most recent call last)",
      "\u001b[0;32m<ipython-input-1-ec4df7332527>\u001b[0m in \u001b[0;36m<module>\u001b[0;34m\u001b[0m\n\u001b[0;32m----> 1\u001b[0;31m \u001b[0mX_train\u001b[0m\u001b[0;34m.\u001b[0m\u001b[0mhead\u001b[0m\u001b[0;34m(\u001b[0m\u001b[0;36m5\u001b[0m\u001b[0;34m)\u001b[0m\u001b[0;34m\u001b[0m\u001b[0;34m\u001b[0m\u001b[0m\n\u001b[0m",
      "\u001b[0;31mNameError\u001b[0m: name 'X_train' is not defined"
     ]
    }
   ],
   "source": [
    "X_train.head(5)"
   ]
  },
  {
   "cell_type": "code",
   "execution_count": 26,
   "metadata": {},
   "outputs": [
    {
     "data": {
      "text/plain": [
       "(1810, 8)"
      ]
     },
     "execution_count": 26,
     "metadata": {},
     "output_type": "execute_result"
    }
   ],
   "source": [
    "X_test.shape"
   ]
  },
  {
   "cell_type": "code",
   "execution_count": 27,
   "metadata": {},
   "outputs": [],
   "source": [
    "#One Hot encoding for History and Transmission\n",
    "\n",
    "ohe = ce.OneHotEncoder(cols=['History','Transmission'])  #instantiate the one-hot encoder\n",
    "\n",
    "X_train = ohe.fit_transform(X_train)  #fit and transform ohe\n",
    "\n",
    "X_test = ohe.transform(X_test)"
   ]
  },
  {
   "cell_type": "code",
   "execution_count": 28,
   "metadata": {},
   "outputs": [],
   "source": [
    "# encodings for city, Make and Model\n",
    "\n",
    "base_encoder = ce.BaseNEncoder(cols=['city','Make','Model'],base=3)\n",
    "\n",
    "# fit and transform and you will get the encoded data\n",
    "X_train = base_encoder.fit_transform(X_train)\n",
    "\n",
    "X_test = base_encoder.transform(X_test)"
   ]
  },
  {
   "cell_type": "code",
   "execution_count": 29,
   "metadata": {},
   "outputs": [
    {
     "data": {
      "text/plain": [
       "(10253, 24)"
      ]
     },
     "execution_count": 29,
     "metadata": {},
     "output_type": "execute_result"
    }
   ],
   "source": [
    "X_train.shape"
   ]
  },
  {
   "cell_type": "markdown",
   "metadata": {},
   "source": [
    "### Model Development & grid Search CV"
   ]
  },
  {
   "cell_type": "markdown",
   "metadata": {},
   "source": [
    "##### K-Nearest Neigbours"
   ]
  },
  {
   "cell_type": "code",
   "execution_count": 62,
   "metadata": {},
   "outputs": [
    {
     "data": {
      "text/plain": [
       "GridSearchCV(cv=3, estimator=KNeighborsRegressor(), n_jobs=-1,\n",
       "             param_grid={'n_neighbors': [5, 6, 7, 8, 9]}, scoring='r2')"
      ]
     },
     "execution_count": 62,
     "metadata": {},
     "output_type": "execute_result"
    }
   ],
   "source": [
    "from sklearn.neighbors import KNeighborsRegressor\n",
    "from sklearn.model_selection import GridSearchCV\n",
    "\n",
    "knn = KNeighborsRegressor()\n",
    "\n",
    "parameters = {'n_neighbors' : [5,6,7,8,9]}\n",
    "\n",
    "clf = GridSearchCV(knn, parameters,n_jobs=-1,scoring='r2',cv=3)\n",
    "\n",
    "clf.fit(X_train,y_train)"
   ]
  },
  {
   "cell_type": "code",
   "execution_count": 63,
   "metadata": {},
   "outputs": [
    {
     "data": {
      "text/plain": [
       "{'mean_fit_time': array([0.1436913 , 0.20345815, 0.20761935, 0.1871527 , 0.1840477 ]),\n",
       " 'std_fit_time': array([0.02982816, 0.01341492, 0.01497516, 0.00418935, 0.02427763]),\n",
       " 'mean_score_time': array([1.28854863, 1.2812175 , 1.23537779, 1.15099589, 1.12204488]),\n",
       " 'std_score_time': array([0.01637199, 0.00936832, 0.08132785, 0.02672   , 0.00942987]),\n",
       " 'param_n_neighbors': masked_array(data=[5, 6, 7, 8, 9],\n",
       "              mask=[False, False, False, False, False],\n",
       "        fill_value='?',\n",
       "             dtype=object),\n",
       " 'params': [{'n_neighbors': 5},\n",
       "  {'n_neighbors': 6},\n",
       "  {'n_neighbors': 7},\n",
       "  {'n_neighbors': 8},\n",
       "  {'n_neighbors': 9}],\n",
       " 'split0_test_score': array([0.662756  , 0.66175043, 0.65610733, 0.65037358, 0.64468887]),\n",
       " 'split1_test_score': array([0.67106597, 0.67724349, 0.66963167, 0.66331786, 0.66026304]),\n",
       " 'split2_test_score': array([0.64366785, 0.64557461, 0.6472986 , 0.64952312, 0.64800399]),\n",
       " 'mean_test_score': array([0.65916327, 0.66152284, 0.6576792 , 0.65440485, 0.6509853 ]),\n",
       " 'std_test_score': array([0.0114701 , 0.01292977, 0.00918494, 0.006312  , 0.0066985 ]),\n",
       " 'rank_test_score': array([2, 1, 3, 4, 5], dtype=int32)}"
      ]
     },
     "execution_count": 63,
     "metadata": {},
     "output_type": "execute_result"
    }
   ],
   "source": [
    "clf.cv_results_"
   ]
  },
  {
   "cell_type": "code",
   "execution_count": 34,
   "metadata": {},
   "outputs": [
    {
     "name": "stdout",
     "output_type": "stream",
     "text": [
      "[0.69931779 0.68274599 0.6624519  0.64694839 0.64069253]\n"
     ]
    }
   ],
   "source": [
    "print(knn_scores['test_r2'])"
   ]
  },
  {
   "cell_type": "code",
   "execution_count": 35,
   "metadata": {},
   "outputs": [
    {
     "name": "stdout",
     "output_type": "stream",
     "text": [
      "The mean_absolute error is 0.8998318097605893\n",
      "The r2_error is 0.7703822462973084\n"
     ]
    }
   ],
   "source": [
    "knn.fit(X_train,y_train)\n",
    "\n",
    "y_test_knn = knn.predict(X_test)\n",
    "\n",
    "print('The mean_absolute error is {}'.format(mean_absolute_error(y_test,y_test_knn)))\n",
    "print('The r2_error is {}'.format(r2_score(y_test,y_test_knn)))"
   ]
  },
  {
   "cell_type": "markdown",
   "metadata": {},
   "source": [
    "##### Gradient Boosted Trees"
   ]
  },
  {
   "cell_type": "code",
   "execution_count": 69,
   "metadata": {},
   "outputs": [
    {
     "data": {
      "text/plain": [
       "GridSearchCV(cv=3, estimator=XGBRegressor(objective='reg:squarederror'),\n",
       "             n_jobs=-1,\n",
       "             param_grid={'learning_rate': [0.08], 'max_depth': [4, 5, 6],\n",
       "                         'n_estimators': [800, 900]},\n",
       "             scoring='r2')"
      ]
     },
     "execution_count": 69,
     "metadata": {},
     "output_type": "execute_result"
    }
   ],
   "source": [
    "import xgboost as xgb\n",
    "\n",
    "xgbr = xgb.XGBRegressor(objective='reg:squarederror'\n",
    "                        ,n_jobs=-1) #xgboost\n",
    "\n",
    "parameters = {'n_estimators' : [800,900],'max_depth':[4,5,6],'learning_rate' : [0.08]}\n",
    "\n",
    "clf_xgb = GridSearchCV(xgbr, parameters,n_jobs=-1,scoring='r2',cv=3)\n",
    "\n",
    "clf_xgb.fit(X_train,y_train)"
   ]
  },
  {
   "cell_type": "code",
   "execution_count": 70,
   "metadata": {},
   "outputs": [
    {
     "data": {
      "text/plain": [
       "{'mean_fit_time': array([16.38601359, 18.63465373, 20.3996884 , 25.48062221, 25.93436376,\n",
       "        18.65662837]),\n",
       " 'std_fit_time': array([0.06805416, 0.20574642, 1.6216693 , 0.05141229, 0.04889293,\n",
       "        6.13038594]),\n",
       " 'mean_score_time': array([0.1994698 , 0.23762592, 0.26174704, 0.32107941, 0.27864472,\n",
       "        0.22357066]),\n",
       " 'std_score_time': array([0.0096985 , 0.01001625, 0.01934887, 0.01200968, 0.0281683 ,\n",
       "        0.01766727]),\n",
       " 'param_learning_rate': masked_array(data=[0.08, 0.08, 0.08, 0.08, 0.08, 0.08],\n",
       "              mask=[False, False, False, False, False, False],\n",
       "        fill_value='?',\n",
       "             dtype=object),\n",
       " 'param_max_depth': masked_array(data=[4, 4, 5, 5, 6, 6],\n",
       "              mask=[False, False, False, False, False, False],\n",
       "        fill_value='?',\n",
       "             dtype=object),\n",
       " 'param_n_estimators': masked_array(data=[800, 900, 800, 900, 800, 900],\n",
       "              mask=[False, False, False, False, False, False],\n",
       "        fill_value='?',\n",
       "             dtype=object),\n",
       " 'params': [{'learning_rate': 0.08, 'max_depth': 4, 'n_estimators': 800},\n",
       "  {'learning_rate': 0.08, 'max_depth': 4, 'n_estimators': 900},\n",
       "  {'learning_rate': 0.08, 'max_depth': 5, 'n_estimators': 800},\n",
       "  {'learning_rate': 0.08, 'max_depth': 5, 'n_estimators': 900},\n",
       "  {'learning_rate': 0.08, 'max_depth': 6, 'n_estimators': 800},\n",
       "  {'learning_rate': 0.08, 'max_depth': 6, 'n_estimators': 900}],\n",
       " 'split0_test_score': array([0.73940011, 0.74132028, 0.74614452, 0.74555881, 0.7530343 ,\n",
       "        0.75293565]),\n",
       " 'split1_test_score': array([0.7314831 , 0.73210502, 0.7354937 , 0.73592591, 0.73578241,\n",
       "        0.73442618]),\n",
       " 'split2_test_score': array([0.73968955, 0.73722003, 0.74708251, 0.74648688, 0.7500683 ,\n",
       "        0.749562  ]),\n",
       " 'mean_test_score': array([0.73685759, 0.73688178, 0.74290691, 0.7426572 , 0.746295  ,\n",
       "        0.74564128]),\n",
       " 'std_test_score': array([0.00380217, 0.00376971, 0.0052559 , 0.00477479, 0.0075315 ,\n",
       "        0.00804898]),\n",
       " 'rank_test_score': array([6, 5, 3, 4, 1, 2], dtype=int32)}"
      ]
     },
     "execution_count": 70,
     "metadata": {},
     "output_type": "execute_result"
    }
   ],
   "source": [
    "clf_xgb.cv_results_"
   ]
  },
  {
   "cell_type": "code",
   "execution_count": 41,
   "metadata": {},
   "outputs": [
    {
     "name": "stdout",
     "output_type": "stream",
     "text": [
      "The mean_absolute error is 0.8298590450171328\n",
      "The r2_error is 0.8192040319462518\n"
     ]
    }
   ],
   "source": [
    "xgbr.fit(X_train,y_train)\n",
    "\n",
    "y_test_xgb = xgbr.predict(X_test)\n",
    "\n",
    "print('The mean_absolute error is {}'.format(mean_absolute_error(y_test,y_test_xgb)))\n",
    "print('The r2_error is {}'.format(r2_score(y_test,y_test_xgb)))"
   ]
  },
  {
   "cell_type": "markdown",
   "metadata": {},
   "source": [
    "#### Result Presentation"
   ]
  },
  {
   "cell_type": "code",
   "execution_count": 42,
   "metadata": {},
   "outputs": [
    {
     "data": {
      "text/html": [
       "<div>\n",
       "<style scoped>\n",
       "    .dataframe tbody tr th:only-of-type {\n",
       "        vertical-align: middle;\n",
       "    }\n",
       "\n",
       "    .dataframe tbody tr th {\n",
       "        vertical-align: top;\n",
       "    }\n",
       "\n",
       "    .dataframe thead th {\n",
       "        text-align: right;\n",
       "    }\n",
       "</style>\n",
       "<table border=\"1\" class=\"dataframe\">\n",
       "  <thead>\n",
       "    <tr style=\"text-align: right;\">\n",
       "      <th></th>\n",
       "      <th>city</th>\n",
       "      <th>History</th>\n",
       "      <th>Millage</th>\n",
       "      <th>Ratings</th>\n",
       "      <th>Make</th>\n",
       "      <th>Model</th>\n",
       "      <th>Transmission</th>\n",
       "      <th>Age</th>\n",
       "      <th>real_price</th>\n",
       "      <th>predicted_price</th>\n",
       "    </tr>\n",
       "  </thead>\n",
       "  <tbody>\n",
       "    <tr>\n",
       "      <th>11446</th>\n",
       "      <td>Lagos</td>\n",
       "      <td>foreign</td>\n",
       "      <td>58963.0</td>\n",
       "      <td>2.0</td>\n",
       "      <td>Toyota</td>\n",
       "      <td>RAV 4</td>\n",
       "      <td>Automatic</td>\n",
       "      <td>7.0</td>\n",
       "      <td>9365000.0</td>\n",
       "      <td>7.357934e+06</td>\n",
       "    </tr>\n",
       "    <tr>\n",
       "      <th>14939</th>\n",
       "      <td>Lagos</td>\n",
       "      <td>local</td>\n",
       "      <td>199588.0</td>\n",
       "      <td>4.0</td>\n",
       "      <td>Toyota</td>\n",
       "      <td>Camry</td>\n",
       "      <td>Automatic</td>\n",
       "      <td>12.0</td>\n",
       "      <td>1370000.0</td>\n",
       "      <td>1.353960e+06</td>\n",
       "    </tr>\n",
       "    <tr>\n",
       "      <th>9679</th>\n",
       "      <td>Lagos</td>\n",
       "      <td>foreign</td>\n",
       "      <td>83000.0</td>\n",
       "      <td>2.0</td>\n",
       "      <td>Acura</td>\n",
       "      <td>MDX</td>\n",
       "      <td>Automatic</td>\n",
       "      <td>12.0</td>\n",
       "      <td>3645000.0</td>\n",
       "      <td>3.695797e+06</td>\n",
       "    </tr>\n",
       "    <tr>\n",
       "      <th>11596</th>\n",
       "      <td>Lagos</td>\n",
       "      <td>foreign</td>\n",
       "      <td>0.0</td>\n",
       "      <td>2.0</td>\n",
       "      <td>Toyota</td>\n",
       "      <td>Camry</td>\n",
       "      <td>Automatic</td>\n",
       "      <td>9.0</td>\n",
       "      <td>4085000.0</td>\n",
       "      <td>3.906697e+06</td>\n",
       "    </tr>\n",
       "    <tr>\n",
       "      <th>12358</th>\n",
       "      <td>Lagos</td>\n",
       "      <td>foreign</td>\n",
       "      <td>0.0</td>\n",
       "      <td>2.0</td>\n",
       "      <td>Toyota</td>\n",
       "      <td>Camry</td>\n",
       "      <td>Automatic</td>\n",
       "      <td>20.0</td>\n",
       "      <td>1084500.0</td>\n",
       "      <td>1.187443e+06</td>\n",
       "    </tr>\n",
       "    <tr>\n",
       "      <th>16227</th>\n",
       "      <td>Lagos</td>\n",
       "      <td>foreign</td>\n",
       "      <td>97967.0</td>\n",
       "      <td>2.0</td>\n",
       "      <td>Honda</td>\n",
       "      <td>Civic</td>\n",
       "      <td>Automatic</td>\n",
       "      <td>12.0</td>\n",
       "      <td>1850000.0</td>\n",
       "      <td>2.177074e+06</td>\n",
       "    </tr>\n",
       "    <tr>\n",
       "      <th>8298</th>\n",
       "      <td>Lagos</td>\n",
       "      <td>foreign</td>\n",
       "      <td>0.0</td>\n",
       "      <td>2.0</td>\n",
       "      <td>Toyota</td>\n",
       "      <td>Camry</td>\n",
       "      <td>Automatic</td>\n",
       "      <td>12.0</td>\n",
       "      <td>2430000.0</td>\n",
       "      <td>3.171012e+06</td>\n",
       "    </tr>\n",
       "    <tr>\n",
       "      <th>5117</th>\n",
       "      <td>Lagos</td>\n",
       "      <td>foreign</td>\n",
       "      <td>0.0</td>\n",
       "      <td>2.0</td>\n",
       "      <td>Mercedes-Benz</td>\n",
       "      <td>ML 350</td>\n",
       "      <td>Automatic</td>\n",
       "      <td>10.0</td>\n",
       "      <td>5295000.0</td>\n",
       "      <td>6.106738e+06</td>\n",
       "    </tr>\n",
       "    <tr>\n",
       "      <th>15526</th>\n",
       "      <td>Abuja</td>\n",
       "      <td>local</td>\n",
       "      <td>188576.0</td>\n",
       "      <td>3.0</td>\n",
       "      <td>BMW</td>\n",
       "      <td>ALPINA</td>\n",
       "      <td>Automatic</td>\n",
       "      <td>12.0</td>\n",
       "      <td>6910000.0</td>\n",
       "      <td>3.597258e+06</td>\n",
       "    </tr>\n",
       "    <tr>\n",
       "      <th>11710</th>\n",
       "      <td>Lagos</td>\n",
       "      <td>foreign</td>\n",
       "      <td>0.0</td>\n",
       "      <td>2.0</td>\n",
       "      <td>Toyota</td>\n",
       "      <td>Camry</td>\n",
       "      <td>Automatic</td>\n",
       "      <td>10.0</td>\n",
       "      <td>4140000.0</td>\n",
       "      <td>3.616149e+06</td>\n",
       "    </tr>\n",
       "    <tr>\n",
       "      <th>2153</th>\n",
       "      <td>Lagos</td>\n",
       "      <td>foreign</td>\n",
       "      <td>0.0</td>\n",
       "      <td>2.0</td>\n",
       "      <td>Pontiac</td>\n",
       "      <td>Vibe</td>\n",
       "      <td>Automatic</td>\n",
       "      <td>15.0</td>\n",
       "      <td>2085000.0</td>\n",
       "      <td>1.918909e+06</td>\n",
       "    </tr>\n",
       "    <tr>\n",
       "      <th>16344</th>\n",
       "      <td>Lagos</td>\n",
       "      <td>local</td>\n",
       "      <td>172277.0</td>\n",
       "      <td>5.0</td>\n",
       "      <td>Kia</td>\n",
       "      <td>Sedona</td>\n",
       "      <td>Automatic</td>\n",
       "      <td>12.0</td>\n",
       "      <td>529000.0</td>\n",
       "      <td>2.526143e+05</td>\n",
       "    </tr>\n",
       "    <tr>\n",
       "      <th>11912</th>\n",
       "      <td>Lagos</td>\n",
       "      <td>foreign</td>\n",
       "      <td>49000.0</td>\n",
       "      <td>2.0</td>\n",
       "      <td>Mercedes-Benz</td>\n",
       "      <td>ML 350</td>\n",
       "      <td>Automatic</td>\n",
       "      <td>5.0</td>\n",
       "      <td>11675000.0</td>\n",
       "      <td>1.167569e+07</td>\n",
       "    </tr>\n",
       "    <tr>\n",
       "      <th>15908</th>\n",
       "      <td>Lagos</td>\n",
       "      <td>local</td>\n",
       "      <td>112723.0</td>\n",
       "      <td>5.0</td>\n",
       "      <td>Toyota</td>\n",
       "      <td>Sienna</td>\n",
       "      <td>Automatic</td>\n",
       "      <td>12.0</td>\n",
       "      <td>1620000.0</td>\n",
       "      <td>1.858624e+06</td>\n",
       "    </tr>\n",
       "    <tr>\n",
       "      <th>13700</th>\n",
       "      <td>Lagos</td>\n",
       "      <td>foreign</td>\n",
       "      <td>68000.0</td>\n",
       "      <td>2.0</td>\n",
       "      <td>Ford</td>\n",
       "      <td>Edge</td>\n",
       "      <td>Automatic</td>\n",
       "      <td>5.0</td>\n",
       "      <td>8595000.0</td>\n",
       "      <td>8.444350e+06</td>\n",
       "    </tr>\n",
       "    <tr>\n",
       "      <th>774</th>\n",
       "      <td>Lagos</td>\n",
       "      <td>foreign</td>\n",
       "      <td>1.0</td>\n",
       "      <td>2.0</td>\n",
       "      <td>Toyota</td>\n",
       "      <td>Camry</td>\n",
       "      <td>Automatic</td>\n",
       "      <td>10.0</td>\n",
       "      <td>3407500.0</td>\n",
       "      <td>3.908706e+06</td>\n",
       "    </tr>\n",
       "    <tr>\n",
       "      <th>10307</th>\n",
       "      <td>Osun</td>\n",
       "      <td>foreign</td>\n",
       "      <td>135000.0</td>\n",
       "      <td>2.0</td>\n",
       "      <td>Toyota</td>\n",
       "      <td>Avalon</td>\n",
       "      <td>Automatic</td>\n",
       "      <td>14.0</td>\n",
       "      <td>2545000.0</td>\n",
       "      <td>2.163786e+06</td>\n",
       "    </tr>\n",
       "    <tr>\n",
       "      <th>2101</th>\n",
       "      <td>Lagos</td>\n",
       "      <td>foreign</td>\n",
       "      <td>32000.0</td>\n",
       "      <td>2.0</td>\n",
       "      <td>Toyota</td>\n",
       "      <td>Camry</td>\n",
       "      <td>Automatic</td>\n",
       "      <td>5.0</td>\n",
       "      <td>6340000.0</td>\n",
       "      <td>7.308190e+06</td>\n",
       "    </tr>\n",
       "    <tr>\n",
       "      <th>11785</th>\n",
       "      <td>Lagos</td>\n",
       "      <td>foreign</td>\n",
       "      <td>0.0</td>\n",
       "      <td>2.0</td>\n",
       "      <td>Toyota</td>\n",
       "      <td>RAV 4</td>\n",
       "      <td>Automatic</td>\n",
       "      <td>10.0</td>\n",
       "      <td>4965000.0</td>\n",
       "      <td>4.682486e+06</td>\n",
       "    </tr>\n",
       "    <tr>\n",
       "      <th>5552</th>\n",
       "      <td>Lagos</td>\n",
       "      <td>foreign</td>\n",
       "      <td>102000.0</td>\n",
       "      <td>2.0</td>\n",
       "      <td>Honda</td>\n",
       "      <td>Pilot</td>\n",
       "      <td>Automatic</td>\n",
       "      <td>14.0</td>\n",
       "      <td>2487500.0</td>\n",
       "      <td>2.241091e+06</td>\n",
       "    </tr>\n",
       "  </tbody>\n",
       "</table>\n",
       "</div>"
      ],
      "text/plain": [
       "        city  History   Millage  Ratings           Make   Model Transmission  \\\n",
       "11446  Lagos  foreign   58963.0      2.0         Toyota   RAV 4    Automatic   \n",
       "14939  Lagos    local  199588.0      4.0         Toyota   Camry    Automatic   \n",
       "9679   Lagos  foreign   83000.0      2.0          Acura     MDX    Automatic   \n",
       "11596  Lagos  foreign       0.0      2.0         Toyota   Camry    Automatic   \n",
       "12358  Lagos  foreign       0.0      2.0         Toyota   Camry    Automatic   \n",
       "16227  Lagos  foreign   97967.0      2.0          Honda   Civic    Automatic   \n",
       "8298   Lagos  foreign       0.0      2.0         Toyota   Camry    Automatic   \n",
       "5117   Lagos  foreign       0.0      2.0  Mercedes-Benz  ML 350    Automatic   \n",
       "15526  Abuja    local  188576.0      3.0            BMW  ALPINA    Automatic   \n",
       "11710  Lagos  foreign       0.0      2.0         Toyota   Camry    Automatic   \n",
       "2153   Lagos  foreign       0.0      2.0        Pontiac    Vibe    Automatic   \n",
       "16344  Lagos    local  172277.0      5.0            Kia  Sedona    Automatic   \n",
       "11912  Lagos  foreign   49000.0      2.0  Mercedes-Benz  ML 350    Automatic   \n",
       "15908  Lagos    local  112723.0      5.0         Toyota  Sienna    Automatic   \n",
       "13700  Lagos  foreign   68000.0      2.0           Ford    Edge    Automatic   \n",
       "774    Lagos  foreign       1.0      2.0         Toyota   Camry    Automatic   \n",
       "10307   Osun  foreign  135000.0      2.0         Toyota  Avalon    Automatic   \n",
       "2101   Lagos  foreign   32000.0      2.0         Toyota   Camry    Automatic   \n",
       "11785  Lagos  foreign       0.0      2.0         Toyota   RAV 4    Automatic   \n",
       "5552   Lagos  foreign  102000.0      2.0          Honda   Pilot    Automatic   \n",
       "\n",
       "        Age  real_price  predicted_price  \n",
       "11446   7.0   9365000.0     7.357934e+06  \n",
       "14939  12.0   1370000.0     1.353960e+06  \n",
       "9679   12.0   3645000.0     3.695797e+06  \n",
       "11596   9.0   4085000.0     3.906697e+06  \n",
       "12358  20.0   1084500.0     1.187443e+06  \n",
       "16227  12.0   1850000.0     2.177074e+06  \n",
       "8298   12.0   2430000.0     3.171012e+06  \n",
       "5117   10.0   5295000.0     6.106738e+06  \n",
       "15526  12.0   6910000.0     3.597258e+06  \n",
       "11710  10.0   4140000.0     3.616149e+06  \n",
       "2153   15.0   2085000.0     1.918909e+06  \n",
       "16344  12.0    529000.0     2.526143e+05  \n",
       "11912   5.0  11675000.0     1.167569e+07  \n",
       "15908  12.0   1620000.0     1.858624e+06  \n",
       "13700   5.0   8595000.0     8.444350e+06  \n",
       "774    10.0   3407500.0     3.908706e+06  \n",
       "10307  14.0   2545000.0     2.163786e+06  \n",
       "2101    5.0   6340000.0     7.308190e+06  \n",
       "11785  10.0   4965000.0     4.682486e+06  \n",
       "5552   14.0   2487500.0     2.241091e+06  "
      ]
     },
     "execution_count": 42,
     "metadata": {},
     "output_type": "execute_result"
    }
   ],
   "source": [
    "results.loc[:,'real_price'] = y_test*1000000\n",
    "results.loc[:,'predicted_price'] = y_test_xgb*1000000\n",
    "#results[['upper','lower']] = predictions[['upper','lower']]*1000000\n",
    "\n",
    "# inverse_transform testing data\n",
    "results.loc[:,norm_cols] = norm.inverse_transform(results[norm_cols])\n",
    "\n",
    "results.head(20)"
   ]
  },
  {
   "cell_type": "code",
   "execution_count": 43,
   "metadata": {},
   "outputs": [],
   "source": [
    "#next \n",
    "# grid search CV for the gradient boosted predictor.\n",
    "#make range predictions"
   ]
  },
  {
   "cell_type": "code",
   "execution_count": 44,
   "metadata": {},
   "outputs": [],
   "source": [
    "# #build a range predictor\n",
    "# from sklearn.ensemble import GradientBoostingRegressor\n",
    "\n",
    "# # Set lower and upper quantile\n",
    "# LOWER_ALPHA = 0.1\n",
    "# UPPER_ALPHA = 0.9\n",
    "\n",
    "# # Each model has to be separate\n",
    "# lower_model = GradientBoostingRegressor(loss=\"quantile\",alpha=LOWER_ALPHA,max_depth=5,\n",
    "#                                         criterion='friedman_mse',learning_rate=0.1,n_estimators=1000)\n",
    "\n",
    "# # The mid model will use the default loss\n",
    "# mid_model = GradientBoostingRegressor(loss=\"ls\",max_depth=5,\n",
    "#                                         criterion='friedman_mse',learning_rate=0.1,n_estimators=1000)\n",
    "\n",
    "# upper_model = GradientBoostingRegressor(loss=\"quantile\", alpha=UPPER_ALPHA,max_depth=5,\n",
    "#                                         criterion='friedman_mse',learning_rate=0.1,n_estimators=1000)\n",
    "\n",
    "\n",
    "# # Fit models\n",
    "# lower_model.fit(X_train, y_train)\n",
    "# mid_model.fit(X_train, y_train)\n",
    "# upper_model.fit(X_train, y_train)\n",
    "\n",
    "# # Record actual values on test set\n",
    "# predictions = pd.DataFrame(y_test)\n",
    "\n",
    "# # Predict\n",
    "# predictions['lower'] = lower_model.predict(X_test)\n",
    "# predictions['mid'] = mid_model.predict(X_test)\n",
    "# predictions['upper'] = upper_model.predict(X_test)"
   ]
  }
 ],
 "metadata": {
  "kernelspec": {
   "display_name": "Python 3",
   "language": "python",
   "name": "python3"
  },
  "language_info": {
   "codemirror_mode": {
    "name": "ipython",
    "version": 3
   },
   "file_extension": ".py",
   "mimetype": "text/x-python",
   "name": "python",
   "nbconvert_exporter": "python",
   "pygments_lexer": "ipython3",
   "version": "3.6.9"
  }
 },
 "nbformat": 4,
 "nbformat_minor": 4
}
